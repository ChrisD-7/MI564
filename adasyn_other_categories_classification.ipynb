{
  "nbformat": 4,
  "nbformat_minor": 0,
  "metadata": {
    "colab": {
      "provenance": []
    },
    "kernelspec": {
      "name": "python3",
      "display_name": "Python 3"
    },
    "language_info": {
      "name": "python"
    }
  },
  "cells": [
    {
      "cell_type": "code",
      "execution_count": null,
      "metadata": {
        "id": "HRLNxJQK7KV5"
      },
      "outputs": [],
      "source": [
        "import pandas as pd\n",
        "from sklearn.model_selection import train_test_split\n",
        "from sklearn.feature_extraction.text import CountVectorizer\n",
        "from sklearn.model_selection import GridSearchCV\n",
        "import matplotlib.pyplot as plt\n",
        "import seaborn as sns\n",
        "import numpy as np\n",
        "from sklearn.metrics import classification_report\n",
        "from sklearn.linear_model import LogisticRegression\n",
        "from sklearn.model_selection import cross_validate\n",
        "from sklearn.metrics import accuracy_score, f1_score, precision_score, recall_score,roc_auc_score, confusion_matrix, matthews_corrcoef, make_scorer\n",
        "from imblearn.over_sampling import *\n",
        "import pickle"
      ]
    },
    {
      "cell_type": "code",
      "source": [
        "df = pd.read_csv(\"/content/Latest_Merged_Coded.csv\",  encoding='ISO-8859–1')\n",
        "df.head()"
      ],
      "metadata": {
        "colab": {
          "base_uri": "https://localhost:8080/",
          "height": 206
        },
        "id": "TXk7IyUN_CSb",
        "outputId": "899a7514-0155-46f7-efbb-5fa1e816b309"
      },
      "execution_count": null,
      "outputs": [
        {
          "output_type": "execute_result",
          "data": {
            "text/plain": [
              "   Unnamed: 0   index                            command category coder  \\\n",
              "0           0  522355  play hymns the sun by the beatles    music     G   \n",
              "1           1  314268              alexa what time is it   search     G   \n",
              "2           2  187019                         alexa stop    music     G   \n",
              "3           3  141151                               play    music     G   \n",
              "4           4  402967        can you say that joke again     joke     G   \n",
              "\n",
              "   make_code  alarm  joke  misc  music  polite  search  volume  weather  \n",
              "0          4    0.0   0.0     0    1.0     0.0     0.0       0      0.0  \n",
              "1          7    0.0   0.0     0    0.0     0.0     1.0       0      0.0  \n",
              "2          4    0.0   0.0     0    1.0     0.0     0.0       0      0.0  \n",
              "3          4    0.0   0.0     0    1.0     0.0     0.0       0      0.0  \n",
              "4          2    0.0   1.0     0    0.0     0.0     0.0       0      0.0  "
            ],
            "text/html": [
              "\n",
              "  <div id=\"df-e0fc0632-2c8e-4062-97d0-eab7ffedba42\">\n",
              "    <div class=\"colab-df-container\">\n",
              "      <div>\n",
              "<style scoped>\n",
              "    .dataframe tbody tr th:only-of-type {\n",
              "        vertical-align: middle;\n",
              "    }\n",
              "\n",
              "    .dataframe tbody tr th {\n",
              "        vertical-align: top;\n",
              "    }\n",
              "\n",
              "    .dataframe thead th {\n",
              "        text-align: right;\n",
              "    }\n",
              "</style>\n",
              "<table border=\"1\" class=\"dataframe\">\n",
              "  <thead>\n",
              "    <tr style=\"text-align: right;\">\n",
              "      <th></th>\n",
              "      <th>Unnamed: 0</th>\n",
              "      <th>index</th>\n",
              "      <th>command</th>\n",
              "      <th>category</th>\n",
              "      <th>coder</th>\n",
              "      <th>make_code</th>\n",
              "      <th>alarm</th>\n",
              "      <th>joke</th>\n",
              "      <th>misc</th>\n",
              "      <th>music</th>\n",
              "      <th>polite</th>\n",
              "      <th>search</th>\n",
              "      <th>volume</th>\n",
              "      <th>weather</th>\n",
              "    </tr>\n",
              "  </thead>\n",
              "  <tbody>\n",
              "    <tr>\n",
              "      <th>0</th>\n",
              "      <td>0</td>\n",
              "      <td>522355</td>\n",
              "      <td>play hymns the sun by the beatles</td>\n",
              "      <td>music</td>\n",
              "      <td>G</td>\n",
              "      <td>4</td>\n",
              "      <td>0.0</td>\n",
              "      <td>0.0</td>\n",
              "      <td>0</td>\n",
              "      <td>1.0</td>\n",
              "      <td>0.0</td>\n",
              "      <td>0.0</td>\n",
              "      <td>0</td>\n",
              "      <td>0.0</td>\n",
              "    </tr>\n",
              "    <tr>\n",
              "      <th>1</th>\n",
              "      <td>1</td>\n",
              "      <td>314268</td>\n",
              "      <td>alexa what time is it</td>\n",
              "      <td>search</td>\n",
              "      <td>G</td>\n",
              "      <td>7</td>\n",
              "      <td>0.0</td>\n",
              "      <td>0.0</td>\n",
              "      <td>0</td>\n",
              "      <td>0.0</td>\n",
              "      <td>0.0</td>\n",
              "      <td>1.0</td>\n",
              "      <td>0</td>\n",
              "      <td>0.0</td>\n",
              "    </tr>\n",
              "    <tr>\n",
              "      <th>2</th>\n",
              "      <td>2</td>\n",
              "      <td>187019</td>\n",
              "      <td>alexa stop</td>\n",
              "      <td>music</td>\n",
              "      <td>G</td>\n",
              "      <td>4</td>\n",
              "      <td>0.0</td>\n",
              "      <td>0.0</td>\n",
              "      <td>0</td>\n",
              "      <td>1.0</td>\n",
              "      <td>0.0</td>\n",
              "      <td>0.0</td>\n",
              "      <td>0</td>\n",
              "      <td>0.0</td>\n",
              "    </tr>\n",
              "    <tr>\n",
              "      <th>3</th>\n",
              "      <td>3</td>\n",
              "      <td>141151</td>\n",
              "      <td>play</td>\n",
              "      <td>music</td>\n",
              "      <td>G</td>\n",
              "      <td>4</td>\n",
              "      <td>0.0</td>\n",
              "      <td>0.0</td>\n",
              "      <td>0</td>\n",
              "      <td>1.0</td>\n",
              "      <td>0.0</td>\n",
              "      <td>0.0</td>\n",
              "      <td>0</td>\n",
              "      <td>0.0</td>\n",
              "    </tr>\n",
              "    <tr>\n",
              "      <th>4</th>\n",
              "      <td>4</td>\n",
              "      <td>402967</td>\n",
              "      <td>can you say that joke again</td>\n",
              "      <td>joke</td>\n",
              "      <td>G</td>\n",
              "      <td>2</td>\n",
              "      <td>0.0</td>\n",
              "      <td>1.0</td>\n",
              "      <td>0</td>\n",
              "      <td>0.0</td>\n",
              "      <td>0.0</td>\n",
              "      <td>0.0</td>\n",
              "      <td>0</td>\n",
              "      <td>0.0</td>\n",
              "    </tr>\n",
              "  </tbody>\n",
              "</table>\n",
              "</div>\n",
              "      <button class=\"colab-df-convert\" onclick=\"convertToInteractive('df-e0fc0632-2c8e-4062-97d0-eab7ffedba42')\"\n",
              "              title=\"Convert this dataframe to an interactive table.\"\n",
              "              style=\"display:none;\">\n",
              "        \n",
              "  <svg xmlns=\"http://www.w3.org/2000/svg\" height=\"24px\"viewBox=\"0 0 24 24\"\n",
              "       width=\"24px\">\n",
              "    <path d=\"M0 0h24v24H0V0z\" fill=\"none\"/>\n",
              "    <path d=\"M18.56 5.44l.94 2.06.94-2.06 2.06-.94-2.06-.94-.94-2.06-.94 2.06-2.06.94zm-11 1L8.5 8.5l.94-2.06 2.06-.94-2.06-.94L8.5 2.5l-.94 2.06-2.06.94zm10 10l.94 2.06.94-2.06 2.06-.94-2.06-.94-.94-2.06-.94 2.06-2.06.94z\"/><path d=\"M17.41 7.96l-1.37-1.37c-.4-.4-.92-.59-1.43-.59-.52 0-1.04.2-1.43.59L10.3 9.45l-7.72 7.72c-.78.78-.78 2.05 0 2.83L4 21.41c.39.39.9.59 1.41.59.51 0 1.02-.2 1.41-.59l7.78-7.78 2.81-2.81c.8-.78.8-2.07 0-2.86zM5.41 20L4 18.59l7.72-7.72 1.47 1.35L5.41 20z\"/>\n",
              "  </svg>\n",
              "      </button>\n",
              "      \n",
              "  <style>\n",
              "    .colab-df-container {\n",
              "      display:flex;\n",
              "      flex-wrap:wrap;\n",
              "      gap: 12px;\n",
              "    }\n",
              "\n",
              "    .colab-df-convert {\n",
              "      background-color: #E8F0FE;\n",
              "      border: none;\n",
              "      border-radius: 50%;\n",
              "      cursor: pointer;\n",
              "      display: none;\n",
              "      fill: #1967D2;\n",
              "      height: 32px;\n",
              "      padding: 0 0 0 0;\n",
              "      width: 32px;\n",
              "    }\n",
              "\n",
              "    .colab-df-convert:hover {\n",
              "      background-color: #E2EBFA;\n",
              "      box-shadow: 0px 1px 2px rgba(60, 64, 67, 0.3), 0px 1px 3px 1px rgba(60, 64, 67, 0.15);\n",
              "      fill: #174EA6;\n",
              "    }\n",
              "\n",
              "    [theme=dark] .colab-df-convert {\n",
              "      background-color: #3B4455;\n",
              "      fill: #D2E3FC;\n",
              "    }\n",
              "\n",
              "    [theme=dark] .colab-df-convert:hover {\n",
              "      background-color: #434B5C;\n",
              "      box-shadow: 0px 1px 3px 1px rgba(0, 0, 0, 0.15);\n",
              "      filter: drop-shadow(0px 1px 2px rgba(0, 0, 0, 0.3));\n",
              "      fill: #FFFFFF;\n",
              "    }\n",
              "  </style>\n",
              "\n",
              "      <script>\n",
              "        const buttonEl =\n",
              "          document.querySelector('#df-e0fc0632-2c8e-4062-97d0-eab7ffedba42 button.colab-df-convert');\n",
              "        buttonEl.style.display =\n",
              "          google.colab.kernel.accessAllowed ? 'block' : 'none';\n",
              "\n",
              "        async function convertToInteractive(key) {\n",
              "          const element = document.querySelector('#df-e0fc0632-2c8e-4062-97d0-eab7ffedba42');\n",
              "          const dataTable =\n",
              "            await google.colab.kernel.invokeFunction('convertToInteractive',\n",
              "                                                     [key], {});\n",
              "          if (!dataTable) return;\n",
              "\n",
              "          const docLinkHtml = 'Like what you see? Visit the ' +\n",
              "            '<a target=\"_blank\" href=https://colab.research.google.com/notebooks/data_table.ipynb>data table notebook</a>'\n",
              "            + ' to learn more about interactive tables.';\n",
              "          element.innerHTML = '';\n",
              "          dataTable['output_type'] = 'display_data';\n",
              "          await google.colab.output.renderOutput(dataTable, element);\n",
              "          const docLink = document.createElement('div');\n",
              "          docLink.innerHTML = docLinkHtml;\n",
              "          element.appendChild(docLink);\n",
              "        }\n",
              "      </script>\n",
              "    </div>\n",
              "  </div>\n",
              "  "
            ]
          },
          "metadata": {},
          "execution_count": 3
        }
      ]
    },
    {
      "cell_type": "code",
      "source": [
        "df.at[1130,'category']='volume'\n",
        "df.at[298,'category']='misc'\n",
        "df.at[92,'category']='misc'\n",
        "df.at[1816,'category']='misc'\n",
        "df = df[df['category']!='random']\n",
        "df['command']  = df['command'].astype('str')"
      ],
      "metadata": {
        "colab": {
          "base_uri": "https://localhost:8080/"
        },
        "id": "4E4pRn4R_GxO",
        "outputId": "0270c728-e794-4c61-dd3e-78feec6c7607"
      },
      "execution_count": null,
      "outputs": [
        {
          "output_type": "stream",
          "name": "stderr",
          "text": [
            "<ipython-input-4-f0461d694083>:6: SettingWithCopyWarning: \n",
            "A value is trying to be set on a copy of a slice from a DataFrame.\n",
            "Try using .loc[row_indexer,col_indexer] = value instead\n",
            "\n",
            "See the caveats in the documentation: https://pandas.pydata.org/pandas-docs/stable/user_guide/indexing.html#returning-a-view-versus-a-copy\n",
            "  df['command']  = df['command'].astype('str')\n"
          ]
        }
      ]
    },
    {
      "cell_type": "code",
      "source": [
        "X = df['command']\n",
        "y = df['category']\n",
        "vectorizer = CountVectorizer()\n",
        "vectors = vectorizer.fit_transform(X)"
      ],
      "metadata": {
        "id": "XjAuiKzWh6sf"
      },
      "execution_count": null,
      "outputs": []
    },
    {
      "cell_type": "code",
      "source": [
        "adasyn = ADASYN(sampling_strategy='minority')\n",
        "for _ in range(6):\n",
        "  vectors, y = adasyn.fit_resample(vectors, y)"
      ],
      "metadata": {
        "id": "-0mp6RtskjNV"
      },
      "execution_count": null,
      "outputs": []
    },
    {
      "cell_type": "code",
      "source": [
        "y.value_counts()"
      ],
      "metadata": {
        "colab": {
          "base_uri": "https://localhost:8080/"
        },
        "id": "sMh5puB4iXze",
        "outputId": "33a8795d-5faa-4f9d-b64f-1ba592b4198e"
      },
      "execution_count": null,
      "outputs": [
        {
          "output_type": "execute_result",
          "data": {
            "text/plain": [
              "search     487\n",
              "weather    478\n",
              "joke       476\n",
              "music      474\n",
              "polite     473\n",
              "volume     473\n",
              "alarm      472\n",
              "misc       462\n",
              "Name: category, dtype: int64"
            ]
          },
          "metadata": {},
          "execution_count": 7
        }
      ]
    },
    {
      "cell_type": "code",
      "source": [
        "train_vectors, test_vectors, y_train, y_test = train_test_split(vectors, y, test_size=0.2, random_state=40)"
      ],
      "metadata": {
        "id": "qPh-bzK0k2Ah"
      },
      "execution_count": null,
      "outputs": []
    },
    {
      "cell_type": "code",
      "source": [
        "parameters = {\n",
        "    'penalty' : ['l2'], \n",
        "    'C'       : np.logspace(-3,3,7),\n",
        "    'solver'  : ['lbfgs', 'liblinear'],\n",
        "}\n",
        "logreg = LogisticRegression(max_iter = 10000)\n",
        "clf = GridSearchCV(logreg,                    \n",
        "                   param_grid = parameters,   \n",
        "                   scoring='roc_auc_ovr_weighted',        \n",
        "                   cv=10)"
      ],
      "metadata": {
        "id": "uV2lFluUlI1q"
      },
      "execution_count": null,
      "outputs": []
    },
    {
      "cell_type": "code",
      "source": [
        "clf.fit(train_vectors,y_train)"
      ],
      "metadata": {
        "colab": {
          "base_uri": "https://localhost:8080/"
        },
        "outputId": "7152e53a-ddd2-486c-c019-6297345ab575",
        "id": "ZZGmw43nlI1s"
      },
      "execution_count": null,
      "outputs": [
        {
          "output_type": "execute_result",
          "data": {
            "text/plain": [
              "GridSearchCV(cv=10, estimator=LogisticRegression(max_iter=10000),\n",
              "             param_grid={'C': array([1.e-03, 1.e-02, 1.e-01, 1.e+00, 1.e+01, 1.e+02, 1.e+03]),\n",
              "                         'penalty': ['l2'], 'solver': ['lbfgs', 'liblinear']},\n",
              "             scoring='roc_auc_ovr_weighted')"
            ]
          },
          "metadata": {},
          "execution_count": 10
        }
      ]
    },
    {
      "cell_type": "code",
      "source": [
        "print(\"Tuned Hyperparameters :\", clf.best_params_)\n",
        "print(\"roc_auc_ovr_weighted :\",clf.best_score_)"
      ],
      "metadata": {
        "colab": {
          "base_uri": "https://localhost:8080/"
        },
        "outputId": "37083ec7-2b5f-410b-8443-1434d6d34419",
        "id": "tcHRaNp3lI1t"
      },
      "execution_count": null,
      "outputs": [
        {
          "output_type": "stream",
          "name": "stdout",
          "text": [
            "Tuned Hyperparameters : {'C': 1.0, 'penalty': 'l2', 'solver': 'lbfgs'}\n",
            "roc_auc_ovr_weighted : 0.9793634871162362\n"
          ]
        }
      ]
    },
    {
      "cell_type": "code",
      "source": [
        "best_logreg = LogisticRegression(class_weight = 'balanced',max_iter = 10000,C=1,penalty='l2',solver='lbfgs')\n",
        "best_logreg.fit(train_vectors,y_train)\n",
        "pred = best_logreg.predict(test_vectors)"
      ],
      "metadata": {
        "id": "MtTE7e1BlI1u"
      },
      "execution_count": null,
      "outputs": []
    },
    {
      "cell_type": "code",
      "source": [
        "my_tags = y.value_counts().index\n",
        "print(classification_report(y_test, pred))"
      ],
      "metadata": {
        "colab": {
          "base_uri": "https://localhost:8080/"
        },
        "id": "VlutXqcrlYmg",
        "outputId": "70f5bf94-cf61-4d72-c151-03a80e367032"
      },
      "execution_count": 31,
      "outputs": [
        {
          "output_type": "stream",
          "name": "stdout",
          "text": [
            "              precision    recall  f1-score   support\n",
            "\n",
            "       alarm       0.99      0.89      0.94        92\n",
            "        joke       0.99      0.86      0.92        85\n",
            "        misc       0.86      0.70      0.77       100\n",
            "       music       0.90      0.80      0.85        91\n",
            "      polite       0.50      1.00      0.67        95\n",
            "      search       0.87      0.82      0.84        88\n",
            "      volume       0.97      0.79      0.87       106\n",
            "     weather       0.88      0.69      0.77       102\n",
            "\n",
            "    accuracy                           0.82       759\n",
            "   macro avg       0.87      0.82      0.83       759\n",
            "weighted avg       0.87      0.82      0.83       759\n",
            "\n"
          ]
        }
      ]
    },
    {
      "cell_type": "code",
      "source": [
        "x_axis_labels = y.value_counts().index\n",
        "y_axis_labels = y.value_counts().index\n",
        "cf_matrix = confusion_matrix(y_test, pred)\n",
        "plt.figure(figsize=(8, 8))\n",
        "sns.heatmap(cf_matrix, annot=True, fmt='g', vmin=9999999, vmax=9999999, linewidths=.5,cbar=False, xticklabels=x_axis_labels, yticklabels=y_axis_labels).set(title=\"Confusion Matrix\")\n",
        "plt.show()"
      ],
      "metadata": {
        "colab": {
          "base_uri": "https://localhost:8080/",
          "height": 499
        },
        "id": "pD0hsz4I_oct",
        "outputId": "a080a8ef-200b-49fa-cb33-622bd2491125"
      },
      "execution_count": null,
      "outputs": [
        {
          "output_type": "display_data",
          "data": {
            "text/plain": [
              "<Figure size 576x576 with 1 Axes>"
            ],
            "image/png": "[encoded data removed]"
          },
          "metadata": {
            "needs_background": "light"
          }
        }
      ]
    },
    {
      "cell_type": "code",
      "source": [
        "filename = '/content/adasyn_other_categories_model.sav'\n",
        "pickle.dump(best_logreg, open(filename, 'wb'))"
      ],
      "metadata": {
        "id": "DmZVUVLB_pa_"
      },
      "execution_count": null,
      "outputs": []
    },
    {
      "cell_type": "code",
      "source": [
        "cnf_matrix = cf_matrix\n",
        "FP = cnf_matrix.sum(axis=0) - np.diag(cnf_matrix) \n",
        "FN = cnf_matrix.sum(axis=1) - np.diag(cnf_matrix)\n",
        "TP = np.diag(cnf_matrix)\n",
        "TN = cnf_matrix.sum() - (FP + FN + TP)\n",
        "FP = FP.astype(float)\n",
        "FN = FN.astype(float)\n",
        "TP = TP.astype(float)\n",
        "TN = TN.astype(float)"
      ],
      "metadata": {
        "id": "oDHiAcI-6RPj"
      },
      "execution_count": null,
      "outputs": []
    },
    {
      "cell_type": "code",
      "source": [
        "def mathew(fp, fn, tp, tn):\n",
        "  num = (tp*tn)-(fp*fn)\n",
        "  deno = (tp+fp)*(tp+fn)*(tn+fp)*(tn+fn)\n",
        "  deno = np.sqrt(deno)\n",
        "\n",
        "  num1 = tp+tn\n",
        "  deno1 = tp+tn+fp+fn\n",
        "  return num/deno, num1/deno1"
      ],
      "metadata": {
        "id": "_xl6FXdy60yR"
      },
      "execution_count": null,
      "outputs": []
    },
    {
      "cell_type": "code",
      "source": [
        "mc = []\n",
        "acc = []\n",
        "for fp,fn,tp,tn in zip(FP,FN,TP,TN):\n",
        "  mcor, accu = mathew(fp, fn, tp, tn)\n",
        "  mc.append(mcor)\n",
        "  acc.append(accu)\n",
        "mc,acc"
      ],
      "metadata": {
        "colab": {
          "base_uri": "https://localhost:8080/"
        },
        "id": "RtLJFxCD7yZR",
        "outputId": "335ee06a-e7c4-4d5e-e383-1a505455a2cd"
      },
      "execution_count": null,
      "outputs": [
        {
          "output_type": "execute_result",
          "data": {
            "text/plain": [
              "([0.9305491694740868,\n",
              "  0.9114466983749739,\n",
              "  0.7485173705410237,\n",
              "  0.8313818753541556,\n",
              "  0.6545715052014461,\n",
              "  0.8225266110508788,\n",
              "  0.8572619893275792,\n",
              "  0.7453499664814034],\n",
              " [0.9855072463768116,\n",
              "  0.9828722002635046,\n",
              "  0.9459815546772069,\n",
              "  0.9657444005270093,\n",
              "  0.8748353096179183,\n",
              "  0.9644268774703557,\n",
              "  0.9670619235836627,\n",
              "  0.9446640316205533])"
            ]
          },
          "metadata": {},
          "execution_count": 20
        }
      ]
    },
    {
      "cell_type": "code",
      "source": [
        "from  sklearn.metrics import precision_recall_fscore_support\n",
        "from sklearn.metrics import roc_curve, auc\n",
        "from sklearn.preprocessing import LabelBinarizer\n",
        "import numpy as np\n",
        "from scipy import interp"
      ],
      "metadata": {
        "id": "LTRNkKvlA23w"
      },
      "execution_count": null,
      "outputs": []
    },
    {
      "cell_type": "code",
      "source": [
        "def class_report(y_true, y_pred, y_score=None, average='micro'):\n",
        "    if y_true.shape != y_pred.shape:\n",
        "        print(\"Error! y_true %s is not the same shape as y_pred %s\" % (\n",
        "              y_true.shape,\n",
        "              y_pred.shape)\n",
        "        )\n",
        "        return\n",
        "\n",
        "    lb = LabelBinarizer()\n",
        "\n",
        "    if len(y_true.shape) == 1:\n",
        "        lb.fit(y_true)\n",
        "\n",
        "    #Value counts of predictions\n",
        "    labels, cnt = np.unique(\n",
        "        y_pred,\n",
        "        return_counts=True)\n",
        "    print(labels)\n",
        "    n_classes = len(labels)\n",
        "    pred_cnt = pd.Series(cnt, index=labels)\n",
        "\n",
        "    metrics_summary = precision_recall_fscore_support(\n",
        "            y_true=y_true,\n",
        "            y_pred=y_pred,\n",
        "            labels=labels)\n",
        "\n",
        "    avg = list(precision_recall_fscore_support(\n",
        "            y_true=y_true, \n",
        "            y_pred=y_pred,\n",
        "            average='weighted'))\n",
        "\n",
        "    metrics_sum_index = ['precision', 'recall', 'f1-score', 'support']\n",
        "    class_report_df = pd.DataFrame(\n",
        "        list(metrics_summary),\n",
        "        index=metrics_sum_index,\n",
        "        columns=labels)\n",
        "\n",
        "    support = class_report_df.loc['support']\n",
        "    total = support.sum() \n",
        "    class_report_df['avg / total'] = avg[:-1] + [total]\n",
        "\n",
        "    class_report_df = class_report_df.T\n",
        "    class_report_df['pred'] = pred_cnt\n",
        "    class_report_df['pred'].iloc[-1] = total\n",
        "\n",
        "    if not (y_score is None):\n",
        "        fpr = dict()\n",
        "        tpr = dict()\n",
        "        roc_auc = dict()\n",
        "        for label_it, label in enumerate(labels):\n",
        "            fpr[label], tpr[label], _ = roc_curve(\n",
        "                (y_true == label).astype(int), \n",
        "                y_score[:, label_it])\n",
        "\n",
        "            roc_auc[label] = auc(fpr[label], tpr[label])\n",
        "\n",
        "        if average == 'micro':\n",
        "            if n_classes <= 2:\n",
        "                fpr[\"avg / total\"], tpr[\"avg / total\"], _ = roc_curve(\n",
        "                    lb.transform(y_true).ravel(), \n",
        "                    y_score[:, 1].ravel())\n",
        "            else:\n",
        "                fpr[\"avg / total\"], tpr[\"avg / total\"], _ = roc_curve(\n",
        "                        lb.transform(y_true).ravel(), \n",
        "                        y_score.ravel())\n",
        "\n",
        "            roc_auc[\"avg / total\"] = auc(\n",
        "                fpr[\"avg / total\"], \n",
        "                tpr[\"avg / total\"])\n",
        "\n",
        "        elif average == 'macro':\n",
        "            # First aggregate all false positive rates\n",
        "            all_fpr = np.unique(np.concatenate([\n",
        "                fpr[i] for i in labels]\n",
        "            ))\n",
        "\n",
        "            # Then interpolate all ROC curves at this points\n",
        "            mean_tpr = np.zeros_like(all_fpr)\n",
        "            for i in labels:\n",
        "                mean_tpr += interp(all_fpr, fpr[i], tpr[i])\n",
        "\n",
        "            # Finally average it and compute AUC\n",
        "            mean_tpr /= n_classes\n",
        "\n",
        "            fpr[\"macro\"] = all_fpr\n",
        "            tpr[\"macro\"] = mean_tpr\n",
        "\n",
        "            roc_auc[\"avg / total\"] = auc(fpr[\"macro\"], tpr[\"macro\"])\n",
        "\n",
        "        class_report_df['AUC'] = pd.Series(roc_auc)\n",
        "\n",
        "    return class_report_df"
      ],
      "metadata": {
        "id": "D-LZAc7YAzpD"
      },
      "execution_count": null,
      "outputs": []
    },
    {
      "cell_type": "code",
      "source": [
        "report_with_auc = class_report(\n",
        "    y_true=y_test, \n",
        "    y_pred=best_logreg.predict(test_vectors), \n",
        "    y_score=best_logreg.predict_proba(test_vectors))\n",
        "\n",
        "print(report_with_auc)"
      ],
      "metadata": {
        "colab": {
          "base_uri": "https://localhost:8080/"
        },
        "id": "2BpEKUtyA9Sh",
        "outputId": "4b69c2f8-1d08-4f64-98f6-4c647b50efa1"
      },
      "execution_count": null,
      "outputs": [
        {
          "output_type": "stream",
          "name": "stdout",
          "text": [
            "['alarm' 'joke' 'misc' 'music' 'polite' 'search' 'volume' 'weather']\n",
            "             precision    recall  f1-score  support   pred       AUC\n",
            "alarm         0.987952  0.891304  0.937143     92.0   83.0  0.988756\n",
            "joke          0.986486  0.858824  0.918239     85.0   74.0  0.987013\n",
            "misc          0.864198  0.700000  0.773481    100.0   81.0  0.943498\n",
            "music         0.901235  0.802198  0.848837     91.0   81.0  0.973202\n",
            "polite        0.500000  1.000000  0.666667     95.0  190.0  0.972892\n",
            "search        0.867470  0.818182  0.842105     88.0   83.0  0.978882\n",
            "volume        0.965517  0.792453  0.870466    106.0   87.0  0.980684\n",
            "weather       0.875000  0.686275  0.769231    102.0   80.0  0.966015\n",
            "avg / total   0.867730  0.815547  0.826126    759.0  759.0  0.977710\n"
          ]
        }
      ]
    },
    {
      "cell_type": "code",
      "source": [
        "scoring = ['accuracy','precision_macro', 'recall_macro', 'f1_macro']\n",
        "cv_logreg = LogisticRegression(class_weight = 'balanced',max_iter = 10000,C=1,penalty='l2',solver='lbfgs')\n",
        "scores = cross_validate(cv_logreg, train_vectors, y_train, cv=10, scoring=scoring)\n",
        "\n",
        "scores"
      ],
      "metadata": {
        "colab": {
          "base_uri": "https://localhost:8080/"
        },
        "id": "UZBuvFmQxemx",
        "outputId": "9907e56e-dd0f-41a4-e6e9-94de3762ab2c"
      },
      "execution_count": null,
      "outputs": [
        {
          "output_type": "execute_result",
          "data": {
            "text/plain": [
              "{'fit_time': array([0.23814583, 0.23223686, 0.2346909 , 0.21950126, 0.22419262,\n",
              "        0.21332502, 0.22402716, 0.31011057, 0.21442938, 0.2156074 ]),\n",
              " 'score_time': array([0.0072372 , 0.00773478, 0.00684214, 0.00718331, 0.00712729,\n",
              "        0.00699091, 0.00769711, 0.00689459, 0.00705814, 0.00720692]),\n",
              " 'test_accuracy': array([0.81907895, 0.85526316, 0.81578947, 0.82236842, 0.82565789,\n",
              "        0.86842105, 0.82838284, 0.88118812, 0.84488449, 0.81188119]),\n",
              " 'test_precision_macro': array([0.87039766, 0.89517225, 0.85739361, 0.87291852, 0.86364087,\n",
              "        0.90733316, 0.87474806, 0.90678186, 0.8695477 , 0.86606923]),\n",
              " 'test_recall_macro': array([0.81809211, 0.85489819, 0.81516691, 0.81980907, 0.82229692,\n",
              "        0.86807394, 0.82729256, 0.88061885, 0.84435448, 0.81036044]),\n",
              " 'test_f1_macro': array([0.82836162, 0.86259369, 0.82195311, 0.8295467 , 0.82720861,\n",
              "        0.87685099, 0.83660031, 0.88563432, 0.84788203, 0.82081663])}"
            ]
          },
          "metadata": {},
          "execution_count": 24
        }
      ]
    },
    {
      "cell_type": "code",
      "source": [
        "print(\"test acc: \",scores['test_accuracy'].mean())\n",
        "print(\"test_precision_macro: \",scores['test_precision_macro'].mean())\n",
        "print(\"test_recall_macro: \",scores['test_recall_macro'].mean())\n",
        "print(\"test_f1_macro: \",scores['test_f1_macro'].mean())\n",
        "myscore = make_scorer(roc_auc_score, multi_class='ovr',needs_proba=True)\n",
        "suc = cross_validate(cv_logreg, train_vectors, y_train, cv=10, scoring = myscore)\n",
        "print(\"ROC AUC score: \",suc['test_score'].mean())"
      ],
      "metadata": {
        "colab": {
          "base_uri": "https://localhost:8080/"
        },
        "id": "NteEugcVxxV6",
        "outputId": "500938c2-8d35-425d-fa2b-c47db174f491"
      },
      "execution_count": null,
      "outputs": [
        {
          "output_type": "stream",
          "name": "stdout",
          "text": [
            "test acc:  0.8372915581031789\n",
            "test_precision_macro:  0.8784002919294183\n",
            "test_recall_macro:  0.8360963468529258\n",
            "test_f1_macro:  0.8437448020815219\n",
            "ROC AUC score:  0.9791173547242631\n"
          ]
        }
      ]
    }
  ]
}