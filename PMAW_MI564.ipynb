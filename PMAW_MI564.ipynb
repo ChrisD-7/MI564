{
  "nbformat": 4,
  "nbformat_minor": 0,
  "metadata": {
    "colab": {
      "provenance": [],
      "authorship_tag": "ABX9TyMtglwc4t/Y7farAyrAa60j",
      "include_colab_link": true
    },
    "kernelspec": {
      "name": "python3",
      "display_name": "Python 3"
    },
    "language_info": {
      "name": "python"
    }
  },
  "cells": [
    {
      "cell_type": "markdown",
      "metadata": {
        "id": "view-in-github",
        "colab_type": "text"
      },
      "source": [
        "<a href=\"https://colab.research.google.com/github/tawfiqam/MI564/blob/main/PMAW_MI564.ipynb\" target=\"_parent\"><img src=\"https://colab.research.google.com/assets/colab-badge.svg\" alt=\"Open In Colab\"/></a>"
      ]
    },
    {
      "cell_type": "code",
      "source": [
        "!pip install pmaw"
      ],
      "metadata": {
        "colab": {
          "base_uri": "https://localhost:8080/"
        },
        "id": "Rb8Hoq2Ma9kx",
        "outputId": "e4c844d5-d587-4fde-86ec-e0de6dba24aa"
      },
      "execution_count": 3,
      "outputs": [
        {
          "output_type": "stream",
          "name": "stdout",
          "text": [
            "Looking in indexes: https://pypi.org/simple, https://us-python.pkg.dev/colab-wheels/public/simple/\n",
            "Collecting pmaw\n",
            "  Downloading pmaw-3.0.0-py3-none-any.whl (29 kB)\n",
            "Requirement already satisfied: requests in /usr/local/lib/python3.8/dist-packages (from pmaw) (2.25.1)\n",
            "Collecting praw\n",
            "  Downloading praw-7.6.1-py3-none-any.whl (188 kB)\n",
            "\u001b[2K     \u001b[90m━━━━━━━━━━━━━━━━━━━━━━━━━━━━━━━━━━━━━━━\u001b[0m \u001b[32m188.8/188.8 KB\u001b[0m \u001b[31m4.8 MB/s\u001b[0m eta \u001b[36m0:00:00\u001b[0m\n",
            "\u001b[?25hCollecting websocket-client>=0.54.0\n",
            "  Downloading websocket_client-1.5.1-py3-none-any.whl (55 kB)\n",
            "\u001b[2K     \u001b[90m━━━━━━━━━━━━━━━━━━━━━━━━━━━━━━━━━━━━━━━━\u001b[0m \u001b[32m55.9/55.9 KB\u001b[0m \u001b[31m4.1 MB/s\u001b[0m eta \u001b[36m0:00:00\u001b[0m\n",
            "\u001b[?25hCollecting prawcore<3,>=2.1\n",
            "  Downloading prawcore-2.3.0-py3-none-any.whl (16 kB)\n",
            "Collecting update-checker>=0.18\n",
            "  Downloading update_checker-0.18.0-py3-none-any.whl (7.0 kB)\n",
            "Requirement already satisfied: chardet<5,>=3.0.2 in /usr/local/lib/python3.8/dist-packages (from requests->pmaw) (4.0.0)\n",
            "Requirement already satisfied: certifi>=2017.4.17 in /usr/local/lib/python3.8/dist-packages (from requests->pmaw) (2022.12.7)\n",
            "Requirement already satisfied: urllib3<1.27,>=1.21.1 in /usr/local/lib/python3.8/dist-packages (from requests->pmaw) (1.24.3)\n",
            "Requirement already satisfied: idna<3,>=2.5 in /usr/local/lib/python3.8/dist-packages (from requests->pmaw) (2.10)\n",
            "Installing collected packages: websocket-client, update-checker, prawcore, praw, pmaw\n",
            "Successfully installed pmaw-3.0.0 praw-7.6.1 prawcore-2.3.0 update-checker-0.18.0 websocket-client-1.5.1\n"
          ]
        }
      ]
    },
    {
      "cell_type": "code",
      "execution_count": 4,
      "metadata": {
        "id": "ra9skcj6a1pY"
      },
      "outputs": [],
      "source": [
        "import pandas as pd\n",
        "from pmaw import PushshiftAPI"
      ]
    },
    {
      "cell_type": "code",
      "source": [
        "# instantiate\n",
        "api = PushshiftAPI()"
      ],
      "metadata": {
        "id": "gSHbXT9Fa5UH"
      },
      "execution_count": 5,
      "outputs": []
    },
    {
      "cell_type": "code",
      "source": [
        "comments = api.search_comments(subreddit=\"LeopardsAteMyFace\", limit=100)"
      ],
      "metadata": {
        "id": "wm1ONUN_a81f"
      },
      "execution_count": 6,
      "outputs": []
    },
    {
      "cell_type": "code",
      "source": [
        "# convert comments to dataframe\n",
        "comment_list = [c for c in comments]\n",
        "comments_df = pd.DataFrame(comment_list)"
      ],
      "metadata": {
        "id": "gA9fb_5CbgLU"
      },
      "execution_count": 9,
      "outputs": []
    },
    {
      "cell_type": "code",
      "source": [
        "len(comments_df)"
      ],
      "metadata": {
        "colab": {
          "base_uri": "https://localhost:8080/"
        },
        "id": "6KXTMmPVbhLJ",
        "outputId": "6ece9bc2-c895-402c-ae0c-96052f45a502"
      },
      "execution_count": 12,
      "outputs": [
        {
          "output_type": "execute_result",
          "data": {
            "text/plain": [
              "100"
            ]
          },
          "metadata": {},
          "execution_count": 12
        }
      ]
    },
    {
      "cell_type": "code",
      "source": [
        "comments_df.head()"
      ],
      "metadata": {
        "colab": {
          "base_uri": "https://localhost:8080/",
          "height": 299
        },
        "id": "xBzebSmJcHwJ",
        "outputId": "77de18b7-5429-4074-9701-9bc3e8d5acbf"
      },
      "execution_count": 13,
      "outputs": [
        {
          "output_type": "execute_result",
          "data": {
            "text/plain": [
              "  all_awardings  archived associated_award               author  \\\n",
              "0            []     False             None              _Canid_   \n",
              "1            []     False             None            LeoMarius   \n",
              "2            []     False             None  hereForUrSubreddits   \n",
              "3            []     False             None            [deleted]   \n",
              "4            []     False             None         SerenityM3oW   \n",
              "\n",
              "   author_created_utc author_flair_background_color author_flair_css_class  \\\n",
              "0        1.618457e+09                          None                   None   \n",
              "1        1.384970e+09                          None                   None   \n",
              "2        1.512603e+09                          None                   None   \n",
              "3                 NaN                                                 None   \n",
              "4        1.369933e+09                          None                   None   \n",
              "\n",
              "  author_flair_richtext author_flair_template_id author_flair_text  ...  \\\n",
              "0                    []                     None              None  ...   \n",
              "1                    []                     None              None  ...   \n",
              "2                    []                     None              None  ...   \n",
              "3                   NaN                     None              None  ...   \n",
              "4                    []                     None              None  ...   \n",
              "\n",
              "  total_awards_received treatment_tags unrepliable_reason retrieved_utc  \\\n",
              "0                     0             []               None    1655713005   \n",
              "1                     0             []               None    1655713005   \n",
              "2                     0             []               None    1655713007   \n",
              "3                     0             []               None    1655713009   \n",
              "4                     0             []               None    1655713009   \n",
              "\n",
              "  updated_utc                                 body_sha1     utc_datetime_str  \\\n",
              "0  1667937153  8113e2fa3da49ad72f88844f6006a5c2bd3237ff  2022-03-23 12:16:25   \n",
              "1  1667937153  ae3935e490e106ab13f65c3f3e42e3666ce2c9e3  2022-03-23 12:16:15   \n",
              "2  1667937153  5895a39432ee7dde184a2296033458c9c5a6f009  2022-03-23 12:15:52   \n",
              "3  1667937153  228f7d207920fb84335fac5b2b06ed7b472ece9e  2022-03-23 12:14:59   \n",
              "4  1667937153  d233997f801fee1131d13df5c61cb5e2c79b75a9  2022-03-23 12:14:38   \n",
              "\n",
              "      edited_on nest_level author_cakeday  \n",
              "0           NaN        NaN            NaN  \n",
              "1           NaN        NaN            NaN  \n",
              "2           NaN        NaN            NaN  \n",
              "3  1.648039e+09        NaN            NaN  \n",
              "4           NaN        1.0            NaN  \n",
              "\n",
              "[5 rows x 54 columns]"
            ],
            "text/html": [
              "\n",
              "  <div id=\"df-41b0655f-a403-4c74-92a5-8ac18f160987\">\n",
              "    <div class=\"colab-df-container\">\n",
              "      <div>\n",
              "<style scoped>\n",
              "    .dataframe tbody tr th:only-of-type {\n",
              "        vertical-align: middle;\n",
              "    }\n",
              "\n",
              "    .dataframe tbody tr th {\n",
              "        vertical-align: top;\n",
              "    }\n",
              "\n",
              "    .dataframe thead th {\n",
              "        text-align: right;\n",
              "    }\n",
              "</style>\n",
              "<table border=\"1\" class=\"dataframe\">\n",
              "  <thead>\n",
              "    <tr style=\"text-align: right;\">\n",
              "      <th></th>\n",
              "      <th>all_awardings</th>\n",
              "      <th>archived</th>\n",
              "      <th>associated_award</th>\n",
              "      <th>author</th>\n",
              "      <th>author_created_utc</th>\n",
              "      <th>author_flair_background_color</th>\n",
              "      <th>author_flair_css_class</th>\n",
              "      <th>author_flair_richtext</th>\n",
              "      <th>author_flair_template_id</th>\n",
              "      <th>author_flair_text</th>\n",
              "      <th>...</th>\n",
              "      <th>total_awards_received</th>\n",
              "      <th>treatment_tags</th>\n",
              "      <th>unrepliable_reason</th>\n",
              "      <th>retrieved_utc</th>\n",
              "      <th>updated_utc</th>\n",
              "      <th>body_sha1</th>\n",
              "      <th>utc_datetime_str</th>\n",
              "      <th>edited_on</th>\n",
              "      <th>nest_level</th>\n",
              "      <th>author_cakeday</th>\n",
              "    </tr>\n",
              "  </thead>\n",
              "  <tbody>\n",
              "    <tr>\n",
              "      <th>0</th>\n",
              "      <td>[]</td>\n",
              "      <td>False</td>\n",
              "      <td>None</td>\n",
              "      <td>_Canid_</td>\n",
              "      <td>1.618457e+09</td>\n",
              "      <td>None</td>\n",
              "      <td>None</td>\n",
              "      <td>[]</td>\n",
              "      <td>None</td>\n",
              "      <td>None</td>\n",
              "      <td>...</td>\n",
              "      <td>0</td>\n",
              "      <td>[]</td>\n",
              "      <td>None</td>\n",
              "      <td>1655713005</td>\n",
              "      <td>1667937153</td>\n",
              "      <td>8113e2fa3da49ad72f88844f6006a5c2bd3237ff</td>\n",
              "      <td>2022-03-23 12:16:25</td>\n",
              "      <td>NaN</td>\n",
              "      <td>NaN</td>\n",
              "      <td>NaN</td>\n",
              "    </tr>\n",
              "    <tr>\n",
              "      <th>1</th>\n",
              "      <td>[]</td>\n",
              "      <td>False</td>\n",
              "      <td>None</td>\n",
              "      <td>LeoMarius</td>\n",
              "      <td>1.384970e+09</td>\n",
              "      <td>None</td>\n",
              "      <td>None</td>\n",
              "      <td>[]</td>\n",
              "      <td>None</td>\n",
              "      <td>None</td>\n",
              "      <td>...</td>\n",
              "      <td>0</td>\n",
              "      <td>[]</td>\n",
              "      <td>None</td>\n",
              "      <td>1655713005</td>\n",
              "      <td>1667937153</td>\n",
              "      <td>ae3935e490e106ab13f65c3f3e42e3666ce2c9e3</td>\n",
              "      <td>2022-03-23 12:16:15</td>\n",
              "      <td>NaN</td>\n",
              "      <td>NaN</td>\n",
              "      <td>NaN</td>\n",
              "    </tr>\n",
              "    <tr>\n",
              "      <th>2</th>\n",
              "      <td>[]</td>\n",
              "      <td>False</td>\n",
              "      <td>None</td>\n",
              "      <td>hereForUrSubreddits</td>\n",
              "      <td>1.512603e+09</td>\n",
              "      <td>None</td>\n",
              "      <td>None</td>\n",
              "      <td>[]</td>\n",
              "      <td>None</td>\n",
              "      <td>None</td>\n",
              "      <td>...</td>\n",
              "      <td>0</td>\n",
              "      <td>[]</td>\n",
              "      <td>None</td>\n",
              "      <td>1655713007</td>\n",
              "      <td>1667937153</td>\n",
              "      <td>5895a39432ee7dde184a2296033458c9c5a6f009</td>\n",
              "      <td>2022-03-23 12:15:52</td>\n",
              "      <td>NaN</td>\n",
              "      <td>NaN</td>\n",
              "      <td>NaN</td>\n",
              "    </tr>\n",
              "    <tr>\n",
              "      <th>3</th>\n",
              "      <td>[]</td>\n",
              "      <td>False</td>\n",
              "      <td>None</td>\n",
              "      <td>[deleted]</td>\n",
              "      <td>NaN</td>\n",
              "      <td></td>\n",
              "      <td>None</td>\n",
              "      <td>NaN</td>\n",
              "      <td>None</td>\n",
              "      <td>None</td>\n",
              "      <td>...</td>\n",
              "      <td>0</td>\n",
              "      <td>[]</td>\n",
              "      <td>None</td>\n",
              "      <td>1655713009</td>\n",
              "      <td>1667937153</td>\n",
              "      <td>228f7d207920fb84335fac5b2b06ed7b472ece9e</td>\n",
              "      <td>2022-03-23 12:14:59</td>\n",
              "      <td>1.648039e+09</td>\n",
              "      <td>NaN</td>\n",
              "      <td>NaN</td>\n",
              "    </tr>\n",
              "    <tr>\n",
              "      <th>4</th>\n",
              "      <td>[]</td>\n",
              "      <td>False</td>\n",
              "      <td>None</td>\n",
              "      <td>SerenityM3oW</td>\n",
              "      <td>1.369933e+09</td>\n",
              "      <td>None</td>\n",
              "      <td>None</td>\n",
              "      <td>[]</td>\n",
              "      <td>None</td>\n",
              "      <td>None</td>\n",
              "      <td>...</td>\n",
              "      <td>0</td>\n",
              "      <td>[]</td>\n",
              "      <td>None</td>\n",
              "      <td>1655713009</td>\n",
              "      <td>1667937153</td>\n",
              "      <td>d233997f801fee1131d13df5c61cb5e2c79b75a9</td>\n",
              "      <td>2022-03-23 12:14:38</td>\n",
              "      <td>NaN</td>\n",
              "      <td>1.0</td>\n",
              "      <td>NaN</td>\n",
              "    </tr>\n",
              "  </tbody>\n",
              "</table>\n",
              "<p>5 rows × 54 columns</p>\n",
              "</div>\n",
              "      <button class=\"colab-df-convert\" onclick=\"convertToInteractive('df-41b0655f-a403-4c74-92a5-8ac18f160987')\"\n",
              "              title=\"Convert this dataframe to an interactive table.\"\n",
              "              style=\"display:none;\">\n",
              "        \n",
              "  <svg xmlns=\"http://www.w3.org/2000/svg\" height=\"24px\"viewBox=\"0 0 24 24\"\n",
              "       width=\"24px\">\n",
              "    <path d=\"M0 0h24v24H0V0z\" fill=\"none\"/>\n",
              "    <path d=\"M18.56 5.44l.94 2.06.94-2.06 2.06-.94-2.06-.94-.94-2.06-.94 2.06-2.06.94zm-11 1L8.5 8.5l.94-2.06 2.06-.94-2.06-.94L8.5 2.5l-.94 2.06-2.06.94zm10 10l.94 2.06.94-2.06 2.06-.94-2.06-.94-.94-2.06-.94 2.06-2.06.94z\"/><path d=\"M17.41 7.96l-1.37-1.37c-.4-.4-.92-.59-1.43-.59-.52 0-1.04.2-1.43.59L10.3 9.45l-7.72 7.72c-.78.78-.78 2.05 0 2.83L4 21.41c.39.39.9.59 1.41.59.51 0 1.02-.2 1.41-.59l7.78-7.78 2.81-2.81c.8-.78.8-2.07 0-2.86zM5.41 20L4 18.59l7.72-7.72 1.47 1.35L5.41 20z\"/>\n",
              "  </svg>\n",
              "      </button>\n",
              "      \n",
              "  <style>\n",
              "    .colab-df-container {\n",
              "      display:flex;\n",
              "      flex-wrap:wrap;\n",
              "      gap: 12px;\n",
              "    }\n",
              "\n",
              "    .colab-df-convert {\n",
              "      background-color: #E8F0FE;\n",
              "      border: none;\n",
              "      border-radius: 50%;\n",
              "      cursor: pointer;\n",
              "      display: none;\n",
              "      fill: #1967D2;\n",
              "      height: 32px;\n",
              "      padding: 0 0 0 0;\n",
              "      width: 32px;\n",
              "    }\n",
              "\n",
              "    .colab-df-convert:hover {\n",
              "      background-color: #E2EBFA;\n",
              "      box-shadow: 0px 1px 2px rgba(60, 64, 67, 0.3), 0px 1px 3px 1px rgba(60, 64, 67, 0.15);\n",
              "      fill: #174EA6;\n",
              "    }\n",
              "\n",
              "    [theme=dark] .colab-df-convert {\n",
              "      background-color: #3B4455;\n",
              "      fill: #D2E3FC;\n",
              "    }\n",
              "\n",
              "    [theme=dark] .colab-df-convert:hover {\n",
              "      background-color: #434B5C;\n",
              "      box-shadow: 0px 1px 3px 1px rgba(0, 0, 0, 0.15);\n",
              "      filter: drop-shadow(0px 1px 2px rgba(0, 0, 0, 0.3));\n",
              "      fill: #FFFFFF;\n",
              "    }\n",
              "  </style>\n",
              "\n",
              "      <script>\n",
              "        const buttonEl =\n",
              "          document.querySelector('#df-41b0655f-a403-4c74-92a5-8ac18f160987 button.colab-df-convert');\n",
              "        buttonEl.style.display =\n",
              "          google.colab.kernel.accessAllowed ? 'block' : 'none';\n",
              "\n",
              "        async function convertToInteractive(key) {\n",
              "          const element = document.querySelector('#df-41b0655f-a403-4c74-92a5-8ac18f160987');\n",
              "          const dataTable =\n",
              "            await google.colab.kernel.invokeFunction('convertToInteractive',\n",
              "                                                     [key], {});\n",
              "          if (!dataTable) return;\n",
              "\n",
              "          const docLinkHtml = 'Like what you see? Visit the ' +\n",
              "            '<a target=\"_blank\" href=https://colab.research.google.com/notebooks/data_table.ipynb>data table notebook</a>'\n",
              "            + ' to learn more about interactive tables.';\n",
              "          element.innerHTML = '';\n",
              "          dataTable['output_type'] = 'display_data';\n",
              "          await google.colab.output.renderOutput(dataTable, element);\n",
              "          const docLink = document.createElement('div');\n",
              "          docLink.innerHTML = docLinkHtml;\n",
              "          element.appendChild(docLink);\n",
              "        }\n",
              "      </script>\n",
              "    </div>\n",
              "  </div>\n",
              "  "
            ]
          },
          "metadata": {},
          "execution_count": 13
        }
      ]
    },
    {
      "cell_type": "code",
      "source": [
        "comments_df.body"
      ],
      "metadata": {
        "colab": {
          "base_uri": "https://localhost:8080/"
        },
        "id": "jXrSRCwocjiW",
        "outputId": "f4a7c5bd-57dd-4f1e-9a49-0f8437ddd7d4"
      },
      "execution_count": 15,
      "outputs": [
        {
          "output_type": "execute_result",
          "data": {
            "text/plain": [
              "0     If the US were being invaded by Russia, the Pr...\n",
              "1     My best friend when I was 5 lived 3 houses dow...\n",
              "2     You can argue about literally every sarcastic ...\n",
              "3                                             [deleted]\n",
              "4                           Wtf is a \" full American\" ?\n",
              "                            ...                        \n",
              "95    Surely these ubermensch have no objection to g...\n",
              "96    Who cares right now?? If the US was being inva...\n",
              "97    You right. A lot of post-war posturing by form...\n",
              "98    &gt; The Germans can be efficient - seems like...\n",
              "99    They'll claim the courts are rigged, that they...\n",
              "Name: body, Length: 100, dtype: object"
            ]
          },
          "metadata": {},
          "execution_count": 15
        }
      ]
    }
  ]
}