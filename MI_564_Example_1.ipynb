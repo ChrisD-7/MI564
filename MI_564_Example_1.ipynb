{
  "nbformat": 4,
  "nbformat_minor": 0,
  "metadata": {
    "colab": {
      "name": "MI_564_Example_1.ipynb",
      "provenance": [],
      "collapsed_sections": [],
      "authorship_tag": "ABX9TyNlyA+Ywlf03sZD6mQut7YK",
      "include_colab_link": true
    },
    "kernelspec": {
      "name": "python3",
      "display_name": "Python 3"
    }
  },
  "cells": [
    {
      "cell_type": "markdown",
      "metadata": {
        "id": "view-in-github",
        "colab_type": "text"
      },
      "source": [
        "<a href=\"https://colab.research.google.com/github/tawfiqam/MI564/blob/main/MI_564_Example_1.ipynb\" target=\"_parent\"><img src=\"https://colab.research.google.com/assets/colab-badge.svg\" alt=\"Open In Colab\"/></a>"
      ]
    },
    {
      "cell_type": "markdown",
      "metadata": {
        "id": "frEt6lmHigpa"
      },
      "source": [
        "There are times when you have a dictionary that holds information. These dictionaries can be saved as a pandas series. Here's how..."
      ]
    },
    {
      "cell_type": "code",
      "metadata": {
        "id": "CblzztLr3fRc"
      },
      "source": [
        "#this dictionary shows a number of subreddits - I'm assuming y'all know Reddit! - and the number of active users\n",
        "reddit_users = {'r/Parenting':128527,\n",
        "                'r/Daddit':53059,\n",
        "                'r/Mommit':22683}"
      ],
      "execution_count": null,
      "outputs": []
    },
    {
      "cell_type": "code",
      "metadata": {
        "id": "J6ZSZsS5jK0D"
      },
      "source": [
        "#Answer\n",
        "#First, import pandas \n",
        "import pandas as pd\n",
        "#then create a series \n",
        "reddit_series = pd.Series(reddit_users)"
      ],
      "execution_count": null,
      "outputs": []
    },
    {
      "cell_type": "code",
      "metadata": {
        "id": "AHnXia7rsoBS",
        "colab": {
          "base_uri": "https://localhost:8080/"
        },
        "outputId": "8b29786e-ad65-48ac-94ea-8d3d8cbb8c2e"
      },
      "source": [
        "#let's check...\n",
        "type(reddit_series)"
      ],
      "execution_count": null,
      "outputs": [
        {
          "output_type": "execute_result",
          "data": {
            "text/plain": [
              "pandas.core.series.Series"
            ]
          },
          "metadata": {
            "tags": []
          },
          "execution_count": 15
        }
      ]
    },
    {
      "cell_type": "code",
      "metadata": {
        "id": "WHJvPPiomj4U"
      },
      "source": [
        "#OK...let's expand on that example\n",
        "reddit_data = {'subreddit_name': ['r/Parenting', 'r/Daddit', 'r/Mommit'],'user_count': [128527,53059,22683],'post_count': [2112028,440728,232919]}\n",
        "labels = ['a', 'b', 'c']"
      ],
      "execution_count": null,
      "outputs": []
    },
    {
      "cell_type": "code",
      "metadata": {
        "id": "AqmjIVxJnPDv"
      },
      "source": [
        "import pandas as pd\n",
        "#now, let's create the new dataframe\n",
        "reddit = pd.DataFrame(reddit_data,index=labels)"
      ],
      "execution_count": null,
      "outputs": []
    },
    {
      "cell_type": "code",
      "metadata": {
        "id": "ixV0nVtDnTxV",
        "colab": {
          "base_uri": "https://localhost:8080/",
          "height": 143
        },
        "outputId": "83f8e226-6a71-41f7-8518-c306e0597267"
      },
      "source": [
        "#let's see the dataframe rows\n",
        "reddit.head()"
      ],
      "execution_count": null,
      "outputs": [
        {
          "output_type": "execute_result",
          "data": {
            "text/html": [
              "<div>\n",
              "<style scoped>\n",
              "    .dataframe tbody tr th:only-of-type {\n",
              "        vertical-align: middle;\n",
              "    }\n",
              "\n",
              "    .dataframe tbody tr th {\n",
              "        vertical-align: top;\n",
              "    }\n",
              "\n",
              "    .dataframe thead th {\n",
              "        text-align: right;\n",
              "    }\n",
              "</style>\n",
              "<table border=\"1\" class=\"dataframe\">\n",
              "  <thead>\n",
              "    <tr style=\"text-align: right;\">\n",
              "      <th></th>\n",
              "      <th>subreddit_name</th>\n",
              "      <th>user_count</th>\n",
              "      <th>post_count</th>\n",
              "    </tr>\n",
              "  </thead>\n",
              "  <tbody>\n",
              "    <tr>\n",
              "      <th>a</th>\n",
              "      <td>r/Parenting</td>\n",
              "      <td>128527</td>\n",
              "      <td>2112028</td>\n",
              "    </tr>\n",
              "    <tr>\n",
              "      <th>b</th>\n",
              "      <td>r/Daddit</td>\n",
              "      <td>53059</td>\n",
              "      <td>440728</td>\n",
              "    </tr>\n",
              "    <tr>\n",
              "      <th>c</th>\n",
              "      <td>r/Mommit</td>\n",
              "      <td>22683</td>\n",
              "      <td>232919</td>\n",
              "    </tr>\n",
              "  </tbody>\n",
              "</table>\n",
              "</div>"
            ],
            "text/plain": [
              "  subreddit_name  user_count  post_count\n",
              "a    r/Parenting      128527     2112028\n",
              "b       r/Daddit       53059      440728\n",
              "c       r/Mommit       22683      232919"
            ]
          },
          "metadata": {
            "tags": []
          },
          "execution_count": 18
        }
      ]
    },
    {
      "cell_type": "markdown",
      "metadata": {
        "id": "qIVzWf0PxNfN"
      },
      "source": [
        "Check the file type again..."
      ]
    },
    {
      "cell_type": "code",
      "metadata": {
        "id": "Wfjw-YGFxMMC",
        "colab": {
          "base_uri": "https://localhost:8080/"
        },
        "outputId": "15fc09db-ebad-4895-b22d-c01c16754f39"
      },
      "source": [
        "type(reddit)"
      ],
      "execution_count": null,
      "outputs": [
        {
          "output_type": "execute_result",
          "data": {
            "text/plain": [
              "pandas.core.frame.DataFrame"
            ]
          },
          "metadata": {
            "tags": []
          },
          "execution_count": 19
        }
      ]
    },
    {
      "cell_type": "markdown",
      "metadata": {
        "id": "28NoBi_engUF"
      },
      "source": [
        "Now that we have these data, let's think about how we can get some data analysis going...I want to know what's the total and average number of users for parenting subreddits"
      ]
    },
    {
      "cell_type": "code",
      "metadata": {
        "id": "N97WEFq3n4Hq",
        "colab": {
          "base_uri": "https://localhost:8080/"
        },
        "outputId": "cf6ba5c8-a34b-49df-c731-dcfcce6ab8a3"
      },
      "source": [
        "print('The total number of users on the three biggest parenting subreddits is...')\n",
        "print(reddit.user_count.sum())"
      ],
      "execution_count": null,
      "outputs": [
        {
          "output_type": "stream",
          "text": [
            "The total number of users on the three biggest parenting subreddits is...\n",
            "204269\n"
          ],
          "name": "stdout"
        }
      ]
    },
    {
      "cell_type": "code",
      "metadata": {
        "id": "5XXWcyzWnYXA",
        "colab": {
          "base_uri": "https://localhost:8080/"
        },
        "outputId": "f38039b8-fe95-4efb-d2c8-db97ea4ffda4"
      },
      "source": [
        "print('The average number of users on the three biggest parenting subreddits is...')\n",
        "print(reddit.user_count.mean())"
      ],
      "execution_count": null,
      "outputs": [
        {
          "output_type": "stream",
          "text": [
            "The average number of users on the three biggest parenting subreddits is...\n",
            "68089.66666666667\n"
          ],
          "name": "stdout"
        }
      ]
    },
    {
      "cell_type": "markdown",
      "metadata": {
        "id": "YcuZVWfHocJ9"
      },
      "source": [
        "Sometimes, you need to add more information as you learn more about your data...For example, I later found out that there were some throwaway users on these subreddits"
      ]
    },
    {
      "cell_type": "code",
      "metadata": {
        "id": "xUvnsWa7pGJU"
      },
      "source": [
        "#This list includes the number of throwaway users in each of the subreddits\n",
        "throwaways = [1275,139,79]"
      ],
      "execution_count": null,
      "outputs": []
    },
    {
      "cell_type": "markdown",
      "metadata": {
        "id": "lgmJnSggpP6-"
      },
      "source": [
        "Now...I need to create a new table which shows the throwaway accounts.\n",
        "I want to call the new column throwaways"
      ]
    },
    {
      "cell_type": "code",
      "metadata": {
        "id": "YIBojeUKpOJi"
      },
      "source": [
        "#remember, reddit is the pandas dataframe\n",
        "#name the new column 'throwaways'\n",
        "#the new column = the list! \n",
        "reddit['throwaways'] = throwaways"
      ],
      "execution_count": null,
      "outputs": []
    },
    {
      "cell_type": "markdown",
      "metadata": {
        "id": "Kk_D0kUOpwtn"
      },
      "source": [
        "Now, let's see what the pandas dataframe, reddit, looks like"
      ]
    },
    {
      "cell_type": "code",
      "metadata": {
        "id": "jsA5OfmPpvDy",
        "colab": {
          "base_uri": "https://localhost:8080/",
          "height": 143
        },
        "outputId": "ff3f2e58-7920-4f56-fb59-c755f29e3461"
      },
      "source": [
        "reddit.head()"
      ],
      "execution_count": null,
      "outputs": [
        {
          "output_type": "execute_result",
          "data": {
            "text/html": [
              "<div>\n",
              "<style scoped>\n",
              "    .dataframe tbody tr th:only-of-type {\n",
              "        vertical-align: middle;\n",
              "    }\n",
              "\n",
              "    .dataframe tbody tr th {\n",
              "        vertical-align: top;\n",
              "    }\n",
              "\n",
              "    .dataframe thead th {\n",
              "        text-align: right;\n",
              "    }\n",
              "</style>\n",
              "<table border=\"1\" class=\"dataframe\">\n",
              "  <thead>\n",
              "    <tr style=\"text-align: right;\">\n",
              "      <th></th>\n",
              "      <th>subreddit_name</th>\n",
              "      <th>user_count</th>\n",
              "      <th>post_count</th>\n",
              "      <th>throwaways</th>\n",
              "    </tr>\n",
              "  </thead>\n",
              "  <tbody>\n",
              "    <tr>\n",
              "      <th>a</th>\n",
              "      <td>r/Parenting</td>\n",
              "      <td>128527</td>\n",
              "      <td>2112028</td>\n",
              "      <td>1275</td>\n",
              "    </tr>\n",
              "    <tr>\n",
              "      <th>b</th>\n",
              "      <td>r/Daddit</td>\n",
              "      <td>53059</td>\n",
              "      <td>440728</td>\n",
              "      <td>139</td>\n",
              "    </tr>\n",
              "    <tr>\n",
              "      <th>c</th>\n",
              "      <td>r/Mommit</td>\n",
              "      <td>22683</td>\n",
              "      <td>232919</td>\n",
              "      <td>79</td>\n",
              "    </tr>\n",
              "  </tbody>\n",
              "</table>\n",
              "</div>"
            ],
            "text/plain": [
              "  subreddit_name  user_count  post_count  throwaways\n",
              "a    r/Parenting      128527     2112028        1275\n",
              "b       r/Daddit       53059      440728         139\n",
              "c       r/Mommit       22683      232919          79"
            ]
          },
          "metadata": {
            "tags": []
          },
          "execution_count": 24
        }
      ]
    }
  ]
}