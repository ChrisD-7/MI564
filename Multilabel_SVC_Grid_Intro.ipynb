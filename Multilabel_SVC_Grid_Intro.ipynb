{
  "nbformat": 4,
  "nbformat_minor": 0,
  "metadata": {
    "colab": {
      "name": "Multilabel_SVC_Grid_Intro.ipynb",
      "provenance": [],
      "authorship_tag": "ABX9TyNjfhQFM/13Z59zQpOscbiK",
      "include_colab_link": true
    },
    "kernelspec": {
      "name": "python3",
      "display_name": "Python 3"
    }
  },
  "cells": [
    {
      "cell_type": "markdown",
      "metadata": {
        "id": "view-in-github",
        "colab_type": "text"
      },
      "source": [
        "<a href=\"https://colab.research.google.com/github/tawfiqam/MI564/blob/main/Multilabel_SVC_Grid_Intro.ipynb\" target=\"_parent\"><img src=\"https://colab.research.google.com/assets/colab-badge.svg\" alt=\"Open In Colab\"/></a>"
      ]
    },
    {
      "cell_type": "code",
      "metadata": {
        "id": "Ae8pg6_w0IcW"
      },
      "source": [
        "from sklearn import datasets\n",
        "from sklearn.svm import LinearSVC\n",
        "from sklearn.multiclass import OneVsRestClassifier\n",
        "from sklearn.model_selection import  cross_val_score\n",
        "from sklearn.metrics import make_scorer, accuracy_score, precision_score, recall_score, f1_score,roc_auc_score\n",
        "\n",
        "X,y = datasets.load_iris(return_X_y=True)"
      ],
      "execution_count": 22,
      "outputs": []
    },
    {
      "cell_type": "code",
      "metadata": {
        "colab": {
          "base_uri": "https://localhost:8080/"
        },
        "id": "jSoPcCkH0cER",
        "outputId": "a0c70984-cc9d-4aa8-e8a3-e15a19c17b93"
      },
      "source": [
        "X[0:5]"
      ],
      "execution_count": 6,
      "outputs": [
        {
          "output_type": "execute_result",
          "data": {
            "text/plain": [
              "array([[5.1, 3.5, 1.4, 0.2],\n",
              "       [4.9, 3. , 1.4, 0.2],\n",
              "       [4.7, 3.2, 1.3, 0.2],\n",
              "       [4.6, 3.1, 1.5, 0.2],\n",
              "       [5. , 3.6, 1.4, 0.2]])"
            ]
          },
          "metadata": {
            "tags": []
          },
          "execution_count": 6
        }
      ]
    },
    {
      "cell_type": "code",
      "metadata": {
        "colab": {
          "base_uri": "https://localhost:8080/"
        },
        "id": "51fGys0l0pW3",
        "outputId": "6c6586e5-db27-4bff-dd5e-e19fdedf745a"
      },
      "source": [
        "y[0:5]"
      ],
      "execution_count": 7,
      "outputs": [
        {
          "output_type": "execute_result",
          "data": {
            "text/plain": [
              "array([0, 0, 0, 0, 0])"
            ]
          },
          "metadata": {
            "tags": []
          },
          "execution_count": 7
        }
      ]
    },
    {
      "cell_type": "code",
      "metadata": {
        "id": "GzfRn5lx0kdk"
      },
      "source": [
        "multiclass_model = OneVsRestClassifier(LinearSVC(random_state=1,max_iter=10000)).fit(X,y)"
      ],
      "execution_count": 11,
      "outputs": []
    },
    {
      "cell_type": "code",
      "metadata": {
        "id": "foXQVxtt0x9j"
      },
      "source": [
        "y_hat = multiclass_model.predict(X)"
      ],
      "execution_count": 12,
      "outputs": []
    },
    {
      "cell_type": "code",
      "metadata": {
        "id": "spyIr84T3Cbf"
      },
      "source": [
        "scoring = {'accuracy':make_scorer(accuracy_score),\n",
        "           'precision':make_scorer(precision_score, average='weighted'),\n",
        "           'recall':make_scorer(recall_score, average='weighted'),\n",
        "           'f1_score':make_scorer(f1_score, average='weighted')}"
      ],
      "execution_count": 35,
      "outputs": []
    },
    {
      "cell_type": "code",
      "metadata": {
        "colab": {
          "base_uri": "https://localhost:8080/"
        },
        "id": "JxXHDD4Z1C5U",
        "outputId": "ba4ec9a4-fc4b-47cc-d73d-3cedbd753a15"
      },
      "source": [
        "from sklearn.datasets import load_iris\n",
        "from sklearn.multiclass import OneVsRestClassifier\n",
        "from sklearn.svm import SVC\n",
        "from sklearn.model_selection import GridSearchCV\n",
        "\n",
        "iris = load_iris()\n",
        "\n",
        "model_to_set = OneVsRestClassifier(SVC(kernel=\"rbf\"))\n",
        "\n",
        "parameters = {\n",
        "    \"estimator__C\": [1,2,4,8],\n",
        "    \"estimator__kernel\": [\"linear\",\"poly\"],\n",
        "    \"estimator__degree\":[1, 2, 3, 4],\n",
        "}\n",
        "\n",
        "model_tunning = GridSearchCV(model_to_set, param_grid=parameters,\n",
        "                             refit='f1_score',\n",
        "                             scoring=scoring)\n",
        "\n",
        "model_tunning.fit(iris.data, iris.target)\n",
        "\n",
        "print(model_tunning.cv_results_.keys())"
      ],
      "execution_count": 36,
      "outputs": [
        {
          "output_type": "stream",
          "text": [
            "dict_keys(['mean_fit_time', 'std_fit_time', 'mean_score_time', 'std_score_time', 'param_estimator__C', 'param_estimator__degree', 'param_estimator__kernel', 'params', 'split0_test_accuracy', 'split1_test_accuracy', 'split2_test_accuracy', 'split3_test_accuracy', 'split4_test_accuracy', 'mean_test_accuracy', 'std_test_accuracy', 'rank_test_accuracy', 'split0_test_precision', 'split1_test_precision', 'split2_test_precision', 'split3_test_precision', 'split4_test_precision', 'mean_test_precision', 'std_test_precision', 'rank_test_precision', 'split0_test_recall', 'split1_test_recall', 'split2_test_recall', 'split3_test_recall', 'split4_test_recall', 'mean_test_recall', 'std_test_recall', 'rank_test_recall', 'split0_test_f1_score', 'split1_test_f1_score', 'split2_test_f1_score', 'split3_test_f1_score', 'split4_test_f1_score', 'mean_test_f1_score', 'std_test_f1_score', 'rank_test_f1_score'])\n"
          ],
          "name": "stdout"
        }
      ]
    },
    {
      "cell_type": "code",
      "metadata": {
        "colab": {
          "base_uri": "https://localhost:8080/"
        },
        "id": "aMYfD6cJ1ZbG",
        "outputId": "d451ab5a-8e29-4b41-da0d-b048edd57e38"
      },
      "source": [
        "print(model_tunning.best_params_)"
      ],
      "execution_count": 38,
      "outputs": [
        {
          "output_type": "stream",
          "text": [
            "{'estimator__C': 1, 'estimator__degree': 3, 'estimator__kernel': 'poly'}\n"
          ],
          "name": "stdout"
        }
      ]
    },
    {
      "cell_type": "code",
      "metadata": {
        "colab": {
          "base_uri": "https://localhost:8080/"
        },
        "id": "Rw1RuaMp4cYl",
        "outputId": "c5671584-2027-4d32-ca93-4d83bfedc4ec"
      },
      "source": [
        "print(model_tunning.best_estimator_)"
      ],
      "execution_count": 39,
      "outputs": [
        {
          "output_type": "stream",
          "text": [
            "OneVsRestClassifier(estimator=SVC(C=1, break_ties=False, cache_size=200,\n",
            "                                  class_weight=None, coef0=0.0,\n",
            "                                  decision_function_shape='ovr', degree=3,\n",
            "                                  gamma='scale', kernel='poly', max_iter=-1,\n",
            "                                  probability=False, random_state=None,\n",
            "                                  shrinking=True, tol=0.001, verbose=False),\n",
            "                    n_jobs=None)\n"
          ],
          "name": "stdout"
        }
      ]
    },
    {
      "cell_type": "code",
      "metadata": {
        "colab": {
          "base_uri": "https://localhost:8080/"
        },
        "id": "SWC5uLx67a6z",
        "outputId": "fe6bf534-5f55-4700-d332-017bf0a5e6a0"
      },
      "source": [
        "print(model_tunning.best_score_)"
      ],
      "execution_count": 40,
      "outputs": [
        {
          "output_type": "stream",
          "text": [
            "0.9799832915622388\n"
          ],
          "name": "stdout"
        }
      ]
    }
  ]
}