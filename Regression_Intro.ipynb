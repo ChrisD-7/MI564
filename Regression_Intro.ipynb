{
  "nbformat": 4,
  "nbformat_minor": 0,
  "metadata": {
    "colab": {
      "name": "Regression_Intro.ipynb",
      "provenance": [],
      "authorship_tag": "ABX9TyM/YEEorOHKu4CTu39zgu3D",
      "include_colab_link": true
    },
    "kernelspec": {
      "name": "python3",
      "display_name": "Python 3"
    }
  },
  "cells": [
    {
      "cell_type": "markdown",
      "metadata": {
        "id": "view-in-github",
        "colab_type": "text"
      },
      "source": [
        "<a href=\"https://colab.research.google.com/github/tawfiqam/MI564/blob/main/Regression_Intro.ipynb\" target=\"_parent\"><img src=\"https://colab.research.google.com/assets/colab-badge.svg\" alt=\"Open In Colab\"/></a>"
      ]
    },
    {
      "cell_type": "markdown",
      "metadata": {
        "id": "TIB1uKXC4amn"
      },
      "source": [
        "#What is the main difference between regression and classification?\n",
        "If you look at the classifier examples shared earlier, you will find that regression models predict a continuous variable as opposed to a class. So, in classifiers, we \"classify\" things so that they are in different classes. We first used a logsitic regression to [classify students](https://github.com/tawfiqam/MI564/blob/main/Logistic_Regression_Classifier_Intro.ipynb) accepted (class 1) to a program and those who are not (class 2). We used a random forest classifier to [differentiate different types of wine](https://github.com/tawfiqam/MI564/blob/main/Random_Forest_Intro.ipynb). We also used a Naive Bayes classifier to [classify posts to two different online communities](https://github.com/tawfiqam/MI564/blob/main/Naive_Bayes_Intro.ipynb).\n",
        "\n",
        "With regression, we will predict a value. As I laid out before, this value represents a continous variable. A continous variable can take on an uncountable set of values. So while classifiers used discrete variables (basically integers - [0,1,2,3]), regression gets us a predicted continous variable - usually including a fraction [0,0.345,100.45]."
      ]
    },
    {
      "cell_type": "markdown",
      "metadata": {
        "id": "D01LhoVy4arI"
      },
      "source": [
        "##Regression Evaluation Metrics\n",
        "\n",
        "Remember that we used evaluation metrics for classifiers including accuracy, precision, recall, F1 score, and ROC curves when working with classifiers. But these will not work here because, again, we are not classifying into discrete groups, but predicting specific numbers. \n",
        "\n",
        "There are two metrics used to evaluate regression models:\n",
        "\n",
        "R-squared: R-squared values range between 0 and 1. They are commonly stated as percentages. It is a statistical measure that represents the proportion of the variance for a target variable that is explained by the independent variables. The higher the R-squared the better the model.\n",
        "\n",
        "Root Mean Squared Error (RMSE): measures the average magnitude of the residuals or error. What is the error? This is the difference between our prediction and the actual value. \n",
        "\n",
        "Ideally, lower RMSE and higher R-squared values are indicative of a good model. \n",
        "\n"
      ]
    },
    {
      "cell_type": "code",
      "metadata": {
        "colab": {
          "base_uri": "https://localhost:8080/"
        },
        "id": "kHQhlJFG8ks_",
        "outputId": "823760c0-9ce8-44ea-99f0-bc9677387502"
      },
      "source": [
        "# load and summarize the housing dataset\n",
        "from pandas import read_csv\n",
        "from matplotlib import pyplot\n",
        "# load dataset\n",
        "url = 'https://raw.githubusercontent.com/jbrownlee/Datasets/master/housing.csv'\n",
        "dataframe = read_csv(url, header=None)\n",
        "# summarize shape\n",
        "print(dataframe.shape)\n",
        "# summarize first few lines\n",
        "print(dataframe.head())"
      ],
      "execution_count": 1,
      "outputs": [
        {
          "output_type": "stream",
          "text": [
            "(506, 14)\n",
            "        0     1     2   3      4      5   ...  8      9     10      11    12    13\n",
            "0  0.00632  18.0  2.31   0  0.538  6.575  ...   1  296.0  15.3  396.90  4.98  24.0\n",
            "1  0.02731   0.0  7.07   0  0.469  6.421  ...   2  242.0  17.8  396.90  9.14  21.6\n",
            "2  0.02729   0.0  7.07   0  0.469  7.185  ...   2  242.0  17.8  392.83  4.03  34.7\n",
            "3  0.03237   0.0  2.18   0  0.458  6.998  ...   3  222.0  18.7  394.63  2.94  33.4\n",
            "4  0.06905   0.0  2.18   0  0.458  7.147  ...   3  222.0  18.7  396.90  5.33  36.2\n",
            "\n",
            "[5 rows x 14 columns]\n"
          ],
          "name": "stdout"
        }
      ]
    },
    {
      "cell_type": "code",
      "metadata": {
        "id": "Ac4V7O1F-egz"
      },
      "source": [
        "from sklearn.linear_model import Lasso\n",
        "model = Lasso(alpha=1.0)"
      ],
      "execution_count": 1,
      "outputs": []
    },
    {
      "cell_type": "markdown",
      "metadata": {
        "id": "gqVRhYOILPmO"
      },
      "source": [
        "We are going to use the Boston Housing Data in our analysis"
      ]
    },
    {
      "cell_type": "markdown",
      "metadata": {
        "id": "6oNun9NaKwNv"
      },
      "source": [
        "1. Title: Boston Housing Data\n",
        "\n",
        "2. Sources:\n",
        "   (a) Origin:  This dataset was taken from the StatLib library which is maintained at Carnegie Mellon University.\n",
        "   (b) Creator:  Harrison, D. and Rubinfeld, D.L. 'Hedonic prices and the \n",
        "demand for clean air', J. Environ. Economics & Management,\n",
        "vol.5, 81-102, 1978.\n",
        "   (c) Date: July 7, 1993\n",
        "\n",
        "3. Past Usage:\n",
        "   -   Used in Belsley, Kuh & Welsch, 'Regression diagnostics ...', Wiley, \n",
        "       1980.   N.B. Various transformations are used in the table on\n",
        "       pages 244-261.\n",
        "    -  Quinlan,R. (1993). Combining Instance-Based and Model-Based Learning.\n",
        "       In Proceedings on the Tenth International Conference of Machine \n",
        "       Learning, 236-243, University of Massachusetts, Amherst. Morgan\n",
        "       Kaufmann.\n",
        "\n",
        "4. Relevant Information:\n",
        "\n",
        "   Concerns housing values in suburbs of Boston.\n",
        "\n",
        "5. Number of Instances: 506\n",
        "\n",
        "6. Number of Attributes: 13 continuous attributes (including \"class\" attribute \"MEDV\"), 1 binary-valued attribute.\n",
        "\n",
        "7. Attribute Information:\n",
        "    1. CRIM      per capita crime rate by town\n",
        "    2. ZN        proportion of residential land zoned for lots over 25,000 sq.ft.\n",
        "    3. INDUS     proportion of non-retail business acres per town\n",
        "    4. CHAS      Charles River dummy variable (= 1 if tract bounds river; 0 otherwise)\n",
        "    5. NOX       nitric oxides concentration (parts per 10 million)\n",
        "    6. RM        average number of rooms per dwelling\n",
        "    7. AGE       proportion of owner-occupied units built prior to 1940\n",
        "    8. DIS       weighted distances to five Boston employment centres\n",
        "    9. RAD       index of accessibility to radial highways\n",
        "    10. TAX      full-value property-tax rate per $10,000\n",
        "    11. PTRATIO  pupil-teacher ratio by town\n",
        "    12. B        1000(Bk - 0.63)^2 where Bk is the proportion of blacks \n",
        "by town\n",
        "    13. LSTAT    % lower status of the population\n",
        "    14. MEDV     Median value of owner-occupied homes in $1000's\n",
        "\n",
        "8. Missing Attribute Values:  None."
      ]
    },
    {
      "cell_type": "code",
      "metadata": {
        "id": "YP2R3_7oiPuG"
      },
      "source": [
        "import numpy as np\n",
        "import pandas as pd\n",
        "\n",
        "\n",
        "from sklearn.metrics import r2_score\n",
        "from sklearn.metrics import mean_squared_error\n",
        "\n",
        "from sklearn.svm import SVR\n",
        "from sklearn.linear_model import Ridge\n",
        "from sklearn.linear_model import Lasso\n",
        "from sklearn.linear_model import ElasticNet\n",
        "from sklearn.tree import DecisionTreeRegressor\n",
        "from sklearn.linear_model import LinearRegression\n",
        "from sklearn.ensemble import RandomForestRegressor\n",
        "\n",
        "import matplotlib.pyplot as plt\n",
        "plt.rcParams.update({'font.size':20,'figure.figsize':(15,12)})\n",
        "\n",
        "# load the dataset\n",
        "url = 'https://raw.githubusercontent.com/jbrownlee/Datasets/master/housing.csv'\n",
        "\n",
        "df = pd.read_csv(url, header=None)"
      ],
      "execution_count": 80,
      "outputs": []
    },
    {
      "cell_type": "code",
      "metadata": {
        "colab": {
          "base_uri": "https://localhost:8080/",
          "height": 300
        },
        "id": "ouv3OMvLOliD",
        "outputId": "60ceb651-d508-4fe5-9bc7-6f173ddc1710"
      },
      "source": [
        "df.describe()"
      ],
      "execution_count": 81,
      "outputs": [
        {
          "output_type": "execute_result",
          "data": {
            "text/html": [
              "<div>\n",
              "<style scoped>\n",
              "    .dataframe tbody tr th:only-of-type {\n",
              "        vertical-align: middle;\n",
              "    }\n",
              "\n",
              "    .dataframe tbody tr th {\n",
              "        vertical-align: top;\n",
              "    }\n",
              "\n",
              "    .dataframe thead th {\n",
              "        text-align: right;\n",
              "    }\n",
              "</style>\n",
              "<table border=\"1\" class=\"dataframe\">\n",
              "  <thead>\n",
              "    <tr style=\"text-align: right;\">\n",
              "      <th></th>\n",
              "      <th>0</th>\n",
              "      <th>1</th>\n",
              "      <th>2</th>\n",
              "      <th>3</th>\n",
              "      <th>4</th>\n",
              "      <th>5</th>\n",
              "      <th>6</th>\n",
              "      <th>7</th>\n",
              "      <th>8</th>\n",
              "      <th>9</th>\n",
              "      <th>10</th>\n",
              "      <th>11</th>\n",
              "      <th>12</th>\n",
              "      <th>13</th>\n",
              "    </tr>\n",
              "  </thead>\n",
              "  <tbody>\n",
              "    <tr>\n",
              "      <th>count</th>\n",
              "      <td>506.000000</td>\n",
              "      <td>506.000000</td>\n",
              "      <td>506.000000</td>\n",
              "      <td>506.000000</td>\n",
              "      <td>506.000000</td>\n",
              "      <td>506.000000</td>\n",
              "      <td>506.000000</td>\n",
              "      <td>506.000000</td>\n",
              "      <td>506.000000</td>\n",
              "      <td>506.000000</td>\n",
              "      <td>506.000000</td>\n",
              "      <td>506.000000</td>\n",
              "      <td>506.000000</td>\n",
              "      <td>506.000000</td>\n",
              "    </tr>\n",
              "    <tr>\n",
              "      <th>mean</th>\n",
              "      <td>3.613524</td>\n",
              "      <td>11.363636</td>\n",
              "      <td>11.136779</td>\n",
              "      <td>0.069170</td>\n",
              "      <td>0.554695</td>\n",
              "      <td>6.284634</td>\n",
              "      <td>68.574901</td>\n",
              "      <td>3.795043</td>\n",
              "      <td>9.549407</td>\n",
              "      <td>408.237154</td>\n",
              "      <td>18.455534</td>\n",
              "      <td>356.674032</td>\n",
              "      <td>12.653063</td>\n",
              "      <td>22.532806</td>\n",
              "    </tr>\n",
              "    <tr>\n",
              "      <th>std</th>\n",
              "      <td>8.601545</td>\n",
              "      <td>23.322453</td>\n",
              "      <td>6.860353</td>\n",
              "      <td>0.253994</td>\n",
              "      <td>0.115878</td>\n",
              "      <td>0.702617</td>\n",
              "      <td>28.148861</td>\n",
              "      <td>2.105710</td>\n",
              "      <td>8.707259</td>\n",
              "      <td>168.537116</td>\n",
              "      <td>2.164946</td>\n",
              "      <td>91.294864</td>\n",
              "      <td>7.141062</td>\n",
              "      <td>9.197104</td>\n",
              "    </tr>\n",
              "    <tr>\n",
              "      <th>min</th>\n",
              "      <td>0.006320</td>\n",
              "      <td>0.000000</td>\n",
              "      <td>0.460000</td>\n",
              "      <td>0.000000</td>\n",
              "      <td>0.385000</td>\n",
              "      <td>3.561000</td>\n",
              "      <td>2.900000</td>\n",
              "      <td>1.129600</td>\n",
              "      <td>1.000000</td>\n",
              "      <td>187.000000</td>\n",
              "      <td>12.600000</td>\n",
              "      <td>0.320000</td>\n",
              "      <td>1.730000</td>\n",
              "      <td>5.000000</td>\n",
              "    </tr>\n",
              "    <tr>\n",
              "      <th>25%</th>\n",
              "      <td>0.082045</td>\n",
              "      <td>0.000000</td>\n",
              "      <td>5.190000</td>\n",
              "      <td>0.000000</td>\n",
              "      <td>0.449000</td>\n",
              "      <td>5.885500</td>\n",
              "      <td>45.025000</td>\n",
              "      <td>2.100175</td>\n",
              "      <td>4.000000</td>\n",
              "      <td>279.000000</td>\n",
              "      <td>17.400000</td>\n",
              "      <td>375.377500</td>\n",
              "      <td>6.950000</td>\n",
              "      <td>17.025000</td>\n",
              "    </tr>\n",
              "    <tr>\n",
              "      <th>50%</th>\n",
              "      <td>0.256510</td>\n",
              "      <td>0.000000</td>\n",
              "      <td>9.690000</td>\n",
              "      <td>0.000000</td>\n",
              "      <td>0.538000</td>\n",
              "      <td>6.208500</td>\n",
              "      <td>77.500000</td>\n",
              "      <td>3.207450</td>\n",
              "      <td>5.000000</td>\n",
              "      <td>330.000000</td>\n",
              "      <td>19.050000</td>\n",
              "      <td>391.440000</td>\n",
              "      <td>11.360000</td>\n",
              "      <td>21.200000</td>\n",
              "    </tr>\n",
              "    <tr>\n",
              "      <th>75%</th>\n",
              "      <td>3.677082</td>\n",
              "      <td>12.500000</td>\n",
              "      <td>18.100000</td>\n",
              "      <td>0.000000</td>\n",
              "      <td>0.624000</td>\n",
              "      <td>6.623500</td>\n",
              "      <td>94.075000</td>\n",
              "      <td>5.188425</td>\n",
              "      <td>24.000000</td>\n",
              "      <td>666.000000</td>\n",
              "      <td>20.200000</td>\n",
              "      <td>396.225000</td>\n",
              "      <td>16.955000</td>\n",
              "      <td>25.000000</td>\n",
              "    </tr>\n",
              "    <tr>\n",
              "      <th>max</th>\n",
              "      <td>88.976200</td>\n",
              "      <td>100.000000</td>\n",
              "      <td>27.740000</td>\n",
              "      <td>1.000000</td>\n",
              "      <td>0.871000</td>\n",
              "      <td>8.780000</td>\n",
              "      <td>100.000000</td>\n",
              "      <td>12.126500</td>\n",
              "      <td>24.000000</td>\n",
              "      <td>711.000000</td>\n",
              "      <td>22.000000</td>\n",
              "      <td>396.900000</td>\n",
              "      <td>37.970000</td>\n",
              "      <td>50.000000</td>\n",
              "    </tr>\n",
              "  </tbody>\n",
              "</table>\n",
              "</div>"
            ],
            "text/plain": [
              "               0           1           2   ...          11          12          13\n",
              "count  506.000000  506.000000  506.000000  ...  506.000000  506.000000  506.000000\n",
              "mean     3.613524   11.363636   11.136779  ...  356.674032   12.653063   22.532806\n",
              "std      8.601545   23.322453    6.860353  ...   91.294864    7.141062    9.197104\n",
              "min      0.006320    0.000000    0.460000  ...    0.320000    1.730000    5.000000\n",
              "25%      0.082045    0.000000    5.190000  ...  375.377500    6.950000   17.025000\n",
              "50%      0.256510    0.000000    9.690000  ...  391.440000   11.360000   21.200000\n",
              "75%      3.677082   12.500000   18.100000  ...  396.225000   16.955000   25.000000\n",
              "max     88.976200  100.000000   27.740000  ...  396.900000   37.970000   50.000000\n",
              "\n",
              "[8 rows x 14 columns]"
            ]
          },
          "metadata": {
            "tags": []
          },
          "execution_count": 81
        }
      ]
    },
    {
      "cell_type": "code",
      "metadata": {
        "id": "0-ULxH6kPLer"
      },
      "source": [
        "data = df[df.columns[0:12]]\n",
        "target = df[df.columns[13]]"
      ],
      "execution_count": 82,
      "outputs": []
    },
    {
      "cell_type": "code",
      "metadata": {
        "colab": {
          "base_uri": "https://localhost:8080/",
          "height": 300
        },
        "id": "IIpSymJ0Pmrc",
        "outputId": "69501151-d37c-4015-e2e6-0c92f88a97ba"
      },
      "source": [
        "data.describe()"
      ],
      "execution_count": 44,
      "outputs": [
        {
          "output_type": "execute_result",
          "data": {
            "text/html": [
              "<div>\n",
              "<style scoped>\n",
              "    .dataframe tbody tr th:only-of-type {\n",
              "        vertical-align: middle;\n",
              "    }\n",
              "\n",
              "    .dataframe tbody tr th {\n",
              "        vertical-align: top;\n",
              "    }\n",
              "\n",
              "    .dataframe thead th {\n",
              "        text-align: right;\n",
              "    }\n",
              "</style>\n",
              "<table border=\"1\" class=\"dataframe\">\n",
              "  <thead>\n",
              "    <tr style=\"text-align: right;\">\n",
              "      <th></th>\n",
              "      <th>0</th>\n",
              "      <th>1</th>\n",
              "      <th>2</th>\n",
              "      <th>3</th>\n",
              "      <th>4</th>\n",
              "      <th>5</th>\n",
              "      <th>6</th>\n",
              "      <th>7</th>\n",
              "      <th>8</th>\n",
              "      <th>9</th>\n",
              "      <th>10</th>\n",
              "      <th>11</th>\n",
              "    </tr>\n",
              "  </thead>\n",
              "  <tbody>\n",
              "    <tr>\n",
              "      <th>count</th>\n",
              "      <td>506.000000</td>\n",
              "      <td>506.000000</td>\n",
              "      <td>506.000000</td>\n",
              "      <td>506.000000</td>\n",
              "      <td>506.000000</td>\n",
              "      <td>506.000000</td>\n",
              "      <td>506.000000</td>\n",
              "      <td>506.000000</td>\n",
              "      <td>506.000000</td>\n",
              "      <td>506.000000</td>\n",
              "      <td>506.000000</td>\n",
              "      <td>506.000000</td>\n",
              "    </tr>\n",
              "    <tr>\n",
              "      <th>mean</th>\n",
              "      <td>0.040612</td>\n",
              "      <td>0.113636</td>\n",
              "      <td>0.401470</td>\n",
              "      <td>0.069170</td>\n",
              "      <td>0.636849</td>\n",
              "      <td>0.715790</td>\n",
              "      <td>0.685749</td>\n",
              "      <td>0.312954</td>\n",
              "      <td>0.397892</td>\n",
              "      <td>0.574173</td>\n",
              "      <td>0.838888</td>\n",
              "      <td>0.898650</td>\n",
              "    </tr>\n",
              "    <tr>\n",
              "      <th>std</th>\n",
              "      <td>0.096672</td>\n",
              "      <td>0.233225</td>\n",
              "      <td>0.247309</td>\n",
              "      <td>0.253994</td>\n",
              "      <td>0.133040</td>\n",
              "      <td>0.080025</td>\n",
              "      <td>0.281489</td>\n",
              "      <td>0.173645</td>\n",
              "      <td>0.362802</td>\n",
              "      <td>0.237042</td>\n",
              "      <td>0.098407</td>\n",
              "      <td>0.230020</td>\n",
              "    </tr>\n",
              "    <tr>\n",
              "      <th>min</th>\n",
              "      <td>0.000071</td>\n",
              "      <td>0.000000</td>\n",
              "      <td>0.016583</td>\n",
              "      <td>0.000000</td>\n",
              "      <td>0.442021</td>\n",
              "      <td>0.405581</td>\n",
              "      <td>0.029000</td>\n",
              "      <td>0.093151</td>\n",
              "      <td>0.041667</td>\n",
              "      <td>0.263010</td>\n",
              "      <td>0.572727</td>\n",
              "      <td>0.000806</td>\n",
              "    </tr>\n",
              "    <tr>\n",
              "      <th>25%</th>\n",
              "      <td>0.000922</td>\n",
              "      <td>0.000000</td>\n",
              "      <td>0.187094</td>\n",
              "      <td>0.000000</td>\n",
              "      <td>0.515499</td>\n",
              "      <td>0.670330</td>\n",
              "      <td>0.450250</td>\n",
              "      <td>0.173189</td>\n",
              "      <td>0.166667</td>\n",
              "      <td>0.392405</td>\n",
              "      <td>0.790909</td>\n",
              "      <td>0.945773</td>\n",
              "    </tr>\n",
              "    <tr>\n",
              "      <th>50%</th>\n",
              "      <td>0.002883</td>\n",
              "      <td>0.000000</td>\n",
              "      <td>0.349315</td>\n",
              "      <td>0.000000</td>\n",
              "      <td>0.617681</td>\n",
              "      <td>0.707118</td>\n",
              "      <td>0.775000</td>\n",
              "      <td>0.264499</td>\n",
              "      <td>0.208333</td>\n",
              "      <td>0.464135</td>\n",
              "      <td>0.865909</td>\n",
              "      <td>0.986243</td>\n",
              "    </tr>\n",
              "    <tr>\n",
              "      <th>75%</th>\n",
              "      <td>0.041327</td>\n",
              "      <td>0.125000</td>\n",
              "      <td>0.652487</td>\n",
              "      <td>0.000000</td>\n",
              "      <td>0.716418</td>\n",
              "      <td>0.754385</td>\n",
              "      <td>0.940750</td>\n",
              "      <td>0.427858</td>\n",
              "      <td>1.000000</td>\n",
              "      <td>0.936709</td>\n",
              "      <td>0.918182</td>\n",
              "      <td>0.998299</td>\n",
              "    </tr>\n",
              "    <tr>\n",
              "      <th>max</th>\n",
              "      <td>1.000000</td>\n",
              "      <td>1.000000</td>\n",
              "      <td>1.000000</td>\n",
              "      <td>1.000000</td>\n",
              "      <td>1.000000</td>\n",
              "      <td>1.000000</td>\n",
              "      <td>1.000000</td>\n",
              "      <td>1.000000</td>\n",
              "      <td>1.000000</td>\n",
              "      <td>1.000000</td>\n",
              "      <td>1.000000</td>\n",
              "      <td>1.000000</td>\n",
              "    </tr>\n",
              "  </tbody>\n",
              "</table>\n",
              "</div>"
            ],
            "text/plain": [
              "               0           1           2   ...          9           10          11\n",
              "count  506.000000  506.000000  506.000000  ...  506.000000  506.000000  506.000000\n",
              "mean     0.040612    0.113636    0.401470  ...    0.574173    0.838888    0.898650\n",
              "std      0.096672    0.233225    0.247309  ...    0.237042    0.098407    0.230020\n",
              "min      0.000071    0.000000    0.016583  ...    0.263010    0.572727    0.000806\n",
              "25%      0.000922    0.000000    0.187094  ...    0.392405    0.790909    0.945773\n",
              "50%      0.002883    0.000000    0.349315  ...    0.464135    0.865909    0.986243\n",
              "75%      0.041327    0.125000    0.652487  ...    0.936709    0.918182    0.998299\n",
              "max      1.000000    1.000000    1.000000  ...    1.000000    1.000000    1.000000\n",
              "\n",
              "[8 rows x 12 columns]"
            ]
          },
          "metadata": {
            "tags": []
          },
          "execution_count": 44
        }
      ]
    },
    {
      "cell_type": "code",
      "metadata": {
        "colab": {
          "base_uri": "https://localhost:8080/"
        },
        "id": "SKd6Uky1PojZ",
        "outputId": "236bd30d-7b56-45b2-d30f-b4f775c977af"
      },
      "source": [
        "target[0:5]"
      ],
      "execution_count": 99,
      "outputs": [
        {
          "output_type": "execute_result",
          "data": {
            "text/plain": [
              "0    24.0\n",
              "1    21.6\n",
              "2    34.7\n",
              "3    33.4\n",
              "4    36.2\n",
              "Name: 13, dtype: float64"
            ]
          },
          "metadata": {
            "tags": []
          },
          "execution_count": 99
        }
      ]
    },
    {
      "cell_type": "code",
      "metadata": {
        "id": "ndQMCIERPCPO"
      },
      "source": [
        "# Sperate train and test data\n",
        "from sklearn.model_selection import train_test_split\n",
        "X_train, X_test, y_train, y_test = train_test_split(data, target, test_size=0.3, random_state=0)"
      ],
      "execution_count": 126,
      "outputs": []
    },
    {
      "cell_type": "code",
      "metadata": {
        "colab": {
          "base_uri": "https://localhost:8080/",
          "height": 112
        },
        "id": "aYBC_ENiepyy",
        "outputId": "7250dd97-d6eb-4c93-faf3-a1f98122351d"
      },
      "source": [
        "X_train[0:2]"
      ],
      "execution_count": 127,
      "outputs": [
        {
          "output_type": "execute_result",
          "data": {
            "text/html": [
              "<div>\n",
              "<style scoped>\n",
              "    .dataframe tbody tr th:only-of-type {\n",
              "        vertical-align: middle;\n",
              "    }\n",
              "\n",
              "    .dataframe tbody tr th {\n",
              "        vertical-align: top;\n",
              "    }\n",
              "\n",
              "    .dataframe thead th {\n",
              "        text-align: right;\n",
              "    }\n",
              "</style>\n",
              "<table border=\"1\" class=\"dataframe\">\n",
              "  <thead>\n",
              "    <tr style=\"text-align: right;\">\n",
              "      <th></th>\n",
              "      <th>0</th>\n",
              "      <th>1</th>\n",
              "      <th>2</th>\n",
              "      <th>3</th>\n",
              "      <th>4</th>\n",
              "      <th>5</th>\n",
              "      <th>6</th>\n",
              "      <th>7</th>\n",
              "      <th>8</th>\n",
              "      <th>9</th>\n",
              "      <th>10</th>\n",
              "      <th>11</th>\n",
              "    </tr>\n",
              "  </thead>\n",
              "  <tbody>\n",
              "    <tr>\n",
              "      <th>141</th>\n",
              "      <td>1.62864</td>\n",
              "      <td>0.0</td>\n",
              "      <td>21.89</td>\n",
              "      <td>0</td>\n",
              "      <td>0.624</td>\n",
              "      <td>5.019</td>\n",
              "      <td>100.0</td>\n",
              "      <td>1.4394</td>\n",
              "      <td>4</td>\n",
              "      <td>437.0</td>\n",
              "      <td>21.2</td>\n",
              "      <td>396.90</td>\n",
              "    </tr>\n",
              "    <tr>\n",
              "      <th>272</th>\n",
              "      <td>0.11460</td>\n",
              "      <td>20.0</td>\n",
              "      <td>6.96</td>\n",
              "      <td>0</td>\n",
              "      <td>0.464</td>\n",
              "      <td>6.538</td>\n",
              "      <td>58.7</td>\n",
              "      <td>3.9175</td>\n",
              "      <td>3</td>\n",
              "      <td>223.0</td>\n",
              "      <td>18.6</td>\n",
              "      <td>394.96</td>\n",
              "    </tr>\n",
              "  </tbody>\n",
              "</table>\n",
              "</div>"
            ],
            "text/plain": [
              "          0     1      2   3      4   ...      7   8      9     10      11\n",
              "141  1.62864   0.0  21.89   0  0.624  ...  1.4394   4  437.0  21.2  396.90\n",
              "272  0.11460  20.0   6.96   0  0.464  ...  3.9175   3  223.0  18.6  394.96\n",
              "\n",
              "[2 rows x 12 columns]"
            ]
          },
          "metadata": {
            "tags": []
          },
          "execution_count": 127
        }
      ]
    },
    {
      "cell_type": "code",
      "metadata": {
        "colab": {
          "base_uri": "https://localhost:8080/"
        },
        "id": "-5SlEoGZi9XD",
        "outputId": "deb0fe68-37d0-4f75-8eca-88352dec12f3"
      },
      "source": [
        "y_train[0:5]"
      ],
      "execution_count": 128,
      "outputs": [
        {
          "output_type": "execute_result",
          "data": {
            "text/plain": [
              "141    14.4\n",
              "272    24.4\n",
              "135    18.1\n",
              "298    22.5\n",
              "122    20.5\n",
              "Name: 13, dtype: float64"
            ]
          },
          "metadata": {
            "tags": []
          },
          "execution_count": 128
        }
      ]
    },
    {
      "cell_type": "code",
      "metadata": {
        "id": "VyfHyav7bR87"
      },
      "source": [
        "from sklearn.preprocessing import StandardScaler\n",
        "sc = StandardScaler()\n",
        "X_train = sc.fit_transform(X_train)\n",
        "X_test = sc.fit_transform(X_test)"
      ],
      "execution_count": 129,
      "outputs": []
    },
    {
      "cell_type": "code",
      "metadata": {
        "colab": {
          "base_uri": "https://localhost:8080/"
        },
        "id": "PT7O9SSeeHXJ",
        "outputId": "ac76e719-085a-4b9e-a3b5-ea5990012ad2"
      },
      "source": [
        "X_train[0:2]"
      ],
      "execution_count": 130,
      "outputs": [
        {
          "output_type": "execute_result",
          "data": {
            "text/plain": [
              "array([[-0.20735619, -0.49997924,  1.54801583, -0.26360274,  0.58821309,\n",
              "        -1.83936729,  1.10740225, -1.1251102 , -0.61816013,  0.20673466,\n",
              "         1.2272573 ,  0.42454294],\n",
              "       [-0.38886492,  0.34677427, -0.58974728, -0.26360274, -0.79782145,\n",
              "         0.32748658, -0.36766106,  0.07509   , -0.73363701, -1.04949303,\n",
              "         0.05696346,  0.40185312]])"
            ]
          },
          "metadata": {
            "tags": []
          },
          "execution_count": 130
        }
      ]
    },
    {
      "cell_type": "code",
      "metadata": {
        "id": "31XQ8qj3eznw"
      },
      "source": [
        "# create target scaler object\n",
        "target_scaler = StandardScaler()\n",
        "target_scaler.fit(y_train.to_numpy().reshape(-1,1))\n",
        "y_train = target_scaler.transform(y_train.to_numpy().reshape(-1,1))\n",
        "y_test = target_scaler.transform(y_test.to_numpy().reshape(-1,1))"
      ],
      "execution_count": 131,
      "outputs": []
    },
    {
      "cell_type": "code",
      "metadata": {
        "colab": {
          "base_uri": "https://localhost:8080/"
        },
        "id": "igJmFVI8jImD",
        "outputId": "29985366-9b90-4957-f67e-a03c11cf819d"
      },
      "source": [
        "y_train[0:5]"
      ],
      "execution_count": 150,
      "outputs": [
        {
          "output_type": "execute_result",
          "data": {
            "text/plain": [
              "array([-0.90645092,  0.17970697, -0.5045725 , -0.02666303, -0.24389461])"
            ]
          },
          "metadata": {
            "tags": []
          },
          "execution_count": 150
        }
      ]
    },
    {
      "cell_type": "code",
      "metadata": {
        "id": "6s4RXDgTkZmK"
      },
      "source": [
        "y_train = y_train.ravel()\n",
        "y_test = y_test.ravel()"
      ],
      "execution_count": 151,
      "outputs": []
    },
    {
      "cell_type": "code",
      "metadata": {
        "colab": {
          "base_uri": "https://localhost:8080/"
        },
        "id": "Ckrk0f_tPtKb",
        "outputId": "b188a07f-d52b-4b5c-bce9-84f00faac563"
      },
      "source": [
        "# There are three steps to model something with sklearn\n",
        "# 1. Set up the model\n",
        "model = LinearRegression()\n",
        "# 2. Use fit\n",
        "model.fit(X_train, y_train)\n",
        "# 3. Check the score\n",
        "model.score(X_test, y_test)\n",
        "\n",
        "y_pred = model.predict(X_test) \n",
        "\n",
        "print(np.sqrt(mean_squared_error(y_test,y_pred))) \n",
        "print(r2_score(y_test, y_pred))"
      ],
      "execution_count": 152,
      "outputs": [
        {
          "output_type": "stream",
          "text": [
            "0.6465262120165035\n",
            "0.5744787579615156\n"
          ],
          "name": "stdout"
        }
      ]
    },
    {
      "cell_type": "code",
      "metadata": {
        "colab": {
          "base_uri": "https://localhost:8080/",
          "height": 709
        },
        "id": "MC39AO2vOmKz",
        "outputId": "0551abdc-42a5-4bb7-8a68-5088ca54292d"
      },
      "source": [
        "# plot prediction and actual data\n",
        "plt.plot(y_test, y_pred, '.')\n",
        "\n",
        "# plot a line, a perfit predict would all fall on this line\n",
        "x = np.linspace(0, 10, 10)\n",
        "y = x\n",
        "plt.plot(x, y)\n",
        "plt.show()"
      ],
      "execution_count": 154,
      "outputs": [
        {
          "output_type": "display_data",
          "data": {
            "image/png": "[encoded data removed]",
            "text/plain": [
              "<Figure size 1080x864 with 1 Axes>"
            ]
          },
          "metadata": {
            "tags": [],
            "needs_background": "light"
          }
        }
      ]
    },
    {
      "cell_type": "code",
      "metadata": {
        "colab": {
          "base_uri": "https://localhost:8080/"
        },
        "id": "TeIDmKorPBRg",
        "outputId": "41842b09-a0cd-4176-e9ef-dcab32866cf4"
      },
      "source": [
        "# There are three steps to model something with sklearn\n",
        "# 1. Set up the model\n",
        "model = Ridge()\n",
        "# 2. Use fit\n",
        "model.fit(X_train, y_train)\n",
        "# 3. Check the score\n",
        "model.score(X_test, y_test)\n",
        "\n",
        "y_pred = model.predict(X_test) \n",
        "\n",
        "print(np.sqrt(mean_squared_error(y_test,y_pred))) \n",
        "print(r2_score(y_test, y_pred))"
      ],
      "execution_count": 155,
      "outputs": [
        {
          "output_type": "stream",
          "text": [
            "0.6468759790407583\n",
            "0.5740182242513445\n"
          ],
          "name": "stdout"
        }
      ]
    },
    {
      "cell_type": "code",
      "metadata": {
        "colab": {
          "base_uri": "https://localhost:8080/",
          "height": 709
        },
        "id": "of9GharUQNPp",
        "outputId": "2d564a4c-f64d-49ca-87bb-4c94abc37cfa"
      },
      "source": [
        "# plot prediction and actual data\n",
        "plt.plot(y_test, y_pred, '.')\n",
        "\n",
        "# plot a line, a perfit predict would all fall on this line\n",
        "x = np.linspace(0, 10, 10)\n",
        "y = x\n",
        "plt.plot(x, y)\n",
        "plt.show()"
      ],
      "execution_count": 156,
      "outputs": [
        {
          "output_type": "display_data",
          "data": {
            "image/png": "[encoded data removed]",
            "text/plain": [
              "<Figure size 1080x864 with 1 Axes>"
            ]
          },
          "metadata": {
            "tags": [],
            "needs_background": "light"
          }
        }
      ]
    },
    {
      "cell_type": "code",
      "metadata": {
        "colab": {
          "base_uri": "https://localhost:8080/"
        },
        "id": "UA1NSNifQaNp",
        "outputId": "b3cc14f3-0585-45b1-edf7-b79d60c108cc"
      },
      "source": [
        "# There are three steps to model something with sklearn\n",
        "# 1. Set up the model\n",
        "model = Lasso()\n",
        "# 2. Use fit\n",
        "model.fit(X_train, y_train)\n",
        "# 3. Check the score\n",
        "model.score(X_test, y_test)\n",
        "\n",
        "y_pred = model.predict(X_test) \n",
        "\n",
        "print(np.sqrt(mean_squared_error(y_test,y_pred))) \n",
        "print(r2_score(y_test, y_pred))"
      ],
      "execution_count": 157,
      "outputs": [
        {
          "output_type": "stream",
          "text": [
            "0.994097002178065\n",
            "-0.006019731947687124\n"
          ],
          "name": "stdout"
        }
      ]
    },
    {
      "cell_type": "code",
      "metadata": {
        "colab": {
          "base_uri": "https://localhost:8080/",
          "height": 709
        },
        "id": "-o6aPjq6Qq5O",
        "outputId": "260d8118-e621-4ffd-a99c-a3cf30dcf28e"
      },
      "source": [
        "# plot prediction and actual data\n",
        "plt.plot(y_test, y_pred, '.')\n",
        "\n",
        "# plot a line, a perfit predict would all fall on this line\n",
        "x = np.linspace(0, 10, 10)\n",
        "y = x\n",
        "plt.plot(x, y)\n",
        "plt.show()"
      ],
      "execution_count": 158,
      "outputs": [
        {
          "output_type": "display_data",
          "data": {
            "image/png": "[encoded data removed]",
            "text/plain": [
              "<Figure size 1080x864 with 1 Axes>"
            ]
          },
          "metadata": {
            "tags": [],
            "needs_background": "light"
          }
        }
      ]
    },
    {
      "cell_type": "code",
      "metadata": {
        "colab": {
          "base_uri": "https://localhost:8080/"
        },
        "id": "RCYdym2-apPE",
        "outputId": "6628384f-cb11-47eb-e68b-f76c6095f98c"
      },
      "source": [
        "# There are three steps to model something with sklearn\n",
        "# 1. Set up the model\n",
        "model = DecisionTreeRegressor()\n",
        "# 2. Use fit\n",
        "model.fit(X_train, y_train)\n",
        "# 3. Check the score\n",
        "model.score(X_test, y_test)\n",
        "\n",
        "y_pred = model.predict(X_test) \n",
        "\n",
        "print(np.sqrt(mean_squared_error(y_test,y_pred))) \n",
        "print(r2_score(y_test, y_pred))"
      ],
      "execution_count": 159,
      "outputs": [
        {
          "output_type": "stream",
          "text": [
            "0.7940011083154039\n",
            "0.3582125977214018\n"
          ],
          "name": "stdout"
        }
      ]
    },
    {
      "cell_type": "code",
      "metadata": {
        "colab": {
          "base_uri": "https://localhost:8080/",
          "height": 709
        },
        "id": "P_AuFdhHatsJ",
        "outputId": "4f9dc550-f3dd-4f89-bb5d-153d47e33183"
      },
      "source": [
        "# plot prediction and actual data\n",
        "plt.plot(y_test, y_pred, '.')\n",
        "\n",
        "# plot a line, a perfit predict would all fall on this line\n",
        "x = np.linspace(0, 10, 10)\n",
        "y = x\n",
        "plt.plot(x, y)\n",
        "plt.show()"
      ],
      "execution_count": 160,
      "outputs": [
        {
          "output_type": "display_data",
          "data": {
            "image/png": "[encoded data removed]",
            "text/plain": [
              "<Figure size 1080x864 with 1 Axes>"
            ]
          },
          "metadata": {
            "tags": [],
            "needs_background": "light"
          }
        }
      ]
    },
    {
      "cell_type": "code",
      "metadata": {
        "colab": {
          "base_uri": "https://localhost:8080/"
        },
        "id": "r-LMyoebQ-e4",
        "outputId": "bc68cafb-03b7-4c98-b373-012b4f4efded"
      },
      "source": [
        "# There are three steps to model something with sklearn\n",
        "# 1. Set up the model\n",
        "model = RandomForestRegressor()\n",
        "# 2. Use fit\n",
        "model.fit(X_train, y_train)\n",
        "# 3. Check the score\n",
        "model.score(X_test, y_test)\n",
        "\n",
        "y_pred = model.predict(X_test) \n",
        "\n",
        "print(np.sqrt(mean_squared_error(y_test,y_pred))) \n",
        "print(r2_score(y_test, y_pred))"
      ],
      "execution_count": 161,
      "outputs": [
        {
          "output_type": "stream",
          "text": [
            "0.6054819977264521\n",
            "0.6267915733645693\n"
          ],
          "name": "stdout"
        }
      ]
    },
    {
      "cell_type": "code",
      "metadata": {
        "colab": {
          "base_uri": "https://localhost:8080/",
          "height": 709
        },
        "id": "R-5e0Qv_ahhs",
        "outputId": "faa4ddc8-a398-4e17-80eb-22b78e6baa4d"
      },
      "source": [
        "# plot prediction and actual data\n",
        "plt.plot(y_test, y_pred, '.')\n",
        "\n",
        "# plot a line, a perfit predict would all fall on this line\n",
        "x = np.linspace(0, 10, 10)\n",
        "y = x\n",
        "plt.plot(x, y)\n",
        "plt.show()"
      ],
      "execution_count": 162,
      "outputs": [
        {
          "output_type": "display_data",
          "data": {
            "image/png": "[encoded data removed]",
            "text/plain": [
              "<Figure size 1080x864 with 1 Axes>"
            ]
          },
          "metadata": {
            "tags": [],
            "needs_background": "light"
          }
        }
      ]
    },
    {
      "cell_type": "code",
      "metadata": {
        "colab": {
          "base_uri": "https://localhost:8080/"
        },
        "id": "-pLwE62HamWK",
        "outputId": "bdceb44f-8c41-480f-fd55-ffc376b67dd1"
      },
      "source": [
        "# There are three steps to model something with sklearn\n",
        "# 1. Set up the model\n",
        "model = SVR(kernel='rbf')\n",
        "# 2. Use fit\n",
        "model.fit(X_train, y_train)\n",
        "# 3. Check the score\n",
        "model.score(X_test, y_test)\n",
        "\n",
        "y_pred = model.predict(X_test) \n",
        "\n",
        "print(np.sqrt(mean_squared_error(y_test,y_pred))) \n",
        "print(r2_score(y_test, y_pred))"
      ],
      "execution_count": 163,
      "outputs": [
        {
          "output_type": "stream",
          "text": [
            "0.5688504475153567\n",
            "0.6705836286893923\n"
          ],
          "name": "stdout"
        }
      ]
    },
    {
      "cell_type": "code",
      "metadata": {
        "colab": {
          "base_uri": "https://localhost:8080/",
          "height": 709
        },
        "id": "0GfJVgZAa4JE",
        "outputId": "bdf75ffd-7118-46db-c0b8-14c76dc2af65"
      },
      "source": [
        "# plot prediction and actual data\n",
        "plt.plot(y_test, y_pred, '.')\n",
        "\n",
        "# plot a line, a perfit predict would all fall on this line\n",
        "x = np.linspace(0, 10, 10)\n",
        "y = x\n",
        "plt.plot(x, y)\n",
        "plt.show()"
      ],
      "execution_count": 164,
      "outputs": [
        {
          "output_type": "display_data",
          "data": {
            "image/png": "[encoded data removed]",
            "text/plain": [
              "<Figure size 1080x864 with 1 Axes>"
            ]
          },
          "metadata": {
            "tags": [],
            "needs_background": "light"
          }
        }
      ]
    }
  ]
}