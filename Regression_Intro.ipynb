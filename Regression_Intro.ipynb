{
  "nbformat": 4,
  "nbformat_minor": 0,
  "metadata": {
    "colab": {
      "name": "Regression_Intro.ipynb",
      "provenance": [],
      "authorship_tag": "ABX9TyP4QZ5kDWCWD+axVSJTfSbi",
      "include_colab_link": true
    },
    "kernelspec": {
      "name": "python3",
      "display_name": "Python 3"
    }
  },
  "cells": [
    {
      "cell_type": "markdown",
      "metadata": {
        "id": "view-in-github",
        "colab_type": "text"
      },
      "source": [
        "<a href=\"https://colab.research.google.com/github/tawfiqam/MI564/blob/main/Regression_Intro.ipynb\" target=\"_parent\"><img src=\"https://colab.research.google.com/assets/colab-badge.svg\" alt=\"Open In Colab\"/></a>"
      ]
    },
    {
      "cell_type": "markdown",
      "metadata": {
        "id": "TIB1uKXC4amn"
      },
      "source": [
        "#What is the main difference between regression and classification?\n",
        "If you look at the classifier examples shared earlier, you will find that regression models predict a continuous variable as opposed to a class. So, in classifiers, we \"classify\" things so that they are in different classes. We first used a logsitic regression to [classify students](https://github.com/tawfiqam/MI564/blob/main/Logistic_Regression_Classifier_Intro.ipynb) accepted (class 1) to a program and those who are not (class 2). We used a random forest classifier to [differentiate different types of wine](https://github.com/tawfiqam/MI564/blob/main/Random_Forest_Intro.ipynb). We also used a Naive Bayes classifier to [classify posts to two different online communities](https://github.com/tawfiqam/MI564/blob/main/Naive_Bayes_Intro.ipynb).\n",
        "\n",
        "With regression, we will predict a value. As I laid out before, this value represents a continous variable. A continous variable can take on an uncountable set of values. So while classifiers used discrete variables (basically integers - [0,1,2,3]), regression gets us a predicted continous variable - usually including a fraction [0,0.345,100.45]."
      ]
    },
    {
      "cell_type": "markdown",
      "metadata": {
        "id": "D01LhoVy4arI"
      },
      "source": [
        "##Regression Evaluation Metrics\n",
        "\n",
        "Remember that we used evaluation metrics for classifiers including accuracy, precision, recall, F1 score, and ROC curves when working with classifiers. But these will not work here because, again, we are not classifying into discrete groups, but predicting specific numbers. \n",
        "\n",
        "There are two metrics used to evaluate regression models:\n",
        "\n",
        "R-squared: R-squared values range between 0 and 1. They are commonly stated as percentages. It is a statistical measure that represents the proportion of the variance for a target variable that is explained by the independent variables. The higher the R-squared the better the model.\n",
        "\n",
        "Root Mean Squared Error (RMSE): measures the average magnitude of the residuals or error. What is the error? This is the difference between our prediction and the actual value. \n",
        "\n",
        "Ideally, lower RMSE and higher R-squared values are indicative of a good model. \n",
        "\n"
      ]
    },
    {
      "cell_type": "code",
      "metadata": {
        "colab": {
          "base_uri": "https://localhost:8080/"
        },
        "id": "kHQhlJFG8ks_",
        "outputId": "b5c38b40-e210-4f95-fbe2-546815cab0e5"
      },
      "source": [
        "# load and summarize the housing dataset\n",
        "from pandas import read_csv\n",
        "from matplotlib import pyplot\n",
        "# load dataset\n",
        "url = 'https://raw.githubusercontent.com/jbrownlee/Datasets/master/housing.csv'\n",
        "dataframe = read_csv(url, header=None)\n",
        "# summarize shape\n",
        "print(dataframe.shape)\n",
        "# summarize first few lines\n",
        "print(dataframe.head())"
      ],
      "execution_count": 1,
      "outputs": [
        {
          "output_type": "stream",
          "text": [
            "(506, 14)\n",
            "        0     1     2   3      4      5   ...  8      9     10      11    12    13\n",
            "0  0.00632  18.0  2.31   0  0.538  6.575  ...   1  296.0  15.3  396.90  4.98  24.0\n",
            "1  0.02731   0.0  7.07   0  0.469  6.421  ...   2  242.0  17.8  396.90  9.14  21.6\n",
            "2  0.02729   0.0  7.07   0  0.469  7.185  ...   2  242.0  17.8  392.83  4.03  34.7\n",
            "3  0.03237   0.0  2.18   0  0.458  6.998  ...   3  222.0  18.7  394.63  2.94  33.4\n",
            "4  0.06905   0.0  2.18   0  0.458  7.147  ...   3  222.0  18.7  396.90  5.33  36.2\n",
            "\n",
            "[5 rows x 14 columns]\n"
          ],
          "name": "stdout"
        }
      ]
    },
    {
      "cell_type": "code",
      "metadata": {
        "id": "Ac4V7O1F-egz"
      },
      "source": [
        "from sklearn.linear_model import Lasso\n",
        "model = Lasso(alpha=1.0)"
      ],
      "execution_count": 2,
      "outputs": []
    },
    {
      "cell_type": "markdown",
      "metadata": {
        "id": "gqVRhYOILPmO"
      },
      "source": [
        "We are going to use the Boston Housing Data in our analysis"
      ]
    },
    {
      "cell_type": "markdown",
      "metadata": {
        "id": "6oNun9NaKwNv"
      },
      "source": [
        "1. Title: Boston Housing Data\n",
        "\n",
        "2. Sources:\n",
        "   (a) Origin:  This dataset was taken from the StatLib library which is maintained at Carnegie Mellon University.\n",
        "   (b) Creator:  Harrison, D. and Rubinfeld, D.L. 'Hedonic prices and the \n",
        "demand for clean air', J. Environ. Economics & Management,\n",
        "vol.5, 81-102, 1978.\n",
        "   (c) Date: July 7, 1993\n",
        "\n",
        "3. Past Usage:\n",
        "   -   Used in Belsley, Kuh & Welsch, 'Regression diagnostics ...', Wiley, \n",
        "       1980.   N.B. Various transformations are used in the table on\n",
        "       pages 244-261.\n",
        "    -  Quinlan,R. (1993). Combining Instance-Based and Model-Based Learning.\n",
        "       In Proceedings on the Tenth International Conference of Machine \n",
        "       Learning, 236-243, University of Massachusetts, Amherst. Morgan\n",
        "       Kaufmann.\n",
        "\n",
        "4. Relevant Information:\n",
        "\n",
        "   Concerns housing values in suburbs of Boston.\n",
        "\n",
        "5. Number of Instances: 506\n",
        "\n",
        "6. Number of Attributes: 13 continuous attributes (including \"class\" attribute \"MEDV\"), 1 binary-valued attribute.\n",
        "\n",
        "7. Attribute Information:\n",
        "    1. CRIM      per capita crime rate by town\n",
        "    2. ZN        proportion of residential land zoned for lots over 25,000 sq.ft.\n",
        "    3. INDUS     proportion of non-retail business acres per town\n",
        "    4. CHAS      Charles River dummy variable (= 1 if tract bounds river; 0 otherwise)\n",
        "    5. NOX       nitric oxides concentration (parts per 10 million)\n",
        "    6. RM        average number of rooms per dwelling\n",
        "    7. AGE       proportion of owner-occupied units built prior to 1940\n",
        "    8. DIS       weighted distances to five Boston employment centres\n",
        "    9. RAD       index of accessibility to radial highways\n",
        "    10. TAX      full-value property-tax rate per $10,000\n",
        "    11. PTRATIO  pupil-teacher ratio by town\n",
        "    12. B        1000(Bk - 0.63)^2 where Bk is the proportion of blacks \n",
        "by town\n",
        "    13. LSTAT    % lower status of the population\n",
        "    14. MEDV     Median value of owner-occupied homes in $1000's\n",
        "\n",
        "8. Missing Attribute Values:  None."
      ]
    },
    {
      "cell_type": "code",
      "metadata": {
        "id": "YP2R3_7oiPuG"
      },
      "source": [
        "import numpy as np\n",
        "import pandas as pd\n",
        "\n",
        "\n",
        "from sklearn.metrics import r2_score\n",
        "from sklearn.metrics import mean_squared_error\n",
        "\n",
        "from sklearn.svm import SVR\n",
        "from sklearn.linear_model import Ridge\n",
        "from sklearn.linear_model import Lasso\n",
        "from sklearn.linear_model import ElasticNet\n",
        "from sklearn.tree import DecisionTreeRegressor\n",
        "from sklearn.linear_model import LinearRegression\n",
        "from sklearn.ensemble import RandomForestRegressor\n",
        "\n",
        "import matplotlib.pyplot as plt\n",
        "plt.rcParams.update({'font.size':20,'figure.figsize':(15,12)})\n",
        "\n",
        "# load the dataset\n",
        "url = 'https://raw.githubusercontent.com/jbrownlee/Datasets/master/housing.csv'\n",
        "\n",
        "df = pd.read_csv(url, header=None)"
      ],
      "execution_count": 3,
      "outputs": []
    },
    {
      "cell_type": "code",
      "metadata": {
        "colab": {
          "base_uri": "https://localhost:8080/",
          "height": 300
        },
        "id": "ouv3OMvLOliD",
        "outputId": "0fe4f485-acb9-48a8-d09f-a0d1c3f0f1d7"
      },
      "source": [
        "df.describe()"
      ],
      "execution_count": 4,
      "outputs": [
        {
          "output_type": "execute_result",
          "data": {
            "text/html": [
              "<div>\n",
              "<style scoped>\n",
              "    .dataframe tbody tr th:only-of-type {\n",
              "        vertical-align: middle;\n",
              "    }\n",
              "\n",
              "    .dataframe tbody tr th {\n",
              "        vertical-align: top;\n",
              "    }\n",
              "\n",
              "    .dataframe thead th {\n",
              "        text-align: right;\n",
              "    }\n",
              "</style>\n",
              "<table border=\"1\" class=\"dataframe\">\n",
              "  <thead>\n",
              "    <tr style=\"text-align: right;\">\n",
              "      <th></th>\n",
              "      <th>0</th>\n",
              "      <th>1</th>\n",
              "      <th>2</th>\n",
              "      <th>3</th>\n",
              "      <th>4</th>\n",
              "      <th>5</th>\n",
              "      <th>6</th>\n",
              "      <th>7</th>\n",
              "      <th>8</th>\n",
              "      <th>9</th>\n",
              "      <th>10</th>\n",
              "      <th>11</th>\n",
              "      <th>12</th>\n",
              "      <th>13</th>\n",
              "    </tr>\n",
              "  </thead>\n",
              "  <tbody>\n",
              "    <tr>\n",
              "      <th>count</th>\n",
              "      <td>506.000000</td>\n",
              "      <td>506.000000</td>\n",
              "      <td>506.000000</td>\n",
              "      <td>506.000000</td>\n",
              "      <td>506.000000</td>\n",
              "      <td>506.000000</td>\n",
              "      <td>506.000000</td>\n",
              "      <td>506.000000</td>\n",
              "      <td>506.000000</td>\n",
              "      <td>506.000000</td>\n",
              "      <td>506.000000</td>\n",
              "      <td>506.000000</td>\n",
              "      <td>506.000000</td>\n",
              "      <td>506.000000</td>\n",
              "    </tr>\n",
              "    <tr>\n",
              "      <th>mean</th>\n",
              "      <td>3.613524</td>\n",
              "      <td>11.363636</td>\n",
              "      <td>11.136779</td>\n",
              "      <td>0.069170</td>\n",
              "      <td>0.554695</td>\n",
              "      <td>6.284634</td>\n",
              "      <td>68.574901</td>\n",
              "      <td>3.795043</td>\n",
              "      <td>9.549407</td>\n",
              "      <td>408.237154</td>\n",
              "      <td>18.455534</td>\n",
              "      <td>356.674032</td>\n",
              "      <td>12.653063</td>\n",
              "      <td>22.532806</td>\n",
              "    </tr>\n",
              "    <tr>\n",
              "      <th>std</th>\n",
              "      <td>8.601545</td>\n",
              "      <td>23.322453</td>\n",
              "      <td>6.860353</td>\n",
              "      <td>0.253994</td>\n",
              "      <td>0.115878</td>\n",
              "      <td>0.702617</td>\n",
              "      <td>28.148861</td>\n",
              "      <td>2.105710</td>\n",
              "      <td>8.707259</td>\n",
              "      <td>168.537116</td>\n",
              "      <td>2.164946</td>\n",
              "      <td>91.294864</td>\n",
              "      <td>7.141062</td>\n",
              "      <td>9.197104</td>\n",
              "    </tr>\n",
              "    <tr>\n",
              "      <th>min</th>\n",
              "      <td>0.006320</td>\n",
              "      <td>0.000000</td>\n",
              "      <td>0.460000</td>\n",
              "      <td>0.000000</td>\n",
              "      <td>0.385000</td>\n",
              "      <td>3.561000</td>\n",
              "      <td>2.900000</td>\n",
              "      <td>1.129600</td>\n",
              "      <td>1.000000</td>\n",
              "      <td>187.000000</td>\n",
              "      <td>12.600000</td>\n",
              "      <td>0.320000</td>\n",
              "      <td>1.730000</td>\n",
              "      <td>5.000000</td>\n",
              "    </tr>\n",
              "    <tr>\n",
              "      <th>25%</th>\n",
              "      <td>0.082045</td>\n",
              "      <td>0.000000</td>\n",
              "      <td>5.190000</td>\n",
              "      <td>0.000000</td>\n",
              "      <td>0.449000</td>\n",
              "      <td>5.885500</td>\n",
              "      <td>45.025000</td>\n",
              "      <td>2.100175</td>\n",
              "      <td>4.000000</td>\n",
              "      <td>279.000000</td>\n",
              "      <td>17.400000</td>\n",
              "      <td>375.377500</td>\n",
              "      <td>6.950000</td>\n",
              "      <td>17.025000</td>\n",
              "    </tr>\n",
              "    <tr>\n",
              "      <th>50%</th>\n",
              "      <td>0.256510</td>\n",
              "      <td>0.000000</td>\n",
              "      <td>9.690000</td>\n",
              "      <td>0.000000</td>\n",
              "      <td>0.538000</td>\n",
              "      <td>6.208500</td>\n",
              "      <td>77.500000</td>\n",
              "      <td>3.207450</td>\n",
              "      <td>5.000000</td>\n",
              "      <td>330.000000</td>\n",
              "      <td>19.050000</td>\n",
              "      <td>391.440000</td>\n",
              "      <td>11.360000</td>\n",
              "      <td>21.200000</td>\n",
              "    </tr>\n",
              "    <tr>\n",
              "      <th>75%</th>\n",
              "      <td>3.677082</td>\n",
              "      <td>12.500000</td>\n",
              "      <td>18.100000</td>\n",
              "      <td>0.000000</td>\n",
              "      <td>0.624000</td>\n",
              "      <td>6.623500</td>\n",
              "      <td>94.075000</td>\n",
              "      <td>5.188425</td>\n",
              "      <td>24.000000</td>\n",
              "      <td>666.000000</td>\n",
              "      <td>20.200000</td>\n",
              "      <td>396.225000</td>\n",
              "      <td>16.955000</td>\n",
              "      <td>25.000000</td>\n",
              "    </tr>\n",
              "    <tr>\n",
              "      <th>max</th>\n",
              "      <td>88.976200</td>\n",
              "      <td>100.000000</td>\n",
              "      <td>27.740000</td>\n",
              "      <td>1.000000</td>\n",
              "      <td>0.871000</td>\n",
              "      <td>8.780000</td>\n",
              "      <td>100.000000</td>\n",
              "      <td>12.126500</td>\n",
              "      <td>24.000000</td>\n",
              "      <td>711.000000</td>\n",
              "      <td>22.000000</td>\n",
              "      <td>396.900000</td>\n",
              "      <td>37.970000</td>\n",
              "      <td>50.000000</td>\n",
              "    </tr>\n",
              "  </tbody>\n",
              "</table>\n",
              "</div>"
            ],
            "text/plain": [
              "               0           1           2   ...          11          12          13\n",
              "count  506.000000  506.000000  506.000000  ...  506.000000  506.000000  506.000000\n",
              "mean     3.613524   11.363636   11.136779  ...  356.674032   12.653063   22.532806\n",
              "std      8.601545   23.322453    6.860353  ...   91.294864    7.141062    9.197104\n",
              "min      0.006320    0.000000    0.460000  ...    0.320000    1.730000    5.000000\n",
              "25%      0.082045    0.000000    5.190000  ...  375.377500    6.950000   17.025000\n",
              "50%      0.256510    0.000000    9.690000  ...  391.440000   11.360000   21.200000\n",
              "75%      3.677082   12.500000   18.100000  ...  396.225000   16.955000   25.000000\n",
              "max     88.976200  100.000000   27.740000  ...  396.900000   37.970000   50.000000\n",
              "\n",
              "[8 rows x 14 columns]"
            ]
          },
          "metadata": {
            "tags": []
          },
          "execution_count": 4
        }
      ]
    },
    {
      "cell_type": "code",
      "metadata": {
        "id": "0-ULxH6kPLer"
      },
      "source": [
        "data = df[df.columns[0:12]]\n",
        "target = df[df.columns[13]]"
      ],
      "execution_count": 5,
      "outputs": []
    },
    {
      "cell_type": "code",
      "metadata": {
        "colab": {
          "base_uri": "https://localhost:8080/",
          "height": 300
        },
        "id": "IIpSymJ0Pmrc",
        "outputId": "33199d60-f78b-490e-fa2b-1ddbfc7cd6c3"
      },
      "source": [
        "data.describe()"
      ],
      "execution_count": 6,
      "outputs": [
        {
          "output_type": "execute_result",
          "data": {
            "text/html": [
              "<div>\n",
              "<style scoped>\n",
              "    .dataframe tbody tr th:only-of-type {\n",
              "        vertical-align: middle;\n",
              "    }\n",
              "\n",
              "    .dataframe tbody tr th {\n",
              "        vertical-align: top;\n",
              "    }\n",
              "\n",
              "    .dataframe thead th {\n",
              "        text-align: right;\n",
              "    }\n",
              "</style>\n",
              "<table border=\"1\" class=\"dataframe\">\n",
              "  <thead>\n",
              "    <tr style=\"text-align: right;\">\n",
              "      <th></th>\n",
              "      <th>0</th>\n",
              "      <th>1</th>\n",
              "      <th>2</th>\n",
              "      <th>3</th>\n",
              "      <th>4</th>\n",
              "      <th>5</th>\n",
              "      <th>6</th>\n",
              "      <th>7</th>\n",
              "      <th>8</th>\n",
              "      <th>9</th>\n",
              "      <th>10</th>\n",
              "      <th>11</th>\n",
              "    </tr>\n",
              "  </thead>\n",
              "  <tbody>\n",
              "    <tr>\n",
              "      <th>count</th>\n",
              "      <td>506.000000</td>\n",
              "      <td>506.000000</td>\n",
              "      <td>506.000000</td>\n",
              "      <td>506.000000</td>\n",
              "      <td>506.000000</td>\n",
              "      <td>506.000000</td>\n",
              "      <td>506.000000</td>\n",
              "      <td>506.000000</td>\n",
              "      <td>506.000000</td>\n",
              "      <td>506.000000</td>\n",
              "      <td>506.000000</td>\n",
              "      <td>506.000000</td>\n",
              "    </tr>\n",
              "    <tr>\n",
              "      <th>mean</th>\n",
              "      <td>3.613524</td>\n",
              "      <td>11.363636</td>\n",
              "      <td>11.136779</td>\n",
              "      <td>0.069170</td>\n",
              "      <td>0.554695</td>\n",
              "      <td>6.284634</td>\n",
              "      <td>68.574901</td>\n",
              "      <td>3.795043</td>\n",
              "      <td>9.549407</td>\n",
              "      <td>408.237154</td>\n",
              "      <td>18.455534</td>\n",
              "      <td>356.674032</td>\n",
              "    </tr>\n",
              "    <tr>\n",
              "      <th>std</th>\n",
              "      <td>8.601545</td>\n",
              "      <td>23.322453</td>\n",
              "      <td>6.860353</td>\n",
              "      <td>0.253994</td>\n",
              "      <td>0.115878</td>\n",
              "      <td>0.702617</td>\n",
              "      <td>28.148861</td>\n",
              "      <td>2.105710</td>\n",
              "      <td>8.707259</td>\n",
              "      <td>168.537116</td>\n",
              "      <td>2.164946</td>\n",
              "      <td>91.294864</td>\n",
              "    </tr>\n",
              "    <tr>\n",
              "      <th>min</th>\n",
              "      <td>0.006320</td>\n",
              "      <td>0.000000</td>\n",
              "      <td>0.460000</td>\n",
              "      <td>0.000000</td>\n",
              "      <td>0.385000</td>\n",
              "      <td>3.561000</td>\n",
              "      <td>2.900000</td>\n",
              "      <td>1.129600</td>\n",
              "      <td>1.000000</td>\n",
              "      <td>187.000000</td>\n",
              "      <td>12.600000</td>\n",
              "      <td>0.320000</td>\n",
              "    </tr>\n",
              "    <tr>\n",
              "      <th>25%</th>\n",
              "      <td>0.082045</td>\n",
              "      <td>0.000000</td>\n",
              "      <td>5.190000</td>\n",
              "      <td>0.000000</td>\n",
              "      <td>0.449000</td>\n",
              "      <td>5.885500</td>\n",
              "      <td>45.025000</td>\n",
              "      <td>2.100175</td>\n",
              "      <td>4.000000</td>\n",
              "      <td>279.000000</td>\n",
              "      <td>17.400000</td>\n",
              "      <td>375.377500</td>\n",
              "    </tr>\n",
              "    <tr>\n",
              "      <th>50%</th>\n",
              "      <td>0.256510</td>\n",
              "      <td>0.000000</td>\n",
              "      <td>9.690000</td>\n",
              "      <td>0.000000</td>\n",
              "      <td>0.538000</td>\n",
              "      <td>6.208500</td>\n",
              "      <td>77.500000</td>\n",
              "      <td>3.207450</td>\n",
              "      <td>5.000000</td>\n",
              "      <td>330.000000</td>\n",
              "      <td>19.050000</td>\n",
              "      <td>391.440000</td>\n",
              "    </tr>\n",
              "    <tr>\n",
              "      <th>75%</th>\n",
              "      <td>3.677082</td>\n",
              "      <td>12.500000</td>\n",
              "      <td>18.100000</td>\n",
              "      <td>0.000000</td>\n",
              "      <td>0.624000</td>\n",
              "      <td>6.623500</td>\n",
              "      <td>94.075000</td>\n",
              "      <td>5.188425</td>\n",
              "      <td>24.000000</td>\n",
              "      <td>666.000000</td>\n",
              "      <td>20.200000</td>\n",
              "      <td>396.225000</td>\n",
              "    </tr>\n",
              "    <tr>\n",
              "      <th>max</th>\n",
              "      <td>88.976200</td>\n",
              "      <td>100.000000</td>\n",
              "      <td>27.740000</td>\n",
              "      <td>1.000000</td>\n",
              "      <td>0.871000</td>\n",
              "      <td>8.780000</td>\n",
              "      <td>100.000000</td>\n",
              "      <td>12.126500</td>\n",
              "      <td>24.000000</td>\n",
              "      <td>711.000000</td>\n",
              "      <td>22.000000</td>\n",
              "      <td>396.900000</td>\n",
              "    </tr>\n",
              "  </tbody>\n",
              "</table>\n",
              "</div>"
            ],
            "text/plain": [
              "               0           1           2   ...          9           10          11\n",
              "count  506.000000  506.000000  506.000000  ...  506.000000  506.000000  506.000000\n",
              "mean     3.613524   11.363636   11.136779  ...  408.237154   18.455534  356.674032\n",
              "std      8.601545   23.322453    6.860353  ...  168.537116    2.164946   91.294864\n",
              "min      0.006320    0.000000    0.460000  ...  187.000000   12.600000    0.320000\n",
              "25%      0.082045    0.000000    5.190000  ...  279.000000   17.400000  375.377500\n",
              "50%      0.256510    0.000000    9.690000  ...  330.000000   19.050000  391.440000\n",
              "75%      3.677082   12.500000   18.100000  ...  666.000000   20.200000  396.225000\n",
              "max     88.976200  100.000000   27.740000  ...  711.000000   22.000000  396.900000\n",
              "\n",
              "[8 rows x 12 columns]"
            ]
          },
          "metadata": {
            "tags": []
          },
          "execution_count": 6
        }
      ]
    },
    {
      "cell_type": "code",
      "metadata": {
        "colab": {
          "base_uri": "https://localhost:8080/"
        },
        "id": "SKd6Uky1PojZ",
        "outputId": "9c8cc3df-ec6f-4024-d98d-efb5bee85018"
      },
      "source": [
        "target[0:5]"
      ],
      "execution_count": 7,
      "outputs": [
        {
          "output_type": "execute_result",
          "data": {
            "text/plain": [
              "0    24.0\n",
              "1    21.6\n",
              "2    34.7\n",
              "3    33.4\n",
              "4    36.2\n",
              "Name: 13, dtype: float64"
            ]
          },
          "metadata": {
            "tags": []
          },
          "execution_count": 7
        }
      ]
    },
    {
      "cell_type": "code",
      "metadata": {
        "id": "ndQMCIERPCPO"
      },
      "source": [
        "# Sperate train and test data\n",
        "from sklearn.model_selection import train_test_split\n",
        "X_train, X_test, y_train, y_test = train_test_split(data, target, test_size=0.3, random_state=0)"
      ],
      "execution_count": 8,
      "outputs": []
    },
    {
      "cell_type": "code",
      "metadata": {
        "colab": {
          "base_uri": "https://localhost:8080/",
          "height": 112
        },
        "id": "aYBC_ENiepyy",
        "outputId": "a0995e0b-94ca-4123-fce2-7d2cdcc9e9a6"
      },
      "source": [
        "X_train[0:2]"
      ],
      "execution_count": 9,
      "outputs": [
        {
          "output_type": "execute_result",
          "data": {
            "text/html": [
              "<div>\n",
              "<style scoped>\n",
              "    .dataframe tbody tr th:only-of-type {\n",
              "        vertical-align: middle;\n",
              "    }\n",
              "\n",
              "    .dataframe tbody tr th {\n",
              "        vertical-align: top;\n",
              "    }\n",
              "\n",
              "    .dataframe thead th {\n",
              "        text-align: right;\n",
              "    }\n",
              "</style>\n",
              "<table border=\"1\" class=\"dataframe\">\n",
              "  <thead>\n",
              "    <tr style=\"text-align: right;\">\n",
              "      <th></th>\n",
              "      <th>0</th>\n",
              "      <th>1</th>\n",
              "      <th>2</th>\n",
              "      <th>3</th>\n",
              "      <th>4</th>\n",
              "      <th>5</th>\n",
              "      <th>6</th>\n",
              "      <th>7</th>\n",
              "      <th>8</th>\n",
              "      <th>9</th>\n",
              "      <th>10</th>\n",
              "      <th>11</th>\n",
              "    </tr>\n",
              "  </thead>\n",
              "  <tbody>\n",
              "    <tr>\n",
              "      <th>141</th>\n",
              "      <td>1.62864</td>\n",
              "      <td>0.0</td>\n",
              "      <td>21.89</td>\n",
              "      <td>0</td>\n",
              "      <td>0.624</td>\n",
              "      <td>5.019</td>\n",
              "      <td>100.0</td>\n",
              "      <td>1.4394</td>\n",
              "      <td>4</td>\n",
              "      <td>437.0</td>\n",
              "      <td>21.2</td>\n",
              "      <td>396.90</td>\n",
              "    </tr>\n",
              "    <tr>\n",
              "      <th>272</th>\n",
              "      <td>0.11460</td>\n",
              "      <td>20.0</td>\n",
              "      <td>6.96</td>\n",
              "      <td>0</td>\n",
              "      <td>0.464</td>\n",
              "      <td>6.538</td>\n",
              "      <td>58.7</td>\n",
              "      <td>3.9175</td>\n",
              "      <td>3</td>\n",
              "      <td>223.0</td>\n",
              "      <td>18.6</td>\n",
              "      <td>394.96</td>\n",
              "    </tr>\n",
              "  </tbody>\n",
              "</table>\n",
              "</div>"
            ],
            "text/plain": [
              "          0     1      2   3      4   ...      7   8      9     10      11\n",
              "141  1.62864   0.0  21.89   0  0.624  ...  1.4394   4  437.0  21.2  396.90\n",
              "272  0.11460  20.0   6.96   0  0.464  ...  3.9175   3  223.0  18.6  394.96\n",
              "\n",
              "[2 rows x 12 columns]"
            ]
          },
          "metadata": {
            "tags": []
          },
          "execution_count": 9
        }
      ]
    },
    {
      "cell_type": "code",
      "metadata": {
        "colab": {
          "base_uri": "https://localhost:8080/"
        },
        "id": "-5SlEoGZi9XD",
        "outputId": "887df323-413b-4b92-fc85-e28d94675e21"
      },
      "source": [
        "y_train[0:5]"
      ],
      "execution_count": 10,
      "outputs": [
        {
          "output_type": "execute_result",
          "data": {
            "text/plain": [
              "141    14.4\n",
              "272    24.4\n",
              "135    18.1\n",
              "298    22.5\n",
              "122    20.5\n",
              "Name: 13, dtype: float64"
            ]
          },
          "metadata": {
            "tags": []
          },
          "execution_count": 10
        }
      ]
    },
    {
      "cell_type": "code",
      "metadata": {
        "id": "VyfHyav7bR87"
      },
      "source": [
        "from sklearn.preprocessing import StandardScaler\n",
        "sc = StandardScaler()\n",
        "X_train = sc.fit_transform(X_train)\n",
        "X_test = sc.fit_transform(X_test)"
      ],
      "execution_count": 11,
      "outputs": []
    },
    {
      "cell_type": "code",
      "metadata": {
        "colab": {
          "base_uri": "https://localhost:8080/"
        },
        "id": "PT7O9SSeeHXJ",
        "outputId": "9f7e1689-bf37-4498-9b15-5026010ff9d0"
      },
      "source": [
        "X_train[0:2]"
      ],
      "execution_count": 12,
      "outputs": [
        {
          "output_type": "execute_result",
          "data": {
            "text/plain": [
              "array([[-0.20735619, -0.49997924,  1.54801583, -0.26360274,  0.58821309,\n",
              "        -1.83936729,  1.10740225, -1.1251102 , -0.61816013,  0.20673466,\n",
              "         1.2272573 ,  0.42454294],\n",
              "       [-0.38886492,  0.34677427, -0.58974728, -0.26360274, -0.79782145,\n",
              "         0.32748658, -0.36766106,  0.07509   , -0.73363701, -1.04949303,\n",
              "         0.05696346,  0.40185312]])"
            ]
          },
          "metadata": {
            "tags": []
          },
          "execution_count": 12
        }
      ]
    },
    {
      "cell_type": "code",
      "metadata": {
        "id": "31XQ8qj3eznw"
      },
      "source": [
        "# create target scaler object\n",
        "target_scaler = StandardScaler()\n",
        "target_scaler.fit(y_train.to_numpy().reshape(-1,1))\n",
        "y_train = target_scaler.transform(y_train.to_numpy().reshape(-1,1))\n",
        "y_test = target_scaler.transform(y_test.to_numpy().reshape(-1,1))"
      ],
      "execution_count": 13,
      "outputs": []
    },
    {
      "cell_type": "code",
      "metadata": {
        "colab": {
          "base_uri": "https://localhost:8080/"
        },
        "id": "igJmFVI8jImD",
        "outputId": "51c82a1e-977e-4e2d-e80f-6d15a34a29c2"
      },
      "source": [
        "y_train[0:5]"
      ],
      "execution_count": 14,
      "outputs": [
        {
          "output_type": "execute_result",
          "data": {
            "text/plain": [
              "array([[-0.90645092],\n",
              "       [ 0.17970697],\n",
              "       [-0.5045725 ],\n",
              "       [-0.02666303],\n",
              "       [-0.24389461]])"
            ]
          },
          "metadata": {
            "tags": []
          },
          "execution_count": 14
        }
      ]
    },
    {
      "cell_type": "code",
      "metadata": {
        "id": "6s4RXDgTkZmK"
      },
      "source": [
        "y_train = y_train.ravel()\n",
        "y_test = y_test.ravel()"
      ],
      "execution_count": 15,
      "outputs": []
    },
    {
      "cell_type": "code",
      "metadata": {
        "colab": {
          "base_uri": "https://localhost:8080/"
        },
        "id": "Ckrk0f_tPtKb",
        "outputId": "4c78c4ed-e557-4573-cf7a-cbae457316a0"
      },
      "source": [
        "# There are three steps to model something with sklearn\n",
        "# 1. Set up the model\n",
        "model = LinearRegression()\n",
        "# 2. Fit the model\n",
        "model.fit(X_train, y_train)\n",
        "# 3. Get the predictions\n",
        "y_pred = model.predict(X_test) \n",
        "# 4. Get the R^2\n",
        "print(r2_score(y_test, y_pred))\n",
        "# 5. Get the RMSE\n",
        "print(np.sqrt(mean_squared_error(y_test,y_pred))) "
      ],
      "execution_count": 16,
      "outputs": [
        {
          "output_type": "stream",
          "text": [
            "0.5744787579615156\n",
            "0.6465262120165035\n"
          ],
          "name": "stdout"
        }
      ]
    },
    {
      "cell_type": "code",
      "metadata": {
        "colab": {
          "base_uri": "https://localhost:8080/",
          "height": 709
        },
        "id": "MC39AO2vOmKz",
        "outputId": "e47e00ac-3ffa-490d-b6b8-3fa166a5b962"
      },
      "source": [
        "# plot prediction and actual data\n",
        "plt.plot(y_test, y_pred, '.')\n",
        "\n",
        "# plot a line, a perfit predict would all fall on this line\n",
        "x = np.linspace(0, 6, 6)\n",
        "y = x\n",
        "plt.plot(x, y)\n",
        "plt.show()"
      ],
      "execution_count": 17,
      "outputs": [
        {
          "output_type": "display_data",
          "data": {
            "image/png": "[encoded data removed]",
            "text/plain": [
              "<Figure size 1080x864 with 1 Axes>"
            ]
          },
          "metadata": {
            "tags": [],
            "needs_background": "light"
          }
        }
      ]
    },
    {
      "cell_type": "code",
      "metadata": {
        "colab": {
          "base_uri": "https://localhost:8080/"
        },
        "id": "TeIDmKorPBRg",
        "outputId": "93ae6eb1-0f37-4e56-fd06-b354477b07fa"
      },
      "source": [
        "# There are three steps to model something with sklearn\n",
        "# 1. Set up the model\n",
        "model = Ridge()\n",
        "# 2. Fit the model\n",
        "model.fit(X_train, y_train)\n",
        "# 3. Get the predictions\n",
        "y_pred = model.predict(X_test) \n",
        "# 4. Get the R^2\n",
        "print(r2_score(y_test, y_pred))\n",
        "# 5. Get the RMSE\n",
        "print(np.sqrt(mean_squared_error(y_test,y_pred))) "
      ],
      "execution_count": 18,
      "outputs": [
        {
          "output_type": "stream",
          "text": [
            "0.5740182242513445\n",
            "0.6468759790407583\n"
          ],
          "name": "stdout"
        }
      ]
    },
    {
      "cell_type": "code",
      "metadata": {
        "colab": {
          "base_uri": "https://localhost:8080/",
          "height": 709
        },
        "id": "of9GharUQNPp",
        "outputId": "127303d7-bfa7-46da-ea56-77dacff9140c"
      },
      "source": [
        "# plot prediction and actual data\n",
        "plt.plot(y_test, y_pred, '.')\n",
        "\n",
        "# plot a line, a perfit predict would all fall on this line\n",
        "x = np.linspace(0, 10, 10)\n",
        "y = x\n",
        "plt.plot(x, y)\n",
        "plt.show()"
      ],
      "execution_count": 19,
      "outputs": [
        {
          "output_type": "display_data",
          "data": {
            "image/png": "[encoded data removed]",
            "text/plain": [
              "<Figure size 1080x864 with 1 Axes>"
            ]
          },
          "metadata": {
            "tags": [],
            "needs_background": "light"
          }
        }
      ]
    },
    {
      "cell_type": "code",
      "metadata": {
        "colab": {
          "base_uri": "https://localhost:8080/"
        },
        "id": "UA1NSNifQaNp",
        "outputId": "c1f70f6c-f277-4f7e-98bd-abb02b445913"
      },
      "source": [
        "# There are three steps to model something with sklearn\n",
        "# 1. Set up the model\n",
        "model = Lasso()\n",
        "# 2. Use fit\n",
        "# 2. Fit the model\n",
        "model.fit(X_train, y_train)\n",
        "# 3. Get the predictions\n",
        "y_pred = model.predict(X_test) \n",
        "# 4. Get the R^2\n",
        "print(r2_score(y_test, y_pred))\n",
        "# 5. Get the RMSE\n",
        "print(np.sqrt(mean_squared_error(y_test,y_pred))) "
      ],
      "execution_count": 20,
      "outputs": [
        {
          "output_type": "stream",
          "text": [
            "-0.006019731947687124\n",
            "0.994097002178065\n"
          ],
          "name": "stdout"
        }
      ]
    },
    {
      "cell_type": "code",
      "metadata": {
        "colab": {
          "base_uri": "https://localhost:8080/",
          "height": 709
        },
        "id": "-o6aPjq6Qq5O",
        "outputId": "03357846-19f7-4b1f-ffb7-db561ae8ff66"
      },
      "source": [
        "# plot prediction and actual data\n",
        "plt.plot(y_test, y_pred, '.')\n",
        "\n",
        "# plot a line, a perfit predict would all fall on this line\n",
        "x = np.linspace(0, 10, 10)\n",
        "y = x\n",
        "plt.plot(x, y)\n",
        "plt.show()"
      ],
      "execution_count": 21,
      "outputs": [
        {
          "output_type": "display_data",
          "data": {
            "image/png": "[encoded data removed]",
            "text/plain": [
              "<Figure size 1080x864 with 1 Axes>"
            ]
          },
          "metadata": {
            "tags": [],
            "needs_background": "light"
          }
        }
      ]
    },
    {
      "cell_type": "code",
      "metadata": {
        "colab": {
          "base_uri": "https://localhost:8080/"
        },
        "id": "RCYdym2-apPE",
        "outputId": "4b5c8422-3d11-4342-8d2d-8c3a34525c53"
      },
      "source": [
        "# There are three steps to model something with sklearn\n",
        "# 1. Set up the model\n",
        "model = DecisionTreeRegressor()\n",
        "# 2. Fit the model\n",
        "model.fit(X_train, y_train)\n",
        "# 3. Get the predictions\n",
        "y_pred = model.predict(X_test) \n",
        "# 4. Get the R^2\n",
        "print(r2_score(y_test, y_pred))\n",
        "# 5. Get the RMSE\n",
        "print(np.sqrt(mean_squared_error(y_test,y_pred))) "
      ],
      "execution_count": 22,
      "outputs": [
        {
          "output_type": "stream",
          "text": [
            "0.36462123527851864\n",
            "0.790026870131705\n"
          ],
          "name": "stdout"
        }
      ]
    },
    {
      "cell_type": "code",
      "metadata": {
        "colab": {
          "base_uri": "https://localhost:8080/",
          "height": 709
        },
        "id": "P_AuFdhHatsJ",
        "outputId": "9cabf57b-5e9d-4608-9b82-60c430320aa6"
      },
      "source": [
        "# plot prediction and actual data\n",
        "plt.plot(y_test, y_pred, '.')\n",
        "\n",
        "# plot a line, a perfit predict would all fall on this line\n",
        "x = np.linspace(0, 10, 10)\n",
        "y = x\n",
        "plt.plot(x, y)\n",
        "plt.show()"
      ],
      "execution_count": 23,
      "outputs": [
        {
          "output_type": "display_data",
          "data": {
            "image/png": "[encoded data removed]",
            "text/plain": [
              "<Figure size 1080x864 with 1 Axes>"
            ]
          },
          "metadata": {
            "tags": [],
            "needs_background": "light"
          }
        }
      ]
    },
    {
      "cell_type": "code",
      "metadata": {
        "colab": {
          "base_uri": "https://localhost:8080/"
        },
        "id": "r-LMyoebQ-e4",
        "outputId": "24dd9d4d-8fac-4f28-a346-ff60b9cacc95"
      },
      "source": [
        "# There are three steps to model something with sklearn\n",
        "# 1. Set up the model\n",
        "model = RandomForestRegressor()\n",
        "# 2. Fit the model\n",
        "model.fit(X_train, y_train)\n",
        "# 3. Get the predictions\n",
        "y_pred = model.predict(X_test) \n",
        "# 4. Get the R^2\n",
        "print(r2_score(y_test, y_pred))\n",
        "# 5. Get the RMSE\n",
        "print(np.sqrt(mean_squared_error(y_test,y_pred))) "
      ],
      "execution_count": 24,
      "outputs": [
        {
          "output_type": "stream",
          "text": [
            "0.6466683838012224\n",
            "0.5891376317392709\n"
          ],
          "name": "stdout"
        }
      ]
    },
    {
      "cell_type": "code",
      "metadata": {
        "colab": {
          "base_uri": "https://localhost:8080/",
          "height": 709
        },
        "id": "R-5e0Qv_ahhs",
        "outputId": "27132ad9-35e2-43b1-cc61-ae0313ceaa76"
      },
      "source": [
        "# plot prediction and actual data\n",
        "plt.plot(y_test, y_pred, '.')\n",
        "\n",
        "# plot a line, a perfit predict would all fall on this line\n",
        "x = np.linspace(0, 10, 10)\n",
        "y = x\n",
        "plt.plot(x, y)\n",
        "plt.show()"
      ],
      "execution_count": 25,
      "outputs": [
        {
          "output_type": "display_data",
          "data": {
            "image/png": "[encoded data removed]",
            "text/plain": [
              "<Figure size 1080x864 with 1 Axes>"
            ]
          },
          "metadata": {
            "tags": [],
            "needs_background": "light"
          }
        }
      ]
    },
    {
      "cell_type": "code",
      "metadata": {
        "colab": {
          "base_uri": "https://localhost:8080/"
        },
        "id": "-pLwE62HamWK",
        "outputId": "3bf2943e-cb16-49ad-d8f1-f31decbcb25f"
      },
      "source": [
        "# There are three steps to model something with sklearn\n",
        "# 1. Set up the model\n",
        "model = SVR(kernel='rbf')\n",
        "# 2. Fit the model\n",
        "model.fit(X_train, y_train)\n",
        "# 3. Get the predictions\n",
        "y_pred = model.predict(X_test) \n",
        "# 4. Get the R^2\n",
        "print(r2_score(y_test, y_pred))\n",
        "# 5. Get the RMSE\n",
        "print(np.sqrt(mean_squared_error(y_test,y_pred))) "
      ],
      "execution_count": 26,
      "outputs": [
        {
          "output_type": "stream",
          "text": [
            "0.6705836286893923\n",
            "0.5688504475153567\n"
          ],
          "name": "stdout"
        }
      ]
    },
    {
      "cell_type": "code",
      "metadata": {
        "colab": {
          "base_uri": "https://localhost:8080/",
          "height": 709
        },
        "id": "0GfJVgZAa4JE",
        "outputId": "1d09ae4a-bb50-4054-8a39-52d35821d438"
      },
      "source": [
        "# plot prediction and actual data\n",
        "plt.plot(y_test, y_pred, '.')\n",
        "\n",
        "# plot a line, a perfit predict would all fall on this line\n",
        "x = np.linspace(0, 10, 10)\n",
        "y = x\n",
        "plt.plot(x, y)\n",
        "plt.show()"
      ],
      "execution_count": 27,
      "outputs": [
        {
          "output_type": "display_data",
          "data": {
            "image/png": "[encoded data removed]",
            "text/plain": [
              "<Figure size 1080x864 with 1 Axes>"
            ]
          },
          "metadata": {
            "tags": [],
            "needs_background": "light"
          }
        }
      ]
    }
  ]
}