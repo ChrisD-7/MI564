{
  "nbformat": 4,
  "nbformat_minor": 0,
  "metadata": {
    "colab": {
      "name": "Regression_Intro.ipynb",
      "provenance": [],
      "authorship_tag": "ABX9TyMW/vWtNIFOYjZQtARPjEtA",
      "include_colab_link": true
    },
    "kernelspec": {
      "name": "python3",
      "display_name": "Python 3"
    }
  },
  "cells": [
    {
      "cell_type": "markdown",
      "metadata": {
        "id": "view-in-github",
        "colab_type": "text"
      },
      "source": [
        "<a href=\"https://colab.research.google.com/github/tawfiqam/MI564/blob/main/Regression_Intro.ipynb\" target=\"_parent\"><img src=\"https://colab.research.google.com/assets/colab-badge.svg\" alt=\"Open In Colab\"/></a>"
      ]
    },
    {
      "cell_type": "markdown",
      "metadata": {
        "id": "TIB1uKXC4amn"
      },
      "source": [
        "#What is the main difference between regression and classification?\n",
        "If you look at the classifier examples shared earlier, you will find that regression models predict a continuous variable as opposed to a class. So, in classifiers, we \"classify\" things so that they are in different classes. We first used a logsitic regression to [classify students](https://github.com/tawfiqam/MI564/blob/main/Logistic_Regression_Classifier_Intro.ipynb) accepted (class 1) to a program and those who are not (class 2). We used a random forest classifier to [differentiate different types of wine](https://github.com/tawfiqam/MI564/blob/main/Random_Forest_Intro.ipynb). We also used a Naive Bayes classifier to [classify posts to two different online communities](https://github.com/tawfiqam/MI564/blob/main/Naive_Bayes_Intro.ipynb).\n",
        "\n",
        "With regression, we will predict a value. As I laid out before, this value represents a continous variable. A continous variable can take on an uncountable set of values. So while classifiers used discrete variables (basically integers - [0,1,2,3]), regression gets us a predicted continous variable - usually including a fraction [0,0.345,100.45]."
      ]
    },
    {
      "cell_type": "markdown",
      "metadata": {
        "id": "D01LhoVy4arI"
      },
      "source": [
        "##Regression Evaluation Metrics\n",
        "\n",
        "Remember that we used evaluation metrics for classifiers including accuracy, precision, recall, F1 score, and ROC curves when working with classifiers. But these will not work here because, again, we are not classifying into discrete groups, but predicting specific numbers. \n",
        "\n",
        "There are two metrics used to evaluate regression models:\n",
        "\n",
        "**R-squared**: R-squared values range between 0 and 1. They are commonly stated as percentages. It is a statistical measure that represents the proportion of the variance for a target variable that is explained by the independent variables. The higher the R-squared the better the model.\n",
        "\n",
        "**Root Mean Squared Error (RMSE)**: measures the average magnitude of the residuals or error. What is the error? This is the difference between our prediction and the actual value. \n",
        "\n",
        "Ideally, lower RMSE and higher R-squared values are indicative of a good model. \n",
        "\n"
      ]
    },
    {
      "cell_type": "code",
      "metadata": {
        "colab": {
          "base_uri": "https://localhost:8080/"
        },
        "id": "kHQhlJFG8ks_",
        "outputId": "af1be2a0-483e-4d2a-a07c-ea8024d61437"
      },
      "source": [
        "# load and summarize the housing dataset\n",
        "from pandas import read_csv\n",
        "from matplotlib import pyplot\n",
        "# load dataset\n",
        "url = 'https://raw.githubusercontent.com/jbrownlee/Datasets/master/housing.csv'\n",
        "dataframe = read_csv(url, header=None)\n",
        "# summarize shape\n",
        "print(dataframe.shape)\n",
        "# summarize first few lines\n",
        "print(dataframe.head())"
      ],
      "execution_count": 1,
      "outputs": [
        {
          "output_type": "stream",
          "text": [
            "(506, 14)\n",
            "        0     1     2   3      4      5   ...  8      9     10      11    12    13\n",
            "0  0.00632  18.0  2.31   0  0.538  6.575  ...   1  296.0  15.3  396.90  4.98  24.0\n",
            "1  0.02731   0.0  7.07   0  0.469  6.421  ...   2  242.0  17.8  396.90  9.14  21.6\n",
            "2  0.02729   0.0  7.07   0  0.469  7.185  ...   2  242.0  17.8  392.83  4.03  34.7\n",
            "3  0.03237   0.0  2.18   0  0.458  6.998  ...   3  222.0  18.7  394.63  2.94  33.4\n",
            "4  0.06905   0.0  2.18   0  0.458  7.147  ...   3  222.0  18.7  396.90  5.33  36.2\n",
            "\n",
            "[5 rows x 14 columns]\n"
          ],
          "name": "stdout"
        }
      ]
    },
    {
      "cell_type": "code",
      "metadata": {
        "id": "Ac4V7O1F-egz"
      },
      "source": [
        "from sklearn.linear_model import Lasso\n",
        "model = Lasso(alpha=1.0)"
      ],
      "execution_count": 2,
      "outputs": []
    },
    {
      "cell_type": "markdown",
      "metadata": {
        "id": "gqVRhYOILPmO"
      },
      "source": [
        "We are going to use the Boston Housing Data in our analysis"
      ]
    },
    {
      "cell_type": "markdown",
      "metadata": {
        "id": "6oNun9NaKwNv"
      },
      "source": [
        "1. Title: Boston Housing Data\n",
        "\n",
        "2. Sources:\n",
        "   (a) Origin:  This dataset was taken from the StatLib library which is maintained at Carnegie Mellon University.\n",
        "   (b) Creator:  Harrison, D. and Rubinfeld, D.L. 'Hedonic prices and the \n",
        "demand for clean air', J. Environ. Economics & Management,\n",
        "vol.5, 81-102, 1978.\n",
        "   (c) Date: July 7, 1993\n",
        "\n",
        "3. Past Usage:\n",
        "   -   Used in Belsley, Kuh & Welsch, 'Regression diagnostics ...', Wiley, \n",
        "       1980.   N.B. Various transformations are used in the table on\n",
        "       pages 244-261.\n",
        "    -  Quinlan,R. (1993). Combining Instance-Based and Model-Based Learning.\n",
        "       In Proceedings on the Tenth International Conference of Machine \n",
        "       Learning, 236-243, University of Massachusetts, Amherst. Morgan\n",
        "       Kaufmann.\n",
        "\n",
        "4. Relevant Information:\n",
        "\n",
        "   Concerns housing values in suburbs of Boston.\n",
        "\n",
        "5. Number of Instances: 506\n",
        "\n",
        "6. Number of Attributes: 13 continuous attributes (including \"class\" attribute \"MEDV\"), 1 binary-valued attribute.\n",
        "\n",
        "7. Attribute Information:\n",
        "    0. CRIM      per capita crime rate by town\n",
        "    1. ZN        proportion of residential land zoned for lots over 25,000 sq.ft.\n",
        "    2. INDUS     proportion of non-retail business acres per town\n",
        "    3. CHAS      Charles River dummy variable (= 1 if tract bounds river; 0 otherwise)\n",
        "    4. NOX       nitric oxides concentration (parts per 10 million)\n",
        "    5. RM        average number of rooms per dwelling\n",
        "    6. AGE       proportion of owner-occupied units built prior to 1940\n",
        "    7. DIS       weighted distances to five Boston employment centres\n",
        "    8. RAD       index of accessibility to radial highways\n",
        "    9. TAX      full-value property-tax rate per $10,000\n",
        "    10. PTRATIO  pupil-teacher ratio by town\n",
        "    11. B        1000(Bk - 0.63)^2 where Bk is the proportion of blacks \n",
        "by town\n",
        "    12. LSTAT    % lower status of the population\n",
        "    13. MEDV     Median value of owner-occupied homes in $1000's\n",
        "\n",
        "8. Missing Attribute Values:  None."
      ]
    },
    {
      "cell_type": "code",
      "metadata": {
        "id": "YP2R3_7oiPuG"
      },
      "source": [
        "import numpy as np\n",
        "import pandas as pd\n",
        "#import the R^2 metric\n",
        "from sklearn.metrics import r2_score\n",
        "#import the mean_square_error metric\n",
        "from sklearn.metrics import mean_squared_error\n",
        "\n",
        "#import the SVM regressor\n",
        "from sklearn.svm import SVR\n",
        "#import the Ridge regressor\n",
        "from sklearn.linear_model import Ridge\n",
        "#import the Lasso regressor\n",
        "from sklearn.linear_model import Lasso\n",
        "#import the Decision Tree regressor\n",
        "from sklearn.tree import DecisionTreeRegressor\n",
        "#import the linear regressor\n",
        "from sklearn.linear_model import LinearRegression\n",
        "#import the Random Forest regressor\n",
        "from sklearn.ensemble import RandomForestRegressor\n",
        "\n",
        "#import matplotlib for graphing\n",
        "import matplotlib.pyplot as plt\n",
        "plt.rcParams.update({'font.size':20,'figure.figsize':(15,12)})\n",
        "\n",
        "# load the dataset\n",
        "# this url holds a dataset saved as a csv\n",
        "url = 'https://raw.githubusercontent.com/jbrownlee/Datasets/master/housing.csv'\n",
        "\n",
        "df = pd.read_csv(url, header=None)"
      ],
      "execution_count": 3,
      "outputs": []
    },
    {
      "cell_type": "code",
      "metadata": {
        "colab": {
          "base_uri": "https://localhost:8080/",
          "height": 300
        },
        "id": "ouv3OMvLOliD",
        "outputId": "f880d8c4-9adb-437c-cb99-13afb1d15422"
      },
      "source": [
        "#let's take a look at the dataset\n",
        "df.describe()"
      ],
      "execution_count": 4,
      "outputs": [
        {
          "output_type": "execute_result",
          "data": {
            "text/html": [
              "<div>\n",
              "<style scoped>\n",
              "    .dataframe tbody tr th:only-of-type {\n",
              "        vertical-align: middle;\n",
              "    }\n",
              "\n",
              "    .dataframe tbody tr th {\n",
              "        vertical-align: top;\n",
              "    }\n",
              "\n",
              "    .dataframe thead th {\n",
              "        text-align: right;\n",
              "    }\n",
              "</style>\n",
              "<table border=\"1\" class=\"dataframe\">\n",
              "  <thead>\n",
              "    <tr style=\"text-align: right;\">\n",
              "      <th></th>\n",
              "      <th>0</th>\n",
              "      <th>1</th>\n",
              "      <th>2</th>\n",
              "      <th>3</th>\n",
              "      <th>4</th>\n",
              "      <th>5</th>\n",
              "      <th>6</th>\n",
              "      <th>7</th>\n",
              "      <th>8</th>\n",
              "      <th>9</th>\n",
              "      <th>10</th>\n",
              "      <th>11</th>\n",
              "      <th>12</th>\n",
              "      <th>13</th>\n",
              "    </tr>\n",
              "  </thead>\n",
              "  <tbody>\n",
              "    <tr>\n",
              "      <th>count</th>\n",
              "      <td>506.000000</td>\n",
              "      <td>506.000000</td>\n",
              "      <td>506.000000</td>\n",
              "      <td>506.000000</td>\n",
              "      <td>506.000000</td>\n",
              "      <td>506.000000</td>\n",
              "      <td>506.000000</td>\n",
              "      <td>506.000000</td>\n",
              "      <td>506.000000</td>\n",
              "      <td>506.000000</td>\n",
              "      <td>506.000000</td>\n",
              "      <td>506.000000</td>\n",
              "      <td>506.000000</td>\n",
              "      <td>506.000000</td>\n",
              "    </tr>\n",
              "    <tr>\n",
              "      <th>mean</th>\n",
              "      <td>3.613524</td>\n",
              "      <td>11.363636</td>\n",
              "      <td>11.136779</td>\n",
              "      <td>0.069170</td>\n",
              "      <td>0.554695</td>\n",
              "      <td>6.284634</td>\n",
              "      <td>68.574901</td>\n",
              "      <td>3.795043</td>\n",
              "      <td>9.549407</td>\n",
              "      <td>408.237154</td>\n",
              "      <td>18.455534</td>\n",
              "      <td>356.674032</td>\n",
              "      <td>12.653063</td>\n",
              "      <td>22.532806</td>\n",
              "    </tr>\n",
              "    <tr>\n",
              "      <th>std</th>\n",
              "      <td>8.601545</td>\n",
              "      <td>23.322453</td>\n",
              "      <td>6.860353</td>\n",
              "      <td>0.253994</td>\n",
              "      <td>0.115878</td>\n",
              "      <td>0.702617</td>\n",
              "      <td>28.148861</td>\n",
              "      <td>2.105710</td>\n",
              "      <td>8.707259</td>\n",
              "      <td>168.537116</td>\n",
              "      <td>2.164946</td>\n",
              "      <td>91.294864</td>\n",
              "      <td>7.141062</td>\n",
              "      <td>9.197104</td>\n",
              "    </tr>\n",
              "    <tr>\n",
              "      <th>min</th>\n",
              "      <td>0.006320</td>\n",
              "      <td>0.000000</td>\n",
              "      <td>0.460000</td>\n",
              "      <td>0.000000</td>\n",
              "      <td>0.385000</td>\n",
              "      <td>3.561000</td>\n",
              "      <td>2.900000</td>\n",
              "      <td>1.129600</td>\n",
              "      <td>1.000000</td>\n",
              "      <td>187.000000</td>\n",
              "      <td>12.600000</td>\n",
              "      <td>0.320000</td>\n",
              "      <td>1.730000</td>\n",
              "      <td>5.000000</td>\n",
              "    </tr>\n",
              "    <tr>\n",
              "      <th>25%</th>\n",
              "      <td>0.082045</td>\n",
              "      <td>0.000000</td>\n",
              "      <td>5.190000</td>\n",
              "      <td>0.000000</td>\n",
              "      <td>0.449000</td>\n",
              "      <td>5.885500</td>\n",
              "      <td>45.025000</td>\n",
              "      <td>2.100175</td>\n",
              "      <td>4.000000</td>\n",
              "      <td>279.000000</td>\n",
              "      <td>17.400000</td>\n",
              "      <td>375.377500</td>\n",
              "      <td>6.950000</td>\n",
              "      <td>17.025000</td>\n",
              "    </tr>\n",
              "    <tr>\n",
              "      <th>50%</th>\n",
              "      <td>0.256510</td>\n",
              "      <td>0.000000</td>\n",
              "      <td>9.690000</td>\n",
              "      <td>0.000000</td>\n",
              "      <td>0.538000</td>\n",
              "      <td>6.208500</td>\n",
              "      <td>77.500000</td>\n",
              "      <td>3.207450</td>\n",
              "      <td>5.000000</td>\n",
              "      <td>330.000000</td>\n",
              "      <td>19.050000</td>\n",
              "      <td>391.440000</td>\n",
              "      <td>11.360000</td>\n",
              "      <td>21.200000</td>\n",
              "    </tr>\n",
              "    <tr>\n",
              "      <th>75%</th>\n",
              "      <td>3.677082</td>\n",
              "      <td>12.500000</td>\n",
              "      <td>18.100000</td>\n",
              "      <td>0.000000</td>\n",
              "      <td>0.624000</td>\n",
              "      <td>6.623500</td>\n",
              "      <td>94.075000</td>\n",
              "      <td>5.188425</td>\n",
              "      <td>24.000000</td>\n",
              "      <td>666.000000</td>\n",
              "      <td>20.200000</td>\n",
              "      <td>396.225000</td>\n",
              "      <td>16.955000</td>\n",
              "      <td>25.000000</td>\n",
              "    </tr>\n",
              "    <tr>\n",
              "      <th>max</th>\n",
              "      <td>88.976200</td>\n",
              "      <td>100.000000</td>\n",
              "      <td>27.740000</td>\n",
              "      <td>1.000000</td>\n",
              "      <td>0.871000</td>\n",
              "      <td>8.780000</td>\n",
              "      <td>100.000000</td>\n",
              "      <td>12.126500</td>\n",
              "      <td>24.000000</td>\n",
              "      <td>711.000000</td>\n",
              "      <td>22.000000</td>\n",
              "      <td>396.900000</td>\n",
              "      <td>37.970000</td>\n",
              "      <td>50.000000</td>\n",
              "    </tr>\n",
              "  </tbody>\n",
              "</table>\n",
              "</div>"
            ],
            "text/plain": [
              "               0           1           2   ...          11          12          13\n",
              "count  506.000000  506.000000  506.000000  ...  506.000000  506.000000  506.000000\n",
              "mean     3.613524   11.363636   11.136779  ...  356.674032   12.653063   22.532806\n",
              "std      8.601545   23.322453    6.860353  ...   91.294864    7.141062    9.197104\n",
              "min      0.006320    0.000000    0.460000  ...    0.320000    1.730000    5.000000\n",
              "25%      0.082045    0.000000    5.190000  ...  375.377500    6.950000   17.025000\n",
              "50%      0.256510    0.000000    9.690000  ...  391.440000   11.360000   21.200000\n",
              "75%      3.677082   12.500000   18.100000  ...  396.225000   16.955000   25.000000\n",
              "max     88.976200  100.000000   27.740000  ...  396.900000   37.970000   50.000000\n",
              "\n",
              "[8 rows x 14 columns]"
            ]
          },
          "metadata": {
            "tags": []
          },
          "execution_count": 4
        }
      ]
    },
    {
      "cell_type": "code",
      "metadata": {
        "id": "0-ULxH6kPLer"
      },
      "source": [
        "#now break it down to data (the features or predictors)\n",
        "data = df[df.columns[0:12]]\n",
        "#and the target, which in this case is 13\n",
        "#MEDV Median value of owner-occupied homes in $1000's\n",
        "target = df[df.columns[13]]"
      ],
      "execution_count": 5,
      "outputs": []
    },
    {
      "cell_type": "code",
      "metadata": {
        "colab": {
          "base_uri": "https://localhost:8080/",
          "height": 300
        },
        "id": "IIpSymJ0Pmrc",
        "outputId": "c2abab9b-e09d-43fd-a248-89986f5a6ea5"
      },
      "source": [
        "#Now let's take a look at our features\n",
        "data.describe()"
      ],
      "execution_count": 6,
      "outputs": [
        {
          "output_type": "execute_result",
          "data": {
            "text/html": [
              "<div>\n",
              "<style scoped>\n",
              "    .dataframe tbody tr th:only-of-type {\n",
              "        vertical-align: middle;\n",
              "    }\n",
              "\n",
              "    .dataframe tbody tr th {\n",
              "        vertical-align: top;\n",
              "    }\n",
              "\n",
              "    .dataframe thead th {\n",
              "        text-align: right;\n",
              "    }\n",
              "</style>\n",
              "<table border=\"1\" class=\"dataframe\">\n",
              "  <thead>\n",
              "    <tr style=\"text-align: right;\">\n",
              "      <th></th>\n",
              "      <th>0</th>\n",
              "      <th>1</th>\n",
              "      <th>2</th>\n",
              "      <th>3</th>\n",
              "      <th>4</th>\n",
              "      <th>5</th>\n",
              "      <th>6</th>\n",
              "      <th>7</th>\n",
              "      <th>8</th>\n",
              "      <th>9</th>\n",
              "      <th>10</th>\n",
              "      <th>11</th>\n",
              "    </tr>\n",
              "  </thead>\n",
              "  <tbody>\n",
              "    <tr>\n",
              "      <th>count</th>\n",
              "      <td>506.000000</td>\n",
              "      <td>506.000000</td>\n",
              "      <td>506.000000</td>\n",
              "      <td>506.000000</td>\n",
              "      <td>506.000000</td>\n",
              "      <td>506.000000</td>\n",
              "      <td>506.000000</td>\n",
              "      <td>506.000000</td>\n",
              "      <td>506.000000</td>\n",
              "      <td>506.000000</td>\n",
              "      <td>506.000000</td>\n",
              "      <td>506.000000</td>\n",
              "    </tr>\n",
              "    <tr>\n",
              "      <th>mean</th>\n",
              "      <td>3.613524</td>\n",
              "      <td>11.363636</td>\n",
              "      <td>11.136779</td>\n",
              "      <td>0.069170</td>\n",
              "      <td>0.554695</td>\n",
              "      <td>6.284634</td>\n",
              "      <td>68.574901</td>\n",
              "      <td>3.795043</td>\n",
              "      <td>9.549407</td>\n",
              "      <td>408.237154</td>\n",
              "      <td>18.455534</td>\n",
              "      <td>356.674032</td>\n",
              "    </tr>\n",
              "    <tr>\n",
              "      <th>std</th>\n",
              "      <td>8.601545</td>\n",
              "      <td>23.322453</td>\n",
              "      <td>6.860353</td>\n",
              "      <td>0.253994</td>\n",
              "      <td>0.115878</td>\n",
              "      <td>0.702617</td>\n",
              "      <td>28.148861</td>\n",
              "      <td>2.105710</td>\n",
              "      <td>8.707259</td>\n",
              "      <td>168.537116</td>\n",
              "      <td>2.164946</td>\n",
              "      <td>91.294864</td>\n",
              "    </tr>\n",
              "    <tr>\n",
              "      <th>min</th>\n",
              "      <td>0.006320</td>\n",
              "      <td>0.000000</td>\n",
              "      <td>0.460000</td>\n",
              "      <td>0.000000</td>\n",
              "      <td>0.385000</td>\n",
              "      <td>3.561000</td>\n",
              "      <td>2.900000</td>\n",
              "      <td>1.129600</td>\n",
              "      <td>1.000000</td>\n",
              "      <td>187.000000</td>\n",
              "      <td>12.600000</td>\n",
              "      <td>0.320000</td>\n",
              "    </tr>\n",
              "    <tr>\n",
              "      <th>25%</th>\n",
              "      <td>0.082045</td>\n",
              "      <td>0.000000</td>\n",
              "      <td>5.190000</td>\n",
              "      <td>0.000000</td>\n",
              "      <td>0.449000</td>\n",
              "      <td>5.885500</td>\n",
              "      <td>45.025000</td>\n",
              "      <td>2.100175</td>\n",
              "      <td>4.000000</td>\n",
              "      <td>279.000000</td>\n",
              "      <td>17.400000</td>\n",
              "      <td>375.377500</td>\n",
              "    </tr>\n",
              "    <tr>\n",
              "      <th>50%</th>\n",
              "      <td>0.256510</td>\n",
              "      <td>0.000000</td>\n",
              "      <td>9.690000</td>\n",
              "      <td>0.000000</td>\n",
              "      <td>0.538000</td>\n",
              "      <td>6.208500</td>\n",
              "      <td>77.500000</td>\n",
              "      <td>3.207450</td>\n",
              "      <td>5.000000</td>\n",
              "      <td>330.000000</td>\n",
              "      <td>19.050000</td>\n",
              "      <td>391.440000</td>\n",
              "    </tr>\n",
              "    <tr>\n",
              "      <th>75%</th>\n",
              "      <td>3.677082</td>\n",
              "      <td>12.500000</td>\n",
              "      <td>18.100000</td>\n",
              "      <td>0.000000</td>\n",
              "      <td>0.624000</td>\n",
              "      <td>6.623500</td>\n",
              "      <td>94.075000</td>\n",
              "      <td>5.188425</td>\n",
              "      <td>24.000000</td>\n",
              "      <td>666.000000</td>\n",
              "      <td>20.200000</td>\n",
              "      <td>396.225000</td>\n",
              "    </tr>\n",
              "    <tr>\n",
              "      <th>max</th>\n",
              "      <td>88.976200</td>\n",
              "      <td>100.000000</td>\n",
              "      <td>27.740000</td>\n",
              "      <td>1.000000</td>\n",
              "      <td>0.871000</td>\n",
              "      <td>8.780000</td>\n",
              "      <td>100.000000</td>\n",
              "      <td>12.126500</td>\n",
              "      <td>24.000000</td>\n",
              "      <td>711.000000</td>\n",
              "      <td>22.000000</td>\n",
              "      <td>396.900000</td>\n",
              "    </tr>\n",
              "  </tbody>\n",
              "</table>\n",
              "</div>"
            ],
            "text/plain": [
              "               0           1           2   ...          9           10          11\n",
              "count  506.000000  506.000000  506.000000  ...  506.000000  506.000000  506.000000\n",
              "mean     3.613524   11.363636   11.136779  ...  408.237154   18.455534  356.674032\n",
              "std      8.601545   23.322453    6.860353  ...  168.537116    2.164946   91.294864\n",
              "min      0.006320    0.000000    0.460000  ...  187.000000   12.600000    0.320000\n",
              "25%      0.082045    0.000000    5.190000  ...  279.000000   17.400000  375.377500\n",
              "50%      0.256510    0.000000    9.690000  ...  330.000000   19.050000  391.440000\n",
              "75%      3.677082   12.500000   18.100000  ...  666.000000   20.200000  396.225000\n",
              "max     88.976200  100.000000   27.740000  ...  711.000000   22.000000  396.900000\n",
              "\n",
              "[8 rows x 12 columns]"
            ]
          },
          "metadata": {
            "tags": []
          },
          "execution_count": 6
        }
      ]
    },
    {
      "cell_type": "code",
      "metadata": {
        "colab": {
          "base_uri": "https://localhost:8080/"
        },
        "id": "SKd6Uky1PojZ",
        "outputId": "078b7350-de27-4668-f546-fc7ab5f6fac7"
      },
      "source": [
        "#and our targets\n",
        "target[0:5]"
      ],
      "execution_count": 7,
      "outputs": [
        {
          "output_type": "execute_result",
          "data": {
            "text/plain": [
              "0    24.0\n",
              "1    21.6\n",
              "2    34.7\n",
              "3    33.4\n",
              "4    36.2\n",
              "Name: 13, dtype: float64"
            ]
          },
          "metadata": {
            "tags": []
          },
          "execution_count": 7
        }
      ]
    },
    {
      "cell_type": "code",
      "metadata": {
        "id": "ndQMCIERPCPO"
      },
      "source": [
        "# Separate train and test data\n",
        "from sklearn.model_selection import train_test_split\n",
        "X_train, X_test, y_train, y_test = train_test_split(data, target, test_size=0.3, random_state=0)"
      ],
      "execution_count": 8,
      "outputs": []
    },
    {
      "cell_type": "code",
      "metadata": {
        "colab": {
          "base_uri": "https://localhost:8080/",
          "height": 112
        },
        "id": "aYBC_ENiepyy",
        "outputId": "164a12ce-1317-4b09-e44a-b1f8e3d0aa5f"
      },
      "source": [
        "X_train[0:2]"
      ],
      "execution_count": 9,
      "outputs": [
        {
          "output_type": "execute_result",
          "data": {
            "text/html": [
              "<div>\n",
              "<style scoped>\n",
              "    .dataframe tbody tr th:only-of-type {\n",
              "        vertical-align: middle;\n",
              "    }\n",
              "\n",
              "    .dataframe tbody tr th {\n",
              "        vertical-align: top;\n",
              "    }\n",
              "\n",
              "    .dataframe thead th {\n",
              "        text-align: right;\n",
              "    }\n",
              "</style>\n",
              "<table border=\"1\" class=\"dataframe\">\n",
              "  <thead>\n",
              "    <tr style=\"text-align: right;\">\n",
              "      <th></th>\n",
              "      <th>0</th>\n",
              "      <th>1</th>\n",
              "      <th>2</th>\n",
              "      <th>3</th>\n",
              "      <th>4</th>\n",
              "      <th>5</th>\n",
              "      <th>6</th>\n",
              "      <th>7</th>\n",
              "      <th>8</th>\n",
              "      <th>9</th>\n",
              "      <th>10</th>\n",
              "      <th>11</th>\n",
              "    </tr>\n",
              "  </thead>\n",
              "  <tbody>\n",
              "    <tr>\n",
              "      <th>141</th>\n",
              "      <td>1.62864</td>\n",
              "      <td>0.0</td>\n",
              "      <td>21.89</td>\n",
              "      <td>0</td>\n",
              "      <td>0.624</td>\n",
              "      <td>5.019</td>\n",
              "      <td>100.0</td>\n",
              "      <td>1.4394</td>\n",
              "      <td>4</td>\n",
              "      <td>437.0</td>\n",
              "      <td>21.2</td>\n",
              "      <td>396.90</td>\n",
              "    </tr>\n",
              "    <tr>\n",
              "      <th>272</th>\n",
              "      <td>0.11460</td>\n",
              "      <td>20.0</td>\n",
              "      <td>6.96</td>\n",
              "      <td>0</td>\n",
              "      <td>0.464</td>\n",
              "      <td>6.538</td>\n",
              "      <td>58.7</td>\n",
              "      <td>3.9175</td>\n",
              "      <td>3</td>\n",
              "      <td>223.0</td>\n",
              "      <td>18.6</td>\n",
              "      <td>394.96</td>\n",
              "    </tr>\n",
              "  </tbody>\n",
              "</table>\n",
              "</div>"
            ],
            "text/plain": [
              "          0     1      2   3      4   ...      7   8      9     10      11\n",
              "141  1.62864   0.0  21.89   0  0.624  ...  1.4394   4  437.0  21.2  396.90\n",
              "272  0.11460  20.0   6.96   0  0.464  ...  3.9175   3  223.0  18.6  394.96\n",
              "\n",
              "[2 rows x 12 columns]"
            ]
          },
          "metadata": {
            "tags": []
          },
          "execution_count": 9
        }
      ]
    },
    {
      "cell_type": "code",
      "metadata": {
        "colab": {
          "base_uri": "https://localhost:8080/"
        },
        "id": "-5SlEoGZi9XD",
        "outputId": "e8cd8b61-04c6-4736-a1dd-0f1182f43a15"
      },
      "source": [
        "y_train[0:5]"
      ],
      "execution_count": 10,
      "outputs": [
        {
          "output_type": "execute_result",
          "data": {
            "text/plain": [
              "141    14.4\n",
              "272    24.4\n",
              "135    18.1\n",
              "298    22.5\n",
              "122    20.5\n",
              "Name: 13, dtype: float64"
            ]
          },
          "metadata": {
            "tags": []
          },
          "execution_count": 10
        }
      ]
    },
    {
      "cell_type": "code",
      "metadata": {
        "id": "VyfHyav7bR87"
      },
      "source": [
        "#Since the features are of different magnitudes (e.g., crime per capita and average # of rooms in a house)\n",
        "#so, we use the sklearn scaling function\n",
        "#if you want to know more, you can check this forum: https://towardsdatascience.com/preprocessing-with-sklearn-a-complete-and-comprehensive-guide-670cb98fcfb9\n",
        "from sklearn.preprocessing import StandardScaler\n",
        "sc = StandardScaler()\n",
        "#note that the training and testing data are scaled separetely so\n",
        "#they don't affect each other. You do not want the training data to leak to the test data\n",
        "X_train = sc.fit_transform(X_train)\n",
        "X_test = sc.fit_transform(X_test)"
      ],
      "execution_count": 11,
      "outputs": []
    },
    {
      "cell_type": "code",
      "metadata": {
        "colab": {
          "base_uri": "https://localhost:8080/"
        },
        "id": "PT7O9SSeeHXJ",
        "outputId": "fa6aa563-d681-4e77-de17-5ef8df2b3ade"
      },
      "source": [
        "X_train[0:2]"
      ],
      "execution_count": 12,
      "outputs": [
        {
          "output_type": "execute_result",
          "data": {
            "text/plain": [
              "array([[-0.20735619, -0.49997924,  1.54801583, -0.26360274,  0.58821309,\n",
              "        -1.83936729,  1.10740225, -1.1251102 , -0.61816013,  0.20673466,\n",
              "         1.2272573 ,  0.42454294],\n",
              "       [-0.38886492,  0.34677427, -0.58974728, -0.26360274, -0.79782145,\n",
              "         0.32748658, -0.36766106,  0.07509   , -0.73363701, -1.04949303,\n",
              "         0.05696346,  0.40185312]])"
            ]
          },
          "metadata": {
            "tags": []
          },
          "execution_count": 12
        }
      ]
    },
    {
      "cell_type": "code",
      "metadata": {
        "id": "31XQ8qj3eznw"
      },
      "source": [
        "# create target scaler object\n",
        "# Now, let's scale our target, the median value of the house in 1000s\n",
        "target_scaler = StandardScaler()\n",
        "#we need to reshape because this is one variable\n",
        "target_scaler.fit(y_train.to_numpy().reshape(-1,1))\n",
        "y_train = target_scaler.transform(y_train.to_numpy().reshape(-1,1))\n",
        "y_test = target_scaler.transform(y_test.to_numpy().reshape(-1,1))"
      ],
      "execution_count": 13,
      "outputs": []
    },
    {
      "cell_type": "code",
      "metadata": {
        "colab": {
          "base_uri": "https://localhost:8080/"
        },
        "id": "igJmFVI8jImD",
        "outputId": "8d667583-fafe-40f0-bfb5-c7640b8d038f"
      },
      "source": [
        "y_train[0:5]"
      ],
      "execution_count": 14,
      "outputs": [
        {
          "output_type": "execute_result",
          "data": {
            "text/plain": [
              "array([[-0.90645092],\n",
              "       [ 0.17970697],\n",
              "       [-0.5045725 ],\n",
              "       [-0.02666303],\n",
              "       [-0.24389461]])"
            ]
          },
          "metadata": {
            "tags": []
          },
          "execution_count": 14
        }
      ]
    },
    {
      "cell_type": "code",
      "metadata": {
        "id": "6s4RXDgTkZmK"
      },
      "source": [
        "#now let's fit all the numbers into one array using the ravel function\n",
        "y_train = y_train.ravel()\n",
        "y_test = y_test.ravel()"
      ],
      "execution_count": 15,
      "outputs": []
    },
    {
      "cell_type": "code",
      "metadata": {
        "colab": {
          "base_uri": "https://localhost:8080/"
        },
        "id": "-B8fjh6Dvff6",
        "outputId": "e152c6de-9aac-4bf8-f12c-4946910c83d9"
      },
      "source": [
        "y_train[0:5]"
      ],
      "execution_count": 16,
      "outputs": [
        {
          "output_type": "execute_result",
          "data": {
            "text/plain": [
              "array([-0.90645092,  0.17970697, -0.5045725 , -0.02666303, -0.24389461])"
            ]
          },
          "metadata": {
            "tags": []
          },
          "execution_count": 16
        }
      ]
    },
    {
      "cell_type": "markdown",
      "metadata": {
        "id": "XHidG6INtFaf"
      },
      "source": [
        "##Linear Regression\n",
        "\n",
        "Mean Square Error (MSE) is the most commonly used regression loss function. MSE is the sum of squared distances between our target variable and predicted values.\n",
        "![Figura0.jpg](data:image/jpeg;base64,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)"
      ]
    },
    {
      "cell_type": "markdown",
      "metadata": {
        "id": "RyxaFumgwVZS"
      },
      "source": [
        "So, in the figure above, the MSE is the sum of the squared distances (residuals or errors) colored in grey. The lower the number, the lower error, thus the better model"
      ]
    },
    {
      "cell_type": "code",
      "metadata": {
        "colab": {
          "base_uri": "https://localhost:8080/"
        },
        "id": "Ckrk0f_tPtKb",
        "outputId": "c57a023f-f223-4b78-a6ed-8265bde3691c"
      },
      "source": [
        "# There are three steps to model something with sklearn\n",
        "# 1. Set up the model\n",
        "model = LinearRegression()\n",
        "# 2. Fit the model\n",
        "model.fit(X_train, y_train)\n",
        "# 3. Get the predictions\n",
        "y_pred = model.predict(X_test) \n",
        "# 4. Get the R^2\n",
        "print(r2_score(y_test, y_pred))\n",
        "# 5. Get the RMSE\n",
        "print(np.sqrt(mean_squared_error(y_test,y_pred))) "
      ],
      "execution_count": 17,
      "outputs": [
        {
          "output_type": "stream",
          "text": [
            "0.5744787579615156\n",
            "0.6465262120165035\n"
          ],
          "name": "stdout"
        }
      ]
    },
    {
      "cell_type": "code",
      "metadata": {
        "colab": {
          "base_uri": "https://localhost:8080/",
          "height": 709
        },
        "id": "MC39AO2vOmKz",
        "outputId": "86479cf5-3f7e-49cc-9385-a977b0094334"
      },
      "source": [
        "# plot prediction and actual data\n",
        "plt.plot(y_test, y_pred, '.')\n",
        "\n",
        "# plot a line, a perfit predict would all fall on this line\n",
        "x = np.linspace(0, 6, 6)\n",
        "y = x\n",
        "plt.plot(x, y)\n",
        "plt.show()"
      ],
      "execution_count": 18,
      "outputs": [
        {
          "output_type": "display_data",
          "data": {
            "image/png": "[encoded data removed]",
            "text/plain": [
              "<Figure size 1080x864 with 1 Axes>"
            ]
          },
          "metadata": {
            "tags": [],
            "needs_background": "light"
          }
        }
      ]
    },
    {
      "cell_type": "markdown",
      "metadata": {
        "id": "H2thp3O2tJ3W"
      },
      "source": [
        "##Ridge Regression\n",
        "\n",
        "Ridge regression is particularly useful to mitigate the problem of multicollinearity in linear regression, which commonly occurs in models with large numbers of parameters. \n",
        "\n",
        "Source:\n",
        "https://en.wikipedia.org/wiki/Tikhonov_regularization"
      ]
    },
    {
      "cell_type": "code",
      "metadata": {
        "colab": {
          "base_uri": "https://localhost:8080/"
        },
        "id": "TeIDmKorPBRg",
        "outputId": "77f17cc5-92b3-4976-8174-02218523b996"
      },
      "source": [
        "# There are three steps to model something with sklearn\n",
        "# 1. Set up the model\n",
        "model = Ridge()\n",
        "# 2. Fit the model\n",
        "model.fit(X_train, y_train)\n",
        "# 3. Get the predictions\n",
        "y_pred = model.predict(X_test) \n",
        "# 4. Get the R^2\n",
        "print(r2_score(y_test, y_pred))\n",
        "# 5. Get the RMSE\n",
        "print(np.sqrt(mean_squared_error(y_test,y_pred))) "
      ],
      "execution_count": 19,
      "outputs": [
        {
          "output_type": "stream",
          "text": [
            "0.5740182242513445\n",
            "0.6468759790407583\n"
          ],
          "name": "stdout"
        }
      ]
    },
    {
      "cell_type": "code",
      "metadata": {
        "colab": {
          "base_uri": "https://localhost:8080/",
          "height": 709
        },
        "id": "of9GharUQNPp",
        "outputId": "9693912b-2f1a-4e91-aebf-819cde3e5595"
      },
      "source": [
        "# plot prediction and actual data\n",
        "plt.plot(y_test, y_pred, '.')\n",
        "\n",
        "# plot a line, a perfit predict would all fall on this line\n",
        "x = np.linspace(0, 10, 10)\n",
        "y = x\n",
        "plt.plot(x, y)\n",
        "plt.show()"
      ],
      "execution_count": 20,
      "outputs": [
        {
          "output_type": "display_data",
          "data": {
            "image/png": "[encoded data removed]",
            "text/plain": [
              "<Figure size 1080x864 with 1 Axes>"
            ]
          },
          "metadata": {
            "tags": [],
            "needs_background": "light"
          }
        }
      ]
    },
    {
      "cell_type": "markdown",
      "metadata": {
        "id": "8RoCOzbatN8H"
      },
      "source": [
        "##Lasso Regression\n",
        "\n",
        "This model solves a regression model where the loss function is the linear least squares function and regularization is given by the l2-norm. \n",
        "\n",
        "The regularization is a penalty applied to the features. Basically, this is a penalty added to make sure that the regression does not overfit. \n",
        "\n",
        "Source:\n",
        "https://scikit-learn.org/stable/modules/generated/sklearn.linear_model.Ridge.html"
      ]
    },
    {
      "cell_type": "code",
      "metadata": {
        "colab": {
          "base_uri": "https://localhost:8080/"
        },
        "id": "UA1NSNifQaNp",
        "outputId": "94646fed-31c1-4a58-b631-e708d1b338fe"
      },
      "source": [
        "# There are three steps to model something with sklearn\n",
        "# 1. Set up the model\n",
        "model = Lasso()\n",
        "# 2. Use fit\n",
        "# 2. Fit the model\n",
        "model.fit(X_train, y_train)\n",
        "# 3. Get the predictions\n",
        "y_pred = model.predict(X_test) \n",
        "# 4. Get the R^2\n",
        "print(r2_score(y_test, y_pred))\n",
        "# 5. Get the RMSE\n",
        "print(np.sqrt(mean_squared_error(y_test,y_pred))) "
      ],
      "execution_count": 21,
      "outputs": [
        {
          "output_type": "stream",
          "text": [
            "-0.006019731947687124\n",
            "0.994097002178065\n"
          ],
          "name": "stdout"
        }
      ]
    },
    {
      "cell_type": "code",
      "metadata": {
        "colab": {
          "base_uri": "https://localhost:8080/",
          "height": 709
        },
        "id": "-o6aPjq6Qq5O",
        "outputId": "73fa8125-db7a-476a-ec62-28742ba8e3ce"
      },
      "source": [
        "# plot prediction and actual data\n",
        "plt.plot(y_test, y_pred, '.')\n",
        "\n",
        "# plot a line, a perfit predict would all fall on this line\n",
        "x = np.linspace(0, 10, 10)\n",
        "y = x\n",
        "plt.plot(x, y)\n",
        "plt.show()"
      ],
      "execution_count": 22,
      "outputs": [
        {
          "output_type": "display_data",
          "data": {
            "image/png": "[encoded data removed]",
            "text/plain": [
              "<Figure size 1080x864 with 1 Axes>"
            ]
          },
          "metadata": {
            "tags": [],
            "needs_background": "light"
          }
        }
      ]
    },
    {
      "cell_type": "markdown",
      "metadata": {
        "id": "MUO1C9srtRok"
      },
      "source": [
        "##Decision Tree Regressor"
      ]
    },
    {
      "cell_type": "markdown",
      "metadata": {
        "id": "9i1FC5qmxlvs"
      },
      "source": [
        "Remember when we introduced the [Decision Tree Classifier](https://github.com/tawfiqam/MI564/blob/main/Decision_Tree_Intro.ipynb) last week, we talked about it can be used for classification or regression. "
      ]
    },
    {
      "cell_type": "code",
      "metadata": {
        "colab": {
          "base_uri": "https://localhost:8080/"
        },
        "id": "RCYdym2-apPE",
        "outputId": "af9fa6c4-aefc-49f0-ddeb-4d3187fa864f"
      },
      "source": [
        "# There are three steps to model something with sklearn\n",
        "# 1. Set up the model\n",
        "model = DecisionTreeRegressor()\n",
        "# 2. Fit the model\n",
        "model.fit(X_train, y_train)\n",
        "# 3. Get the predictions\n",
        "y_pred = model.predict(X_test) \n",
        "# 4. Get the R^2\n",
        "print(r2_score(y_test, y_pred))\n",
        "# 5. Get the RMSE\n",
        "print(np.sqrt(mean_squared_error(y_test,y_pred))) "
      ],
      "execution_count": 23,
      "outputs": [
        {
          "output_type": "stream",
          "text": [
            "0.3627162636165524\n",
            "0.7912103000216458\n"
          ],
          "name": "stdout"
        }
      ]
    },
    {
      "cell_type": "code",
      "metadata": {
        "colab": {
          "base_uri": "https://localhost:8080/",
          "height": 709
        },
        "id": "P_AuFdhHatsJ",
        "outputId": "eb9fb007-c994-44c5-ba63-324032ad111e"
      },
      "source": [
        "# plot prediction and actual data\n",
        "plt.plot(y_test, y_pred, '.')\n",
        "\n",
        "# plot a line, a perfit predict would all fall on this line\n",
        "x = np.linspace(0, 10, 10)\n",
        "y = x\n",
        "plt.plot(x, y)\n",
        "plt.show()"
      ],
      "execution_count": 24,
      "outputs": [
        {
          "output_type": "display_data",
          "data": {
            "image/png": "[encoded data removed]",
            "text/plain": [
              "<Figure size 1080x864 with 1 Axes>"
            ]
          },
          "metadata": {
            "tags": [],
            "needs_background": "light"
          }
        }
      ]
    },
    {
      "cell_type": "markdown",
      "metadata": {
        "id": "QpIO3yMDtV91"
      },
      "source": [
        "##Random Forest Regressor\n",
        "Remember when we introduced the [random forest classifier](https://github.com/tawfiqam/MI564/blob/main/Random_Forest_Intro.ipynb) last week, we talked about it can be used for classification or regression. \n",
        "\n",
        "Let's take a look at the regressor. "
      ]
    },
    {
      "cell_type": "code",
      "metadata": {
        "colab": {
          "base_uri": "https://localhost:8080/"
        },
        "id": "r-LMyoebQ-e4",
        "outputId": "62a187de-0c3c-4588-879d-27fe16207c64"
      },
      "source": [
        "# There are three steps to model something with sklearn\n",
        "# 1. Set up the model\n",
        "model = RandomForestRegressor()\n",
        "# 2. Fit the model\n",
        "model.fit(X_train, y_train)\n",
        "# 3. Get the predictions\n",
        "y_pred = model.predict(X_test) \n",
        "# 4. Get the R^2\n",
        "print(r2_score(y_test, y_pred))\n",
        "# 5. Get the RMSE\n",
        "print(np.sqrt(mean_squared_error(y_test,y_pred))) "
      ],
      "execution_count": 25,
      "outputs": [
        {
          "output_type": "stream",
          "text": [
            "0.6499070737677758\n",
            "0.586431354499502\n"
          ],
          "name": "stdout"
        }
      ]
    },
    {
      "cell_type": "markdown",
      "metadata": {
        "id": "GgZXdO0UtZXh"
      },
      "source": [
        "## SVM Regressor\n",
        "\n",
        "Remember when we introduced the [Support Vector Machines](https://github.com/tawfiqam/MI564/blob/main/SVM_Intro.ipynb) last week, we talked about it can be used for classification or regression. "
      ]
    },
    {
      "cell_type": "code",
      "metadata": {
        "colab": {
          "base_uri": "https://localhost:8080/",
          "height": 709
        },
        "id": "R-5e0Qv_ahhs",
        "outputId": "9cf065b8-86ef-4bd1-fffb-457f86936388"
      },
      "source": [
        "# plot prediction and actual data\n",
        "plt.plot(y_test, y_pred, '.')\n",
        "\n",
        "# plot a line, a perfit predict would all fall on this line\n",
        "x = np.linspace(0, 10, 10)\n",
        "y = x\n",
        "plt.plot(x, y)\n",
        "plt.show()"
      ],
      "execution_count": 26,
      "outputs": [
        {
          "output_type": "display_data",
          "data": {
            "image/png": "[encoded data removed]",
            "text/plain": [
              "<Figure size 1080x864 with 1 Axes>"
            ]
          },
          "metadata": {
            "tags": [],
            "needs_background": "light"
          }
        }
      ]
    },
    {
      "cell_type": "code",
      "metadata": {
        "colab": {
          "base_uri": "https://localhost:8080/"
        },
        "id": "-pLwE62HamWK",
        "outputId": "700c6be0-17ea-4069-84e8-37bd09c12d89"
      },
      "source": [
        "# There are three steps to model something with sklearn\n",
        "# 1. Set up the model\n",
        "model = SVR(kernel='rbf')\n",
        "# 2. Fit the model\n",
        "model.fit(X_train, y_train)\n",
        "# 3. Get the predictions\n",
        "y_pred = model.predict(X_test) \n",
        "# 4. Get the R^2\n",
        "print(r2_score(y_test, y_pred))\n",
        "# 5. Get the RMSE\n",
        "print(np.sqrt(mean_squared_error(y_test,y_pred))) "
      ],
      "execution_count": 27,
      "outputs": [
        {
          "output_type": "stream",
          "text": [
            "0.6705836286893923\n",
            "0.5688504475153567\n"
          ],
          "name": "stdout"
        }
      ]
    },
    {
      "cell_type": "code",
      "metadata": {
        "colab": {
          "base_uri": "https://localhost:8080/",
          "height": 709
        },
        "id": "0GfJVgZAa4JE",
        "outputId": "91eca1c5-2d68-4734-8b65-17558c689401"
      },
      "source": [
        "# plot prediction and actual data\n",
        "plt.plot(y_test, y_pred, '.')\n",
        "\n",
        "# plot a line, a perfit predict would all fall on this line\n",
        "x = np.linspace(0, 10, 10)\n",
        "y = x\n",
        "plt.plot(x, y)\n",
        "plt.show()"
      ],
      "execution_count": 28,
      "outputs": [
        {
          "output_type": "display_data",
          "data": {
            "image/png": "[encoded data removed]",
            "text/plain": [
              "<Figure size 1080x864 with 1 Axes>"
            ]
          },
          "metadata": {
            "tags": [],
            "needs_background": "light"
          }
        }
      ]
    },
    {
      "cell_type": "markdown",
      "metadata": {
        "id": "vY0jIxOXyT5r"
      },
      "source": [
        "##Which is the best regressor of the models introduced in this example? "
      ]
    },
    {
      "cell_type": "markdown",
      "metadata": {
        "id": "hqjSwM8EyaG2"
      },
      "source": [
        "Sources:\n",
        "[1] https://www.analyticsvidhya.com/blog/2020/03/support-vector-regression-tutorial-for-machine-learning/\n",
        "\n",
        "[2] https://www.pluralsight.com/guides/linear-lasso-ridge-regression-scikit-learn\n",
        "\n",
        "[3] https://www.kaggle.com/andyxie/beginner-scikit-learn-linear-regression-tutorial\n",
        "\n",
        "[4] https://machinelearningmastery.com/lasso-regression-with-python/\n",
        "\n",
        "[5] https://www.analyticsvidhya.com/blog/2016/01/ridge-lasso-regression-python-complete-tutorial/"
      ]
    }
  ]
}