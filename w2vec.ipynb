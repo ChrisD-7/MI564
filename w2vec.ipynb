{
 "cells": [
  {
   "cell_type": "markdown",
   "metadata": {},
   "source": [
    "Well after seeing everyones blank face to the Simpsons reference in class i deciced to use something more relevent probably Harry Potter should work [Sorry but if u havent watched harry potter yet i guess its a lost cause situation then]."
   ]
  },
  {
   "cell_type": "code",
   "execution_count": null,
   "metadata": {},
   "outputs": [],
   "source": []
  }
 ],
 "metadata": {
  "language_info": {
   "name": "python"
  }
 },
 "nbformat": 4,
 "nbformat_minor": 2
}
