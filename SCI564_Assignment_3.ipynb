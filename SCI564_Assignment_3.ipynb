{
  "nbformat": 4,
  "nbformat_minor": 0,
  "metadata": {
    "colab": {
      "name": "SCI564_Assignment_3.ipynb",
      "provenance": [],
      "collapsed_sections": [],
      "authorship_tag": "ABX9TyMFDWxoC3NeeOgTTHLZRH3R",
      "include_colab_link": true
    },
    "kernelspec": {
      "name": "python3",
      "display_name": "Python 3"
    }
  },
  "cells": [
    {
      "cell_type": "markdown",
      "metadata": {
        "id": "view-in-github",
        "colab_type": "text"
      },
      "source": [
        "<a href=\"https://colab.research.google.com/github/tawfiqam/MI564/blob/main/SCI564_Assignment_3.ipynb\" target=\"_parent\"><img src=\"https://colab.research.google.com/assets/colab-badge.svg\" alt=\"Open In Colab\"/></a>"
      ]
    },
    {
      "cell_type": "markdown",
      "metadata": {
        "id": "9LLTY7wHC6al"
      },
      "source": [
        "Q1. We will use the wine quality dataset provided by sklearn to build a logistic regression classifier (see class examples )"
      ]
    },
    {
      "cell_type": "markdown",
      "metadata": {
        "id": "BKWIgc5dDQer"
      },
      "source": [
        "Q1a. Import the dataset from sklearn [5  points]"
      ]
    },
    {
      "cell_type": "code",
      "metadata": {
        "id": "mu4hvNFmDOj4"
      },
      "source": [
        "#A1a. \n"
      ],
      "execution_count": 1,
      "outputs": []
    },
    {
      "cell_type": "markdown",
      "metadata": {
        "id": "1MdqxGqlDypg"
      },
      "source": [
        "Q1b. List the feature names in this dataset [5 points]"
      ]
    },
    {
      "cell_type": "code",
      "metadata": {
        "id": "ydgEmkBRDxXF"
      },
      "source": [
        "#A1b.\n"
      ],
      "execution_count": 2,
      "outputs": []
    },
    {
      "cell_type": "markdown",
      "metadata": {
        "id": "W8SGLteeD_An"
      },
      "source": [
        "Q1c. How many classes (targets or labels) are there in this dataset? [5 points]"
      ]
    },
    {
      "cell_type": "code",
      "metadata": {
        "id": "xUUhtLLiD6Ni"
      },
      "source": [
        "#A1c. \n",
        "\n"
      ],
      "execution_count": 3,
      "outputs": []
    },
    {
      "cell_type": "markdown",
      "metadata": {
        "id": "eQqRKvKEEOrU"
      },
      "source": [
        "Q1d. List the class names [5 points]"
      ]
    },
    {
      "cell_type": "code",
      "metadata": {
        "id": "P289dXy-ELhR"
      },
      "source": [
        "#A1d.\n"
      ],
      "execution_count": 4,
      "outputs": []
    },
    {
      "cell_type": "markdown",
      "metadata": {
        "id": "XCsK2qxBEier"
      },
      "source": [
        "Q1e. Prepare training and test data using sklearn train_test_split [5 points]"
      ]
    },
    {
      "cell_type": "code",
      "metadata": {
        "id": "lM7VFg0oEuql"
      },
      "source": [
        "#A1e.\n"
      ],
      "execution_count": 5,
      "outputs": []
    },
    {
      "cell_type": "code",
      "metadata": {
        "id": "56SQNJGhF6ot"
      },
      "source": [
        "#Because these data are of different measurements. you will need to scale the data.\n",
        "#I will give you move examples of this in the next couple of weeks\n",
        "\n",
        "#importing standardization package from sklearn\n",
        "from sklearn.preprocessing import StandardScaler\n",
        "# create scaler\n",
        "scaler = StandardScaler()\n",
        "# fit scaler on training data and transform it\n",
        "X_train = scaler.fit_transform(X_train)\n",
        "# fit scaler on testing data and transform it\n",
        "X_test = scaler.fit_transform(X_test)"
      ],
      "execution_count": null,
      "outputs": []
    },
    {
      "cell_type": "markdown",
      "metadata": {
        "id": "IlAnFMhtEa6c"
      },
      "source": [
        "Q1f. Build a logistic regression classifier on this dataset using the training data from the earlier questions [5 points]"
      ]
    },
    {
      "cell_type": "code",
      "metadata": {
        "id": "3TJHSAH4EXS8"
      },
      "source": [
        "#A1f.\n",
        "\n"
      ],
      "execution_count": 6,
      "outputs": []
    },
    {
      "cell_type": "markdown",
      "metadata": {
        "id": "U1SJU3zRH0Rt"
      },
      "source": [
        "Q1g. Build the confusion matrix. You do not need to graph it, just use the sklearn confusion matrix. [5 points]"
      ]
    },
    {
      "cell_type": "code",
      "metadata": {
        "id": "pDbyBPqEFhxM"
      },
      "source": [
        "#A1g.\n"
      ],
      "execution_count": 7,
      "outputs": []
    },
    {
      "cell_type": "markdown",
      "metadata": {
        "id": "xCTQ3md2JZTp"
      },
      "source": [
        "Q1h. What is the accuracy, precision, recall, and F1-score for this model? [5 points]"
      ]
    },
    {
      "cell_type": "code",
      "metadata": {
        "id": "ivz-FL77IXr_"
      },
      "source": [
        "#A1h."
      ],
      "execution_count": 8,
      "outputs": []
    },
    {
      "cell_type": "markdown",
      "metadata": {
        "id": "fYMn4Rh-Kb4E"
      },
      "source": [
        "Q1i. Using values from Q1h, explain if you think this is a good or bad classifier [5 points]"
      ]
    },
    {
      "cell_type": "markdown",
      "metadata": {
        "id": "lcbEGktcKplp"
      },
      "source": [
        "A1i. "
      ]
    },
    {
      "cell_type": "markdown",
      "metadata": {
        "id": "klIWHVAsTFL2"
      },
      "source": [
        "Q2. This question is based on a real-world problem I am dealing with now. I am trying to see if we can categorize two different types of users. I am looking at a parenting subreddit. Some of the users cross post to more conservative subreddit. Others post to liberal subreddits. I wanted to see if there are any differences between users posting to each. \n",
        "\n",
        "There are two classes. MRA = 0 are those users who post to more liberal subreddits. MRA = 1 represents users who post to more conservative subreddits. \n",
        "\n",
        "The main question that I want to pose is whether we can detect a difference in the lanugage used by our two classes. In other words, can we use tokens (words) used by each group to build a classifier that differentiates them? "
      ]
    },
    {
      "cell_type": "code",
      "metadata": {
        "id": "gRaEZB1pUnAk"
      },
      "source": [
        "#The file to upload is found here: https://drive.google.com/file/d/1e9DrrIRX8H6KUqBfpTnnbqE4YSyY1xjJ/view?usp=sharing\n",
        "#This is a compressed file, so you'll need to use the following code to get it:\n",
        "import pandas as pd\n",
        "df = pd.read_json('df_small.zip',compression='zip')"
      ],
      "execution_count": 9,
      "outputs": []
    },
    {
      "cell_type": "code",
      "metadata": {
        "id": "O9PUt2dYX_Zp"
      },
      "source": [
        "df = df[['body','MRAD']]"
      ],
      "execution_count": 10,
      "outputs": []
    },
    {
      "cell_type": "code",
      "metadata": {
        "colab": {
          "base_uri": "https://localhost:8080/",
          "height": 206
        },
        "id": "G8as3lA8YIzJ",
        "outputId": "ece44e7a-c37b-4fa9-ad0f-dad2140e52ad"
      },
      "source": [
        "df.head()"
      ],
      "execution_count": 11,
      "outputs": [
        {
          "output_type": "execute_result",
          "data": {
            "text/html": [
              "<div>\n",
              "<style scoped>\n",
              "    .dataframe tbody tr th:only-of-type {\n",
              "        vertical-align: middle;\n",
              "    }\n",
              "\n",
              "    .dataframe tbody tr th {\n",
              "        vertical-align: top;\n",
              "    }\n",
              "\n",
              "    .dataframe thead th {\n",
              "        text-align: right;\n",
              "    }\n",
              "</style>\n",
              "<table border=\"1\" class=\"dataframe\">\n",
              "  <thead>\n",
              "    <tr style=\"text-align: right;\">\n",
              "      <th></th>\n",
              "      <th>body</th>\n",
              "      <th>MRAD</th>\n",
              "    </tr>\n",
              "  </thead>\n",
              "  <tbody>\n",
              "    <tr>\n",
              "      <th>0</th>\n",
              "      <td>Keep showing that little guy all the love in t...</td>\n",
              "      <td>0</td>\n",
              "    </tr>\n",
              "    <tr>\n",
              "      <th>1</th>\n",
              "      <td>Those last four words are what's truly importa...</td>\n",
              "      <td>0</td>\n",
              "    </tr>\n",
              "    <tr>\n",
              "      <th>2</th>\n",
              "      <td>That was 27 years ago for myself. I consider m...</td>\n",
              "      <td>0</td>\n",
              "    </tr>\n",
              "    <tr>\n",
              "      <th>3</th>\n",
              "      <td>I also have 3 daughters and a baby boy. You ev...</td>\n",
              "      <td>0</td>\n",
              "    </tr>\n",
              "    <tr>\n",
              "      <th>4</th>\n",
              "      <td>Looking good both of you.  Boys are the best g...</td>\n",
              "      <td>0</td>\n",
              "    </tr>\n",
              "  </tbody>\n",
              "</table>\n",
              "</div>"
            ],
            "text/plain": [
              "                                                body  MRAD\n",
              "0  Keep showing that little guy all the love in t...     0\n",
              "1  Those last four words are what's truly importa...     0\n",
              "2  That was 27 years ago for myself. I consider m...     0\n",
              "3  I also have 3 daughters and a baby boy. You ev...     0\n",
              "4  Looking good both of you.  Boys are the best g...     0"
            ]
          },
          "metadata": {
            "tags": []
          },
          "execution_count": 11
        }
      ]
    },
    {
      "cell_type": "markdown",
      "metadata": {
        "id": "yfrpyGDHVawT"
      },
      "source": [
        "Q2a. First, create features from the text data in this dataframe. Use CountVectorizer in order to produce a bag of words. Use 'english' stop words as provided in the CountVectorizer. Use max_features=10000. [5 points]"
      ]
    },
    {
      "cell_type": "code",
      "metadata": {
        "id": "jHtUPtrwVcBy"
      },
      "source": [
        "#A2a.\n"
      ],
      "execution_count": 12,
      "outputs": []
    },
    {
      "cell_type": "markdown",
      "metadata": {
        "id": "m75FE5C9V7iN"
      },
      "source": [
        "Q2b. Now, how many features do you get? [5 points]"
      ]
    },
    {
      "cell_type": "code",
      "metadata": {
        "id": "hmRl9H6YV2wt"
      },
      "source": [
        "#A2b.\n"
      ],
      "execution_count": 13,
      "outputs": []
    },
    {
      "cell_type": "markdown",
      "metadata": {
        "id": "7fc8G2pfWBrg"
      },
      "source": [
        "Q2c. Get an example of the features. Specifically, I want you to get the features between 3000 and 3020. [5 points]"
      ]
    },
    {
      "cell_type": "code",
      "metadata": {
        "id": "pOtItdMnWIqX"
      },
      "source": [
        "#A2c.\n"
      ],
      "execution_count": 14,
      "outputs": []
    },
    {
      "cell_type": "markdown",
      "metadata": {
        "id": "XUEz6lmbW_bW"
      },
      "source": [
        "Q2d. Now unfold the features into a larger array. Use the \"to_array\" feature. [5 points]"
      ]
    },
    {
      "cell_type": "code",
      "metadata": {
        "id": "6qLfexgXXAAl"
      },
      "source": [
        "#A2d.\n"
      ],
      "execution_count": 15,
      "outputs": []
    },
    {
      "cell_type": "markdown",
      "metadata": {
        "id": "mhcEIiLaWzUx"
      },
      "source": [
        "Q2e. Setup the X_train, X_test,y_train, y_test using train_test_split\n",
        "Remember, your X is the set of features (NOT THE FEATURE NAMES) created using CountVectorizer. [5 points]\n",
        "\n",
        "\n",
        "You y is the two classes discussed in the question description."
      ]
    },
    {
      "cell_type": "code",
      "metadata": {
        "id": "slzsqPsoWztG"
      },
      "source": [
        "#A2e.\n"
      ],
      "execution_count": 16,
      "outputs": []
    },
    {
      "cell_type": "markdown",
      "metadata": {
        "id": "RIqwvDqbgFIQ"
      },
      "source": [
        "Q2f. Setup a naive bayes classifier and make a prediction based on X_test (the test data) [5 points]"
      ]
    },
    {
      "cell_type": "code",
      "metadata": {
        "id": "q7QUCvWBU10a"
      },
      "source": [
        "#A2f.\n"
      ],
      "execution_count": 17,
      "outputs": []
    },
    {
      "cell_type": "markdown",
      "metadata": {
        "id": "CxXRRDr4gbDj"
      },
      "source": [
        "Q2g. Get the confusion matrix for this classifier [5 points]"
      ]
    },
    {
      "cell_type": "code",
      "metadata": {
        "id": "_0AjNhNBXZCU"
      },
      "source": [
        "#A2g.\n"
      ],
      "execution_count": 18,
      "outputs": []
    },
    {
      "cell_type": "markdown",
      "metadata": {
        "id": "wKQQy4k2giG1"
      },
      "source": [
        "Q2h. Get the metrics (accuracy, precision,recall, f1-score) for this classifier [5 points]"
      ]
    },
    {
      "cell_type": "code",
      "metadata": {
        "id": "TgtXRJsZXew0"
      },
      "source": [
        "#A2h.\n"
      ],
      "execution_count": 19,
      "outputs": []
    },
    {
      "cell_type": "markdown",
      "metadata": {
        "id": "rt7opmgWgvSM"
      },
      "source": [
        "Q2i. Given the confusion matrix and the metrics, do you think this is a good classifier? In other words, given the introduction to the question, is this a good model to use in differentiating between men who happen to copost to convesrative subreddits and those who post to more liberal subreddits using the text of their comments? [10 points]\n"
      ]
    },
    {
      "cell_type": "markdown",
      "metadata": {
        "id": "GsqaOTvphGS7"
      },
      "source": [
        "A2i. "
      ]
    }
  ]
}