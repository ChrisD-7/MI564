{
  "nbformat": 4,
  "nbformat_minor": 0,
  "metadata": {
    "colab": {
      "name": "SCI564:Assignment_1.ipynb",
      "provenance": [],
      "include_colab_link": true
    },
    "kernelspec": {
      "name": "python3",
      "display_name": "Python 3"
    }
  },
  "cells": [
    {
      "cell_type": "markdown",
      "metadata": {
        "id": "view-in-github",
        "colab_type": "text"
      },
      "source": [
        "<a href=\"https://colab.research.google.com/github/tawfiqam/MI564/blob/main/SCI564_Assignment_1.ipynb\" target=\"_parent\"><img src=\"https://colab.research.google.com/assets/colab-badge.svg\" alt=\"Open In Colab\"/></a>"
      ]
    },
    {
      "cell_type": "markdown",
      "metadata": {
        "id": "rKcwzSX3Fic5"
      },
      "source": [
        "**Q1:** What is the difference between a Python array, a Pandas Series, and a Pandas Dataframe?\n"
      ]
    },
    {
      "cell_type": "markdown",
      "metadata": {
        "id": "-uu9YuRDGUQN"
      },
      "source": [
        "A1: "
      ]
    },
    {
      "cell_type": "markdown",
      "metadata": {
        "id": "ORqd1bb8HCa9"
      },
      "source": [
        "**Q2:** Use the following population dictionary to create a Pandas Series object. Call the series object population. Remember to include all needed"
      ]
    },
    {
      "cell_type": "code",
      "metadata": {
        "id": "LEw4KDxZFuF1"
      },
      "source": [
        "population_dict = {'California': 38332521,\n",
        "                   'Texas':26448193,\n",
        "                   'New York':19651127,\n",
        "                   'Florida':19552860,\n",
        "                   'Illinois':12882135}"
      ],
      "execution_count": null,
      "outputs": []
    },
    {
      "cell_type": "code",
      "metadata": {
        "id": "Ch1UFirXHRSL"
      },
      "source": [
        "#A2:"
      ],
      "execution_count": null,
      "outputs": []
    },
    {
      "cell_type": "markdown",
      "metadata": {
        "id": "IWs0_EOTKc_Q"
      },
      "source": [
        "**Q3:** Write a Pandas program to create and display a DataFrame from a specified dictionary data which has the index labels.\n",
        "\n"
      ]
    },
    {
      "cell_type": "code",
      "metadata": {
        "id": "k3OmKiTfKuP2"
      },
      "source": [
        "#Sample DataFrame:\n",
        "exam_data = {'name': ['Anastasia', 'Dima', 'Katherine', 'James', 'Emily', 'Michael', 'Matthew', 'Laura', 'Kevin', 'Jonas'],'score': [12.5, 9, 16.5, np.nan, 9, 20, 14.5, np.nan, 8, 19],'attempts': [1, 3, 2, 3, 2, 3, 1, 1, 2, 1],'qualify': ['yes', 'no', 'yes', 'no', 'no', 'yes', 'yes', 'no', 'no', 'yes']}\n",
        "labels = ['a', 'b', 'c', 'd', 'e', 'f', 'g', 'h', 'i', 'j']"
      ],
      "execution_count": null,
      "outputs": []
    },
    {
      "cell_type": "code",
      "metadata": {
        "id": "cuFFid0NR80T"
      },
      "source": [
        "#A3:"
      ],
      "execution_count": null,
      "outputs": []
    },
    {
      "cell_type": "markdown",
      "metadata": {
        "id": "mltWqg3LOqmw"
      },
      "source": [
        "**Q4:** What is the average number of attempts? "
      ]
    },
    {
      "cell_type": "code",
      "metadata": {
        "id": "D0C1oM8NOzdr"
      },
      "source": [
        "#A4:"
      ],
      "execution_count": null,
      "outputs": []
    },
    {
      "cell_type": "markdown",
      "metadata": {
        "id": "Wq79hGEeO0yn"
      },
      "source": [
        "**Q5:** How many people qualified?"
      ]
    },
    {
      "cell_type": "code",
      "metadata": {
        "id": "4Q9UqFRWO7VD"
      },
      "source": [
        "#A5"
      ],
      "execution_count": null,
      "outputs": []
    },
    {
      "cell_type": "markdown",
      "metadata": {
        "id": "TCM0OmdeQ_Nm"
      },
      "source": [
        "**Q6:** Change the name of Jonas to James"
      ]
    },
    {
      "cell_type": "code",
      "metadata": {
        "id": "5O-DSwdaRKbn"
      },
      "source": [
        "#A6"
      ],
      "execution_count": null,
      "outputs": []
    },
    {
      "cell_type": "markdown",
      "metadata": {
        "id": "Yb9QSx5yZI8f"
      },
      "source": [
        "**Q7:** Show the first two rows by index"
      ]
    },
    {
      "cell_type": "code",
      "metadata": {
        "id": "CEY9yoRb8xL_"
      },
      "source": [
        "#A7"
      ],
      "execution_count": null,
      "outputs": []
    },
    {
      "cell_type": "markdown",
      "metadata": {
        "id": "0PqP6OKc--Cz"
      },
      "source": [
        "**Q8:** Add a new column, contained in the list here and called 'color'"
      ]
    },
    {
      "cell_type": "code",
      "metadata": {
        "id": "AGY6FcrW_SoA"
      },
      "source": [
        "color = ['Red','Blue','Orange','Red','White','White','Blue','Green','Green','Red']"
      ],
      "execution_count": null,
      "outputs": []
    },
    {
      "cell_type": "code",
      "metadata": {
        "id": "PSgujRt3_Ktd"
      },
      "source": [
        "#A8"
      ],
      "execution_count": null,
      "outputs": []
    },
    {
      "cell_type": "markdown",
      "metadata": {
        "id": "H5KTFiuPB6u_"
      },
      "source": [
        "**Q9:** Create a datafram from the following dictionary. After you do so, write a Pandas program to split the dataframe by school code and get mean, min, and max value of age for each school. \n"
      ]
    },
    {
      "cell_type": "code",
      "metadata": {
        "id": "tVOSIq1ZCCkm"
      },
      "source": [
        "School_Dict= {   'school_code': ['s001','s002','s003','s001','s002','s004'],\n",
        "    'class': ['V', 'V', 'VI', 'VI', 'V', 'VI'],\n",
        "    'name': ['Alberto Franco','Gino Mcneill','Ryan Parkes', 'Eesha Hinton', 'Gino Mcneill', 'David Parkes'],\n",
        "    'date_Of_Birth ': ['15/05/2002','17/05/2002','16/02/1999','25/09/1998','11/05/2002','15/09/1997'],\n",
        "    'age': [12, 12, 13, 13, 14, 12],\n",
        "    'height': [173, 192, 186, 167, 151, 159],\n",
        "    'weight': [35, 32, 33, 30, 31, 32],\n",
        "    'address': ['street1', 'street2', 'street3', 'street1', 'street2', 'street4']}\n",
        "  \n",
        "index=['S1', 'S2', 'S3', 'S4', 'S5', 'S6']"
      ],
      "execution_count": null,
      "outputs": []
    },
    {
      "cell_type": "code",
      "metadata": {
        "id": "JwOEid5oCGN4"
      },
      "source": [
        "#A9"
      ],
      "execution_count": null,
      "outputs": []
    },
    {
      "cell_type": "markdown",
      "metadata": {
        "id": "AHonCSRrDTO9"
      },
      "source": [
        "**Q10a:**Load a dataframe titled **california_cities**"
      ]
    },
    {
      "cell_type": "code",
      "metadata": {
        "colab": {
          "base_uri": "https://localhost:8080/"
        },
        "id": "piBJj7k8KXE2",
        "outputId": "a20f3603-8d92-4aaa-e31f-8eaf43319dec"
      },
      "source": [
        "#You need to run this code to load data from the Google drive\n",
        "from google.colab import drive\n",
        "drive.mount('/content/drive')"
      ],
      "execution_count": null,
      "outputs": [
        {
          "output_type": "stream",
          "text": [
            "Drive already mounted at /content/drive; to attempt to forcibly remount, call drive.mount(\"/content/drive\", force_remount=True).\n"
          ],
          "name": "stdout"
        }
      ]
    },
    {
      "cell_type": "code",
      "metadata": {
        "id": "ekrkqqPhKTN6"
      },
      "source": [
        "#A10a"
      ],
      "execution_count": null,
      "outputs": []
    },
    {
      "cell_type": "markdown",
      "metadata": {
        "id": "jLhi06A-KsxX"
      },
      "source": [
        "**Q10b:** Show the first 5 rows of the pandas dataframe"
      ]
    },
    {
      "cell_type": "code",
      "metadata": {
        "id": "SQv8dmgmKx6o"
      },
      "source": [
        "#A10b"
      ],
      "execution_count": null,
      "outputs": []
    }
  ]
}