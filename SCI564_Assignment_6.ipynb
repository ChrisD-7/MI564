{
  "nbformat": 4,
  "nbformat_minor": 0,
  "metadata": {
    "colab": {
      "name": "SCI564_Assignment_6.ipynb",
      "provenance": [],
      "include_colab_link": true
    },
    "kernelspec": {
      "name": "python3",
      "display_name": "Python 3"
    },
    "language_info": {
      "name": "python"
    }
  },
  "cells": [
    {
      "cell_type": "markdown",
      "metadata": {
        "id": "view-in-github",
        "colab_type": "text"
      },
      "source": [
        "<a href=\"https://colab.research.google.com/github/tawfiqam/MI564/blob/main/SCI564_Assignment_6.ipynb\" target=\"_parent\"><img src=\"https://colab.research.google.com/assets/colab-badge.svg\" alt=\"Open In Colab\"/></a>"
      ]
    },
    {
      "cell_type": "markdown",
      "metadata": {
        "id": "u23UVD8Hsjap"
      },
      "source": [
        "#Part I: Setting up MLP classifier. Create an MLP classifier on the Breast Cancer dataset. "
      ]
    },
    {
      "cell_type": "markdown",
      "metadata": {
        "id": "KPGuQvPwsodG"
      },
      "source": [
        "##Q1. load the breast cancer dataset. This is an SKLearn dataset [5 points]"
      ]
    },
    {
      "cell_type": "code",
      "metadata": {
        "id": "H1MjF0e7sxy8"
      },
      "source": [
        "#A1."
      ],
      "execution_count": null,
      "outputs": []
    },
    {
      "cell_type": "markdown",
      "metadata": {
        "id": "WZZ6aDyEsw-7"
      },
      "source": [
        "##Q2. Create X to contain all the feature values in the breast cancer dataset. Create y to to include the target \n",
        "\n",
        "[5 points]\n"
      ]
    },
    {
      "cell_type": "code",
      "metadata": {
        "id": "7BxNxRP4snmG"
      },
      "source": [
        "#A2. "
      ],
      "execution_count": null,
      "outputs": []
    },
    {
      "cell_type": "markdown",
      "metadata": {
        "id": "XYQWTXrftOLi"
      },
      "source": [
        "##Q3. Create X_train, X_test, y_train, y_test using train_test_split [5 points]"
      ]
    },
    {
      "cell_type": "code",
      "metadata": {
        "id": "117Ut3-6tNSU"
      },
      "source": [
        "#A3."
      ],
      "execution_count": null,
      "outputs": []
    },
    {
      "cell_type": "markdown",
      "metadata": {
        "id": "hLZICPmOtfBx"
      },
      "source": [
        "##Q4. Using standard scaler, scale X_test and X_train [5 points]"
      ]
    },
    {
      "cell_type": "code",
      "metadata": {
        "id": "q0S9bNkZtm6Z"
      },
      "source": [
        "#A4."
      ],
      "execution_count": null,
      "outputs": []
    },
    {
      "cell_type": "markdown",
      "metadata": {
        "id": "bpvjRZjhuAUh"
      },
      "source": [
        "##Q5. Create an MLP Classifier. Use logistic activation function, max_interations=1000, and random_state=1. \n",
        "\n",
        "[10 points]"
      ]
    },
    {
      "cell_type": "code",
      "metadata": {
        "id": "hOBKmbq3uB9o"
      },
      "source": [
        "#Q5."
      ],
      "execution_count": null,
      "outputs": []
    },
    {
      "cell_type": "markdown",
      "metadata": {
        "id": "B8yQZWagtnsr"
      },
      "source": [
        "##Q6. Create a confusion matrix for the classifier [5 points]"
      ]
    },
    {
      "cell_type": "code",
      "metadata": {
        "id": "Mzh7Ko_HteYN"
      },
      "source": [
        "#Q6."
      ],
      "execution_count": null,
      "outputs": []
    },
    {
      "cell_type": "markdown",
      "metadata": {
        "id": "uJ9GarY-uWN_"
      },
      "source": [
        "##Q7. Show the accuracy, precision, recall, and F-1 scores [5 points]"
      ]
    },
    {
      "cell_type": "code",
      "metadata": {
        "id": "Ws37JZb7uhiS"
      },
      "source": [
        "#A7."
      ],
      "execution_count": null,
      "outputs": []
    },
    {
      "cell_type": "markdown",
      "metadata": {
        "id": "O3wAqSdFui-U"
      },
      "source": [
        "##Q8. Plot AUC curve using sklearn [5 points]"
      ]
    },
    {
      "cell_type": "code",
      "metadata": {
        "id": "nFNZG-7-uuYC"
      },
      "source": [
        "#A8."
      ],
      "execution_count": null,
      "outputs": []
    },
    {
      "cell_type": "markdown",
      "metadata": {
        "id": "6TcMOhyEuwZX"
      },
      "source": [
        "##Q9. Install the Interpret ML package on Python [5 points]\n",
        "https://github.com/interpretml/interpret/blob/develop/README.md"
      ]
    },
    {
      "cell_type": "code",
      "metadata": {
        "id": "0vQpLvX4uvqj"
      },
      "source": [
        "#A9."
      ],
      "execution_count": null,
      "outputs": []
    },
    {
      "cell_type": "markdown",
      "metadata": {
        "id": "ynsuXKnRvBGS"
      },
      "source": [
        "##Q10. Plot AUC using InterpretML [5 points]"
      ]
    },
    {
      "cell_type": "code",
      "metadata": {
        "id": "8ops4cCZvAb1"
      },
      "source": [
        "#A10."
      ],
      "execution_count": null,
      "outputs": []
    },
    {
      "cell_type": "markdown",
      "metadata": {
        "id": "eJbFocN5vJJd"
      },
      "source": [
        "##Q11. Get the global sensitivity of the classifier (what are the top predictors) using Interpret ML \n",
        "\n",
        "[10 points]"
      ]
    },
    {
      "cell_type": "code",
      "metadata": {
        "id": "ESTuUkc9vdCc"
      },
      "source": [
        "#A11."
      ],
      "execution_count": null,
      "outputs": []
    },
    {
      "cell_type": "markdown",
      "metadata": {
        "id": "LCUfnmVQvi5d"
      },
      "source": [
        "##Q12. What are the top 2 predictors in this model [5 points]"
      ]
    },
    {
      "cell_type": "markdown",
      "metadata": {
        "id": "GtbFaxe4voR4"
      },
      "source": [
        "##A12. "
      ]
    },
    {
      "cell_type": "markdown",
      "metadata": {
        "id": "COQ2IOV6wmSg"
      },
      "source": [
        "#Q2. Think about interpretability and bias in Machine Learning"
      ]
    },
    {
      "cell_type": "markdown",
      "metadata": {
        "id": "aNTStqeevrwz"
      },
      "source": [
        "##Q13. Describe some problems that might arise from biases in machine learning models used on a large scale. Examples in the readings touched on ML systems used in policing and healthcare. You can engage in discussions about these or others. Do you think a machine learning model can be racist or bigoted? What can we do about that? I expect somewhere between 500-700 words. \n",
        "\n",
        "[30 points]"
      ]
    },
    {
      "cell_type": "code",
      "metadata": {
        "id": "jzxDJ8_kvnUc"
      },
      "source": [
        ""
      ],
      "execution_count": null,
      "outputs": []
    }
  ]
}