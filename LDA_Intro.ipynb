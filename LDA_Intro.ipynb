{
  "nbformat": 4,
  "nbformat_minor": 0,
  "metadata": {
    "colab": {
      "name": "LDA_Intro.ipynb",
      "provenance": [],
      "collapsed_sections": [],
      "authorship_tag": "ABX9TyOp8g+vaZlCaOWGW7CRhs3a",
      "include_colab_link": true
    },
    "kernelspec": {
      "name": "python3",
      "display_name": "Python 3"
    },
    "language_info": {
      "name": "python"
    }
  },
  "cells": [
    {
      "cell_type": "markdown",
      "metadata": {
        "id": "view-in-github",
        "colab_type": "text"
      },
      "source": [
        "<a href=\"https://colab.research.google.com/github/tawfiqam/MI564/blob/main/LDA_Intro.ipynb\" target=\"_parent\"><img src=\"https://colab.research.google.com/assets/colab-badge.svg\" alt=\"Open In Colab\"/></a>"
      ]
    },
    {
      "cell_type": "code",
      "metadata": {
        "colab": {
          "base_uri": "https://localhost:8080/"
        },
        "id": "HAHumz1Mb-GM",
        "outputId": "f35354e9-b52e-4eae-980d-30c5dee3b2fa"
      },
      "source": [
        "!pip install psaw"
      ],
      "execution_count": 1,
      "outputs": [
        {
          "output_type": "stream",
          "text": [
            "Requirement already satisfied: psaw in /usr/local/lib/python3.7/dist-packages (0.1.0)\n",
            "Requirement already satisfied: Click in /usr/local/lib/python3.7/dist-packages (from psaw) (7.1.2)\n",
            "Requirement already satisfied: requests in /usr/local/lib/python3.7/dist-packages (from psaw) (2.23.0)\n",
            "Requirement already satisfied: chardet<4,>=3.0.2 in /usr/local/lib/python3.7/dist-packages (from requests->psaw) (3.0.4)\n",
            "Requirement already satisfied: urllib3!=1.25.0,!=1.25.1,<1.26,>=1.21.1 in /usr/local/lib/python3.7/dist-packages (from requests->psaw) (1.24.3)\n",
            "Requirement already satisfied: certifi>=2017.4.17 in /usr/local/lib/python3.7/dist-packages (from requests->psaw) (2020.12.5)\n",
            "Requirement already satisfied: idna<3,>=2.5 in /usr/local/lib/python3.7/dist-packages (from requests->psaw) (2.10)\n"
          ],
          "name": "stdout"
        }
      ]
    },
    {
      "cell_type": "code",
      "metadata": {
        "id": "qax_YQ53gZlg"
      },
      "source": [
        "def compute_coherence_values(dictionary, corpus, texts, limit=100, start=10, step=10):\n",
        "    \"\"\"\n",
        "    You will need to change the chunksize in reference to the size of the corpus. A more detailed explanation can be found here:\n",
        "    https://miningthedetails.com/blog/python/lda/GensimLDA/\n",
        "    \n",
        "    For the Parenting and MensRightrs corpora, I think the chunksize would be around 50,000\n",
        "    \n",
        "    Compute c_v coherence for various number of topics\n",
        "    \n",
        "    Parameters to change:\n",
        "    -----------\n",
        "    chunksize\n",
        "    workers:\n",
        "    on big laptop, the total number of cores = 8, so set to 6 (usually n-2)\n",
        "    on small laptop, the local numeber of cores = 5, so set to 3\n",
        "    on server, set to 9-10 workers\n",
        "\n",
        "    Parameters:\n",
        "    ----------\n",
        "    dictionary : Gensim dictionary\n",
        "    corpus : Gensim corpus\n",
        "    texts : List of input texts\n",
        "    limit : Max num of topics\n",
        "\n",
        "    Returns:\n",
        "    -------\n",
        "    model_list : List of LDA topic models\n",
        "    coherence_values : Coherence values corresponding to the LDA model with respective number of topics\n",
        "    \"\"\"\n",
        "    \n",
        "    chunksize = 1000\n",
        "    passes = 20\n",
        "    workers = 6\n",
        "    \n",
        "    coherence_values = []\n",
        "    perplexity_values = []\n",
        "    model_list = []\n",
        "    for num_topics in range(start, limit, step):\n",
        "        model = gensim.models.ldamulticore.LdaMulticore(corpus=corpus,\n",
        "                                   id2word=id2word,\n",
        "                                   num_topics=num_topics, \n",
        "                                   random_state=100,\n",
        "                                   chunksize=chunksize,\n",
        "                                   passes=passes,\n",
        "                                   per_word_topics=True,\n",
        "                                   workers=workers)\n",
        "        print('saving the LDA model...')\n",
        "        Filename = \"LDA_Model_\"+str(num_topics)+\".model\"\n",
        "        model.save(Filename)\n",
        "        model_list.append(model)\n",
        "        print('done with model ',str(num_topics))\n",
        "        coherencemodel = CoherenceModel(model=model, texts=texts, dictionary=dictionary, coherence='c_v')\n",
        "        print('coherence metric is ',str(coherencemodel.get_coherence()))\n",
        "        coherence_values.append(coherencemodel.get_coherence())\n",
        "        #perplexity_values.append(lda_model.log_perplexity(corpus))\n",
        "    return model_list, coherence_values\n"
      ],
      "execution_count": 2,
      "outputs": []
    },
    {
      "cell_type": "code",
      "metadata": {
        "id": "TM09mx0afJBi"
      },
      "source": [
        "def first_pass(text): \n",
        "    text = str(text)\n",
        "    text = text.replace('\\\\n',' ')\n",
        "    text = text.replace('&amp',' ')\n",
        "    text = text.replace(';#x200B;',' ')\n",
        "    text = text.replace('nbsp',' ')\n",
        "    \n",
        "    return text"
      ],
      "execution_count": 3,
      "outputs": []
    },
    {
      "cell_type": "code",
      "metadata": {
        "id": "y17UFbkZbngZ"
      },
      "source": [
        "def clean_text(text): \n",
        "    #make string lowercase \n",
        "    text = str(text)\n",
        "    text = text.lower()\n",
        "    \n",
        "    #remove links\n",
        "    text = re.sub(r'^https?:\\/\\/.*[\\r\\n]*', '', text, flags=re.MULTILINE)\n",
        "\n",
        "    #tokenize\n",
        "    tokens = nltk.word_tokenize(text) \n",
        "    clean_text = []\n",
        "    \n",
        "    #remove stopwords, puncuation, then lemmatize\n",
        "    for word in tokens:\n",
        "        if (word not in stopwords_english and word not in string.punctuation): \n",
        "            token = wordnet_lemmatizer.lemmatize(word)\n",
        "            clean_text.append(token)\n",
        "            \n",
        "    #remove words of length 3 or smaller        \n",
        "    clean_text = [token for token in clean_text if len(token) > 3] \n",
        "            \n",
        "    return clean_text      "
      ],
      "execution_count": 4,
      "outputs": []
    },
    {
      "cell_type": "code",
      "metadata": {
        "colab": {
          "base_uri": "https://localhost:8080/",
          "height": 157
        },
        "id": "2VhF2L9abq5y",
        "outputId": "25159215-2600-4835-cbee-81e47c2d1813"
      },
      "source": [
        "import pandas as pd\n",
        "#we will need datetime in order to specify the timeline we need to collect the data\n",
        "import datetime as dt\n",
        "#regular expressions will help us clean the text\n",
        "import re\n",
        "#gensim\n",
        "import gensim\n",
        "#LDA model\n",
        "from gensim.models import LdaModel\n",
        "#Use this to setup a dictionay\n",
        "from gensim.corpora import Dictionary\n",
        "#This will allow us to get the coherence models\n",
        "from gensim.models import CoherenceModel\n",
        "#gensim is a python library used mostly for NLP analysis\n",
        "#corpora allows us to build a corpus out of different \n",
        "#documents\n",
        "from gensim import corpora\n",
        "#Defaultdict is a container like dictionaries present in the module collections. \n",
        "#Defaultdict is a sub-class of the dict class that returns a dictionary-like object. \n",
        "#The functionality of both dictionaries and defualtdict are almost same except for \n",
        "#the fact that defualtdict never raises a KeyError. It provides a default value \n",
        "#for the key that does not exists.\n",
        "from collections import defaultdict\n",
        "\n",
        "#importing ntlk\n",
        "import nltk\n",
        "from nltk.corpus import stopwords \n",
        "#use nltk to get stopwords\n",
        "nltk.download('punkt')\n",
        "nltk.download('wordnet')\n",
        "nltk.download('stopwords')\n",
        "from nltk.stem import WordNetLemmatizer\n",
        "wordnet_lemmatizer = WordNetLemmatizer()\n",
        "#create a stoplist that includes all the english stop words\n",
        "stopwords_english = stopwords.words('english')\n",
        "display('here is a subset of the stop words')\n",
        "display(stopwords_english[0:10])\n",
        "#now we import the wrapper in order to use the API\n",
        "# Text Cleaning\n",
        "import string\n",
        "\n",
        "\n",
        "#Generating n-grams\n",
        "from gensim.models import Phrases\n",
        "\n",
        "from psaw import PushshiftAPI\n",
        "\n",
        "api = PushshiftAPI()\n"
      ],
      "execution_count": 5,
      "outputs": [
        {
          "output_type": "stream",
          "text": [
            "[nltk_data] Downloading package punkt to /root/nltk_data...\n",
            "[nltk_data]   Package punkt is already up-to-date!\n",
            "[nltk_data] Downloading package wordnet to /root/nltk_data...\n",
            "[nltk_data]   Package wordnet is already up-to-date!\n",
            "[nltk_data] Downloading package stopwords to /root/nltk_data...\n",
            "[nltk_data]   Package stopwords is already up-to-date!\n"
          ],
          "name": "stdout"
        },
        {
          "output_type": "display_data",
          "data": {
            "application/vnd.google.colaboratory.intrinsic+json": {
              "type": "string"
            },
            "text/plain": [
              "'here is a subset of the stop words'"
            ]
          },
          "metadata": {
            "tags": []
          }
        },
        {
          "output_type": "display_data",
          "data": {
            "text/plain": [
              "['i', 'me', 'my', 'myself', 'we', 'our', 'ours', 'ourselves', 'you', \"you're\"]"
            ]
          },
          "metadata": {
            "tags": []
          }
        }
      ]
    },
    {
      "cell_type": "code",
      "metadata": {
        "id": "a4INmM7sgRR7"
      },
      "source": [
        "#doc is of type - list. Expecting the tokenized sentences \n",
        "def add_ngram(doc): \n",
        "    return trigram[bigram[doc]]"
      ],
      "execution_count": 6,
      "outputs": []
    },
    {
      "cell_type": "code",
      "metadata": {
        "id": "4qOb0kJBcEDx"
      },
      "source": [
        "#this function will allow us to find the last day of each month\n",
        "#for example, there are 31 days in January, but 28 this February\n",
        "def last_day_of_month(any_day):\n",
        "    # this will never fail\n",
        "    # get close to the end of the month for any day, and add 4 days 'over'\n",
        "    next_month = any_day.replace(day=28) + datetime.timedelta(days=4)\n",
        "    # subtract the number of remaining 'overage' days to get last day of current month, or said programattically said, the previous day of the first of next month\n",
        "    return next_month - datetime.timedelta(days=next_month.day)"
      ],
      "execution_count": 7,
      "outputs": []
    },
    {
      "cell_type": "code",
      "metadata": {
        "colab": {
          "base_uri": "https://localhost:8080/"
        },
        "id": "6z7WZUp4b7zQ",
        "outputId": "cd889aa9-8428-411e-d980-8d836104fc61"
      },
      "source": [
        "import datetime\n",
        "subredditlist = ['Ex_Foster']\n",
        "for reddit in subredditlist:\n",
        "    for y in range(2019,2021):\n",
        "      for i in range(1,12):\n",
        "          file_name= str(reddit)+\"_\"+str(y)+\"_\"+str(i)+\".json\"\n",
        "          print(\"starting with the month \"+str(i))\n",
        "          print(\"for subreddit...\"+str(reddit))\n",
        "          print(\"setting start epoch...\")\n",
        "          start_epoch=int(dt.datetime(y, i, 1).timestamp())\n",
        "          print(\"setting end epoch...\")\n",
        "          last_day = last_day_of_month(datetime.date(y, i, 1))\n",
        "          print(\"the last day of the month is...\")\n",
        "          print(last_day.day)\n",
        "          last_day = int(last_day.day)\n",
        "          end_epoch = int(dt.datetime(y,i,last_day).timestamp())\n",
        "          print(\"setting up the generator...\")\n",
        "          gen = api.search_comments(after=start_epoch, before=end_epoch,subreddit=reddit)\n",
        "          print(\"setting up the dataframe...\")\n",
        "          df = pd.DataFrame([obj.d_ for obj in gen])\n",
        "          print(\"The number of comments for year \"+ str(y)+\" and month \"+str(i)+\" is \"+str(len(df.index)))\n",
        "          df.to_json(file_name)"
      ],
      "execution_count": 8,
      "outputs": [
        {
          "output_type": "stream",
          "text": [
            "starting with the month 1\n",
            "for subreddit...Ex_Foster\n",
            "setting start epoch...\n",
            "setting end epoch...\n",
            "the last day of the month is...\n",
            "31\n",
            "setting up the generator...\n",
            "setting up the dataframe...\n",
            "The number of comments for year 2019 and month 1 is 0\n",
            "starting with the month 2\n",
            "for subreddit...Ex_Foster\n",
            "setting start epoch...\n",
            "setting end epoch...\n",
            "the last day of the month is...\n",
            "28\n",
            "setting up the generator...\n",
            "setting up the dataframe...\n",
            "The number of comments for year 2019 and month 2 is 0\n",
            "starting with the month 3\n",
            "for subreddit...Ex_Foster\n",
            "setting start epoch...\n",
            "setting end epoch...\n",
            "the last day of the month is...\n",
            "31\n",
            "setting up the generator...\n",
            "setting up the dataframe...\n",
            "The number of comments for year 2019 and month 3 is 69\n",
            "starting with the month 4\n",
            "for subreddit...Ex_Foster\n",
            "setting start epoch...\n",
            "setting end epoch...\n",
            "the last day of the month is...\n",
            "30\n",
            "setting up the generator...\n",
            "setting up the dataframe...\n",
            "The number of comments for year 2019 and month 4 is 233\n",
            "starting with the month 5\n",
            "for subreddit...Ex_Foster\n",
            "setting start epoch...\n",
            "setting end epoch...\n",
            "the last day of the month is...\n",
            "31\n",
            "setting up the generator...\n",
            "setting up the dataframe...\n"
          ],
          "name": "stdout"
        },
        {
          "output_type": "stream",
          "text": [
            "/usr/local/lib/python3.7/dist-packages/psaw/PushshiftAPI.py:192: UserWarning: Got non 200 code 429\n",
            "  warnings.warn(\"Got non 200 code %s\" % response.status_code)\n",
            "/usr/local/lib/python3.7/dist-packages/psaw/PushshiftAPI.py:180: UserWarning: Unable to connect to pushshift.io. Retrying after backoff.\n",
            "  warnings.warn(\"Unable to connect to pushshift.io. Retrying after backoff.\")\n"
          ],
          "name": "stderr"
        },
        {
          "output_type": "stream",
          "text": [
            "The number of comments for year 2019 and month 5 is 119\n",
            "starting with the month 6\n",
            "for subreddit...Ex_Foster\n",
            "setting start epoch...\n",
            "setting end epoch...\n",
            "the last day of the month is...\n",
            "30\n",
            "setting up the generator...\n",
            "setting up the dataframe...\n",
            "The number of comments for year 2019 and month 6 is 183\n",
            "starting with the month 7\n",
            "for subreddit...Ex_Foster\n",
            "setting start epoch...\n",
            "setting end epoch...\n",
            "the last day of the month is...\n",
            "31\n",
            "setting up the generator...\n",
            "setting up the dataframe...\n",
            "The number of comments for year 2019 and month 7 is 78\n",
            "starting with the month 8\n",
            "for subreddit...Ex_Foster\n",
            "setting start epoch...\n",
            "setting end epoch...\n",
            "the last day of the month is...\n",
            "31\n",
            "setting up the generator...\n",
            "setting up the dataframe...\n",
            "The number of comments for year 2019 and month 8 is 80\n",
            "starting with the month 9\n",
            "for subreddit...Ex_Foster\n",
            "setting start epoch...\n",
            "setting end epoch...\n",
            "the last day of the month is...\n",
            "30\n",
            "setting up the generator...\n",
            "setting up the dataframe...\n",
            "The number of comments for year 2019 and month 9 is 229\n",
            "starting with the month 10\n",
            "for subreddit...Ex_Foster\n",
            "setting start epoch...\n",
            "setting end epoch...\n",
            "the last day of the month is...\n",
            "31\n",
            "setting up the generator...\n",
            "setting up the dataframe...\n",
            "The number of comments for year 2019 and month 10 is 351\n",
            "starting with the month 11\n",
            "for subreddit...Ex_Foster\n",
            "setting start epoch...\n",
            "setting end epoch...\n",
            "the last day of the month is...\n",
            "30\n",
            "setting up the generator...\n",
            "setting up the dataframe...\n",
            "The number of comments for year 2019 and month 11 is 388\n",
            "starting with the month 1\n",
            "for subreddit...Ex_Foster\n",
            "setting start epoch...\n",
            "setting end epoch...\n",
            "the last day of the month is...\n",
            "31\n",
            "setting up the generator...\n",
            "setting up the dataframe...\n",
            "The number of comments for year 2020 and month 1 is 134\n",
            "starting with the month 2\n",
            "for subreddit...Ex_Foster\n",
            "setting start epoch...\n",
            "setting end epoch...\n",
            "the last day of the month is...\n",
            "29\n",
            "setting up the generator...\n",
            "setting up the dataframe...\n",
            "The number of comments for year 2020 and month 2 is 210\n",
            "starting with the month 3\n",
            "for subreddit...Ex_Foster\n",
            "setting start epoch...\n",
            "setting end epoch...\n",
            "the last day of the month is...\n",
            "31\n",
            "setting up the generator...\n",
            "setting up the dataframe...\n",
            "The number of comments for year 2020 and month 3 is 275\n",
            "starting with the month 4\n",
            "for subreddit...Ex_Foster\n",
            "setting start epoch...\n",
            "setting end epoch...\n",
            "the last day of the month is...\n",
            "30\n",
            "setting up the generator...\n",
            "setting up the dataframe...\n",
            "The number of comments for year 2020 and month 4 is 279\n",
            "starting with the month 5\n",
            "for subreddit...Ex_Foster\n",
            "setting start epoch...\n",
            "setting end epoch...\n",
            "the last day of the month is...\n",
            "31\n",
            "setting up the generator...\n",
            "setting up the dataframe...\n",
            "The number of comments for year 2020 and month 5 is 501\n",
            "starting with the month 6\n",
            "for subreddit...Ex_Foster\n",
            "setting start epoch...\n",
            "setting end epoch...\n",
            "the last day of the month is...\n",
            "30\n",
            "setting up the generator...\n",
            "setting up the dataframe...\n",
            "The number of comments for year 2020 and month 6 is 185\n",
            "starting with the month 7\n",
            "for subreddit...Ex_Foster\n",
            "setting start epoch...\n",
            "setting end epoch...\n",
            "the last day of the month is...\n",
            "31\n",
            "setting up the generator...\n",
            "setting up the dataframe...\n",
            "The number of comments for year 2020 and month 7 is 353\n",
            "starting with the month 8\n",
            "for subreddit...Ex_Foster\n",
            "setting start epoch...\n",
            "setting end epoch...\n",
            "the last day of the month is...\n",
            "31\n",
            "setting up the generator...\n",
            "setting up the dataframe...\n",
            "The number of comments for year 2020 and month 8 is 217\n",
            "starting with the month 9\n",
            "for subreddit...Ex_Foster\n",
            "setting start epoch...\n",
            "setting end epoch...\n",
            "the last day of the month is...\n",
            "30\n",
            "setting up the generator...\n",
            "setting up the dataframe...\n",
            "The number of comments for year 2020 and month 9 is 217\n",
            "starting with the month 10\n",
            "for subreddit...Ex_Foster\n",
            "setting start epoch...\n",
            "setting end epoch...\n",
            "the last day of the month is...\n",
            "31\n",
            "setting up the generator...\n",
            "setting up the dataframe...\n",
            "The number of comments for year 2020 and month 10 is 222\n",
            "starting with the month 11\n",
            "for subreddit...Ex_Foster\n",
            "setting start epoch...\n",
            "setting end epoch...\n",
            "the last day of the month is...\n",
            "30\n",
            "setting up the generator...\n",
            "setting up the dataframe...\n",
            "The number of comments for year 2020 and month 11 is 100\n"
          ],
          "name": "stdout"
        }
      ]
    },
    {
      "cell_type": "code",
      "metadata": {
        "id": "GhfVLSHpdRaf"
      },
      "source": [
        "df['clean_text'] = df.body.apply(first_pass)"
      ],
      "execution_count": 9,
      "outputs": []
    },
    {
      "cell_type": "code",
      "metadata": {
        "id": "Zqpu7QaofSDr"
      },
      "source": [
        "df['clean_text'] = df.clean_text.apply(clean_text)"
      ],
      "execution_count": 10,
      "outputs": []
    },
    {
      "cell_type": "code",
      "metadata": {
        "id": "tHOYZxQLnTen"
      },
      "source": [
        "docs = df['clean_text']"
      ],
      "execution_count": 11,
      "outputs": []
    },
    {
      "cell_type": "code",
      "metadata": {
        "colab": {
          "base_uri": "https://localhost:8080/"
        },
        "id": "XL5iBloondgC",
        "outputId": "b2d0b164-3b7e-4c08-e7b1-9afe6f87b946"
      },
      "source": [
        "docs"
      ],
      "execution_count": 12,
      "outputs": [
        {
          "output_type": "execute_result",
          "data": {
            "text/plain": [
              "0     [posting, specifically, said, coping, well, we...\n",
              "1     [really, sorry, loss, losing, tough, form, bon...\n",
              "2     [thank, courage, tell, truly, sorry, hope, alw...\n",
              "3     [sorry, loss, really, tell, photo, lucky, love...\n",
              "4     [sorry, loss, glad, love, year, hurt, loved, m...\n",
              "                            ...                        \n",
              "95    [never, option, head, supposed, live, fundamen...\n",
              "96    [thank, much, gotten, writing, always, loved, ...\n",
              "97    [going, write, detailed, reply, horrible, goin...\n",
              "98    [understand, relate, would, trying, ingrain, n...\n",
              "99    [agree, feel, foster, care, never, fault, unde...\n",
              "Name: clean_text, Length: 100, dtype: object"
            ]
          },
          "metadata": {
            "tags": []
          },
          "execution_count": 12
        }
      ]
    },
    {
      "cell_type": "code",
      "metadata": {
        "id": "qdFsC7Cgzpb1"
      },
      "source": [
        "# Get token frequencies\n",
        "from collections import defaultdict\n",
        "frequency = defaultdict(int)\n",
        "for text in docs:\n",
        "    for token in text:\n",
        "        frequency[token]+=1\n"
      ],
      "execution_count": 13,
      "outputs": []
    },
    {
      "cell_type": "code",
      "metadata": {
        "id": "mCNsnoJnztbq"
      },
      "source": [
        "wordfreq = {}\n",
        "for text in docs:\n",
        "    for token in text:\n",
        "        wordfreq[token]=frequency[token]"
      ],
      "execution_count": 14,
      "outputs": []
    },
    {
      "cell_type": "code",
      "metadata": {
        "colab": {
          "base_uri": "https://localhost:8080/"
        },
        "id": "QIJIElIXzteQ",
        "outputId": "e7f7131b-5d0e-4e8f-805e-0147b5034f9e"
      },
      "source": [
        "from itertools import islice\n",
        "\n",
        "import operator\n",
        "\n",
        "def take(n, iterable):\n",
        "    \"Return first n items of the iterable as a list\"\n",
        "    return list(islice(iterable, n))\n",
        "\n",
        "higherfreq2 = {k:v for k, v in wordfreq.items() if v>10}  \n",
        "sorted_x = sorted(higherfreq2.items(), key=operator.itemgetter(1), reverse=True)\n",
        "print(sorted_x)"
      ],
      "execution_count": 15,
      "outputs": [
        {
          "output_type": "stream",
          "text": [
            "[('like', 42), ('family', 40), ('people', 29), ('know', 26), ('going', 25), ('year', 23), ('even', 22), ('want', 22), ('care', 21), ('sorry', 21), ('life', 21), ('feel', 21), ('thing', 21), ('foster', 21), ('time', 20), ('good', 19), ('really', 17), ('home', 17), ('help', 16), ('love', 15), ('parent', 15), ('could', 14), ('always', 13), ('would', 13), ('better', 13), ('need', 12), ('someone', 12), ('also', 12), ('though', 12), ('holiday', 12), ('well', 11), ('come', 11), ('take', 11), ('make', 11), ('much', 11), ('work', 11), ('friend', 11)]\n"
          ],
          "name": "stdout"
        }
      ]
    },
    {
      "cell_type": "code",
      "metadata": {
        "colab": {
          "base_uri": "https://localhost:8080/"
        },
        "id": "dPYCgVfmztgq",
        "outputId": "d383ff5b-fdc4-4550-f476-67fa986d70b9"
      },
      "source": [
        "dictionary = corpora.Dictionary(docs)\n",
        "print(len(dictionary))\n",
        "dictionary.save('Ex_Foster.dict')\n",
        "print(dictionary)"
      ],
      "execution_count": 16,
      "outputs": [
        {
          "output_type": "stream",
          "text": [
            "1051\n",
            "Dictionary(1051 unique tokens: ['anti', 'anxiety', 'cancer', 'care', 'cleaning']...)\n"
          ],
          "name": "stdout"
        }
      ]
    },
    {
      "cell_type": "code",
      "metadata": {
        "colab": {
          "base_uri": "https://localhost:8080/"
        },
        "id": "ty8AOYko0Mpw",
        "outputId": "c5fb4a66-6768-4932-92df-1a4a15d2c1be"
      },
      "source": [
        "corpus = [dictionary.doc2bow(text) for text in docs]\n",
        "corpora.MmCorpus.serialize('Ex_Foster.mm', corpus)\n",
        "# View\n",
        "print(corpus[:1])"
      ],
      "execution_count": 17,
      "outputs": [
        {
          "output_type": "stream",
          "text": [
            "[[(0, 1), (1, 1), (2, 1), (3, 1), (4, 1), (5, 1), (6, 1), (7, 1), (8, 1), (9, 1), (10, 1), (11, 1), (12, 1), (13, 1), (14, 1), (15, 1), (16, 1), (17, 1), (18, 1), (19, 1), (20, 1), (21, 1), (22, 2), (23, 1), (24, 1), (25, 1), (26, 1), (27, 1), (28, 1), (29, 1), (30, 1), (31, 1), (32, 1), (33, 1), (34, 1), (35, 1), (36, 1), (37, 1), (38, 2), (39, 1), (40, 1), (41, 1), (42, 1), (43, 1), (44, 1), (45, 1), (46, 2), (47, 1), (48, 1)]]\n"
          ],
          "name": "stdout"
        }
      ]
    },
    {
      "cell_type": "code",
      "metadata": {
        "id": "V664sdnn0aWk"
      },
      "source": [
        "id2word = corpora.Dictionary(docs)"
      ],
      "execution_count": 18,
      "outputs": []
    },
    {
      "cell_type": "code",
      "metadata": {
        "colab": {
          "base_uri": "https://localhost:8080/"
        },
        "id": "1PQnam_N0aYw",
        "outputId": "41f91783-8f47-41ba-d8e6-2b7f87b0f26d"
      },
      "source": [
        "print(id2word[0])"
      ],
      "execution_count": 19,
      "outputs": [
        {
          "output_type": "stream",
          "text": [
            "anti\n"
          ],
          "name": "stdout"
        }
      ]
    },
    {
      "cell_type": "code",
      "metadata": {
        "colab": {
          "base_uri": "https://localhost:8080/"
        },
        "id": "14p2_1ma0aaj",
        "outputId": "399510a7-8120-423c-9cfc-e4d7a5f3651f"
      },
      "source": [
        "print([[(id2word[id], freq) for id, freq in cp] for cp in corpus[:1]])\n"
      ],
      "execution_count": 20,
      "outputs": [
        {
          "output_type": "stream",
          "text": [
            "[[('anti', 1), ('anxiety', 1), ('cancer', 1), ('care', 1), ('cleaning', 1), ('come', 1), ('coping', 1), ('could', 1), ('dead', 1), ('dealing', 1), ('describing', 1), ('died', 1), ('doctor', 1), ('easy', 1), ('enough', 1), ('felt', 1), ('find', 1), ('found', 1), ('full', 1), ('game', 1), ('going', 1), ('important', 1), ('lose', 2), ('lost', 1), ('medicine', 1), ('monday', 1), ('month', 1), ('overwhelmed', 1), ('physician', 1), ('posting', 1), ('prescribe', 1), ('primary', 1), ('real', 1), ('said', 1), ('socializing', 1), ('sometimes', 1), ('specifically', 1), ('spiraled', 1), ('stopped', 2), ('sudden', 1), ('term', 1), ('thursday', 1), ('time', 1), ('took', 1), ('un-lose', 1), ('video', 1), ('well', 2), ('without', 1), ('world', 1)]]\n"
          ],
          "name": "stdout"
        }
      ]
    },
    {
      "cell_type": "code",
      "metadata": {
        "colab": {
          "base_uri": "https://localhost:8080/"
        },
        "id": "yYCSrh4gh040",
        "outputId": "ab548528-873d-4290-d1d1-7017c14c3d37"
      },
      "source": [
        "# Can take a long time to run.\n",
        "\n",
        "limit = 210\n",
        "start = 10\n",
        "step  = 10\n",
        "\n",
        "\n",
        "\n",
        "model_list, coherence_values = compute_coherence_values(dictionary=dictionary, corpus=corpus, texts=docs, start=start, limit=limit, step=step)\n"
      ],
      "execution_count": 23,
      "outputs": [
        {
          "output_type": "stream",
          "text": [
            "saving the LDA model...\n",
            "done with model  10\n",
            "coherence metric is  0.3339214851692642\n",
            "saving the LDA model...\n",
            "done with model  20\n",
            "coherence metric is  0.3779247884197847\n",
            "saving the LDA model...\n",
            "done with model  30\n",
            "coherence metric is  0.383778137812637\n",
            "saving the LDA model...\n",
            "done with model  40\n",
            "coherence metric is  0.42161858752511866\n",
            "saving the LDA model...\n",
            "done with model  50\n",
            "coherence metric is  0.4268513967123873\n",
            "saving the LDA model...\n",
            "done with model  60\n",
            "coherence metric is  0.44229740608497214\n",
            "saving the LDA model...\n",
            "done with model  70\n",
            "coherence metric is  0.47169881149198717\n",
            "saving the LDA model...\n",
            "done with model  80\n",
            "coherence metric is  0.44894194659133396\n",
            "saving the LDA model...\n",
            "done with model  90\n",
            "coherence metric is  0.49466693333679534\n"
          ],
          "name": "stdout"
        },
        {
          "output_type": "stream",
          "text": [
            "/usr/local/lib/python3.7/dist-packages/gensim/models/ldamodel.py:1023: RuntimeWarning: divide by zero encountered in log\n",
            "  diff = np.log(self.expElogbeta)\n"
          ],
          "name": "stderr"
        },
        {
          "output_type": "stream",
          "text": [
            "saving the LDA model...\n",
            "done with model  100\n",
            "coherence metric is  0.4806486131263663\n",
            "saving the LDA model...\n",
            "done with model  110\n",
            "coherence metric is  0.4657444431231199\n",
            "saving the LDA model...\n",
            "done with model  120\n",
            "coherence metric is  0.4637898663215886\n",
            "saving the LDA model...\n",
            "done with model  130\n",
            "coherence metric is  0.4698510738749141\n",
            "saving the LDA model...\n",
            "done with model  140\n",
            "coherence metric is  0.461942983830826\n",
            "saving the LDA model...\n",
            "done with model  150\n",
            "coherence metric is  0.4457215921990442\n",
            "saving the LDA model...\n",
            "done with model  160\n",
            "coherence metric is  0.45174267720605055\n",
            "saving the LDA model...\n",
            "done with model  170\n",
            "coherence metric is  0.4564084969737782\n",
            "saving the LDA model...\n",
            "done with model  180\n",
            "coherence metric is  0.45475668178870277\n",
            "saving the LDA model...\n",
            "done with model  190\n",
            "coherence metric is  0.4498739506745625\n",
            "saving the LDA model...\n",
            "done with model  200\n",
            "coherence metric is  0.44389338712793097\n"
          ],
          "name": "stdout"
        }
      ]
    },
    {
      "cell_type": "code",
      "metadata": {
        "id": "U7MeBV5e2Sho"
      },
      "source": [
        "#these are the packages we use when plotting figures using Pandas DataFrames in a notebook. \n",
        "#check the introduction to Pandas for details (https://github.com/tawfiqam/MI564/blob/main/Pandas_Introduction.ipynb)\n",
        "import matplotlib.pyplot as plt\n",
        "plt.rcParams.update({'font.size':20,'figure.figsize':(10,8)})"
      ],
      "execution_count": 24,
      "outputs": []
    },
    {
      "cell_type": "code",
      "metadata": {
        "colab": {
          "base_uri": "https://localhost:8080/",
          "height": 516
        },
        "id": "qa563XQqh827",
        "outputId": "64d27714-32d3-4adb-9630-17f2ee06ac96"
      },
      "source": [
        "# Show graph\n",
        "#this will change\n",
        "fig = plt.gcf()\n",
        "\n",
        "limit=limit; start=start; step=step;\n",
        "x = range(start, limit, step)\n",
        "plt.plot(x, coherence_values)\n",
        "plt.xlabel(\"Number of Topics\")\n",
        "plt.ylabel(\"Coherence score\")\n",
        "plt.legend((\"coherence_values\"), loc='best')\n",
        "plt.show()\n",
        "fig.savefig('LDA_models_coherence.jpg')\n",
        "\n"
      ],
      "execution_count": 25,
      "outputs": [
        {
          "output_type": "display_data",
          "data": {
            "image/png": "[encoded data removed]",
            "text/plain": [
              "<Figure size 720x576 with 1 Axes>"
            ]
          },
          "metadata": {
            "tags": [],
            "needs_background": "light"
          }
        }
      ]
    },
    {
      "cell_type": "code",
      "metadata": {
        "colab": {
          "base_uri": "https://localhost:8080/"
        },
        "id": "O2oKDv8_1tOE",
        "outputId": "de08fa22-7a6c-43db-c070-3b046a78e91a"
      },
      "source": [
        "# Print the coherence scores\n",
        "coherence = zip(x, coherence_values)\n",
        "sorted_coherence = sorted(coherence, key=lambda x: x[1], reverse=True)\n",
        "\n",
        "print(sorted_coherence)\n",
        "\n",
        "for m, cv in sorted_coherence:\n",
        "    print(\"Num Topics =\", m, \" has Coherence Value of\", round(cv, 4))"
      ],
      "execution_count": 26,
      "outputs": [
        {
          "output_type": "stream",
          "text": [
            "[(90, 0.49466693333679534), (100, 0.4806486131263663), (70, 0.47169881149198717), (130, 0.4698510738749141), (110, 0.4657444431231199), (120, 0.4637898663215886), (140, 0.461942983830826), (170, 0.4564084969737782), (180, 0.45475668178870277), (160, 0.45174267720605055), (190, 0.4498739506745625), (80, 0.44894194659133396), (150, 0.4457215921990442), (200, 0.44389338712793097), (60, 0.44229740608497214), (50, 0.4268513967123873), (40, 0.42161858752511866), (30, 0.383778137812637), (20, 0.3779247884197847), (10, 0.3339214851692642)]\n",
            "Num Topics = 90  has Coherence Value of 0.4947\n",
            "Num Topics = 100  has Coherence Value of 0.4806\n",
            "Num Topics = 70  has Coherence Value of 0.4717\n",
            "Num Topics = 130  has Coherence Value of 0.4699\n",
            "Num Topics = 110  has Coherence Value of 0.4657\n",
            "Num Topics = 120  has Coherence Value of 0.4638\n",
            "Num Topics = 140  has Coherence Value of 0.4619\n",
            "Num Topics = 170  has Coherence Value of 0.4564\n",
            "Num Topics = 180  has Coherence Value of 0.4548\n",
            "Num Topics = 160  has Coherence Value of 0.4517\n",
            "Num Topics = 190  has Coherence Value of 0.4499\n",
            "Num Topics = 80  has Coherence Value of 0.4489\n",
            "Num Topics = 150  has Coherence Value of 0.4457\n",
            "Num Topics = 200  has Coherence Value of 0.4439\n",
            "Num Topics = 60  has Coherence Value of 0.4423\n",
            "Num Topics = 50  has Coherence Value of 0.4269\n",
            "Num Topics = 40  has Coherence Value of 0.4216\n",
            "Num Topics = 30  has Coherence Value of 0.3838\n",
            "Num Topics = 20  has Coherence Value of 0.3779\n",
            "Num Topics = 10  has Coherence Value of 0.3339\n"
          ],
          "name": "stdout"
        }
      ]
    },
    {
      "cell_type": "code",
      "metadata": {
        "colab": {
          "base_uri": "https://localhost:8080/"
        },
        "id": "iY9UELOG2wXy",
        "outputId": "1acb3f39-ba51-4d84-94aa-a379ed46831b"
      },
      "source": [
        "#pretty print is used to show models in a claen way\n",
        "import pprint\n",
        "# Select the model and print the topics\n",
        "optimal_model = model_list[1]\n",
        "model_topics = optimal_model.show_topics(formatted=True)\n",
        "topics= optimal_model.print_topics(num_words=20)\n",
        "topics"
      ],
      "execution_count": 27,
      "outputs": [
        {
          "output_type": "execute_result",
          "data": {
            "text/plain": [
              "[(0,\n",
              "  '0.032*\"going\" + 0.019*\"nothing\" + 0.019*\"year\" + 0.019*\"think\" + 0.013*\"actually\" + 0.013*\"question\" + 0.013*\"last\" + 0.013*\"away\" + 0.013*\"therapist\" + 0.013*\"alone\" + 0.013*\"like\" + 0.007*\"part\" + 0.007*\"family\" + 0.007*\"need\" + 0.007*\"experience\" + 0.007*\"outside\" + 0.007*\"vulnerable\" + 0.007*\"pain\" + 0.007*\"people\" + 0.007*\"state\"'),\n",
              " (1,\n",
              "  '0.026*\"work\" + 0.017*\"could\" + 0.017*\"help\" + 0.017*\"federal\" + 0.017*\"background\" + 0.017*\"answer\" + 0.017*\"check\" + 0.017*\"best\" + 0.009*\"everyone\" + 0.009*\"anything\" + 0.009*\"year\" + 0.009*\"reason\" + 0.009*\"told\" + 0.009*\"shipping\" + 0.009*\"verified\" + 0.009*\"rejected\" + 0.009*\"valuable\" + 0.009*\"identity\" + 0.009*\"childhood\" + 0.009*\"asked\"'),\n",
              " (2,\n",
              "  '0.037*\"gift\" + 0.028*\"someone\" + 0.028*\"could\" + 0.019*\"wanted\" + 0.019*\"answer\" + 0.019*\"christmas\" + 0.019*\"money\" + 0.010*\"never\" + 0.010*\"wish\" + 0.010*\"want\" + 0.010*\"child\" + 0.010*\"good\" + 0.010*\"must\" + 0.010*\"much\" + 0.010*\"head\" + 0.010*\"live\" + 0.010*\"supposed\" + 0.010*\"fundamental\" + 0.010*\"truth\" + 0.010*\"option\"'),\n",
              " (3,\n",
              "  '0.018*\"foster\" + 0.018*\"going\" + 0.013*\"time\" + 0.011*\"care\" + 0.011*\"year\" + 0.011*\"love\" + 0.011*\"step\" + 0.008*\"even\" + 0.008*\"home\" + 0.008*\"group\" + 0.008*\"took\" + 0.008*\"back\" + 0.008*\"well\" + 0.008*\"would\" + 0.008*\"since\" + 0.008*\"therapy\" + 0.008*\"family\" + 0.008*\"different\" + 0.005*\"people\" + 0.005*\"sorry\"'),\n",
              " (4,\n",
              "  '0.024*\"sound\" + 0.016*\"like\" + 0.016*\"year\" + 0.016*\"thank\" + 0.016*\"getting\" + 0.008*\"though\" + 0.008*\"level\" + 0.008*\"know\" + 0.008*\"well\" + 0.008*\"hope\" + 0.008*\"really\" + 0.008*\"life\" + 0.008*\"family\" + 0.008*\"even\" + 0.008*\"feel\" + 0.008*\"future\" + 0.008*\"look\" + 0.008*\"usually\" + 0.008*\"better\" + 0.008*\"back\"'),\n",
              " (5,\n",
              "  '0.036*\"people\" + 0.025*\"like\" + 0.021*\"care\" + 0.020*\"good\" + 0.017*\"want\" + 0.017*\"even\" + 0.017*\"feel\" + 0.017*\"know\" + 0.017*\"life\" + 0.014*\"understand\" + 0.011*\"come\" + 0.011*\"friend\" + 0.011*\"never\" + 0.011*\"sometimes\" + 0.011*\"personal\" + 0.008*\"family\" + 0.008*\"year\" + 0.008*\"trying\" + 0.008*\"better\" + 0.008*\"said\"'),\n",
              " (6,\n",
              "  '0.027*\"like\" + 0.020*\"make\" + 0.020*\"quiet\" + 0.013*\"family\" + 0.013*\"sure\" + 0.013*\"something\" + 0.013*\"know\" + 0.013*\"want\" + 0.013*\"come\" + 0.013*\"think\" + 0.013*\"traditional\" + 0.013*\"holiday\" + 0.007*\"back\" + 0.007*\"always\" + 0.007*\"declaring\" + 0.007*\"crisis\" + 0.007*\"miss\" + 0.007*\"holding\" + 0.007*\"forth\" + 0.007*\"existential\"'),\n",
              " (7,\n",
              "  '0.024*\"going\" + 0.018*\"well\" + 0.016*\"thing\" + 0.012*\"people\" + 0.012*\"help\" + 0.012*\"year\" + 0.012*\"long\" + 0.012*\"drug\" + 0.012*\"advice\" + 0.012*\"therapist\" + 0.012*\"wish\" + 0.012*\"hand\" + 0.012*\"something\" + 0.012*\"front\" + 0.012*\"nephew\" + 0.012*\"home\" + 0.012*\"good\" + 0.008*\"care\" + 0.006*\"gift\" + 0.006*\"could\"'),\n",
              " (8,\n",
              "  '0.032*\"feel\" + 0.022*\"thank\" + 0.017*\"like\" + 0.016*\"want\" + 0.016*\"sorry\" + 0.016*\"also\" + 0.016*\"love\" + 0.016*\"free\" + 0.013*\"holiday\" + 0.012*\"talk\" + 0.011*\"people\" + 0.011*\"hope\" + 0.011*\"someone\" + 0.011*\"message\" + 0.011*\"trauma\" + 0.011*\"courage\" + 0.011*\"lose\" + 0.011*\"tell\" + 0.011*\"belong\" + 0.011*\"cope\"'),\n",
              " (9,\n",
              "  '0.024*\"sorry\" + 0.020*\"time\" + 0.016*\"like\" + 0.016*\"username\" + 0.012*\"even\" + 0.012*\"need\" + 0.012*\"year\" + 0.012*\"want\" + 0.012*\"hope\" + 0.012*\"loss\" + 0.008*\"also\" + 0.008*\"keep\" + 0.008*\"loved\" + 0.008*\"social\" + 0.008*\"love\" + 0.008*\"friend\" + 0.008*\"much\" + 0.008*\"medium\" + 0.008*\"someone\" + 0.008*\"reddit\"'),\n",
              " (10,\n",
              "  '0.027*\"going\" + 0.018*\"family\" + 0.018*\"know\" + 0.018*\"like\" + 0.018*\"chose\" + 0.018*\"happy\" + 0.018*\"state\" + 0.018*\"tell\" + 0.009*\"help\" + 0.009*\"feel\" + 0.009*\"love\" + 0.009*\"deserves\" + 0.009*\"hopeless\" + 0.009*\"judging\" + 0.009*\"describing\" + 0.009*\"advocate\" + 0.009*\"better\" + 0.009*\"totally\" + 0.009*\"much\" + 0.009*\"truth\"'),\n",
              " (11,\n",
              "  '0.023*\"family\" + 0.017*\"thing\" + 0.017*\"credit\" + 0.017*\"know\" + 0.016*\"like\" + 0.013*\"score\" + 0.013*\"help\" + 0.011*\"parent\" + 0.010*\"someone\" + 0.010*\"apartment\" + 0.010*\"would\" + 0.010*\"foster\" + 0.010*\"still\" + 0.010*\"maybe\" + 0.010*\"first\" + 0.010*\"happy\" + 0.010*\"good\" + 0.010*\"staying\" + 0.009*\"holiday\" + 0.007*\"work\"'),\n",
              " (12,\n",
              "  '0.039*\"family\" + 0.016*\"even\" + 0.011*\"home\" + 0.011*\"know\" + 0.011*\"still\" + 0.011*\"would\" + 0.011*\"right\" + 0.009*\"time\" + 0.009*\"thing\" + 0.009*\"might\" + 0.009*\"another\" + 0.007*\"people\" + 0.007*\"nothing\" + 0.007*\"though\" + 0.007*\"little\" + 0.007*\"great\" + 0.007*\"remember\" + 0.007*\"father\" + 0.007*\"month\" + 0.007*\"seven\"'),\n",
              " (13,\n",
              "  '0.016*\"great\" + 0.016*\"able\" + 0.016*\"usually\" + 0.016*\"system\" + 0.016*\"like\" + 0.016*\"life\" + 0.016*\"experience\" + 0.016*\"used\" + 0.016*\"positive\" + 0.016*\"living\" + 0.016*\"something\" + 0.016*\"forget\" + 0.001*\"family\" + 0.001*\"even\" + 0.001*\"might\" + 0.001*\"sure\" + 0.001*\"still\" + 0.001*\"right\" + 0.001*\"remember\" + 0.001*\"thing\"'),\n",
              " (14,\n",
              "  '0.019*\"better\" + 0.019*\"stigma\" + 0.019*\"stay\" + 0.001*\"spend\" + 0.001*\"telling\" + 0.001*\"send\" + 0.001*\"rocking\" + 0.001*\"immediate\" + 0.001*\"holding\" + 0.001*\"forth\" + 0.001*\"existential\" + 0.001*\"declaring\" + 0.001*\"crisis\" + 0.001*\"corner\" + 0.001*\"cheerfully\" + 0.001*\"yeah\" + 0.001*\"signing\" + 0.001*\"mushroom\" + 0.001*\"chosen\" + 0.001*\"serious\"'),\n",
              " (15,\n",
              "  '0.027*\"place\" + 0.020*\"like\" + 0.013*\"person\" + 0.013*\"therapy\" + 0.013*\"somebody\" + 0.013*\"moment\" + 0.013*\"best\" + 0.013*\"care\" + 0.013*\"work\" + 0.013*\"program\" + 0.013*\"stuck\" + 0.007*\"might\" + 0.007*\"actually\" + 0.007*\"good\" + 0.007*\"first\" + 0.007*\"foster\" + 0.007*\"keep\" + 0.007*\"since\" + 0.007*\"thoughtful\" + 0.007*\"source\"'),\n",
              " (16,\n",
              "  '0.017*\"right\" + 0.017*\"support\" + 0.017*\"post-questioning\" + 0.017*\"nice\" + 0.017*\"sending\" + 0.017*\"gift\" + 0.017*\"receive\" + 0.017*\"come\" + 0.017*\"amazing\" + 0.017*\"love\" + 0.001*\"family\" + 0.001*\"even\" + 0.001*\"might\" + 0.001*\"would\" + 0.001*\"month\" + 0.001*\"mention\" + 0.001*\"matter\" + 0.001*\"father\" + 0.001*\"sure\" + 0.001*\"still\"'),\n",
              " (17,\n",
              "  '0.028*\"friend\" + 0.026*\"parent\" + 0.019*\"niece\" + 0.019*\"similar\" + 0.018*\"world\" + 0.018*\"time\" + 0.018*\"care\" + 0.010*\"chaos\" + 0.010*\"abandoned\" + 0.010*\"repeating\" + 0.010*\"teen\" + 0.010*\"healthy\" + 0.010*\"cousin\" + 0.010*\"relieved\" + 0.010*\"bond\" + 0.010*\"isolated\" + 0.010*\"violence\" + 0.010*\"interest\" + 0.010*\"ended\" + 0.010*\"girl\"'),\n",
              " (18,\n",
              "  '0.032*\"like\" + 0.024*\"feel\" + 0.024*\"take\" + 0.024*\"really\" + 0.016*\"want\" + 0.016*\"every\" + 0.016*\"life\" + 0.016*\"definitely\" + 0.008*\"difficult\" + 0.008*\"better\" + 0.008*\"going\" + 0.008*\"people\" + 0.008*\"remember\" + 0.008*\"sure\" + 0.008*\"actually\" + 0.008*\"make\" + 0.008*\"thing\" + 0.008*\"loss\" + 0.008*\"basic\" + 0.008*\"loved\"'),\n",
              " (19,\n",
              "  '0.020*\"foster\" + 0.016*\"really\" + 0.016*\"sort\" + 0.016*\"parent\" + 0.012*\"life\" + 0.012*\"sorry\" + 0.012*\"thing\" + 0.012*\"maybe\" + 0.008*\"like\" + 0.008*\"sometimes\" + 0.008*\"place\" + 0.008*\"know\" + 0.008*\"different\" + 0.008*\"much\" + 0.008*\"healing\" + 0.008*\"volunteering\" + 0.008*\"writing\" + 0.008*\"grieve\" + 0.008*\"home\" + 0.008*\"going\"')]"
            ]
          },
          "metadata": {
            "tags": []
          },
          "execution_count": 27
        }
      ]
    },
    {
      "cell_type": "code",
      "metadata": {
        "colab": {
          "base_uri": "https://localhost:8080/"
        },
        "id": "MhQHjmPM3qEC",
        "outputId": "18deb4b2-2bbe-4000-bff9-ac31ce18500e"
      },
      "source": [
        "optimal_model.num_topics"
      ],
      "execution_count": 28,
      "outputs": [
        {
          "output_type": "execute_result",
          "data": {
            "text/plain": [
              "20"
            ]
          },
          "metadata": {
            "tags": []
          },
          "execution_count": 28
        }
      ]
    },
    {
      "cell_type": "code",
      "metadata": {
        "colab": {
          "base_uri": "https://localhost:8080/"
        },
        "id": "6UtM9a6j3wjq",
        "outputId": "417c7837-f5c3-4fad-bf8e-22a6ce0c618d"
      },
      "source": [
        "!pip install pyLDAvis==3.2.2"
      ],
      "execution_count": 29,
      "outputs": [
        {
          "output_type": "stream",
          "text": [
            "Requirement already satisfied: pyLDAvis==3.2.2 in /usr/local/lib/python3.7/dist-packages (3.2.2)\n",
            "Requirement already satisfied: joblib>=0.8.4 in /usr/local/lib/python3.7/dist-packages (from pyLDAvis==3.2.2) (1.0.1)\n",
            "Requirement already satisfied: numpy>=1.9.2 in /usr/local/lib/python3.7/dist-packages (from pyLDAvis==3.2.2) (1.20.2)\n",
            "Requirement already satisfied: jinja2>=2.7.2 in /usr/local/lib/python3.7/dist-packages (from pyLDAvis==3.2.2) (2.11.3)\n",
            "Requirement already satisfied: pandas>=0.17.0; python_version > \"3.5\" in /usr/local/lib/python3.7/dist-packages (from pyLDAvis==3.2.2) (1.2.3)\n",
            "Requirement already satisfied: future in /usr/local/lib/python3.7/dist-packages (from pyLDAvis==3.2.2) (0.16.0)\n",
            "Requirement already satisfied: funcy in /usr/local/lib/python3.7/dist-packages (from pyLDAvis==3.2.2) (1.15)\n",
            "Requirement already satisfied: scipy>=0.18.0 in /usr/local/lib/python3.7/dist-packages (from pyLDAvis==3.2.2) (1.4.1)\n",
            "Requirement already satisfied: wheel>=0.23.0 in /usr/local/lib/python3.7/dist-packages (from pyLDAvis==3.2.2) (0.36.2)\n",
            "Requirement already satisfied: numexpr in /usr/local/lib/python3.7/dist-packages (from pyLDAvis==3.2.2) (2.7.3)\n",
            "Requirement already satisfied: MarkupSafe>=0.23 in /usr/local/lib/python3.7/dist-packages (from jinja2>=2.7.2->pyLDAvis==3.2.2) (1.1.1)\n",
            "Requirement already satisfied: pytz>=2017.3 in /usr/local/lib/python3.7/dist-packages (from pandas>=0.17.0; python_version > \"3.5\"->pyLDAvis==3.2.2) (2018.9)\n",
            "Requirement already satisfied: python-dateutil>=2.7.3 in /usr/local/lib/python3.7/dist-packages (from pandas>=0.17.0; python_version > \"3.5\"->pyLDAvis==3.2.2) (2.8.1)\n",
            "Requirement already satisfied: six>=1.5 in /usr/local/lib/python3.7/dist-packages (from python-dateutil>=2.7.3->pandas>=0.17.0; python_version > \"3.5\"->pyLDAvis==3.2.2) (1.15.0)\n"
          ],
          "name": "stdout"
        }
      ]
    },
    {
      "cell_type": "code",
      "metadata": {
        "colab": {
          "base_uri": "https://localhost:8080/",
          "height": 861
        },
        "id": "UkmKb4qd23wm",
        "outputId": "21f6d82e-5f2e-4d07-8854-115d34776ff3"
      },
      "source": [
        "# Visualize the topics\n",
        "import pyLDAvis\n",
        "import pyLDAvis.gensim\n",
        "pyLDAvis.enable_notebook()\n",
        "vis = pyLDAvis.gensim.prepare(optimal_model, corpus, id2word)\n",
        "vis"
      ],
      "execution_count": 31,
      "outputs": [
        {
          "output_type": "execute_result",
          "data": {
            "text/html": [
              "\n",
              "<link rel=\"stylesheet\" type=\"text/css\" href=\"https://cdn.jsdelivr.net/gh/bmabey/pyLDAvis@3.2.2/pyLDAvis/js/ldavis.v1.0.0.css\">\n",
              "\n",
              "\n",
              "<div id=\"ldavis_el27081404924270659364114493775\"></div>\n",
              "<script type=\"text/javascript\">\n",
              "\n",
              "var ldavis_el27081404924270659364114493775_data = {\"mdsDat\": {\"x\": [-0.06317397878813034, -0.01978634984519275, -0.18942677825740142, -0.07946304943360005, -0.053848323551917404, -0.07997034319026415, -0.08809824108597325, 0.10484327806500991, 0.015415080108151319, -0.03142836044936284, 0.06369779721999749, -0.022431514289299292, -0.003944258165565488, 0.11204512598725384, -0.0032600912038316097, 0.07154311571917753, 0.10823210658962822, 0.046296195705727794, 0.061049203773277064, 0.05170938509231505], \"y\": [-0.13962400472810324, -0.11403161770620224, 0.01773542150906494, -0.10861328667919846, -0.032646513833936734, 0.12252595131644636, 0.13087129080720789, -0.014591045375606113, -0.04856069230987129, 0.022379394140453212, -0.008598150478446713, 0.06513846215922994, 0.043805922099920555, 0.001896336923827636, -0.023265447069802936, 0.018005510622854753, 0.057900777761498066, 0.001472345436609497, 0.005343144515088612, 0.0028562008889659605], \"topics\": [1, 2, 3, 4, 5, 6, 7, 8, 9, 10, 11, 12, 13, 14, 15, 16, 17, 18, 19, 20], \"cluster\": [1, 1, 1, 1, 1, 1, 1, 1, 1, 1, 1, 1, 1, 1, 1, 1, 1, 1, 1, 1], \"Freq\": [14.584926597401134, 12.34700654287955, 11.658642329541474, 9.217518222713831, 7.604724249151689, 7.177122648022754, 4.990941799390529, 4.481846004828084, 3.9249714266974887, 3.7941353827828967, 3.772514453930568, 2.8861338107221397, 2.8219432457965485, 2.586189473529743, 2.3450211792447826, 2.3011068714211906, 2.179349997657674, 0.5871159668166606, 0.48413795194987563, 0.2546518455213897]}, \"tinfo\": {\"Term\": [\"like\", \"going\", \"feel\", \"love\", \"life\", \"parent\", \"better\", \"come\", \"right\", \"friend\", \"family\", \"time\", \"could\", \"care\", \"someone\", \"want\", \"know\", \"work\", \"great\", \"really\", \"place\", \"something\", \"year\", \"sorry\", \"gift\", \"thank\", \"good\", \"nice\", \"able\", \"people\", \"father\", \"seven\", \"marriage\", \"mention\", \"area\", \"horse\", \"given\", \"uncle\", \"autonomy\", \"grew\", \"becoming\", \"adoption\", \"mind\", \"month\", \"matter\", \"another\", \"might\", \"*usually*\", \"casually\", \"defaulted\", \"hanging\", \"movie\", \"pick\", \"relaxing.\", \"tone\", \"watching\", \"*facepalm*\", \"forgot\", \"percent\", \"kicked\", \"right\", \"wonderful\", \"possibility\", \"sadly\", \"family\", \"still\", \"build\", \"independence\", \"letting\", \"little\", \"would\", \"remember\", \"even\", \"home\", \"nothing\", \"know\", \"sure\", \"great\", \"time\", \"thing\", \"though\", \"need\", \"people\", \"always\", \"parent\", \"wanted\", \"going\", \"step\", \"//www.fosterclub.com/blog/real-stories\", \"http\", \"mature\", \"reunification\", \"called\", \"fridge\", \"dealing\", \"mother\", \"goal\", \"next\", \"style\", \"worth\", \"took\", \"live\", \"contacting\", \"explaining\", \"tried\", \"applaud\", \"article\", \"detailed\", \"horrible\", \"intelligent\", \"publish\", \"reading\", \"well-written\", \"reach\", \"final\", \"reunited\", \"wishing\", \"part\", \"group\", \"stopped\", \"knew\", \"find\", \"aunt\", \"since\", \"therapy\", \"foster\", \"going\", \"difficult\", \"coping\", \"without\", \"back\", \"important\", \"love\", \"time\", \"well\", \"care\", \"year\", \"different\", \"would\", \"home\", \"even\", \"family\", \"people\", \"sorry\", \"know\", \"nothing\", \"though\", \"former\", \"understood\", \"boundary\", \"made\", \"learned\", \"explain\", \"hurting\", \"anybody\", \"personal\", \"certainly\", \"understand\", \"chosen\", \"connect\", \"invite\", \"join\", \"discussion\", \"stopping\", \"emotionally\", \"lesson\", \"combined\", \"suffered\", \"financially\", \"sixteen\", \"nots\", \"built\", \"stable\", \"listening\", \"single\", \"community\", \"drowning\", \"resonate\", \"person\", \"happened\", \"vent\", \"felt\", \"deserve\", \"truly\", \"people\", \"trying\", \"anger\", \"never\", \"thought\", \"sometimes\", \"start\", \"good\", \"care\", \"around\", \"come\", \"friend\", \"already\", \"feel\", \"life\", \"like\", \"want\", \"even\", \"know\", \"said\", \"better\", \"always\", \"really\", \"time\", \"foster\", \"year\", \"family\", \"thing\", \"credit\", \"score\", \"apartment\", \"half\", \"insurance\", \"rather\", \"anytime\", \"many\", \"exponentially\", \"memory\", \"druggie\", \"forced\", \"meaningless\", \"sorted\", \"talked\", \"vented\", \"wonder\", \"adhd\", \"medication\", \"pill\", \"prolly\", \"sleep\", \"description\", \"pressed\", \"remain\", \"adoptive\", \"baby\", \"tighten\", \"trust\", \"unit\", \"staying\", \"case\", \"divorce\", \"started\", \"problem\", \"maybe\", \"first\", \"thing\", \"help\", \"happy\", \"family\", \"still\", \"know\", \"today\", \"someone\", \"usually\", \"plan\", \"parent\", \"would\", \"like\", \"holiday\", \"show\", \"good\", \"foster\", \"work\", \"hard\", \"really\", \"different\", \"year\", \"sort\", \"grieve\", \"volunteering\", \"loving\", \"situation\", \"fantasizing\", \"necessarily\", \"assimilate\", \"youth\", \"/r/fosterit\", \"link\", \"brings\", \"closer\", \"interested\", \"passionate\", \"recovery\", \"gotten\", \"learn\", \"acceptance\", \"authentic\", \"challenging\", \"oscillation\", \"non-profit\", \"adapt\", \"rescue\", \"meaningful\", \"described\", \"tremendously\", \"growing\", \"children/youth\", \"writing\", \"healing\", \"maybe\", \"parent\", \"foster\", \"really\", \"mean\", \"past\", \"give\", \"life\", \"sorry\", \"thing\", \"sometimes\", \"place\", \"much\", \"make\", \"different\", \"love\", \"home\", \"going\", \"know\", \"like\", \"family\", \"medium\", \"clean\", \"leaf\", \"yard\", \"username\", \"lucky\", \"begrudge\", \"loud\", \"beach\", \"indulge\", \"watch\", \"facebook\", \"site\", \"realized\", \"signed\", \"text\", \"grief\", \"hollowed\", \"shallot\", \"opportunity\", \"reality\", \"universe\", \"challenge\", \"medicate\", \"wiped\", \"pivot\", \"magic\", \"emotion\", \"order\", \"sneak\", \"reddit\", \"sorry\", \"social\", \"beautiful\", \"loss\", \"hope\", \"time\", \"need\", \"loved\", \"please\", \"like\", \"want\", \"year\", \"even\", \"keep\", \"work\", \"much\", \"friend\", \"someone\", \"also\", \"could\", \"love\", \"good\", \"feel\", \"family\", \"courage\", \"belong\", \"cope\", \"internet\", \"companion\", \"nowadays\", \"online\", \"processing\", \"acknowledging\", \"define\", \"proud\", \"supported\", \"valid\", \"depressed\", \"somehow\", \"fest\", \"mushroom\", \"teacher\", \"worrying\", \"unsettling\", \"prefer\", \"face\", \"invitation\", \"awkward\", \"overall\", \"welcome\", \"straight\", \"stare\", \"burden\", \"comparison\", \"free\", \"message\", \"trauma\", \"asking\", \"thank\", \"feel\", \"also\", \"lose\", \"talk\", \"love\", \"sorry\", \"want\", \"holiday\", \"hope\", \"tell\", \"hard\", \"like\", \"someone\", \"always\", \"people\", \"family\", \"help\", \"life\", \"home\", \"good\", \"well\", \"advice\", \"hand\", \"front\", \"nephew\", \"approval\", \"defensiveness\", \"depression\", \"inch\", \"mental\", \"offered\", \"opiate/\", \"patient\", \"position\", \"second\", \"slap\", \"stated\", \"transition\", \"view\", \"bipolar\", \"disorder\", \"ex\\\\_foster\", \"touched\", \"fault\", \"meaning\", \"kitten\", \"insensitive\", \"business\", \"fostering\", \"compared\", \"attempt\", \"drug\", \"well\", \"going\", \"long\", \"wish\", \"therapist\", \"something\", \"thing\", \"help\", \"home\", \"good\", \"year\", \"people\", \"care\", \"gift\", \"could\", \"also\", \"santa\", \"around\", \"sign\", \"nice\", \"secret\", \"able\", \"without\", \"point\", \"open\", \"closest\", \"professional\", \"vital\", \"decides\", \"lawyer\", \"spent\", \"celebrate\", \"offer\", \"trip\", \"dream\", \"scared\", \"drop\", \"wallow\", \"grandmother\", \"comforting\", \"shoe\", \"taught\", \"loosely\", \"permission\", \"cooking\", \"recently\", \"self-pity\", \"pack\", \"difference\", \"overnight\", \"away\", \"walk\", \"pity\", \"alone\", \"stop\", \"nothing\", \"last\", \"think\", \"going\", \"actually\", \"therapist\", \"question\", \"year\", \"like\", \"part\", \"family\", \"need\", \"experience\", \"outside\", \"vulnerable\", \"pain\", \"people\", \"state\", \"well\", \"every\", \"really\", \"know\", \"needed\", \"look\", \"usually\", \"gone\", \"system\", \"anymore\", \"traditional\", \"quiet\", \"cheerfully\", \"corner\", \"crisis\", \"declaring\", \"existential\", \"forth\", \"holding\", \"immediate\", \"rocking\", \"spend\", \"making\", \"surprise\", \"shrug\", \"silent\", \"expect\", \"aspect\", \"emphasize\", \"food\", \"change\", \"overrated\", \"attention\", \"chinese\", \"chill\", \"share\", \"\\ud83e\\udd37\\ud83c\\udffb\\u200d\\u2640\\ufe0f\", \"smaller\", \"control\", \"imma\", \"make\", \"like\", \"something\", \"think\", \"sure\", \"come\", \"holiday\", \"want\", \"know\", \"family\", \"back\", \"always\", \"world\", \"form\", \"sorry\", \"miss\", \"alone\", \"question\", \"avoid\", \"somebody\", \"thoughtful\", \"access\", \"college\", \"ironically\", \"manager\", \"self-appreciation\", \"strategy\", \"grounding\", \"waiting\", \"instead\", \"functional\", \"pass\", \"technique\", \"self-reliance\", \"changing\", \"self-love\", \"third\", \"begin\", \"unhealthy\", \"service\", \"mine\", \"evil\", \"stuck\", \"moment\", \"information\", \"become\", \"looking\", \"sponsor\", \"source\", \"place\", \"program\", \"person\", \"best\", \"therapy\", \"work\", \"like\", \"care\", \"might\", \"actually\", \"good\", \"first\", \"foster\", \"keep\", \"since\", \"thank\", \"response\", \"luck\", \"appreciate\", \"level\", \"blessing\", \"cared\", \"explained\", \"losing\", \"mess\", \"screw\", \"self-isolate\", \"starting\", \"tend\", \"everyday\", \"interaction\", \"note\", \"serious\", \"tough\", \"bond\", \"walk\", \"self\", \"basic\", \"childhood\", \"definitely\", \"least\", \"wonderful\", \"take\", \"christmas\", \"form\", \"every\", \"level\", \"telling\", \"beautiful\", \"difficult\", \"really\", \"feel\", \"like\", \"life\", \"want\", \"better\", \"going\", \"people\", \"remember\", \"sure\", \"actually\", \"make\", \"thing\", \"loss\", \"loved\", \"today\", \"home\", \"care\", \"easy\", \"world\", \"cried\", \"loneliness\", \"passing\", \"pray\", \"sucky\", \"wrote\", \"decision\", \"homeschool\", \"training\", \"info\", \"initiative\", \"left\", \"candidate\", \"category\", \"detail\", \"disclose\", \"employer\", \"fail\", \"generally\", \"pass/fail\", \"result\", \"return\", \"hate\", \"giving\", \"told\", \"failed\", \"information\", \"avoid\", \"thanksgiving\", \"deep\", \"sound\", \"getting\", \"thank\", \"year\", \"like\", \"though\", \"level\", \"know\", \"well\", \"hope\", \"really\", \"life\", \"family\", \"even\", \"feel\", \"look\", \"usually\", \"future\", \"posting\", \"sorry\", \"post\", \"vulnerable\", \"better\", \"friend\", \"good\", \"hang\", \"nice\", \"read\", \"back\", \"background\", \"federal\", \"approved\", \"dose\", \"estrogen\", \"mark\", \"negative\", \"opiate/benzo\", \"valuable\", \"grateful\", \"ignoring\", \"muster\", \"tool\", \"asked\", \"clearance\", \"depends\", \"government\", \"list\", \"match\", \"port\", \"rejected\", \"shipping\", \"verified\", \"check\", \"address\", \"interest\", \"told\", \"failed\", \"decline\", \"identity\", \"work\", \"best\", \"answer\", \"could\", \"help\", \"everyone\", \"anything\", \"year\", \"reason\", \"life\", \"thank\", \"every\", \"much\", \"right\", \"anymore\", \"drug\", \"okay\", \"past\", \"therapist\", \"thing\", \"chose\", \"daunting\", \"deserves\", \"hopeless\", \"judging\", \"rule\", \"thread\", \"board\", \"chapter\", \"tough\", \"enjoy\", \"stuff\", \"daughter\", \"advocate\", \"anyway\", \"typical\", \"reply\", \"safe\", \"adopt\", \"honest\", \"truth\", \"close\", \"cousin\", \"story\", \"sister\", \"late\", \"else\", \"state\", \"describing\", \"adopted\", \"tell\", \"happy\", \"going\", \"know\", \"like\", \"family\", \"help\", \"feel\", \"love\", \"much\", \"better\", \"totally\", \"still\", \"keep\", \"parent\", \"niece\", \"chaos\", \"abandoned\", \"repeating\", \"relieved\", \"isolated\", \"violence\", \"ended\", \"skill\", \"protect\", \"allow\", \"fostered\", \"behavior\", \"over-it\", \"zero\", \"witnessed\", \"stint-so\", \"similar\", \"interest\", \"bond\", \"stepkids\", \"allowed\", \"teen\", \"healthy\", \"girl\", \"supposed\", \"world\", \"cycle\", \"cousin\", \"adult\", \"friend\", \"parent\", \"time\", \"care\", \"former\", \"state\", \"come\", \"gift\", \"must\", \"fundamental\", \"option\", \"yeah\", \"matched\", \"signing\", \"comfortable\", \"eyeshadow\", \"send\", \"ex-foster\", \"palette/whatever\", \"headphones/an\", \"sharing\", \"redditgifts\", \"money\", \"christmas\", \"address\", \"secret\", \"santa\", \"enough\", \"supposed\", \"truth\", \"stranger\", \"head\", \"answer\", \"wanting\", \"youth\", \"live\", \"wanted\", \"someone\", \"could\", \"never\", \"wish\", \"want\", \"child\", \"much\", \"good\", \"living\", \"positive\", \"forget\", \"experience\", \"system\", \"used\", \"usually\", \"able\", \"something\", \"great\", \"stigma\", \"life\", \"post-questioning\", \"receive\", \"amazing\", \"must\", \"fundamental\", \"option\", \"yeah\", \"signing\", \"matched\", \"comfortable\", \"eyeshadow\", \"send\", \"ex-foster\", \"palette/whatever\", \"headphones/an\", \"sharing\", \"redditgifts\", \"daunting\", \"like\", \"family\", \"even\", \"might\", \"sure\", \"still\", \"right\", \"remember\", \"thing\", \"would\", \"seven\", \"mention\", \"month\", \"marriage\", \"matter\", \"time\", \"need\", \"going\", \"autonomy\", \"post-questioning\", \"receive\", \"amazing\", \"sending\", \"support\", \"gift\", \"nice\", \"right\", \"come\", \"love\", \"stigma\", \"living\", \"positive\", \"must\", \"fundamental\", \"option\", \"yeah\", \"signing\", \"matched\", \"comfortable\", \"eyeshadow\", \"send\", \"ex-foster\", \"palette/whatever\", \"headphones/an\", \"sharing\", \"redditgifts\", \"daunting\", \"deserves\", \"hopeless\", \"family\", \"even\", \"might\", \"would\", \"month\", \"mention\", \"matter\", \"father\", \"sure\", \"still\", \"need\", \"another\", \"marriage\", \"thing\", \"time\", \"great\", \"remember\", \"autonomy\", \"uncle\", \"want\", \"stigma\", \"stay\", \"better\", \"post-questioning\", \"receive\", \"amazing\", \"living\", \"positive\", \"must\", \"fundamental\", \"option\", \"yeah\", \"signing\", \"matched\", \"comfortable\", \"eyeshadow\", \"send\", \"ex-foster\", \"palette/whatever\", \"headphones/an\", \"sharing\", \"redditgifts\", \"daunting\", \"deserves\", \"hopeless\", \"judging\", \"rule\", \"thread\", \"board\", \"chapter\", \"anti\", \"anxiety\", \"cancer\", \"care\", \"cleaning\", \"come\", \"coping\", \"could\", \"dead\", \"dealing\", \"describing\", \"died\", \"doctor\", \"easy\", \"enough\", \"felt\", \"find\", \"found\", \"full\", \"game\", \"going\", \"important\", \"lose\", \"lost\", \"medicine\", \"monday\", \"month\"], \"Freq\": [30.0, 18.0, 15.0, 11.0, 15.0, 11.0, 9.0, 8.0, 7.0, 8.0, 33.0, 16.0, 10.0, 17.0, 8.0, 17.0, 21.0, 8.0, 8.0, 13.0, 8.0, 6.0, 18.0, 16.0, 3.0, 7.0, 15.0, 5.0, 5.0, 23.0, 2.674581180571817, 2.6745705418140404, 2.674560444010049, 2.6745251016960796, 1.7977454033869509, 1.7977275519120377, 1.7977161918825475, 1.797684816563003, 1.797670571446658, 1.7976730958976561, 1.797671833672157, 1.7976543428331007, 1.797657949191669, 2.674581000253889, 2.6745480020729886, 3.551013586550817, 3.551474839811705, 0.920849580331922, 0.920849580331922, 0.920849580331922, 0.920849580331922, 0.920849580331922, 0.920849580331922, 0.920849580331922, 0.920849580331922, 0.920849580331922, 0.920849580331922, 0.920849580331922, 0.920849580331922, 0.9208380399845034, 4.4283630895137405, 1.7977634351797924, 1.7980407641536962, 1.7977755164809963, 14.952246805307965, 4.428535473453306, 1.79779444986348, 1.7976866197422872, 1.7977093398012676, 2.674636538175841, 4.42843593795682, 2.674587311381383, 6.182158341982366, 4.429314086268206, 2.6746711592180965, 4.428701726583306, 2.6745649519582595, 2.6746190473367846, 3.5516273887791447, 3.5515278532826593, 2.674670437946383, 2.6745492642984874, 2.674787464281925, 1.7983391903252246, 1.7980907122198675, 1.7980191260022862, 1.7979933405385229, 3.4609225540097426, 1.7521543450895587, 1.7521543450895587, 1.752128089317899, 1.7521245783716886, 1.7521167932300918, 1.7521119084353645, 1.7520503905517664, 1.7520497799524255, 1.7520368047164308, 1.7519871935199807, 1.7518343910349143, 1.751798518323635, 2.6067694850752727, 1.7519427724179284, 0.8974448675056719, 0.8974448675056719, 0.8974448675056719, 0.8974448675056719, 0.8974448675056719, 0.8974448675056719, 0.8974448675056719, 0.8974448675056719, 0.8974448675056719, 0.8974448675056719, 0.8974448675056719, 0.8974273890995379, 0.8974263205506913, 0.8974248703772566, 0.8974248703772566, 1.7519917730150376, 2.6067957408469327, 1.752020471184061, 1.7521117557855292, 1.7520465743058855, 1.7519803242773953, 2.6066040126538823, 2.606587831771348, 6.025629376987093, 6.025444975986135, 1.7518321012873859, 1.751987498819651, 1.7519534579063947, 2.606751167095045, 1.7519809348767361, 3.4612733433311034, 4.316121579615215, 2.606719415929317, 3.4613850830104926, 3.461281586422206, 2.6065328778306647, 2.6067151417339307, 2.6068564954813547, 2.6070112824142786, 2.6065435633191307, 1.752427435644787, 1.7523112691201763, 1.7522012085889747, 1.7521689994737408, 1.752154497739394, 1.752143354301422, 2.6068563411766696, 2.6068081986247593, 1.7522621910240943, 1.752188391663082, 1.7521429877593344, 1.7521297269366525, 1.7521145923020698, 3.4610092806963184, 1.6042121686102568, 4.315498353243077, 0.8975480448401855, 0.8975480448401855, 0.8975480448401855, 0.8975480448401855, 0.8975480448401855, 0.8975480448401855, 0.897507253396501, 0.8975060282117967, 0.8975055237239773, 0.8975033616333226, 0.897500767124537, 0.8975005509154715, 0.8974962988038507, 0.8974956501766543, 0.8974941367131961, 0.897456948753936, 0.8974548587329698, 0.8974542101057734, 0.8974524804332497, 0.8974484445306944, 2.6061143116639918, 1.752201075928256, 1.7521372221842553, 2.606880844870756, 1.7521667707565356, 1.7521248261978353, 11.12248850279044, 2.607003939898694, 1.7522678124597966, 3.4611969501651427, 1.7483400144371712, 3.46118801352377, 1.6893524158030742, 6.049599991743699, 6.590393060878931, 2.606827801580028, 3.4614679321938593, 3.4614549596499313, 1.7521847881786576, 5.170916548213831, 5.165565517982934, 7.733655285442866, 5.1714308375108855, 5.170922890346418, 5.17070725783846, 2.6069252397988647, 2.606979724483362, 2.60690448372858, 2.60633945737083, 2.6068762324106927, 2.6060047657374894, 2.6070659198307946, 2.607201122566399, 2.062471895324678, 4.098945123314431, 3.287267290706966, 2.4755782901165535, 1.6639317962367457, 1.6639317962367457, 1.66380837862928, 1.6636174972880935, 1.6633516309185483, 0.8522577242765994, 0.8522577242765994, 0.8522577242765994, 0.8522577242765994, 0.8522577242765994, 0.8522577242765994, 0.8522577242765994, 0.8522577242765994, 0.8522577242765994, 0.8522577242765994, 0.8522577242765994, 0.8522577242765994, 0.8522577242765994, 0.8522577242765994, 0.8522577242765994, 0.8522577242765994, 0.8522577242765994, 0.8522577242765994, 0.8522577242765994, 0.8522577242765994, 0.8522577242765994, 0.8522577242765994, 2.4749305471056258, 1.6634890654842027, 1.6636496337288187, 1.6633532263446835, 1.663967237488751, 2.4754925929412863, 2.4754878066628807, 4.099005293671533, 3.2573398314251474, 2.475456126058194, 5.6501806896736495, 2.4755288319063595, 4.098721307819452, 1.6635772697576823, 2.475605868196892, 1.663942508383654, 1.6639317962367457, 2.673658649861569, 2.4755365811190164, 4.007906005510406, 2.237562362943042, 1.6639168676064797, 2.475438576370706, 2.475529971496456, 1.6639675793657802, 1.663955043874717, 1.663936468556142, 1.66387276546974, 1.6638538482741358, 3.199394012653843, 1.6195934218628618, 1.6195934218628618, 1.619455025096635, 1.6194379135399413, 1.6194324604064894, 1.6194315202110665, 1.619423434530431, 1.6194294517811365, 0.8295478662745583, 0.8295478662745583, 0.8295478662745583, 0.8295478662745583, 0.8295478662745583, 0.8295478662745583, 0.8295478662745583, 0.8295478662745583, 0.8295478662745583, 0.8294876937675032, 0.8294968136631038, 0.8294964375849347, 0.8294875057284187, 0.829495497389512, 0.8294923007250746, 0.8294810183800019, 0.8294892920997219, 0.8294781037741914, 0.8294852492594041, 0.8294726506407395, 0.8294846851421505, 1.6195934218628618, 1.6196238841945585, 2.409652986362964, 3.1993488832735517, 3.989804646124795, 3.199991224786365, 1.6195338134730604, 1.6195200866198884, 1.6195200866198884, 2.410216163421183, 2.410136622888419, 2.4097581002112256, 1.619913464384761, 1.6198044017157238, 1.6197083137435202, 1.6194837950765708, 1.6197365196062021, 1.6195025989850254, 1.6195778146188444, 1.6195514891470078, 1.6197746915403652, 1.620227489655955, 1.6195420871927804, 1.5590321121404194, 1.5589644976155208, 1.558943201702167, 1.558859615242253, 3.080039306191822, 0.7985286038476903, 0.7985286038476903, 0.7985286038476903, 0.7985286038476903, 0.7985286038476903, 0.7985286038476903, 0.7985286038476903, 0.7985286038476903, 0.7985286038476903, 0.7985286038476903, 0.7985286038476903, 0.7985264742563549, 0.7985264742563549, 0.7985262967904103, 0.7985262967904103, 0.7985260305914934, 0.7985260305914934, 0.7985260305914934, 0.7985259418585211, 0.7985258531255488, 0.7985258531255488, 0.7985256756596042, 0.7985255869266319, 0.7985255869266319, 0.7985254981936596, 1.5590321121404194, 4.6003403632495985, 1.5590574897704994, 1.559030337480973, 2.319442983210059, 2.319493915936164, 3.8406469869940403, 2.319642454931807, 1.5590667179996194, 1.5590225289794102, 3.080108517910222, 2.3195503501065513, 2.319635001362133, 2.3196726241423917, 1.559106115439324, 1.5589554468523454, 1.5590344191976993, 1.5590344191976993, 1.5590321121404194, 1.5591371719796319, 1.55899945840661, 1.5590347741295887, 1.5589765652997547, 1.559014720477847, 0.7988393467167123, 1.4506302089435608, 1.4506258896252833, 1.450622927807036, 1.4500437689305736, 0.7430057363408265, 0.7430057363408265, 0.7430057363408265, 0.7430057363408265, 0.7430057363408265, 0.7430057363408265, 0.7430057363408265, 0.7430057363408265, 0.7430057363408265, 0.7430057363408265, 0.7430057363408265, 0.7430057363408265, 0.7430057363408265, 0.7430057363408265, 0.7430057363408265, 0.7430013553180022, 0.7430004297497999, 0.7430004297497999, 0.7430002446361594, 0.7429998744088785, 0.7429998127043317, 0.7429998127043317, 0.7429993190679571, 0.742998640317942, 0.7429977147497397, 0.7429977147497397, 2.136782301411681, 1.4506302089435608, 1.4506302089435608, 1.4501977834794388, 2.8657279780093177, 4.272981618264997, 2.1580247087002933, 1.4506302089435608, 1.6026616970831482, 2.1569512964037942, 2.1582562241599654, 2.1582641223419587, 1.6579961133085737, 1.450646375534828, 1.4506261364434705, 1.4506226809888487, 2.237862987741104, 1.4506405753074267, 1.4500706721129877, 1.4508175439477096, 0.8055930284086908, 0.7690928144185459, 0.7431757940718653, 0.7431582082760213, 0.7431516675940583, 0.7431253197525657, 1.4268588132798916, 1.4268588132798916, 1.4266485860739289, 1.4266298573455114, 0.7308301130632734, 0.7308301130632734, 0.7308301130632734, 0.7308301130632734, 0.7308301130632734, 0.7308301130632734, 0.7308301130632734, 0.7308301130632734, 0.7308301130632734, 0.7308301130632734, 0.7308301130632734, 0.7308301130632734, 0.7308301130632734, 0.7308301130632734, 0.7308301130632734, 0.7308301130632734, 0.7308301130632734, 0.7308301130632734, 0.7307391291222637, 0.7307371343464559, 0.7307374668090906, 0.7307333110261577, 0.7307303188624461, 0.7307270496465389, 0.730726550952587, 0.730725996848196, 1.4268588132798916, 2.122645148235866, 2.8188926088660695, 1.426859034921648, 1.4268588132798916, 1.4268588132798916, 1.4266788401736799, 1.870058877995216, 1.4268868509620785, 1.4265150469156869, 1.4073799383379468, 1.4268591457425261, 1.4523292190022143, 0.9670878134668304, 0.7311261710394091, 0.7310422796346049, 0.7309368335689889, 0.7308946662248302, 0.7308941121204392, 0.730894001299561, 0.730893502605609, 0.7308899563375064, 0.730830445525908, 0.7308302792945908, 0.7308302792945908, 0.7308302792945908, 0.6901277878918047, 0.6901277878918047, 0.6901277878918047, 0.6901277878918047, 0.6901277878918047, 0.6901277878918047, 0.6901277878918047, 0.6901277878918047, 0.6901277878918047, 0.6901277878918047, 0.6901162873180617, 0.6901146374467231, 0.6901146374467231, 0.6901143948185849, 0.6901137154597985, 0.6901133272547776, 0.6901124537934806, 0.690029377919016, 0.6900259325994558, 0.6900160818970514, 0.6899934204289585, 0.6899918676088751, 0.6899890531224738, 0.6899797362019731, 0.6899449433269782, 1.3473714078250767, 0.6900058915152537, 0.6901277878918047, 1.3473041513052122, 0.6901277878918047, 2.0046511308252892, 1.3473886829485051, 2.0045474800847187, 3.31918204375668, 1.3473947971775837, 1.3473196795060467, 1.3473932443575003, 2.0045899885345033, 1.3472192314568985, 0.6901742754430531, 0.6901738872380323, 0.6901584560884529, 0.6901476348734964, 0.6901430734645012, 0.6901427823107356, 0.6901426367338528, 0.6901426367338528, 0.6901398707730791, 0.6901390943630374, 0.6901371533379331, 0.6901357946203601, 0.6901300200706747, 0.6901298259681643, 0.6901288069299846, 0.6901285157762189, 0.6901284187249637, 0.6901281760968256, 0.6901277878918047, 1.3536019109077657, 2.0139081156507648, 0.6933557953914207, 0.6933557953914207, 0.6933557953914207, 0.6933557953914207, 0.6933557953914207, 0.6933557953914207, 0.6933557953914207, 0.6933557953914207, 0.6933557953914207, 0.6933557953914207, 0.6933557953914207, 0.6933535907125349, 0.6933532154480436, 0.6933210834259843, 0.6933185503906687, 0.6933164395279057, 0.6933154075505548, 0.6933137657684058, 0.6933111389169674, 0.693311092008906, 0.6933071517317483, 0.6933072924559325, 0.6933050877770467, 0.6933042434319415, 0.6933025547417311, 0.6933020856611171, 0.69329716031467, 0.6932946272793544, 2.013992550161286, 2.6742362733664997, 1.3536919743856548, 1.3536076336912566, 1.3536921620179003, 1.3536104481749407, 1.353598908791836, 1.3536521963495871, 1.353662234674727, 1.3537061406201978, 0.6933722601209723, 0.6933641450263499, 0.6933557953914207, 0.6933557953914207, 0.6933557953914207, 0.6933557953914207, 0.6933557953914207, 0.6933557953914207, 0.6933557953914207, 1.345914045576003, 0.6893880944425479, 0.6893880944425479, 0.6893880944425479, 0.6893880944425479, 0.6893880944425479, 0.6893756880016608, 0.6893747085458014, 0.6893741488567388, 0.6893716302559572, 0.6893716302559572, 0.689369857907259, 0.6893692982181965, 0.6893690650144204, 0.6893687385291339, 0.6893684120438474, 0.6893677124325192, 0.6893677124325192, 0.6893674325879879, 0.6893217246478776, 0.6893109039926678, 0.6893126297006108, 0.6893012027155832, 1.3457939922720805, 1.3459068628997, 0.6893880944425479, 0.6893720966635093, 0.6893880944425479, 0.6893880944425479, 0.6893880944425479, 2.6587344231340277, 1.3457965108728622, 1.345929250462203, 1.345888859568187, 1.3459154447986594, 1.34586992342157, 2.0023700822173915, 1.3458872737825098, 0.6894379534098724, 0.6894175713998436, 0.6894032526879927, 0.6893971427490596, 0.6893941577407259, 0.689391592499189, 0.6893896335874701, 0.6893880944425479, 0.6893880944425479, 0.6893880944425479, 0.6893880944425479, 0.6893880944425479, 0.6307562365221455, 0.6307562365221455, 0.6307562365221455, 0.6307562365221455, 0.6307562365221455, 0.6307562365221455, 0.6307562365221455, 0.6307562365221455, 0.6307562365221455, 0.6307562365221455, 0.6307562365221455, 0.6307562365221455, 0.6307562365221455, 0.6307562365221455, 0.6307562365221455, 0.6307562365221455, 0.6307562365221455, 0.6307585201803216, 0.6307562365221455, 1.2314763734255094, 0.6307578065371415, 0.6307578779014595, 1.8321983658011414, 0.6307562365221455, 0.6307562365221455, 1.2314782288977775, 0.6307562365221455, 0.6307562365221455, 0.6307562365221455, 0.6308896877968129, 1.8321963676002373, 1.8321987939870494, 2.4330516685219004, 1.2314763734255094, 1.2314797989127735, 0.6308418023394322, 0.6308118293258705, 0.6308116865972345, 0.6307623738534938, 0.6307618029389498, 0.6307606611098617, 0.6307604470169077, 0.6307603042882717, 0.6307593051878196, 0.6307583060873676, 0.6307580206300956, 0.6307578065371415, 0.6307574497155516, 0.6307562365221455, 0.6307562365221455, 0.6167374816804435, 0.6167374816804435, 0.6167374816804435, 0.6167374816804435, 0.6167374816804435, 0.6167374816804435, 0.6167374816804435, 0.6167374816804435, 0.6167374816804435, 0.6167374816804435, 0.6167374816804435, 0.6167374816804435, 0.6167374816804435, 0.6167374816804435, 0.6167374816804435, 0.6167374816804435, 0.6167374816804435, 0.6167374816804435, 0.6167374816804435, 0.6167374816804435, 0.6167374816804435, 0.6167374816804435, 0.616708803291253, 0.6167005695931399, 0.6167374816804435, 0.6167374816804435, 0.6167097801706901, 0.6167133388029254, 0.6167374816804435, 0.6167374816804435, 1.7914757546781728, 1.204106618179308, 1.204106618179308, 1.2041067577335134, 1.2041469493446417, 0.6167847207789399, 0.6167833252368868, 0.6167806039298833, 0.6167786501710091, 0.6167686720453296, 0.616761136118243, 0.6167453664930433, 0.6167379701201622, 0.6167377607888541, 0.6167375514575462, 0.6167375514575462, 0.6167375514575462, 0.6167375514575462, 0.6167374816804435, 0.6167374816804435, 0.6167374816804435, 0.6167374816804435, 0.6167374816804435, 0.6167374816804435, 0.6167374816804435, 0.6167374816804435, 0.6167374816804435, 0.6167374816804435, 0.6167374816804435, 1.177370705128091, 1.177370705128091, 0.6030435318948759, 0.6030435318948759, 0.6030435318948759, 0.6030435318948759, 0.6030435318948759, 0.6030435318948759, 0.6030435318948759, 0.6030435318948759, 0.6030435318948759, 0.6030435318948759, 0.6030435318948759, 0.6030435318948759, 0.6030435318948759, 0.6030435318948759, 0.6030435318948759, 0.6030435318948759, 0.6030435318948759, 0.6030435318948759, 0.6030435318948759, 0.6030435318948759, 0.6030435318948759, 1.177370705128091, 0.6030435318948759, 0.6030435318948759, 0.6030435318948759, 0.6030435318948759, 0.6030435318948759, 0.6030435318948759, 1.7517113073804105, 1.177370705128091, 1.177370705128091, 1.177433629674751, 1.1773860525784958, 0.603069302822014, 0.6030573446002403, 0.6030570888094001, 0.6030568969662701, 0.6030435318948759, 0.6030435318948759, 0.6030435318948759, 0.6030435318948759, 0.6030435318948759, 0.6030435318948759, 0.6030435318948759, 0.6030435318948759, 0.6030435318948759, 0.6030435318948759, 0.6030435318948759, 1.123958567208946, 0.5757224643684816, 0.5757224643684816, 0.5757224643684816, 0.5757224643684816, 0.5756972411394355, 0.575685354330345, 0.5756823391397463, 0.5756802517001011, 0.5756766566651567, 0.5756770045717642, 0.5756877896765976, 0.5757224643684816, 0.5757224643684816, 0.5757224643684816, 0.5756752070542919, 0.5756790920114093, 0.5756907468827617, 0.57566279838529, 0.5757224643684816, 0.5757224643684816, 0.5757109254659984, 0.575682803015223, 0.5756762507741146, 0.5756843106105223, 0.5756821651864426, 0.5757224643684816, 1.1236534531141409, 0.5757224643684816, 0.5756759028675069, 1.1236119362589756, 1.1239458106333364, 1.6722336355894538, 1.1240208424916942, 1.123966337123181, 1.124048906958035, 0.5757571970448001, 0.5757419471385034, 0.5757279728897675, 0.5757224643684816, 0.5757224643684816, 0.5757224643684816, 0.5757178256137145, 0.5757113893414751, 0.5756955595908325, 1.1392534598638142, 0.583646711338392, 0.5836358437091479, 0.583626739935959, 0.5836025580384263, 0.5835900972488742, 0.5835852608693677, 0.5835761570961788, 0.583571946601079, 0.5835607944789227, 0.5835445783829303, 0.5835413920623141, 0.5835202826882326, 0.5835114065093736, 0.5835074236086035, 0.5834762431854319, 0.5834341951330161, 1.1391281691853035, 0.5835815624615097, 0.5835964698901064, 0.5835685326861332, 0.5835519183000637, 0.5836114342172855, 0.5836063702434492, 0.5835726293840682, 0.5835338814494334, 1.1042396653967361, 0.5832067714990437, 0.5836043218944816, 0.5834994009084808, 1.6951455547801224, 1.5598973967498215, 1.1038175917122708, 1.103595687240794, 0.5835561287951635, 0.5835487319794476, 0.5835440662956883, 2.158574195015469, 0.5596890567763628, 0.5596890567763628, 0.5596890567763628, 0.5596482097124192, 0.5596469702896347, 0.5596468086257932, 0.559645676978903, 0.5596445992199599, 0.5596440603404883, 0.5596433597971753, 0.5596419048226021, 0.5596410965033948, 0.5596382404421956, 0.5596347916135777, 1.0926299687751295, 1.0926381597430972, 0.5596399648565045, 0.5596433059092282, 0.5596395337529273, 0.5596364082519922, 0.5596890567763628, 0.5596890567763628, 0.5596438986766469, 0.5596890567763628, 1.0926800845659839, 0.5596405037359761, 0.559640126520346, 0.5596890567763628, 1.0927659819537492, 1.6256382407078402, 1.625620781012962, 0.5597287721934161, 0.5597223056397576, 0.5597152463186802, 0.5597121208177452, 0.5596890567763628, 0.5596890567763628, 0.25355394225611266, 0.25355394225611266, 0.25355394225611266, 0.25355394225611266, 0.2535552778560066, 0.25355394225611266, 0.2535558295168324, 0.25355736836018855, 0.25355394225611266, 0.2535587329948628, 0.012073997250291079, 0.2535542326039157, 0.012073997250291079, 0.012073997250291079, 0.012073997250291079, 0.012073997250291079, 0.012073997250291079, 0.012073997250291079, 0.012073997250291079, 0.012073997250291079, 0.012073997250291079, 0.012073997250291079, 0.012073997250291079, 0.012073997250291079, 0.012073997250291079, 0.012073997250291079, 0.012073997250291079, 0.012073997250291079, 0.012073997250291079, 0.012073997250291079, 0.2535543487430369, 0.012093686460684719, 0.012085896066194406, 0.012081232354608078, 0.01208101277908203, 0.012080749651385525, 0.0120805228171644, 0.012079905828082941, 0.012079450344966922, 0.012079381387363699, 0.012079177236564686, 0.01207897217842879, 0.012078682737962634, 0.012078670035246252, 0.012078474957816084, 0.012078393297496479, 0.012078281695059687, 0.01207817372197043, 0.012078115652409823, 0.2157717353726292, 0.2157717353726292, 0.2157717353726292, 0.2157717353726292, 0.2157717353726292, 0.2157717353726292, 0.2157717353726292, 0.2157723099850683, 0.2157717353726292, 0.2157717353726292, 0.010274844790951532, 0.010274844790951532, 0.010274844790951532, 0.010274844790951532, 0.010274844790951532, 0.010274844790951532, 0.010274844790951532, 0.010274844790951532, 0.010274844790951532, 0.010274844790951532, 0.010274844790951532, 0.010274844790951532, 0.010274844790951532, 0.010274844790951532, 0.010274844790951532, 0.010274844790951532, 0.010274844790951532, 0.010274844790951532, 0.010274844790951532, 0.010274844790951532, 0.01027624391238525, 0.01027553462515575, 0.010275381993726617, 0.010275354310575255, 0.010275333361163413, 0.010275323634650772, 0.010275312411751572, 0.01027530343343221, 0.010275269016541327, 0.010275239837003406, 0.010275210657465483, 0.010275195693599882, 0.010275194197213322, 0.010275193449020042, 0.010275184470700681, 0.01027518147792756, 0.01027517848515444, 0.01027517324780148, 0.01027517100322164, 0.01027516801044852, 0.12779579001695054, 0.12779579001695054, 0.12779579001695054, 0.0060855141851332405, 0.0060855141851332405, 0.0060855141851332405, 0.0060855141851332405, 0.0060855141851332405, 0.0060855141851332405, 0.0060855141851332405, 0.0060855141851332405, 0.0060855141851332405, 0.0060855141851332405, 0.0060855141851332405, 0.0060855141851332405, 0.0060855141851332405, 0.0060855141851332405, 0.0060855141851332405, 0.0060855141851332405, 0.0060855141851332405, 0.0060855141851332405, 0.0060855141851332405, 0.0060855141851332405, 0.0060855141851332405, 0.0060855141851332405, 0.0060855141851332405, 0.0060855141851332405, 0.0060855141851332405, 0.0060855141851332405, 0.0060855141851332405, 0.0060855141851332405, 0.0060855141851332405, 0.0060855141851332405, 0.0060855141851332405, 0.0060855141851332405, 0.0060855141851332405, 0.0060855141851332405, 0.0060855141851332405, 0.0060855141851332405, 0.0060855141851332405, 0.0060855141851332405, 0.0060855141851332405, 0.0060855141851332405, 0.0060855141851332405, 0.0060855141851332405, 0.0060855141851332405, 0.0060855141851332405, 0.0060855141851332405, 0.0060855141851332405, 0.0060855141851332405, 0.0060855141851332405, 0.0060855141851332405, 0.0060855141851332405, 0.0060855141851332405, 0.0060855141851332405, 0.0060855141851332405, 0.0060855141851332405], \"Total\": [30.0, 18.0, 15.0, 11.0, 15.0, 11.0, 9.0, 8.0, 7.0, 8.0, 33.0, 16.0, 10.0, 17.0, 8.0, 17.0, 21.0, 8.0, 8.0, 13.0, 8.0, 6.0, 18.0, 16.0, 3.0, 7.0, 15.0, 5.0, 5.0, 23.0, 3.2456954971629592, 3.2456923551980132, 3.2456871411289105, 3.2456845091546715, 2.3687257719765147, 2.368735997168856, 2.368724729010907, 2.3687149605458955, 2.3687098914535456, 2.3687134729799335, 2.3687127046038587, 2.3687063817489866, 2.3687127178383554, 4.1003898256541005, 4.100386258027725, 5.53340685534543, 5.539731526390054, 1.4917480856194305, 1.4917480856194305, 1.4917480856194305, 1.4917480856194305, 1.4917480856194305, 1.4917480856194305, 1.4917480856194305, 1.4917480856194305, 1.4917480856194305, 1.4917480856194305, 1.4917480856194305, 1.4917480856194305, 1.4917440871050625, 7.445961495114876, 2.9694509232509163, 3.026070225283446, 3.0260033645644793, 33.034647601017774, 8.640274815668338, 3.1804163163238783, 3.2233896036328242, 3.2235198142763597, 5.611747387219003, 11.455331217049872, 6.029307831475635, 18.834635590777108, 13.714420498127904, 6.926933782239359, 21.13818144888431, 7.63718974856962, 8.067955467337184, 16.70322867053139, 17.196771790817184, 10.05837094789391, 10.246270568595627, 23.736949163051513, 10.713968213086726, 11.75393637098222, 5.8016309728655955, 18.78094477328846, 4.033438014010647, 2.3241673636691473, 2.3241673636691473, 2.3241645472667036, 2.324163647501523, 2.3241634230821475, 2.3241630691615667, 2.324146511478596, 2.3241509679705734, 2.324150424643042, 2.324133584219087, 2.3240910618482964, 2.3240850293979047, 3.9393598101053158, 2.857157873149731, 1.4694578860852603, 1.4694578860852603, 1.4694578860852603, 1.4694578860852603, 1.4694578860852603, 1.4694578860852603, 1.4694578860852603, 1.4694578860852603, 1.4694578860852603, 1.4694578860852603, 1.4694578860852603, 1.4694557416367695, 1.469456268037756, 1.4694557896225415, 1.469455830700806, 2.981403722607144, 4.625456385201776, 3.114192158782701, 3.201146154492899, 3.2011410845743864, 3.201120238015123, 5.286694196866097, 5.34673560718763, 17.74106199692647, 18.78094477328846, 3.6208352768955567, 3.6767165907077413, 3.8971366241767633, 7.216270983326323, 3.990602382284947, 11.522837613880391, 16.70322867053139, 8.76973449099098, 17.035149432627616, 18.159739441291926, 8.968805765387636, 11.455331217049872, 13.714420498127904, 18.834635590777108, 33.034647601017774, 23.736949163051513, 16.10074990716422, 21.13818144888431, 6.926933782239359, 10.05837094789391, 4.3010690114426895, 3.1791481810724127, 3.179145811419353, 2.3243571608367235, 2.3243328775071728, 2.324348463274652, 2.3243478202355785, 2.3243459001605107, 4.621259632290226, 2.2968712814346857, 6.62031537971828, 1.4695561507056765, 1.4695561507056765, 1.4695561507056765, 1.4695561507056765, 1.4695561507056765, 1.4695561507056765, 1.4695407809010623, 1.469540289939638, 1.469540125619485, 1.4695393309354894, 1.4695383665371053, 1.4695383187278745, 1.4695366987056726, 1.4695364693940651, 1.4695358989696823, 1.4695493359553324, 1.4695492013354465, 1.4695492616248735, 1.4695492035949136, 1.4695488499629346, 4.492126842040103, 2.9808929272361917, 2.981613118387413, 4.582183042067915, 3.0319742562087777, 3.0319714953539085, 23.736949163051513, 4.846177814238599, 3.1143565400449686, 6.8289781486045005, 3.178324243912594, 7.280296510686827, 3.1673943207517556, 15.09269737477368, 17.035149432627616, 5.769451421717473, 8.637931365019432, 8.687420247801665, 3.5880563241836665, 15.88352425571247, 15.869035619471505, 30.79547648218347, 17.37038119387407, 18.834635590777108, 21.13818144888431, 8.874953386777454, 9.582825199409758, 10.713968213086726, 13.284953489621628, 16.70322867053139, 17.74106199692647, 18.159739441291926, 33.034647601017774, 17.196771790817184, 4.673119231192239, 3.861445556104929, 3.0497723703067843, 2.2380965800986052, 2.2380965800986052, 2.238081663224219, 2.2380637438805753, 2.237927330602828, 1.426422508138459, 1.426422508138459, 1.426422508138459, 1.426422508138459, 1.426422508138459, 1.426422508138459, 1.426422508138459, 1.426422508138459, 1.426422508138459, 1.426422508138459, 1.426422508138459, 1.426422508138459, 1.426422508138459, 1.426422508138459, 1.426422508138459, 1.426422508138459, 1.426422508138459, 1.426422508138459, 1.426422508138459, 1.426422508138459, 1.426422508138459, 1.426422508138459, 4.6228884658983675, 3.0926750981020223, 3.115049258991977, 3.5548336545444092, 3.7500764446814214, 7.035185282152274, 7.147565029476075, 17.196771790817184, 12.447651616503645, 8.172954512345576, 33.034647601017774, 8.640274815668338, 21.13818144888431, 4.476261221973875, 8.975930945683277, 4.601191725569311, 4.824599124832674, 11.75393637098222, 11.455331217049872, 30.79547648218347, 9.711894985384783, 5.442487940651532, 15.09269737477368, 17.74106199692647, 8.526892481282992, 8.10701375563576, 13.284953489621628, 8.968805765387636, 18.159739441291926, 3.7748960523581294, 2.194839630154312, 2.194839630154312, 2.19483227885957, 2.1948130437401456, 2.1948099072276, 2.194811587522561, 2.194809754698965, 2.727885004079858, 1.4047940745660086, 1.4047940745660086, 1.4047940745660086, 1.4047940745660086, 1.4047940745660086, 1.4047940745660086, 1.4047940745660086, 1.4047940745660086, 1.4047940745660086, 1.4047831731950267, 1.4047994107356356, 1.4047995699398819, 1.4047850571525025, 1.4047995363056585, 1.4047998663776573, 1.4047818455443215, 1.4048002686360659, 1.4047814396814333, 1.404800740357348, 1.4047800697622461, 1.4048007803248725, 3.049549026642974, 3.0496451807419325, 7.035185282152274, 11.75393637098222, 17.74106199692647, 13.284953489621628, 5.015015606904097, 5.208558538307383, 5.615173178835289, 15.869035619471505, 16.10074990716422, 17.196771790817184, 7.280296510686827, 8.168188373737076, 8.558716435287396, 8.947720584521964, 8.968805765387636, 11.522837613880391, 13.714420498127904, 18.78094477328846, 21.13818144888431, 30.79547648218347, 33.034647601017774, 2.1357554285407057, 2.1357636828984834, 2.135766110444833, 2.1357767826223606, 4.5337622186149416, 1.3752519202479765, 1.3752519202479765, 1.3752519202479765, 1.3752519202479765, 1.3752519202479765, 1.3752519202479765, 1.3752519202479765, 1.3752519202479765, 1.3752519202479765, 1.3752519202479765, 1.3752519202479765, 1.375252116132682, 1.3752521196939012, 1.3752521380950042, 1.3752521559010995, 1.3752520036611924, 1.3752520642019161, 1.3752520748855734, 1.3752521036728298, 1.3752520826030195, 1.3752521431437434, 1.3752520262185226, 1.3752521440362553, 1.3752521654035696, 1.375252119405226, 2.8317841045152568, 16.10074990716422, 3.568808579014041, 3.5911852649699973, 6.770247459151655, 7.3985141521611375, 16.70322867053139, 10.246270568595627, 5.965922758876539, 6.030689659103651, 30.79547648218347, 17.37038119387407, 18.159739441291926, 18.834635590777108, 7.550365339468405, 8.526892481282992, 8.558716435287396, 8.687420247801665, 8.975930945683277, 9.611548297926927, 10.172526669329406, 11.522837613880391, 15.09269737477368, 15.88352425571247, 33.034647601017774, 2.029997473367409, 2.0299979678128794, 2.029998025688595, 2.030075559173066, 1.3223730007646743, 1.3223730007646743, 1.3223730007646743, 1.3223730007646743, 1.3223730007646743, 1.3223730007646743, 1.3223730007646743, 1.3223730007646743, 1.3223730007646743, 1.3223730007646743, 1.3223730007646743, 1.3223730007646743, 1.3223730007646743, 1.3223730007646743, 1.3223730007646743, 1.3223733641829631, 1.3223734479523208, 1.3223734673626586, 1.3223734513962466, 1.3223733778698419, 1.3223733965795512, 1.3223734215356997, 1.3223735656675635, 1.3223735635064624, 1.3223735724073746, 1.3223735779531853, 4.057967267897018, 2.7905009040187867, 2.884671790618226, 2.884861610219975, 7.495658608259625, 15.88352425571247, 9.611548297926927, 4.616356759135416, 6.000839465774185, 11.522837613880391, 16.10074990716422, 17.37038119387407, 9.711894985384783, 7.3985141521611375, 7.783967254928412, 8.10701375563576, 30.79547648218347, 8.975930945683277, 10.713968213086726, 23.736949163051513, 33.034647601017774, 12.447651616503645, 15.869035619471505, 13.714420498127904, 15.09269737477368, 8.76973449099098, 2.0068058657877677, 2.0068058657877677, 2.0068288184246033, 2.006826751899676, 1.3107771655711493, 1.3107771655711493, 1.3107771655711493, 1.3107771655711493, 1.3107771655711493, 1.3107771655711493, 1.3107771655711493, 1.3107771655711493, 1.3107771655711493, 1.3107771655711493, 1.3107771655711493, 1.3107771655711493, 1.3107771655711493, 1.3107771655711493, 1.3107771655711493, 1.3107771655711493, 1.3107771655711493, 1.3107771655711493, 1.3107883593671732, 1.3107870017530094, 1.3107878135582194, 1.3107872781253105, 1.3107897888428488, 1.3107889308225331, 1.3107893295046684, 1.3107885346944603, 4.29073091747471, 8.76973449099098, 18.78094477328846, 5.24976403629597, 5.321800627526375, 5.562045612549411, 6.961753383079319, 17.196771790817184, 12.447651616503645, 13.714420498127904, 15.09269737477368, 18.159739441291926, 23.736949163051513, 17.035149432627616, 3.648492446972417, 10.172526669329406, 9.611548297926927, 1.8438293903136183, 5.769451421717473, 3.3414994142932546, 5.767132827014171, 1.8438284525825956, 5.0158167957127455, 3.8971366241767633, 3.6086108594103807, 2.1877594401423743, 1.2720130453053313, 1.2720130453053313, 1.2720130453053313, 1.2720130453053313, 1.2720130453053313, 1.2720130453053313, 1.2720130453053313, 1.2720130453053313, 1.2720130453053313, 1.2720130453053313, 1.2720170154463528, 1.272017447683594, 1.272017492763076, 1.272017593865989, 1.2720177400252186, 1.2720179744805442, 1.272018166022012, 1.2720460053957965, 1.2720471750882167, 1.272050417157896, 1.2720580434668416, 1.2720584769614385, 1.27205952522316, 1.2720625854379644, 1.2720741934373927, 3.4801131726896424, 1.8727740928329963, 1.932360627170576, 3.9804118121785432, 2.0620433059427015, 6.926933782239359, 4.421481704270071, 7.327740534960912, 18.78094477328846, 4.940512902251197, 5.562045612549411, 5.775946219341613, 18.159739441291926, 30.79547648218347, 2.981403722607144, 33.034647601017774, 10.246270568595627, 3.179862785752128, 2.9814967751406005, 2.7140579533417437, 3.836280505875652, 23.736949163051513, 5.424204205412918, 8.76973449099098, 6.2360009178610465, 13.284953489621628, 21.13818144888431, 3.8376450765260817, 5.802053290398971, 4.601191725569311, 2.1489929254744435, 3.707379802358129, 3.263408258538642, 1.9354448372556912, 3.4727905962523957, 1.2750873394185784, 1.2750873394185784, 1.2750873394185784, 1.2750873394185784, 1.2750873394185784, 1.2750873394185784, 1.2750873394185784, 1.2750873394185784, 1.2750873394185784, 1.2750873394185784, 1.2750873394185784, 1.2750878025442047, 1.275087935572864, 1.275094748802417, 1.2750952194030156, 1.2750952712350119, 1.2750959210822919, 1.275095283640202, 1.2750959730031843, 1.2750966763635836, 1.2750966784894184, 1.2750971493694339, 1.2750977194391928, 1.2750977627109403, 1.275098099388251, 1.2750978754647775, 1.2750991708968227, 1.2750995930871012, 8.947720584521964, 30.79547648218347, 6.961753383079319, 7.327740534960912, 7.63718974856962, 8.637931365019432, 9.711894985384783, 17.37038119387407, 21.13818144888431, 33.034647601017774, 7.216270983326323, 10.713968213086726, 4.670426039282662, 3.1693631354575897, 16.10074990716422, 1.9827118505866546, 3.9804118121785432, 5.775946219341613, 1.8624674336517595, 1.9278630347669192, 1.2713085788478231, 1.2713085788478231, 1.2713085788478231, 1.2713085788478231, 1.2713085788478231, 1.2713065425606593, 1.2713063730748708, 1.2713062881333663, 1.2713058261679988, 1.271305838852094, 1.2713055650386273, 1.2713054746610821, 1.2713053827943654, 1.2713054114637408, 1.2713053169161925, 1.2713051699690066, 1.2713051989612238, 1.2713051546784582, 1.2713167596642334, 1.2713139105645916, 1.2713175245790502, 1.2713186505000242, 2.8048780550780004, 3.56536091597875, 1.8586902329885566, 1.967346363352118, 2.031812297100748, 2.0613541638172332, 2.061359845016769, 8.168188373737076, 4.3331416756608006, 4.492126842040103, 5.067561834590018, 5.34673560718763, 8.526892481282992, 30.79547648218347, 17.035149432627616, 5.539731526390054, 4.940512902251197, 15.09269737477368, 7.147565029476075, 17.74106199692647, 7.550365339468405, 5.286694196866097, 7.495658608259625, 2.1259797196878623, 3.512016816101183, 2.7863707389120993, 3.2494271943914788, 1.2154687134752247, 1.2154687134752247, 1.2154687134752247, 1.2154687134752247, 1.2154687134752247, 1.2154687134752247, 1.2154687134752247, 1.2154687134752247, 1.2154687134752247, 1.2154687134752247, 1.2154687134752247, 1.2154687134752247, 1.2154687134752247, 1.7638033820391232, 1.7715117041687254, 1.8727740928329963, 1.975972315082775, 2.0924479867193084, 2.4470648213242603, 4.9938261467558, 2.74972108968164, 2.9694509232509163, 8.70111462867385, 3.09324429022781, 3.1693631354575897, 6.2360009178610465, 3.2494271943914788, 3.2576512665730872, 3.5911852649699973, 3.6208352768955567, 13.284953489621628, 15.88352425571247, 30.79547648218347, 15.869035619471505, 17.37038119387407, 9.582825199409758, 18.78094477328846, 23.736949163051513, 6.029307831475635, 7.63718974856962, 4.940512902251197, 8.947720584521964, 17.196771790817184, 6.770247459151655, 5.965922758876539, 4.476261221973875, 13.714420498127904, 17.035149432627616, 4.497978461875663, 4.670426039282662, 1.20211751706874, 1.20211751706874, 1.20211751706874, 1.20211751706874, 1.20211751706874, 1.20211751706874, 1.20211751706874, 1.20211751706874, 1.20211751706874, 1.20211751706874, 1.20211751706874, 1.20211751706874, 1.20211751706874, 1.20211751706874, 1.20211751706874, 1.20211751706874, 1.20211751706874, 1.20211751706874, 1.20211751706874, 1.20211751706874, 1.20211751706874, 1.20211751706874, 1.2021306361125585, 1.2021343520343597, 1.776444690301955, 1.776444690301955, 1.8586902329885566, 1.8624674336517595, 1.9626209477201182, 1.9626212103931313, 7.917626816074297, 4.713143378344767, 7.495658608259625, 18.159739441291926, 30.79547648218347, 10.05837094789391, 3.2494271943914788, 21.13818144888431, 8.76973449099098, 7.3985141521611375, 13.284953489621628, 15.869035619471505, 33.034647601017774, 18.834635590777108, 15.88352425571247, 5.802053290398971, 4.601191725569311, 2.0790964530754583, 2.817311173746197, 16.10074990716422, 4.160213802332573, 2.7140579533417437, 9.582825199409758, 8.687420247801665, 15.09269737477368, 2.7172562861602145, 5.767132827014171, 2.9339111114661955, 7.216270983326323, 1.7634028360630285, 1.7634028360630285, 1.1890756628298134, 1.1890756628298134, 1.1890756628298134, 1.1890756628298134, 1.1890756628298134, 1.1890756628298134, 1.1890756628298134, 1.1890756628298134, 1.1890756628298134, 1.1890756628298134, 1.1890756628298134, 1.1890756628298134, 1.1890756628298134, 1.1890756628298134, 1.1890756628298134, 1.1890756628298134, 1.1890756628298134, 1.1890756628298134, 1.1890756628298134, 1.1890756628298134, 1.1890756628298134, 2.423741685885009, 1.7221279619711578, 1.7451265378567256, 1.776444690301955, 1.776444690301955, 1.8851043388043645, 2.000749681371674, 8.526892481282992, 5.067561834590018, 5.308201898837997, 10.172526669329406, 12.447651616503645, 6.810680639104606, 4.863664787029689, 18.159739441291926, 2.877742086222061, 15.869035619471505, 7.495658608259625, 6.2360009178610465, 8.558716435287396, 7.445961495114876, 3.263408258538642, 4.29073091747471, 4.348955826659246, 5.208558538307383, 5.562045612549411, 17.196771790817184, 1.7114054740075895, 1.16305559618923, 1.16305559618923, 1.16305559618923, 1.16305559618923, 1.1630706373901054, 1.1630778586464916, 1.1630796134285932, 1.1630809294898468, 1.7638033820391232, 1.823432457636581, 1.8591051156715759, 1.9531070145607123, 1.953108843954071, 1.9747296147310904, 1.9747579979704037, 2.0177910145485836, 2.0178823781985313, 2.0178818603830795, 2.040055192212062, 2.5507991312896205, 2.5621080963019525, 2.5961113287555486, 2.713821396678597, 2.7253994938393244, 2.725402384076145, 2.7782137282570885, 5.424204205412918, 2.80778248551266, 3.7287250696856167, 7.783967254928412, 8.172954512345576, 18.78094477328846, 21.13818144888431, 30.79547648218347, 33.034647601017774, 12.447651616503645, 15.88352425571247, 11.522837613880391, 8.558716435287396, 9.582825199409758, 4.2478615381591025, 8.640274815668338, 7.550365339468405, 11.75393637098222, 1.7268983740698924, 1.1707683206967225, 1.1707740252450882, 1.170777898174105, 1.1707893705654582, 1.170794072696341, 1.1707967504644754, 1.170800251407776, 1.1708018700224911, 1.1708079693358082, 1.170815383084889, 1.1708164468869076, 1.170826682070978, 1.170830102077127, 1.170831974085442, 1.1708467086104115, 1.170865626822007, 2.517002966390015, 1.7451265378567256, 1.7715117041687254, 1.9313024747648482, 1.9608449925704783, 2.0254806120108446, 2.0255943829637912, 2.0255862449187214, 2.2912264448110538, 4.670426039282662, 2.588026496921845, 2.5961113287555486, 2.7043810315465366, 8.687420247801665, 11.75393637098222, 16.70322867053139, 17.035149432627616, 4.3010690114426895, 5.424204205412918, 8.637931365019432, 3.648492446972417, 1.147785684200946, 1.147785684200946, 1.147785684200946, 1.1477981870004026, 1.1477986341328583, 1.1477986109951146, 1.1477990100616047, 1.1477993071741819, 1.1477994782409613, 1.1477996538752167, 1.1478001417291646, 1.1478004104503672, 1.1478013326884846, 1.147802316694995, 2.3381168885842314, 3.09324429022781, 1.7221279619711578, 1.8438284525825956, 1.8438293903136183, 2.002495355779883, 2.2912264448110538, 2.5507991312896205, 2.551464037719521, 2.7101059352282313, 5.308201898837997, 2.720839003840691, 2.727885004079858, 2.857157873149731, 5.8016309728655955, 8.975930945683277, 10.172526669329406, 6.8289781486045005, 5.321800627526375, 17.37038119387407, 4.132659825671872, 8.558716435287396, 15.09269737477368, 0.8562284346024196, 0.8562284346024196, 1.646258869787256, 3.179862785752128, 3.707379802358129, 4.53699392190951, 4.601191725569311, 5.0158167957127455, 6.961753383079319, 8.067955467337184, 0.7364587654284154, 15.869035619471505, 0.8202453801782758, 0.8202453801782758, 0.8202453801782758, 1.147785684200946, 1.147785684200946, 1.147785684200946, 1.1477981870004026, 1.1477986109951146, 1.1477986341328583, 1.1477990100616047, 1.1477993071741819, 1.1477994782409613, 1.1477996538752167, 1.1478001417291646, 1.1478004104503672, 1.1478013326884846, 1.147802316694995, 1.16305559618923, 30.79547648218347, 33.034647601017774, 18.834635590777108, 5.539731526390054, 7.63718974856962, 8.640274815668338, 7.445961495114876, 6.029307831475635, 17.196771790817184, 11.455331217049872, 3.2456923551980132, 3.2456845091546715, 4.1003898256541005, 3.2456871411289105, 4.100386258027725, 16.70322867053139, 10.246270568595627, 18.78094477328846, 2.3687098914535456, 0.8202453801782758, 0.8202453801782758, 0.8202453801782758, 1.6319029519720551, 2.464993886518786, 3.648492446972417, 5.767132827014171, 7.445961495114876, 8.637931365019432, 11.522837613880391, 0.7364587654284154, 0.8562284346024196, 0.8562284346024196, 1.147785684200946, 1.147785684200946, 1.147785684200946, 1.1477981870004026, 1.1477986109951146, 1.1477986341328583, 1.1477990100616047, 1.1477993071741819, 1.1477994782409613, 1.1477996538752167, 1.1478001417291646, 1.1478004104503672, 1.1478013326884846, 1.147802316694995, 1.16305559618923, 1.16305559618923, 1.16305559618923, 33.034647601017774, 18.834635590777108, 5.539731526390054, 11.455331217049872, 4.1003898256541005, 3.2456845091546715, 4.100386258027725, 3.2456954971629592, 7.63718974856962, 8.640274815668338, 10.246270568595627, 5.53340685534543, 3.2456871411289105, 17.196771790817184, 16.70322867053139, 8.067955467337184, 6.029307831475635, 2.3687098914535456, 2.3687149605458955, 17.37038119387407, 0.7364587654284154, 2.9562002950049227, 9.582825199409758, 0.8202453801782758, 0.8202453801782758, 0.8202453801782758, 0.8562284346024196, 0.8562284346024196, 1.147785684200946, 1.147785684200946, 1.147785684200946, 1.1477981870004026, 1.1477986109951146, 1.1477986341328583, 1.1477990100616047, 1.1477993071741819, 1.1477994782409613, 1.1477996538752167, 1.1478001417291646, 1.1478004104503672, 1.1478013326884846, 1.147802316694995, 1.16305559618923, 1.16305559618923, 1.16305559618923, 1.16305559618923, 1.1630706373901054, 1.1630778586464916, 1.1630796134285932, 1.1630809294898468, 1.469440692384032, 2.165469067388546, 1.4694377995096854, 17.035149432627616, 2.887268607416474, 8.637931365019432, 3.6767165907077413, 10.172526669329406, 1.469439500079644, 2.324146511478596, 2.80778248551266, 1.4694391500179307, 1.469442276987315, 4.497978461875663, 2.002495355779883, 4.582183042067915, 3.2011410845743864, 4.354597788091178, 1.469441628558198, 1.4694393531959897, 18.78094477328846, 3.990602382284947, 4.616356759135416, 3.991265177568252, 1.4694401694070072, 1.4694399115782841, 4.1003898256541005], \"Category\": [\"Default\", \"Default\", \"Default\", \"Default\", \"Default\", \"Default\", \"Default\", \"Default\", \"Default\", \"Default\", \"Default\", \"Default\", \"Default\", \"Default\", \"Default\", \"Default\", \"Default\", \"Default\", \"Default\", \"Default\", \"Default\", \"Default\", \"Default\", \"Default\", \"Default\", \"Default\", \"Default\", \"Default\", \"Default\", \"Default\", \"Topic1\", \"Topic1\", \"Topic1\", \"Topic1\", \"Topic1\", \"Topic1\", \"Topic1\", \"Topic1\", \"Topic1\", \"Topic1\", \"Topic1\", \"Topic1\", \"Topic1\", \"Topic1\", \"Topic1\", \"Topic1\", \"Topic1\", \"Topic1\", \"Topic1\", \"Topic1\", \"Topic1\", \"Topic1\", \"Topic1\", \"Topic1\", \"Topic1\", \"Topic1\", \"Topic1\", \"Topic1\", \"Topic1\", \"Topic1\", \"Topic1\", \"Topic1\", \"Topic1\", \"Topic1\", \"Topic1\", \"Topic1\", \"Topic1\", \"Topic1\", \"Topic1\", \"Topic1\", \"Topic1\", \"Topic1\", \"Topic1\", \"Topic1\", \"Topic1\", \"Topic1\", \"Topic1\", \"Topic1\", \"Topic1\", \"Topic1\", \"Topic1\", \"Topic1\", \"Topic1\", \"Topic1\", \"Topic1\", \"Topic1\", \"Topic1\", \"Topic2\", \"Topic2\", \"Topic2\", \"Topic2\", \"Topic2\", \"Topic2\", \"Topic2\", \"Topic2\", \"Topic2\", \"Topic2\", \"Topic2\", \"Topic2\", \"Topic2\", \"Topic2\", \"Topic2\", \"Topic2\", \"Topic2\", \"Topic2\", \"Topic2\", \"Topic2\", \"Topic2\", \"Topic2\", \"Topic2\", \"Topic2\", \"Topic2\", \"Topic2\", \"Topic2\", \"Topic2\", \"Topic2\", \"Topic2\", \"Topic2\", \"Topic2\", \"Topic2\", \"Topic2\", \"Topic2\", \"Topic2\", \"Topic2\", \"Topic2\", \"Topic2\", \"Topic2\", \"Topic2\", \"Topic2\", \"Topic2\", \"Topic2\", \"Topic2\", \"Topic2\", \"Topic2\", \"Topic2\", \"Topic2\", \"Topic2\", \"Topic2\", \"Topic2\", \"Topic2\", \"Topic2\", \"Topic2\", \"Topic2\", \"Topic2\", \"Topic2\", \"Topic2\", \"Topic2\", \"Topic2\", \"Topic3\", \"Topic3\", \"Topic3\", \"Topic3\", \"Topic3\", \"Topic3\", \"Topic3\", \"Topic3\", \"Topic3\", \"Topic3\", \"Topic3\", \"Topic3\", \"Topic3\", \"Topic3\", \"Topic3\", \"Topic3\", \"Topic3\", \"Topic3\", \"Topic3\", \"Topic3\", \"Topic3\", \"Topic3\", \"Topic3\", \"Topic3\", \"Topic3\", \"Topic3\", \"Topic3\", \"Topic3\", \"Topic3\", \"Topic3\", \"Topic3\", \"Topic3\", \"Topic3\", \"Topic3\", \"Topic3\", \"Topic3\", \"Topic3\", \"Topic3\", \"Topic3\", \"Topic3\", \"Topic3\", \"Topic3\", \"Topic3\", \"Topic3\", \"Topic3\", \"Topic3\", \"Topic3\", \"Topic3\", \"Topic3\", \"Topic3\", \"Topic3\", \"Topic3\", \"Topic3\", \"Topic3\", \"Topic3\", \"Topic3\", \"Topic3\", \"Topic3\", \"Topic3\", \"Topic3\", \"Topic3\", \"Topic3\", \"Topic3\", \"Topic3\", \"Topic4\", \"Topic4\", \"Topic4\", \"Topic4\", \"Topic4\", \"Topic4\", \"Topic4\", \"Topic4\", \"Topic4\", \"Topic4\", \"Topic4\", \"Topic4\", \"Topic4\", \"Topic4\", \"Topic4\", \"Topic4\", \"Topic4\", \"Topic4\", \"Topic4\", \"Topic4\", \"Topic4\", \"Topic4\", \"Topic4\", \"Topic4\", \"Topic4\", \"Topic4\", \"Topic4\", \"Topic4\", \"Topic4\", \"Topic4\", \"Topic4\", \"Topic4\", \"Topic4\", \"Topic4\", \"Topic4\", \"Topic4\", \"Topic4\", \"Topic4\", \"Topic4\", \"Topic4\", \"Topic4\", \"Topic4\", \"Topic4\", \"Topic4\", \"Topic4\", \"Topic4\", \"Topic4\", \"Topic4\", \"Topic4\", \"Topic4\", \"Topic4\", \"Topic4\", \"Topic4\", \"Topic4\", \"Topic4\", \"Topic4\", \"Topic4\", \"Topic4\", \"Topic4\", \"Topic5\", \"Topic5\", \"Topic5\", \"Topic5\", \"Topic5\", \"Topic5\", \"Topic5\", \"Topic5\", \"Topic5\", \"Topic5\", \"Topic5\", \"Topic5\", \"Topic5\", \"Topic5\", \"Topic5\", \"Topic5\", \"Topic5\", \"Topic5\", \"Topic5\", \"Topic5\", \"Topic5\", \"Topic5\", \"Topic5\", \"Topic5\", \"Topic5\", \"Topic5\", \"Topic5\", \"Topic5\", \"Topic5\", \"Topic5\", \"Topic5\", \"Topic5\", \"Topic5\", \"Topic5\", \"Topic5\", \"Topic5\", \"Topic5\", \"Topic5\", \"Topic5\", \"Topic5\", \"Topic5\", \"Topic5\", \"Topic5\", \"Topic5\", \"Topic5\", \"Topic5\", \"Topic5\", \"Topic5\", \"Topic5\", \"Topic5\", \"Topic5\", \"Topic5\", \"Topic5\", \"Topic6\", \"Topic6\", \"Topic6\", \"Topic6\", \"Topic6\", \"Topic6\", \"Topic6\", \"Topic6\", \"Topic6\", \"Topic6\", \"Topic6\", \"Topic6\", \"Topic6\", \"Topic6\", \"Topic6\", \"Topic6\", \"Topic6\", \"Topic6\", \"Topic6\", \"Topic6\", \"Topic6\", \"Topic6\", \"Topic6\", \"Topic6\", \"Topic6\", \"Topic6\", \"Topic6\", \"Topic6\", \"Topic6\", \"Topic6\", \"Topic6\", \"Topic6\", \"Topic6\", \"Topic6\", \"Topic6\", \"Topic6\", \"Topic6\", \"Topic6\", \"Topic6\", \"Topic6\", \"Topic6\", \"Topic6\", \"Topic6\", \"Topic6\", \"Topic6\", \"Topic6\", \"Topic6\", \"Topic6\", \"Topic6\", \"Topic6\", \"Topic6\", \"Topic6\", \"Topic6\", \"Topic6\", \"Topic6\", \"Topic7\", \"Topic7\", \"Topic7\", \"Topic7\", \"Topic7\", \"Topic7\", \"Topic7\", \"Topic7\", \"Topic7\", \"Topic7\", \"Topic7\", \"Topic7\", \"Topic7\", \"Topic7\", \"Topic7\", \"Topic7\", \"Topic7\", \"Topic7\", \"Topic7\", \"Topic7\", \"Topic7\", \"Topic7\", \"Topic7\", \"Topic7\", \"Topic7\", \"Topic7\", \"Topic7\", \"Topic7\", \"Topic7\", \"Topic7\", \"Topic7\", \"Topic7\", \"Topic7\", \"Topic7\", \"Topic7\", \"Topic7\", \"Topic7\", \"Topic7\", \"Topic7\", \"Topic7\", \"Topic7\", \"Topic7\", \"Topic7\", \"Topic7\", \"Topic7\", \"Topic7\", \"Topic7\", \"Topic7\", \"Topic7\", \"Topic7\", \"Topic7\", \"Topic7\", \"Topic7\", \"Topic7\", \"Topic7\", \"Topic7\", \"Topic8\", \"Topic8\", \"Topic8\", \"Topic8\", \"Topic8\", \"Topic8\", \"Topic8\", \"Topic8\", \"Topic8\", \"Topic8\", \"Topic8\", \"Topic8\", \"Topic8\", \"Topic8\", \"Topic8\", \"Topic8\", \"Topic8\", \"Topic8\", \"Topic8\", \"Topic8\", \"Topic8\", \"Topic8\", \"Topic8\", \"Topic8\", \"Topic8\", \"Topic8\", \"Topic8\", \"Topic8\", \"Topic8\", \"Topic8\", \"Topic8\", \"Topic8\", \"Topic8\", \"Topic8\", \"Topic8\", \"Topic8\", \"Topic8\", \"Topic8\", \"Topic8\", \"Topic8\", \"Topic8\", \"Topic8\", \"Topic8\", \"Topic8\", \"Topic8\", \"Topic8\", \"Topic8\", \"Topic8\", \"Topic8\", \"Topic8\", \"Topic8\", \"Topic8\", \"Topic8\", \"Topic8\", \"Topic8\", \"Topic8\", \"Topic9\", \"Topic9\", \"Topic9\", \"Topic9\", \"Topic9\", \"Topic9\", \"Topic9\", \"Topic9\", \"Topic9\", \"Topic9\", \"Topic9\", \"Topic9\", \"Topic9\", \"Topic9\", \"Topic9\", \"Topic9\", \"Topic9\", \"Topic9\", \"Topic9\", \"Topic9\", \"Topic9\", \"Topic9\", \"Topic9\", \"Topic9\", \"Topic9\", \"Topic9\", \"Topic9\", \"Topic9\", \"Topic9\", \"Topic9\", \"Topic9\", \"Topic9\", \"Topic9\", \"Topic9\", \"Topic9\", \"Topic9\", \"Topic9\", \"Topic9\", \"Topic9\", \"Topic9\", \"Topic9\", \"Topic9\", \"Topic9\", \"Topic9\", \"Topic9\", \"Topic9\", \"Topic9\", \"Topic9\", \"Topic9\", \"Topic9\", \"Topic9\", \"Topic9\", \"Topic9\", \"Topic9\", \"Topic9\", \"Topic9\", \"Topic9\", \"Topic9\", \"Topic10\", \"Topic10\", \"Topic10\", \"Topic10\", \"Topic10\", \"Topic10\", \"Topic10\", \"Topic10\", \"Topic10\", \"Topic10\", \"Topic10\", \"Topic10\", \"Topic10\", \"Topic10\", \"Topic10\", \"Topic10\", \"Topic10\", \"Topic10\", \"Topic10\", \"Topic10\", \"Topic10\", \"Topic10\", \"Topic10\", \"Topic10\", \"Topic10\", \"Topic10\", \"Topic10\", \"Topic10\", \"Topic10\", \"Topic10\", \"Topic10\", \"Topic10\", \"Topic10\", \"Topic10\", \"Topic10\", \"Topic10\", \"Topic10\", \"Topic10\", \"Topic10\", \"Topic10\", \"Topic10\", \"Topic10\", \"Topic10\", \"Topic10\", \"Topic10\", \"Topic10\", \"Topic10\", \"Topic10\", \"Topic10\", \"Topic11\", \"Topic11\", \"Topic11\", \"Topic11\", \"Topic11\", \"Topic11\", \"Topic11\", \"Topic11\", \"Topic11\", \"Topic11\", \"Topic11\", \"Topic11\", \"Topic11\", \"Topic11\", \"Topic11\", \"Topic11\", \"Topic11\", \"Topic11\", \"Topic11\", \"Topic11\", \"Topic11\", \"Topic11\", \"Topic11\", \"Topic11\", \"Topic11\", \"Topic11\", \"Topic11\", \"Topic11\", \"Topic11\", \"Topic11\", \"Topic11\", \"Topic11\", \"Topic11\", \"Topic11\", \"Topic11\", \"Topic11\", \"Topic11\", \"Topic11\", \"Topic11\", \"Topic11\", \"Topic11\", \"Topic11\", \"Topic11\", \"Topic11\", \"Topic11\", \"Topic11\", \"Topic11\", \"Topic11\", \"Topic11\", \"Topic11\", \"Topic12\", \"Topic12\", \"Topic12\", \"Topic12\", \"Topic12\", \"Topic12\", \"Topic12\", \"Topic12\", \"Topic12\", \"Topic12\", \"Topic12\", \"Topic12\", \"Topic12\", \"Topic12\", \"Topic12\", \"Topic12\", \"Topic12\", \"Topic12\", \"Topic12\", \"Topic12\", \"Topic12\", \"Topic12\", \"Topic12\", \"Topic12\", \"Topic12\", \"Topic12\", \"Topic12\", \"Topic12\", \"Topic12\", \"Topic12\", \"Topic12\", \"Topic12\", \"Topic12\", \"Topic12\", \"Topic12\", \"Topic12\", \"Topic12\", \"Topic12\", \"Topic12\", \"Topic12\", \"Topic12\", \"Topic12\", \"Topic12\", \"Topic12\", \"Topic12\", \"Topic12\", \"Topic12\", \"Topic12\", \"Topic12\", \"Topic12\", \"Topic13\", \"Topic13\", \"Topic13\", \"Topic13\", \"Topic13\", \"Topic13\", \"Topic13\", \"Topic13\", \"Topic13\", \"Topic13\", \"Topic13\", \"Topic13\", \"Topic13\", \"Topic13\", \"Topic13\", \"Topic13\", \"Topic13\", \"Topic13\", \"Topic13\", \"Topic13\", \"Topic13\", \"Topic13\", \"Topic13\", \"Topic13\", \"Topic13\", \"Topic13\", \"Topic13\", \"Topic13\", \"Topic13\", \"Topic13\", \"Topic13\", \"Topic13\", \"Topic13\", \"Topic13\", \"Topic13\", \"Topic13\", \"Topic13\", \"Topic13\", \"Topic13\", \"Topic13\", \"Topic13\", \"Topic13\", \"Topic13\", \"Topic13\", \"Topic13\", \"Topic13\", \"Topic13\", \"Topic13\", \"Topic13\", \"Topic13\", \"Topic13\", \"Topic13\", \"Topic13\", \"Topic13\", \"Topic13\", \"Topic13\", \"Topic13\", \"Topic13\", \"Topic13\", \"Topic14\", \"Topic14\", \"Topic14\", \"Topic14\", \"Topic14\", \"Topic14\", \"Topic14\", \"Topic14\", \"Topic14\", \"Topic14\", \"Topic14\", \"Topic14\", \"Topic14\", \"Topic14\", \"Topic14\", \"Topic14\", \"Topic14\", \"Topic14\", \"Topic14\", \"Topic14\", \"Topic14\", \"Topic14\", \"Topic14\", \"Topic14\", \"Topic14\", \"Topic14\", \"Topic14\", \"Topic14\", \"Topic14\", \"Topic14\", \"Topic14\", \"Topic14\", \"Topic14\", \"Topic14\", \"Topic14\", \"Topic14\", \"Topic14\", \"Topic14\", \"Topic14\", \"Topic14\", \"Topic14\", \"Topic14\", \"Topic14\", \"Topic14\", \"Topic14\", \"Topic14\", \"Topic14\", \"Topic14\", \"Topic14\", \"Topic14\", \"Topic15\", \"Topic15\", \"Topic15\", \"Topic15\", \"Topic15\", \"Topic15\", \"Topic15\", \"Topic15\", \"Topic15\", \"Topic15\", \"Topic15\", \"Topic15\", \"Topic15\", \"Topic15\", \"Topic15\", \"Topic15\", \"Topic15\", \"Topic15\", \"Topic15\", \"Topic15\", \"Topic15\", \"Topic15\", \"Topic15\", \"Topic15\", \"Topic15\", \"Topic15\", \"Topic15\", \"Topic15\", \"Topic15\", \"Topic15\", \"Topic15\", \"Topic15\", \"Topic15\", \"Topic15\", \"Topic15\", \"Topic15\", \"Topic15\", \"Topic15\", \"Topic15\", \"Topic15\", \"Topic15\", \"Topic15\", \"Topic15\", \"Topic15\", \"Topic15\", \"Topic16\", \"Topic16\", \"Topic16\", \"Topic16\", \"Topic16\", \"Topic16\", \"Topic16\", \"Topic16\", \"Topic16\", \"Topic16\", \"Topic16\", \"Topic16\", \"Topic16\", \"Topic16\", \"Topic16\", \"Topic16\", \"Topic16\", \"Topic16\", \"Topic16\", \"Topic16\", \"Topic16\", \"Topic16\", \"Topic16\", \"Topic16\", \"Topic16\", \"Topic16\", \"Topic16\", \"Topic16\", \"Topic16\", \"Topic16\", \"Topic16\", \"Topic16\", \"Topic16\", \"Topic16\", \"Topic16\", \"Topic16\", \"Topic16\", \"Topic17\", \"Topic17\", \"Topic17\", \"Topic17\", \"Topic17\", \"Topic17\", \"Topic17\", \"Topic17\", \"Topic17\", \"Topic17\", \"Topic17\", \"Topic17\", \"Topic17\", \"Topic17\", \"Topic17\", \"Topic17\", \"Topic17\", \"Topic17\", \"Topic17\", \"Topic17\", \"Topic17\", \"Topic17\", \"Topic17\", \"Topic17\", \"Topic17\", \"Topic17\", \"Topic17\", \"Topic17\", \"Topic17\", \"Topic17\", \"Topic17\", \"Topic17\", \"Topic17\", \"Topic17\", \"Topic17\", \"Topic17\", \"Topic17\", \"Topic17\", \"Topic18\", \"Topic18\", \"Topic18\", \"Topic18\", \"Topic18\", \"Topic18\", \"Topic18\", \"Topic18\", \"Topic18\", \"Topic18\", \"Topic18\", \"Topic18\", \"Topic18\", \"Topic18\", \"Topic18\", \"Topic18\", \"Topic18\", \"Topic18\", \"Topic18\", \"Topic18\", \"Topic18\", \"Topic18\", \"Topic18\", \"Topic18\", \"Topic18\", \"Topic18\", \"Topic18\", \"Topic18\", \"Topic18\", \"Topic18\", \"Topic18\", \"Topic18\", \"Topic18\", \"Topic18\", \"Topic18\", \"Topic18\", \"Topic18\", \"Topic18\", \"Topic18\", \"Topic18\", \"Topic18\", \"Topic18\", \"Topic18\", \"Topic18\", \"Topic18\", \"Topic18\", \"Topic18\", \"Topic18\", \"Topic18\", \"Topic19\", \"Topic19\", \"Topic19\", \"Topic19\", \"Topic19\", \"Topic19\", \"Topic19\", \"Topic19\", \"Topic19\", \"Topic19\", \"Topic19\", \"Topic19\", \"Topic19\", \"Topic19\", \"Topic19\", \"Topic19\", \"Topic19\", \"Topic19\", \"Topic19\", \"Topic19\", \"Topic19\", \"Topic19\", \"Topic19\", \"Topic19\", \"Topic19\", \"Topic19\", \"Topic19\", \"Topic19\", \"Topic19\", \"Topic19\", \"Topic19\", \"Topic19\", \"Topic19\", \"Topic19\", \"Topic19\", \"Topic19\", \"Topic19\", \"Topic19\", \"Topic19\", \"Topic19\", \"Topic19\", \"Topic19\", \"Topic19\", \"Topic19\", \"Topic19\", \"Topic19\", \"Topic19\", \"Topic19\", \"Topic19\", \"Topic19\", \"Topic20\", \"Topic20\", \"Topic20\", \"Topic20\", \"Topic20\", \"Topic20\", \"Topic20\", \"Topic20\", \"Topic20\", \"Topic20\", \"Topic20\", \"Topic20\", \"Topic20\", \"Topic20\", \"Topic20\", \"Topic20\", \"Topic20\", \"Topic20\", \"Topic20\", \"Topic20\", \"Topic20\", \"Topic20\", \"Topic20\", \"Topic20\", \"Topic20\", \"Topic20\", \"Topic20\", \"Topic20\", \"Topic20\", \"Topic20\", \"Topic20\", \"Topic20\", \"Topic20\", \"Topic20\", \"Topic20\", \"Topic20\", \"Topic20\", \"Topic20\", \"Topic20\", \"Topic20\", \"Topic20\", \"Topic20\", \"Topic20\", \"Topic20\", \"Topic20\", \"Topic20\", \"Topic20\", \"Topic20\", \"Topic20\", \"Topic20\", \"Topic20\", \"Topic20\", \"Topic20\", \"Topic20\", \"Topic20\", \"Topic20\", \"Topic20\"], \"logprob\": [30.0, 29.0, 28.0, 27.0, 26.0, 25.0, 24.0, 23.0, 22.0, 21.0, 20.0, 19.0, 18.0, 17.0, 16.0, 15.0, 14.0, 13.0, 12.0, 11.0, 10.0, 9.0, 8.0, 7.0, 6.0, 5.0, 4.0, 3.0, 2.0, 1.0, -4.9752, -4.9752, -4.9752, -4.9752, -5.3725, -5.3725, -5.3725, -5.3725, -5.3725, -5.3725, -5.3725, -5.3725, -5.3725, -4.9752, -4.9752, -4.6918, -4.6917, -6.0415, -6.0415, -6.0415, -6.0415, -6.0415, -6.0415, -6.0415, -6.0415, -6.0415, -6.0415, -6.0415, -6.0415, -6.0415, -4.471, -5.3725, -5.3723, -5.3725, -3.2542, -4.4709, -5.3725, -5.3725, -5.3725, -4.9752, -4.471, -4.9752, -4.1374, -4.4708, -4.9752, -4.4709, -4.9752, -4.9752, -4.6916, -4.6916, -4.9752, -4.9752, -4.9751, -5.3722, -5.3723, -5.3723, -5.3723, -4.5509, -5.2316, -5.2316, -5.2316, -5.2316, -5.2316, -5.2316, -5.2317, -5.2317, -5.2317, -5.2317, -5.2318, -5.2318, -4.8343, -5.2317, -5.9006, -5.9006, -5.9006, -5.9006, -5.9006, -5.9006, -5.9006, -5.9006, -5.9006, -5.9006, -5.9006, -5.9007, -5.9007, -5.9007, -5.9007, -5.2317, -4.8343, -5.2317, -5.2316, -5.2317, -5.2317, -4.8344, -4.8344, -3.9964, -3.9965, -5.2318, -5.2317, -5.2317, -4.8343, -5.2317, -4.5508, -4.3301, -4.8344, -4.5508, -4.5508, -4.8344, -4.8344, -4.8343, -4.8342, -4.8344, -5.2314, -5.2315, -5.2316, -5.2316, -5.2316, -5.2316, -4.7769, -4.777, -5.1742, -5.1742, -5.1742, -5.1742, -5.1743, -4.4935, -5.2624, -4.2729, -5.8432, -5.8432, -5.8432, -5.8432, -5.8432, -5.8432, -5.8432, -5.8432, -5.8432, -5.8432, -5.8432, -5.8432, -5.8432, -5.8432, -5.8432, -5.8433, -5.8433, -5.8433, -5.8433, -5.8433, -4.7772, -5.1742, -5.1742, -4.7769, -5.1742, -5.1742, -3.3261, -4.7769, -5.1742, -4.4935, -5.1764, -4.4935, -5.2107, -3.9351, -3.8495, -4.7769, -4.4934, -4.4934, -5.1742, -4.092, -4.0931, -3.6895, -4.0919, -4.092, -4.0921, -4.7769, -4.7769, -4.7769, -4.7771, -4.7769, -4.7773, -4.7769, -4.7768, -5.0112, -4.0894, -4.3101, -4.5937, -4.991, -4.991, -4.991, -4.9911, -4.9913, -5.66, -5.66, -5.66, -5.66, -5.66, -5.66, -5.66, -5.66, -5.66, -5.66, -5.66, -5.66, -5.66, -5.66, -5.66, -5.66, -5.66, -5.66, -5.66, -5.66, -5.66, -5.66, -4.5939, -4.9912, -4.9911, -4.9913, -4.9909, -4.5937, -4.5937, -4.0894, -4.3192, -4.5937, -3.7684, -4.5937, -4.0895, -4.9912, -4.5937, -4.9909, -4.991, -4.5167, -4.5937, -4.1119, -4.6947, -4.991, -4.5937, -4.5937, -4.9909, -4.9909, -4.9909, -4.991, -4.991, -4.1448, -4.8256, -4.8256, -4.8257, -4.8257, -4.8257, -4.8257, -4.8257, -4.8257, -5.4947, -5.4947, -5.4947, -5.4947, -5.4947, -5.4947, -5.4947, -5.4947, -5.4947, -5.4947, -5.4947, -5.4947, -5.4947, -5.4947, -5.4947, -5.4948, -5.4947, -5.4948, -5.4947, -5.4948, -5.4948, -4.8256, -4.8256, -4.4283, -4.1449, -3.9241, -4.1447, -4.8257, -4.8257, -4.8257, -4.4281, -4.4281, -4.4283, -4.8254, -4.8255, -4.8256, -4.8257, -4.8255, -4.8257, -4.8256, -4.8257, -4.8255, -4.8252, -4.8257, -4.8059, -4.8059, -4.8059, -4.806, -4.125, -5.4749, -5.4749, -5.4749, -5.4749, -5.4749, -5.4749, -5.4749, -5.4749, -5.4749, -5.4749, -5.4749, -5.4749, -5.4749, -5.4749, -5.4749, -5.4749, -5.4749, -5.4749, -5.4749, -5.4749, -5.4749, -5.4749, -5.4749, -5.4749, -5.4749, -4.8059, -3.7238, -4.8058, -4.8059, -4.4086, -4.4086, -3.9043, -4.4085, -4.8058, -4.8059, -4.125, -4.4086, -4.4085, -4.4085, -4.8058, -4.8059, -4.8059, -4.8059, -4.8059, -4.8058, -4.8059, -4.8059, -4.8059, -4.8059, -5.4745, -4.5147, -4.5147, -4.5147, -4.5151, -5.1837, -5.1837, -5.1837, -5.1837, -5.1837, -5.1837, -5.1837, -5.1837, -5.1837, -5.1837, -5.1837, -5.1837, -5.1837, -5.1837, -5.1837, -5.1837, -5.1837, -5.1837, -5.1837, -5.1837, -5.1837, -5.1837, -5.1837, -5.1837, -5.1837, -5.1837, -4.1274, -4.5147, -4.5147, -4.515, -3.8338, -3.4343, -4.1175, -4.5147, -4.415, -4.118, -4.1174, -4.1174, -4.381, -4.5146, -4.5147, -4.5147, -4.0811, -4.5146, -4.515, -4.5145, -5.1028, -5.1492, -5.1835, -5.1835, -5.1835, -5.1835, -4.4236, -4.4236, -4.4237, -4.4237, -5.0926, -5.0926, -5.0926, -5.0926, -5.0926, -5.0926, -5.0926, -5.0926, -5.0926, -5.0926, -5.0926, -5.0926, -5.0926, -5.0926, -5.0926, -5.0926, -5.0926, -5.0926, -5.0928, -5.0928, -5.0928, -5.0928, -5.0928, -5.0928, -5.0928, -5.0928, -4.4236, -4.0264, -3.7427, -4.4236, -4.4236, -4.4236, -4.4237, -4.1531, -4.4236, -4.4238, -4.4373, -4.4236, -4.4059, -4.8125, -5.0922, -5.0923, -5.0925, -5.0926, -5.0926, -5.0926, -5.0926, -5.0926, -5.0926, -5.0926, -5.0926, -5.0926, -5.0173, -5.0173, -5.0173, -5.0173, -5.0173, -5.0173, -5.0173, -5.0173, -5.0173, -5.0173, -5.0173, -5.0173, -5.0173, -5.0173, -5.0173, -5.0173, -5.0173, -5.0174, -5.0174, -5.0174, -5.0175, -5.0175, -5.0175, -5.0175, -5.0175, -4.3482, -5.0174, -5.0173, -4.3483, -5.0173, -3.9509, -4.3482, -3.951, -3.4467, -4.3482, -4.3483, -4.3482, -3.9509, -4.3483, -5.0172, -5.0172, -5.0172, -5.0172, -5.0172, -5.0172, -5.0172, -5.0172, -5.0172, -5.0173, -5.0173, -5.0173, -5.0173, -5.0173, -5.0173, -5.0173, -5.0173, -5.0173, -5.0173, -4.3097, -3.9124, -4.9787, -4.9787, -4.9787, -4.9787, -4.9787, -4.9787, -4.9787, -4.9787, -4.9787, -4.9787, -4.9787, -4.9787, -4.9787, -4.9787, -4.9788, -4.9788, -4.9788, -4.9788, -4.9788, -4.9788, -4.9788, -4.9788, -4.9788, -4.9788, -4.9788, -4.9788, -4.9788, -4.9788, -3.9124, -3.6288, -4.3097, -4.3097, -4.3097, -4.3097, -4.3097, -4.3097, -4.3097, -4.3096, -4.9787, -4.9787, -4.9787, -4.9787, -4.9787, -4.9787, -4.9787, -4.9787, -4.9787, -4.3097, -4.9787, -4.9787, -4.9787, -4.9787, -4.9787, -4.9787, -4.9787, -4.9787, -4.9787, -4.9787, -4.9787, -4.9787, -4.9787, -4.9788, -4.9788, -4.9788, -4.9788, -4.9788, -4.9788, -4.9788, -4.9788, -4.9788, -4.3098, -4.3097, -4.9787, -4.9787, -4.9787, -4.9787, -4.9787, -3.6289, -4.3098, -4.3097, -4.3097, -4.3097, -4.3097, -3.9124, -4.3097, -4.9787, -4.9787, -4.9787, -4.9787, -4.9787, -4.9787, -4.9787, -4.9787, -4.9787, -4.9787, -4.9787, -4.9787, -4.7998, -4.7998, -4.7998, -4.7998, -4.7998, -4.7998, -4.7998, -4.7998, -4.7998, -4.7998, -4.7998, -4.7998, -4.7998, -4.7998, -4.7998, -4.7998, -4.7998, -4.7998, -4.7998, -4.1307, -4.7998, -4.7998, -3.7334, -4.7998, -4.7998, -4.1307, -4.7998, -4.7998, -4.7998, -4.7996, -3.7334, -3.7334, -3.4498, -4.1307, -4.1307, -4.7996, -4.7997, -4.7997, -4.7998, -4.7998, -4.7998, -4.7998, -4.7998, -4.7998, -4.7998, -4.7998, -4.7998, -4.7998, -4.7998, -4.7998, -4.7998, -4.7998, -4.7998, -4.7998, -4.7998, -4.7998, -4.7998, -4.7998, -4.7998, -4.7998, -4.7998, -4.7998, -4.7998, -4.7998, -4.7998, -4.7998, -4.7998, -4.7998, -4.7998, -4.7998, -4.7998, -4.7998, -4.7998, -4.7998, -4.7998, -4.7998, -4.7998, -4.7998, -4.7998, -4.7998, -3.7334, -4.1307, -4.1307, -4.1307, -4.1307, -4.7997, -4.7997, -4.7997, -4.7997, -4.7997, -4.7997, -4.7998, -4.7998, -4.7998, -4.7998, -4.7998, -4.7998, -4.7998, -4.7998, -4.7998, -4.7998, -4.7998, -4.7998, -4.7998, -4.7998, -4.7998, -4.7998, -4.7998, -4.7998, -4.0659, -4.0659, -4.735, -4.735, -4.735, -4.735, -4.735, -4.735, -4.735, -4.735, -4.735, -4.735, -4.735, -4.735, -4.735, -4.735, -4.735, -4.735, -4.735, -4.735, -4.735, -4.735, -4.735, -4.0659, -4.735, -4.735, -4.735, -4.735, -4.735, -4.735, -3.6686, -4.0659, -4.0659, -4.0659, -4.0659, -4.7349, -4.735, -4.735, -4.735, -4.735, -4.735, -4.735, -4.735, -4.735, -4.735, -4.735, -4.735, -4.735, -4.735, -4.735, -4.0145, -4.6835, -4.6835, -4.6835, -4.6835, -4.6835, -4.6835, -4.6835, -4.6835, -4.6835, -4.6835, -4.6835, -4.6835, -4.6835, -4.6835, -4.6835, -4.6835, -4.6835, -4.6836, -4.6835, -4.6835, -4.6835, -4.6835, -4.6835, -4.6835, -4.6835, -4.6835, -4.0147, -4.6835, -4.6835, -4.0148, -4.0145, -3.6172, -4.0144, -4.0145, -4.0144, -4.6834, -4.6834, -4.6834, -4.6835, -4.6835, -4.6835, -4.6835, -4.6835, -4.6835, -3.982, -4.6509, -4.6509, -4.6509, -4.651, -4.651, -4.651, -4.651, -4.651, -4.651, -4.6511, -4.6511, -4.6511, -4.6511, -4.6511, -4.6512, -4.6512, -3.9822, -4.651, -4.651, -4.651, -4.651, -4.6509, -4.6509, -4.651, -4.6511, -4.0133, -4.6516, -4.651, -4.6511, -3.5847, -3.6678, -4.0136, -4.0138, -4.651, -4.651, -4.6511, -3.2886, -4.6384, -4.6384, -4.6384, -4.6385, -4.6385, -4.6385, -4.6385, -4.6385, -4.6385, -4.6385, -4.6385, -4.6385, -4.6385, -4.6385, -3.9695, -3.9695, -4.6385, -4.6385, -4.6385, -4.6385, -4.6384, -4.6384, -4.6385, -4.6384, -3.9694, -4.6385, -4.6385, -4.6384, -3.9693, -3.5722, -3.5722, -4.6384, -4.6384, -4.6384, -4.6384, -4.6384, -4.6384, -4.1187, -4.1187, -4.1187, -4.1187, -4.1187, -4.1187, -4.1187, -4.1187, -4.1187, -4.1187, -7.1632, -4.1187, -7.1632, -7.1632, -7.1632, -7.1632, -7.1632, -7.1632, -7.1632, -7.1632, -7.1632, -7.1632, -7.1632, -7.1632, -7.1632, -7.1632, -7.1632, -7.1632, -7.1632, -7.1632, -4.1187, -7.1616, -7.1622, -7.1626, -7.1626, -7.1626, -7.1627, -7.1627, -7.1627, -7.1628, -7.1628, -7.1628, -7.1628, -7.1628, -7.1628, -7.1628, -7.1628, -7.1629, -7.1629, -4.0872, -4.0872, -4.0872, -4.0872, -4.0872, -4.0872, -4.0872, -4.0872, -4.0872, -4.0872, -7.1317, -7.1317, -7.1317, -7.1317, -7.1317, -7.1317, -7.1317, -7.1317, -7.1317, -7.1317, -7.1317, -7.1317, -7.1317, -7.1317, -7.1317, -7.1317, -7.1317, -7.1317, -7.1317, -7.1317, -7.1316, -7.1316, -7.1316, -7.1317, -7.1317, -7.1317, -7.1317, -7.1317, -7.1317, -7.1317, -7.1317, -7.1317, -7.1317, -7.1317, -7.1317, -7.1317, -7.1317, -7.1317, -7.1317, -7.1317, -3.9685, -3.9685, -3.9685, -7.013, -7.013, -7.013, -7.013, -7.013, -7.013, -7.013, -7.013, -7.013, -7.013, -7.013, -7.013, -7.013, -7.013, -7.013, -7.013, -7.013, -7.013, -7.013, -7.013, -7.013, -7.013, -7.013, -7.013, -7.013, -7.013, -7.013, -7.013, -7.013, -7.013, -7.013, -7.013, -7.013, -7.013, -7.013, -7.013, -7.013, -7.013, -7.013, -7.013, -7.013, -7.013, -7.013, -7.013, -7.013, -7.013, -7.013, -7.013, -7.013, -7.013, -7.013, -7.013, -7.013, -7.013], \"loglift\": [30.0, 29.0, 28.0, 27.0, 26.0, 25.0, 24.0, 23.0, 22.0, 21.0, 20.0, 19.0, 18.0, 17.0, 16.0, 15.0, 14.0, 13.0, 12.0, 11.0, 10.0, 9.0, 8.0, 7.0, 6.0, 5.0, 4.0, 3.0, 2.0, 1.0, 1.7316, 1.7316, 1.7316, 1.7316, 1.6494, 1.6493, 1.6493, 1.6493, 1.6493, 1.6493, 1.6493, 1.6493, 1.6493, 1.4979, 1.4979, 1.4816, 1.4806, 1.4428, 1.4428, 1.4428, 1.4428, 1.4428, 1.4428, 1.4428, 1.4428, 1.4428, 1.4428, 1.4428, 1.4428, 1.4428, 1.4055, 1.4233, 1.4046, 1.4045, 1.1325, 1.2568, 1.3547, 1.3412, 1.3412, 1.1841, 0.9748, 1.1123, 0.8112, 0.795, 0.9736, 0.3622, 0.8759, 0.8211, 0.377, 0.3478, 0.6006, 0.582, -0.258, 0.1405, 0.0477, 0.7537, -0.421, 1.9387, 1.8092, 1.8092, 1.8092, 1.8092, 1.8092, 1.8092, 1.8092, 1.8092, 1.8092, 1.8092, 1.8091, 1.8091, 1.6789, 1.6027, 1.5987, 1.5987, 1.5987, 1.5987, 1.5987, 1.5987, 1.5987, 1.5987, 1.5987, 1.5987, 1.5987, 1.5986, 1.5986, 1.5986, 1.5986, 1.5601, 1.5183, 1.5166, 1.4891, 1.489, 1.489, 1.3846, 1.3733, 1.0119, 0.9549, 1.3657, 1.3505, 1.2922, 1.0735, 1.2686, 0.8891, 0.7385, 0.8785, 0.4981, 0.4342, 0.856, 0.6114, 0.4315, 0.1143, -0.4478, -0.5143, -0.1262, -0.3985, 0.7172, 0.3442, 1.1937, 1.9507, 1.9506, 1.8666, 1.8666, 1.8665, 1.8665, 1.8665, 1.86, 1.7902, 1.7212, 1.6561, 1.6561, 1.6561, 1.6561, 1.6561, 1.6561, 1.656, 1.656, 1.656, 1.656, 1.656, 1.656, 1.656, 1.656, 1.656, 1.656, 1.656, 1.656, 1.656, 1.656, 1.6047, 1.6178, 1.6175, 1.5851, 1.6008, 1.6007, 1.3911, 1.5291, 1.574, 1.4696, 1.5514, 1.4056, 1.5206, 1.2349, 1.1995, 1.3547, 1.2347, 1.2289, 1.4324, 1.0269, 1.0268, 0.7673, 0.9375, 0.8565, 0.7411, 0.9241, 0.8473, 0.7357, 0.5204, 0.2917, 0.2311, 0.2081, -0.3902, 0.0283, 2.253, 2.2231, 2.1755, 2.0876, 2.0876, 2.0876, 2.0874, 2.0873, 1.869, 1.869, 1.869, 1.869, 1.869, 1.869, 1.869, 1.869, 1.869, 1.869, 1.869, 1.869, 1.869, 1.869, 1.869, 1.869, 1.869, 1.869, 1.869, 1.869, 1.869, 1.869, 1.7593, 1.7639, 1.7568, 1.6246, 1.5715, 1.3396, 1.3237, 0.9501, 1.0434, 1.1897, 0.6182, 1.1341, 0.7437, 1.3942, 1.096, 1.3669, 1.3195, 0.9033, 0.8521, 0.345, 0.9161, 1.199, 0.5763, 0.4146, 0.75, 0.8005, 0.3066, 0.6995, -0.006, 2.411, 2.2725, 2.2725, 2.2724, 2.2724, 2.2724, 2.2724, 2.2724, 2.0549, 2.0496, 2.0496, 2.0496, 2.0496, 2.0496, 2.0496, 2.0496, 2.0496, 2.0496, 2.0496, 2.0496, 2.0496, 2.0496, 2.0496, 2.0496, 2.0496, 2.0496, 2.0496, 2.0496, 2.0496, 2.0496, 1.9436, 1.9436, 1.505, 1.2752, 1.0843, 1.1529, 1.4461, 1.4082, 1.3331, 0.6917, 0.6772, 0.6112, 1.0736, 0.9585, 0.9117, 0.8671, 0.8649, 0.6142, 0.4401, 0.1257, 0.0076, -0.3684, -0.439, 2.3195, 2.3195, 2.3195, 2.3194, 2.2477, 2.0907, 2.0907, 2.0907, 2.0907, 2.0907, 2.0907, 2.0907, 2.0907, 2.0907, 2.0907, 2.0907, 2.0906, 2.0906, 2.0906, 2.0906, 2.0906, 2.0906, 2.0906, 2.0906, 2.0906, 2.0906, 2.0906, 2.0906, 2.0906, 2.0906, 2.0374, 1.3815, 1.8061, 1.7999, 1.5631, 1.4743, 1.1643, 1.1488, 1.2923, 1.2815, 0.3319, 0.6209, 0.5765, 0.54, 1.0568, 0.9351, 0.9314, 0.9165, 0.8838, 0.8154, 0.7586, 0.634, 0.3641, 0.313, -1.0879, 2.6615, 2.6615, 2.6615, 2.6611, 2.4211, 2.4211, 2.4211, 2.4211, 2.4211, 2.4211, 2.4211, 2.4211, 2.4211, 2.4211, 2.4211, 2.4211, 2.4211, 2.4211, 2.4211, 2.4211, 2.4211, 2.4211, 2.4211, 2.4211, 2.4211, 2.4211, 2.4211, 2.4211, 2.4211, 2.4211, 2.3562, 2.3433, 2.3101, 2.3098, 2.036, 1.6846, 1.5038, 1.8399, 1.6773, 1.3219, 0.988, 0.9121, 1.2298, 1.3683, 1.3175, 1.2768, 0.3757, 1.175, 0.9976, 0.2026, -0.7162, 0.2135, -0.0636, 0.0823, -0.0135, 0.5293, 2.7641, 2.7641, 2.7639, 2.7639, 2.5209, 2.5209, 2.5209, 2.5209, 2.5209, 2.5209, 2.5209, 2.5209, 2.5209, 2.5209, 2.5209, 2.5209, 2.5209, 2.5209, 2.5209, 2.5209, 2.5209, 2.5209, 2.5208, 2.5208, 2.5208, 2.5208, 2.5208, 2.5208, 2.5208, 2.5208, 2.0042, 1.6865, 1.2086, 1.8024, 1.7888, 1.7446, 1.5201, 0.8864, 0.9391, 0.8419, 0.7327, 0.5614, 0.3113, 0.2364, 1.4977, 0.4722, 0.5287, 2.1798, 1.0391, 1.5852, 1.0395, 2.1798, 1.179, 1.4313, 1.5082, 2.0087, 2.6263, 2.6263, 2.6263, 2.6263, 2.6263, 2.6263, 2.6263, 2.6263, 2.6263, 2.6263, 2.6263, 2.6263, 2.6263, 2.6263, 2.6263, 2.6263, 2.6263, 2.6262, 2.6262, 2.6261, 2.6261, 2.6261, 2.6261, 2.6261, 2.626, 2.2889, 2.2393, 2.2082, 2.1545, 2.1432, 1.9979, 2.0495, 1.9416, 1.5047, 1.9385, 1.82, 1.7823, 1.034, 0.1085, 1.7746, -0.6306, 0.5401, 1.7101, 1.7745, 1.8685, 1.5225, -0.3001, 1.1761, 0.6956, 1.0366, 0.2803, -0.1841, 1.5221, 1.1087, 1.3406, 2.1019, 1.5566, 1.6842, 2.9141, 2.7268, 2.6625, 2.6625, 2.6625, 2.6625, 2.6625, 2.6625, 2.6625, 2.6625, 2.6625, 2.6625, 2.6625, 2.6625, 2.6625, 2.6624, 2.6624, 2.6624, 2.6624, 2.6624, 2.6624, 2.6624, 2.6624, 2.6624, 2.6624, 2.6624, 2.6624, 2.6624, 2.6624, 2.6624, 1.7804, 0.828, 1.6341, 1.5828, 1.5415, 1.4183, 1.3011, 0.7198, 0.5234, 0.077, 0.9292, 0.534, 1.3643, 1.752, 0.1266, 2.221, 1.5241, 1.1518, 2.2836, 2.9181, 2.6654, 2.6654, 2.6654, 2.6654, 2.6654, 2.6654, 2.6654, 2.6654, 2.6654, 2.6654, 2.6654, 2.6654, 2.6654, 2.6654, 2.6654, 2.6654, 2.6654, 2.6654, 2.6653, 2.6653, 2.6653, 2.6653, 2.5431, 2.3032, 2.2856, 2.2288, 2.1965, 2.1821, 2.1821, 2.155, 2.1081, 2.0722, 1.9516, 1.898, 1.4312, 0.5444, 0.7392, 1.1936, 1.3081, 0.1913, 0.9387, 0.0296, 0.8839, 1.2403, 0.8912, 2.1512, 1.6493, 1.8807, 1.727, 2.8893, 2.8893, 2.8893, 2.8893, 2.8893, 2.8893, 2.8893, 2.8893, 2.8893, 2.8893, 2.8893, 2.8893, 2.8893, 2.5169, 2.5126, 2.457, 2.4034, 2.3461, 2.1895, 2.1453, 2.0729, 1.996, 1.9873, 1.9552, 1.9309, 1.9231, 1.9059, 1.9034, 1.8059, 1.7979, 1.5641, 1.3855, 1.007, 0.9891, 0.8987, 0.8246, 0.1517, -0.0825, 1.2878, 1.0514, 1.487, 0.893, 0.2397, 1.1719, 1.2984, 1.5856, 0.466, 0.2491, 1.5808, 1.5432, 2.9003, 2.9003, 2.9003, 2.9003, 2.9003, 2.9003, 2.9003, 2.9003, 2.9003, 2.9003, 2.9003, 2.9003, 2.9003, 2.9003, 2.9003, 2.9003, 2.9003, 2.9003, 2.9003, 2.9003, 2.9003, 2.9003, 2.9003, 2.9003, 2.5098, 2.5098, 2.4645, 2.4625, 2.4102, 2.4102, 2.0817, 2.2031, 1.7392, 0.8543, 0.3261, 0.7761, 1.906, 0.0334, 0.9132, 1.0832, 0.4978, 0.3201, -0.4131, 0.1487, 0.3192, 1.3262, 1.5581, 2.3525, 2.0486, 0.3056, 1.6589, 2.086, 0.8245, 0.9226, 0.3702, 2.0848, 1.3323, 2.0081, 1.1081, 3.251, 3.251, 2.976, 2.976, 2.976, 2.976, 2.976, 2.976, 2.976, 2.976, 2.976, 2.976, 2.976, 2.976, 2.976, 2.976, 2.976, 2.976, 2.976, 2.976, 2.976, 2.976, 2.976, 2.933, 2.6057, 2.5924, 2.5746, 2.5746, 2.5152, 2.4557, 2.0724, 2.1954, 2.149, 1.4986, 1.2967, 1.2308, 1.5674, 0.25, 2.0922, 0.3848, 1.1349, 1.3189, 1.0023, 1.1415, 1.9664, 1.6928, 1.6793, 1.4989, 1.4333, 0.3045, 3.3324, 3.0497, 3.0497, 3.0497, 3.0497, 3.0496, 3.0496, 3.0496, 3.0496, 2.6332, 2.5999, 2.5806, 2.5313, 2.5313, 2.5203, 2.5202, 2.4987, 2.4986, 2.4986, 2.4878, 2.2643, 2.2599, 2.2467, 2.2023, 2.1981, 2.1981, 2.1789, 2.1786, 2.1684, 1.8846, 1.8174, 1.7689, 1.3342, 0.8187, 0.4424, 0.3723, 0.6793, 0.4355, 0.7564, 1.0538, 0.9408, 1.7543, 1.0443, 1.1791, 0.7365, 3.3558, 3.0757, 3.0756, 3.0756, 3.0756, 3.0755, 3.0755, 3.0755, 3.0755, 3.0755, 3.0754, 3.0754, 3.0754, 3.0754, 3.0754, 3.0753, 3.0752, 2.979, 2.6764, 2.6614, 2.575, 2.5598, 2.5275, 2.5274, 2.5273, 2.404, 2.3297, 2.2817, 2.2792, 2.2382, 2.1377, 1.7522, 1.055, 1.0351, 1.7743, 1.5423, 1.077, 3.3013, 3.1079, 3.1079, 3.1079, 3.1079, 3.1078, 3.1078, 3.1078, 3.1078, 3.1078, 3.1078, 3.1078, 3.1078, 3.1078, 3.1078, 3.0654, 2.7855, 2.7021, 2.6338, 2.6338, 2.5513, 2.4167, 2.3094, 2.309, 2.2488, 2.2455, 2.2447, 2.2422, 2.1959, 2.1567, 2.1175, 1.9923, 1.3247, 1.574, 0.391, 1.8269, 1.0988, 0.5316, 3.9207, 3.9207, 3.267, 2.6087, 2.4552, 2.2533, 2.2392, 2.1529, 1.8251, 1.6776, 1.0269, 1.0012, 0.9192, 0.9192, 0.9192, 0.5832, 0.5832, 0.5832, 0.5832, 0.5832, 0.5832, 0.5832, 0.5832, 0.5832, 0.5832, 0.5832, 0.5832, 0.5832, 0.5832, 0.57, 0.3382, -2.7749, -2.2137, -0.9903, -1.3114, -1.4349, -1.2861, -1.0751, -2.1233, -1.717, -0.4559, -0.4559, -0.6897, -0.4559, -0.6897, -2.0942, -1.6056, -2.2115, -0.141, 3.9952, 3.9952, 3.9952, 3.3073, 2.8948, 2.5027, 2.0448, 1.7894, 1.6409, 1.3527, 1.0584, 0.9077, 0.9077, 0.6147, 0.6147, 0.6147, 0.6147, 0.6147, 0.6147, 0.6147, 0.6147, 0.6147, 0.6147, 0.6147, 0.6147, 0.6147, 0.6146, 0.6014, 0.6014, 0.6014, -2.7449, -2.1831, -0.9594, -1.6859, -0.6585, -0.4248, -0.6585, -0.4248, -1.2805, -1.4039, -1.5744, -0.9583, -0.4248, -2.0922, -2.0631, -1.3354, -1.0441, -0.1098, -0.1098, -2.1022, 4.2216, 2.8318, 1.6557, 1.0693, 1.0693, 1.0693, 1.0264, 1.0264, 0.7333, 0.7333, 0.7333, 0.7333, 0.7333, 0.7333, 0.7333, 0.7333, 0.7333, 0.7333, 0.7333, 0.7333, 0.7333, 0.7333, 0.7201, 0.7201, 0.7201, 0.7201, 0.7201, 0.7201, 0.7201, 0.7201, 0.4863, 0.0985, 0.4863, -1.9641, -0.1891, -1.285, -0.4308, -1.4485, 0.4863, 0.0278, -0.1612, 0.4863, 0.4863, -0.6324, 0.1768, -0.651, -0.2923, -0.6, 0.4863, 0.4863, -2.0617, -0.5128, -0.6584, -0.5129, 0.4863, 0.4863, -0.5399]}, \"token.table\": {\"Topic\": [1, 1, 2, 5, 16, 1, 3, 8, 5, 11, 7, 1, 9, 11, 12, 5, 14, 17, 4, 3, 15, 1, 4, 15, 1, 4, 1, 11, 16, 8, 5, 15, 16, 5, 16, 5, 9, 10, 12, 3, 7, 16, 1, 2, 3, 6, 7, 8, 10, 17, 1, 2, 3, 5, 7, 9, 10, 15, 3, 5, 1, 2, 16, 1, 4, 5, 14, 17, 2, 2, 8, 3, 6, 9, 11, 14, 2, 4, 6, 10, 13, 14, 4, 4, 15, 4, 2, 2, 10, 11, 8, 14, 1, 3, 6, 8, 12, 17, 2, 14, 3, 7, 10, 5, 8, 10, 1, 2, 5, 1, 10, 13, 3, 8, 9, 7, 4, 1, 2, 5, 10, 13, 14, 15, 14, 1, 12, 6, 2, 6, 12, 8, 11, 1, 11, 6, 16, 7, 7, 8, 11, 13, 14, 2, 3, 4, 7, 10, 11, 12, 13, 15, 8, 12, 15, 12, 16, 3, 5, 1, 4, 3, 7, 8, 2, 2, 13, 1, 2, 3, 4, 5, 8, 11, 12, 16, 12, 2, 4, 1, 13, 9, 3, 6, 5, 10, 11, 16, 15, 10, 14, 10, 1, 11, 14, 17, 9, 12, 14, 5, 10, 10, 15, 3, 4, 12, 17, 6, 2, 6, 9, 14, 4, 13, 15, 5, 9, 11, 3, 1, 2, 3, 5, 10, 16, 17, 9, 3, 7, 8, 7, 3, 2, 10, 9, 7, 2, 8, 11, 10, 1, 2, 3, 5, 6, 8, 10, 14, 16, 17, 7, 1, 15, 16, 4, 13, 10, 6, 11, 16, 5, 15, 15, 2, 2, 9, 13, 10, 8, 14, 6, 13, 1, 8, 7, 2, 3, 6, 7, 12, 14, 7, 8, 5, 2, 5, 15, 4, 3, 7, 15, 13, 2, 2, 9, 1, 2, 3, 4, 5, 2, 8, 12, 13, 3, 8, 1, 4, 2, 14, 9, 9, 3, 3, 8, 14, 4, 1, 2, 3, 8, 12, 2, 6, 15, 6, 3, 10, 13, 16, 10, 15, 2, 17, 14, 1, 2, 3, 4, 6, 7, 13, 1, 2, 6, 8, 9, 12, 14, 12, 1, 3, 5, 7, 10, 14, 11, 17, 8, 10, 10, 2, 4, 9, 3, 12, 2, 4, 17, 7, 6, 13, 13, 14, 1, 2, 3, 4, 5, 6, 7, 9, 10, 13, 15, 5, 1, 8, 14, 1, 3, 6, 7, 12, 13, 15, 16, 2, 3, 15, 7, 2, 3, 1, 2, 1, 2, 3, 4, 11, 10, 4, 5, 1, 6, 10, 12, 17, 2, 6, 10, 16, 10, 1, 2, 3, 4, 5, 10, 11, 16, 8, 2, 4, 5, 8, 13, 6, 7, 16, 2, 1, 3, 6, 13, 16, 8, 2, 11, 17, 1, 13, 2, 13, 2, 4, 11, 12, 13, 8, 17, 3, 16, 1, 2, 4, 5, 1, 13, 2, 1, 2, 5, 8, 9, 12, 15, 17, 1, 9, 3, 4, 6, 7, 8, 9, 11, 13, 17, 5, 14, 9, 14, 1, 2, 3, 6, 7, 15, 1, 6, 5, 11, 2, 5, 11, 5, 4, 8, 3, 10, 13, 1, 3, 11, 1, 3, 4, 6, 9, 15, 3, 4, 5, 7, 8, 9, 12, 13, 2, 7, 17, 17, 3, 5, 3, 16, 1, 2, 4, 5, 6, 7, 8, 11, 14, 15, 10, 1, 3, 4, 6, 7, 10, 13, 6, 1, 2, 5, 7, 8, 9, 11, 12, 16, 13, 1, 15, 3, 5, 6, 7, 13, 15, 2, 1, 2, 3, 4, 14, 14, 10, 10, 2, 3, 4, 8, 1, 2, 6, 13, 11, 13, 13, 8, 11, 4, 2, 12, 14, 16, 5, 7, 7, 3, 11, 16, 3, 15, 1, 2, 4, 6, 11, 15, 1, 8, 1, 2, 1, 2, 3, 4, 5, 9, 10, 13, 15, 1, 2, 6, 9, 2, 7, 15, 9, 6, 5, 3, 1, 9, 12, 13, 3, 1, 3, 5, 11, 12, 13, 2, 3, 4, 5, 6, 7, 9, 12, 13, 14, 15, 2, 3, 4, 5, 6, 7, 9, 10, 11, 12, 13, 15, 5, 14, 3, 1, 2, 3, 11, 2, 17, 13, 1, 2, 8, 11, 1, 3, 5, 6, 9, 10, 13, 6, 11, 9, 1, 2, 7, 12, 1, 4, 6, 7, 12, 1, 2, 3, 5, 6, 2, 3, 5, 6, 7, 11, 15, 1, 3, 5, 6, 7, 12, 5, 2, 4, 11, 14, 6, 3, 6, 1, 3, 5, 7, 10, 12, 10, 11, 4, 14, 1, 14, 17, 1, 2, 2, 3, 4, 5, 6, 3, 5, 6, 11, 15, 8, 5, 4, 6, 4, 2, 6, 4, 8, 1, 12, 6, 7, 1, 6, 11, 1, 11, 7, 10, 1, 6, 11, 2, 9, 17, 1, 2, 2, 1, 1, 2, 3, 5, 6, 12, 14, 15, 17, 7, 17, 14, 5, 1, 2, 3, 5, 6, 7, 9, 1, 4, 9, 14, 8, 3, 4, 5, 10, 17, 2, 3, 6, 8, 10, 13, 17, 16, 5, 12, 1, 2, 9, 3, 7, 9, 8, 2, 3, 5, 10, 14, 7, 1, 8, 8, 14, 6, 17, 6, 5, 2, 3, 9, 16, 7, 9, 10, 9, 2, 3, 9, 17, 1, 3, 4, 5, 11, 15, 16, 2, 9, 11, 13, 13, 5, 1, 3, 5, 7, 14, 8, 1, 2, 3, 4, 5, 6, 7, 8, 9, 10, 12, 13, 1, 9, 3, 11, 3, 13, 1, 4, 9, 10, 6, 1, 3, 5, 6, 11, 1, 2, 3, 4, 1, 3, 6, 7, 12, 1, 6, 8, 10, 14, 8, 1, 9, 4, 5, 8, 10, 13, 2, 6, 13, 13, 7, 4, 2, 4, 9, 7, 9, 2, 5, 6, 11, 4, 16, 7, 2, 1, 4, 5, 7, 9, 10, 1, 10, 4, 2, 1, 3, 13, 2, 6, 6, 2, 3, 4, 5, 6, 9, 10, 12, 13, 1, 4, 14, 9, 5, 6, 8, 17, 14, 1, 16, 4, 1, 4, 5, 12, 16, 16, 2, 15, 5, 3, 2, 11, 13, 13, 2, 2, 1, 3, 4, 14, 10, 15, 1, 9, 3, 15, 1, 2, 3, 4, 5, 8, 8, 17, 9, 4, 12, 8, 8, 17, 6, 12, 11, 12, 11, 9, 11, 17, 4, 12, 11, 1, 6, 10, 17, 14, 9, 1, 4, 5, 10, 10, 5, 7, 8, 17, 6, 17, 10, 5, 16, 1, 2, 11, 14, 3, 2, 7, 15, 6, 5, 3, 16, 8, 4, 10, 6, 1, 6, 16, 11, 7, 4, 5, 6, 7, 12, 17, 4, 5, 8, 9, 10, 12, 17, 2, 3, 4, 5, 2, 3, 4, 5, 6, 7, 9, 10, 12, 13, 15, 5, 4, 1, 2, 3, 4, 5, 8, 11, 13, 5, 11, 10, 9, 5, 11, 3, 7, 2, 3, 4, 10, 11, 12, 2, 5, 9, 15, 16, 8, 3, 7, 9, 1, 4, 8, 2, 6, 16, 1, 4, 9, 15, 16, 5, 9, 2, 5, 3, 2, 8, 15, 7, 7, 8, 17, 11, 1, 11, 8, 15, 2, 13, 3, 2, 5, 7, 13, 16, 17, 1, 3, 6, 10, 12, 10, 1, 9, 10, 11, 1, 2, 3, 6, 7, 8, 11, 12, 2, 3, 4, 7, 10, 4, 9, 7, 11, 2, 16, 1, 3, 4, 6, 7, 8, 9, 15, 5, 8, 12, 16, 12, 6, 2, 5, 7, 11, 13, 14, 6, 13, 2, 4, 8, 9, 14, 2, 3, 11, 1, 2, 3, 4, 5, 6, 8, 12, 14, 1, 3, 4, 9, 10, 11, 1, 2, 3, 5, 6, 7, 13, 14, 2, 3, 11, 15, 4, 1, 2, 3, 4, 6, 16, 1, 4, 6, 12, 13, 14, 1, 2, 6, 14, 1, 5, 6, 9, 15, 8, 12, 15, 10, 13, 8, 2, 7, 5, 2, 9, 3, 7, 4, 2, 15, 17, 1, 3, 5, 4, 15, 1, 1, 2, 3, 3, 11, 4, 6, 7, 1, 5, 8, 9, 10, 1, 6, 1, 4, 9, 13, 7, 14, 3, 9, 4, 14, 8, 16, 9, 5, 2, 9, 13, 11, 9, 12, 9, 1, 3, 4, 5, 6, 7, 10, 12, 17, 1, 2, 3, 9, 17, 1, 8, 17, 6, 1, 7, 2, 5, 6, 7, 8, 9, 13, 2, 6, 6, 7, 8, 9, 11, 17, 2, 1, 2, 8, 16, 4, 1, 12, 1, 2, 4, 6, 11, 14, 2, 4, 10, 12, 16, 7, 2, 1, 2, 4, 6, 8, 2, 5, 13, 6, 17, 1, 2, 3, 4, 5, 6, 8, 9, 13, 14, 5, 17, 16, 10], \"Freq\": [0.6703544718039722, 0.6703544718039722, 0.8605232270547907, 0.7118481050747142, 0.8541357925929911, 0.39873864645724183, 0.39873864645724183, 0.19936932322862091, 0.7118536291444955, 0.786591089400413, 0.7562162864953692, 0.4048162689927758, 0.2024081344963879, 0.2024081344963879, 0.2024081344963879, 0.7118451702152757, 0.5806769427606263, 0.5806769427606263, 0.701054557324002, 0.49556915081746045, 0.49556915081746045, 0.5363763652782874, 0.2681881826391437, 0.2681881826391437, 0.844342724539483, 0.701054557324002, 0.369770379371481, 0.369770379371481, 0.369770379371481, 0.49830430389311825, 0.5120042352455375, 0.5120042352455375, 0.8541056211314707, 0.5099842179208142, 0.5099842179208142, 0.25123028650964735, 0.25123028650964735, 0.25123028650964735, 0.25123028650964735, 0.5574048507878505, 0.27870242539392526, 0.27870242539392526, 0.20808302034245318, 0.10404151017122659, 0.10404151017122659, 0.20808302034245318, 0.20808302034245318, 0.10404151017122659, 0.10404151017122659, 0.10404151017122659, 0.18667219840703578, 0.18667219840703578, 0.2800082976105537, 0.09333609920351789, 0.09333609920351789, 0.09333609920351789, 0.09333609920351789, 0.09333609920351789, 0.6421872301015097, 0.32109361505075484, 0.722881961252476, 0.180720490313119, 0.180720490313119, 0.18838771001135188, 0.18838771001135188, 0.18838771001135188, 0.18838771001135188, 0.18838771001135188, 0.6805310382262466, 0.46179371253081575, 0.46179371253081575, 0.860457128976323, 0.3064281023937229, 0.3064281023937229, 0.3064281023937229, 0.3064281023937229, 0.20560627505965814, 0.20560627505965814, 0.20560627505965814, 0.20560627505965814, 0.20560627505965814, 0.20560627505965814, 0.8936295963278522, 0.5063984418627233, 0.5063984418627233, 0.6557866480372156, 0.6805230755296232, 0.3588897866442699, 0.3588897866442699, 0.3588897866442699, 0.7629061798343632, 0.8409893762522707, 0.8443358128075577, 0.5199801126164866, 0.17332670420549554, 0.17332670420549554, 0.17332670420549554, 0.17332670420549554, 0.6805230755296232, 0.8409893762522707, 0.34663707834628105, 0.34663707834628105, 0.7842551239574715, 0.9112407103705057, 0.7628995627682204, 0.7842542584180205, 0.31239064004045564, 0.6247812800809113, 0.7118454010998917, 0.8443414734814617, 0.5369221399159122, 0.5369221399159122, 0.2873469770602717, 0.2873469770602717, 0.2873469770602717, 0.7562160708429111, 0.701054557324002, 0.13857572731270304, 0.41572718193810915, 0.13857572731270304, 0.13857572731270304, 0.13857572731270304, 0.13857572731270304, 0.13857572731270304, 0.5670853984972595, 0.47790913147995256, 0.47790913147995256, 0.7271395046077714, 0.2784595965444725, 0.556919193088945, 0.2784595965444725, 0.5082989038575404, 0.5082989038575404, 0.8443404707176078, 0.7865932080271653, 0.7271395046077714, 0.8540973786412034, 0.49261133058049333, 0.19733355657827967, 0.19733355657827967, 0.19733355657827967, 0.19733355657827967, 0.19733355657827967, 0.20870671836142723, 0.3130600775421408, 0.10435335918071362, 0.10435335918071362, 0.10435335918071362, 0.10435335918071362, 0.10435335918071362, 0.10435335918071362, 0.10435335918071362, 0.7629061798343632, 0.8227278817739666, 0.8597863709880893, 0.5644896376618894, 0.5644896376618894, 0.9436497027673694, 0.7118481050747142, 0.6288484906000368, 0.3144242453000184, 0.6804866846294264, 0.7562159595941599, 0.7628988328348127, 0.8605246860600431, 0.6805323779840664, 0.8318654256352689, 0.0587021560306767, 0.1761064680920301, 0.41091509221473693, 0.0587021560306767, 0.0587021560306767, 0.0587021560306767, 0.0587021560306767, 0.0587021560306767, 0.0587021560306767, 0.8227278817739666, 0.3233446670856893, 0.6466893341713786, 0.6703544718039722, 0.8318654256352689, 0.7861554594040835, 0.8707497090349564, 0.7271394228459565, 0.7118453204273082, 0.7842546923309142, 0.7865931076460072, 0.8541399543548475, 0.8597853981138031, 0.41258522136399134, 0.41258522136399134, 0.7842600024998959, 0.48394982514072465, 0.24197491257036233, 0.24197491257036233, 0.24197491257036233, 0.4086528445367611, 0.4086528445367611, 0.4086528445367611, 0.7118447070970029, 0.7842536181774484, 0.7842539688011412, 0.5843150645406696, 0.6804775710814472, 0.3232851679898688, 0.3232851679898688, 0.3232851679898688, 0.9364331906261109, 0.34634810125781795, 0.34634810125781795, 0.34634810125781795, 0.8409893762522707, 0.390303594701317, 0.390303594701317, 0.390303594701317, 0.7118481050747142, 0.7861554594040835, 0.786591089400413, 0.6804849915741156, 0.11576845864388857, 0.11576845864388857, 0.3473053759316657, 0.11576845864388857, 0.11576845864388857, 0.11576845864388857, 0.8712326733461183, 0.7861525578882055, 0.6804807610833711, 0.7562162864953692, 0.7628991001764471, 0.7562159564227182, 0.6804775710814472, 0.6805230755296232, 0.7842527254540244, 0.7861323627677196, 0.49261131653602974, 0.5439636019416483, 0.27198180097082414, 0.27198180097082414, 0.7842600024998959, 0.09830399393447077, 0.09830399393447077, 0.09830399393447077, 0.09830399393447077, 0.19660798786894154, 0.09830399393447077, 0.09830399393447077, 0.09830399393447077, 0.09830399393447077, 0.19660798786894154, 0.49261145056558897, 0.38519149349398357, 0.38519149349398357, 0.38519149349398357, 0.8559593286857976, 0.8318654256352689, 0.7842600024998959, 0.38639480746792315, 0.38639480746792315, 0.38639480746792315, 0.5120047148184133, 0.5120047148184133, 0.8598041256811074, 0.6805315904096764, 0.8605309476499492, 0.7861554594040835, 0.8318654256352689, 0.7842600024998959, 0.5304746158688778, 0.5304746158688778, 0.5095226703474232, 0.5095226703474232, 0.6703544718039722, 0.7629061798343632, 0.7562162864953692, 0.20024725943846527, 0.20024725943846527, 0.20024725943846527, 0.20024725943846527, 0.20024725943846527, 0.8409893762522707, 0.7562162864953692, 0.7629061798343632, 0.7118545075786118, 0.35615294459585417, 0.35615294459585417, 0.35615294459585417, 0.701054557324002, 0.6596362076308746, 0.3298181038154373, 0.8598041256811074, 0.8318654256352689, 0.6805230755296232, 0.6805317525314318, 0.7861248427927824, 0.11149756457645614, 0.3344926937293684, 0.22299512915291228, 0.22299512915291228, 0.22299512915291228, 0.5523587368809459, 0.27617936844047297, 0.27617936844047297, 0.8318654256352689, 0.6804775710814472, 0.7629061798343632, 0.3210222108409283, 0.6420444216818566, 0.6805303043616137, 0.8409893762522707, 0.7861554594040835, 0.7861527385658499, 0.680480787954381, 0.46612104987862785, 0.23306052493931392, 0.23306052493931392, 0.701054557324002, 0.22232209613182513, 0.22232209613182513, 0.22232209613182513, 0.22232209613182513, 0.22232209613182513, 0.35994350968359434, 0.35994350968359434, 0.35994350968359434, 0.7271393862837979, 0.6804846881396792, 0.784254724265142, 0.8318654256352689, 0.854116659778297, 0.5484162551850905, 0.5484162551850905, 0.4993769384351678, 0.4993769384351678, 0.8409893762522707, 0.31856204337386085, 0.15928102168693042, 0.26546836947821734, 0.05309367389564347, 0.10618734779128694, 0.05309367389564347, 0.05309367389564347, 0.16035918101548338, 0.16035918101548338, 0.16035918101548338, 0.16035918101548338, 0.16035918101548338, 0.16035918101548338, 0.16035918101548338, 0.8227278817739666, 0.2936564061625033, 0.2936564061625033, 0.14682820308125166, 0.14682820308125166, 0.14682820308125166, 0.14682820308125166, 0.7865848578613147, 0.8712321846620066, 0.7629061798343632, 0.7842600024998959, 0.7842551558370583, 0.3144789783007796, 0.3144789783007796, 0.3144789783007796, 0.8604561801298526, 0.8227278817739666, 0.6805230755296232, 0.701054557324002, 0.8712324478239531, 0.7562160196653067, 0.7271395046077714, 0.8318654256352689, 0.5629221137360729, 0.5629221137360729, 0.454068715403456, 0.0908137430806912, 0.0908137430806912, 0.1816274861613824, 0.060542495387127464, 0.030271247693563732, 0.030271247693563732, 0.030271247693563732, 0.030271247693563732, 0.030271247693563732, 0.030271247693563732, 0.9112406470436993, 0.9243011251740282, 0.7628996648114753, 0.5670853984972595, 0.06295831982252632, 0.3147915991126316, 0.12591663964505265, 0.2518332792901053, 0.12591663964505265, 0.06295831982252632, 0.06295831982252632, 0.06295831982252632, 0.21823658959479394, 0.6547097687843818, 0.21823658959479394, 0.7562162864953692, 0.6805238248671079, 0.6804858061354674, 0.3123886056815134, 0.6247772113630268, 0.13990778620076455, 0.13990778620076455, 0.2798155724015291, 0.2798155724015291, 0.13990778620076455, 0.7842551163275837, 0.701054557324002, 0.6074378813395421, 0.6703544718039722, 0.31552080252729414, 0.31552080252729414, 0.31552080252729414, 0.31552080252729414, 0.46500067650138643, 0.23250033825069322, 0.23250033825069322, 0.23250033825069322, 0.7842600024998959, 0.056366411445563064, 0.3381984686733784, 0.1690992343366892, 0.11273282289112613, 0.22546564578225226, 0.056366411445563064, 0.056366411445563064, 0.8541048450924202, 0.7628993322155154, 0.22964233407153462, 0.22964233407153462, 0.22964233407153462, 0.22964233407153462, 0.22964233407153462, 0.24642879894845365, 0.4928575978969073, 0.24642879894845365, 0.8605248170996421, 0.11510897038197825, 0.3453269111459348, 0.2302179407639565, 0.11510897038197825, 0.2302179407639565, 0.49829860465379305, 0.6805306046632084, 0.7865929541255615, 0.8712427884097284, 0.48097816651111674, 0.48097816651111674, 0.6805316584349179, 0.8318654256352689, 0.21217262445158103, 0.21217262445158103, 0.21217262445158103, 0.21217262445158103, 0.21217262445158103, 0.2740858079149424, 0.5481716158298848, 0.49368423709854226, 0.49368423709854226, 0.3561777947541137, 0.17808889737705685, 0.17808889737705685, 0.3561777947541137, 0.8443361845743583, 0.8318537760007525, 0.8605294987768156, 0.1064909153475887, 0.3194727460427661, 0.1064909153475887, 0.15973637302138305, 0.15973637302138305, 0.05324545767379435, 0.1064909153475887, 0.05324545767379435, 0.46533424477385155, 0.46533424477385155, 0.39754325227699544, 0.13251441742566514, 0.13251441742566514, 0.06625720871283257, 0.06625720871283257, 0.06625720871283257, 0.06625720871283257, 0.06625720871283257, 0.06625720871283257, 0.7118481050747142, 0.8409893762522707, 0.7861526482198588, 0.8409893762522707, 0.3718414178344672, 0.12394713927815575, 0.2478942785563115, 0.12394713927815575, 0.12394713927815575, 0.12394713927815575, 0.8443401968258839, 0.7271394010373016, 0.9112283068532833, 0.7865925067265105, 0.6485846476896638, 0.21619488256322128, 0.21619488256322128, 0.7118552017678086, 0.8936164854475962, 0.49830430389311825, 0.36801828561159067, 0.36801828561159067, 0.36801828561159067, 0.6703544718039722, 0.6709398991577833, 0.33546994957889165, 0.24470954744443024, 0.12235477372221512, 0.24470954744443024, 0.12235477372221512, 0.12235477372221512, 0.12235477372221512, 0.24669996379488787, 0.24669996379488787, 0.12334998189744394, 0.12334998189744394, 0.12334998189744394, 0.12334998189744394, 0.12334998189744394, 0.8318563473548872, 0.36898926606564003, 0.36898926606564003, 0.36898926606564003, 0.8712316103874069, 0.32790699925186545, 0.6558139985037309, 0.4936822536685893, 0.4936822536685893, 0.08033643861579126, 0.16067287723158252, 0.24100931584737378, 0.08033643861579126, 0.08033643861579126, 0.08033643861579126, 0.08033643861579126, 0.08033643861579126, 0.08033643861579126, 0.08033643861579126, 0.7842600024998959, 0.20593303397635127, 0.10296651698817563, 0.20593303397635127, 0.10296651698817563, 0.20593303397635127, 0.10296651698817563, 0.10296651698817563, 0.7271393991543722, 0.2916638001981945, 0.21874785014864587, 0.14583190009909724, 0.07291595004954862, 0.07291595004954862, 0.07291595004954862, 0.07291595004954862, 0.07291595004954862, 0.07291595004954862, 0.8318654256352689, 0.49018281653237294, 0.49018281653237294, 0.27032454880359885, 0.13516227440179943, 0.27032454880359885, 0.13516227440179943, 0.13516227440179943, 0.8598041256811074, 0.6805230755296232, 0.8443321680383233, 0.8605232270547907, 0.8604564181781086, 0.49981264988352764, 0.49981264988352764, 0.8409893762522707, 0.7842524657849927, 0.7842600024998959, 0.5011774685642412, 0.2505887342821206, 0.2505887342821206, 0.7629061798343632, 0.620464866470364, 0.310232433235182, 0.7271395046077714, 0.8318654256352689, 0.5380132645298926, 0.5380132645298926, 0.8318654256352689, 0.7629002941119486, 0.7865927847094092, 0.8936164854475962, 0.6805230755296232, 0.8227278817739666, 0.5730243499867628, 0.5730243499867628, 0.7118481050747142, 0.4925925025211088, 0.7562160287959018, 0.6804775710814472, 0.786591089400413, 0.8541211672664161, 0.6804775710814472, 0.8598041256811074, 0.13244392225269547, 0.26488784450539093, 0.26488784450539093, 0.26488784450539093, 0.13244392225269547, 0.13244392225269547, 0.6703562686416539, 0.7628999824810963, 0.31238811092597935, 0.6247762218519587, 0.1892310371955447, 0.09461551859777236, 0.23653879649443088, 0.1892310371955447, 0.09461551859777236, 0.04730775929888618, 0.04730775929888618, 0.04730775929888618, 0.04730775929888618, 0.22616852604733034, 0.22616852604733034, 0.22616852604733034, 0.22616852604733034, 0.3669182964844948, 0.3669182964844948, 0.3669182964844948, 0.7861554594040835, 0.9364321262609809, 0.7118481050747142, 0.8604619499015059, 0.3636732480805095, 0.3636732480805095, 0.3636732480805095, 0.8318654256352689, 0.680484915484063, 0.6204398034540933, 0.31021990172704667, 0.3077465473687187, 0.3077465473687187, 0.3077465473687187, 0.3077465473687187, 0.06301580158866034, 0.3150790079433017, 0.12603160317732068, 0.12603160317732068, 0.06301580158866034, 0.06301580158866034, 0.06301580158866034, 0.06301580158866034, 0.06301580158866034, 0.06301580158866034, 0.06301580158866034, 0.03247230159203881, 0.25977841273631047, 0.12988920636815524, 0.06494460318407762, 0.09741690477611642, 0.06494460318407762, 0.03247230159203881, 0.09741690477611642, 0.06494460318407762, 0.06494460318407762, 0.03247230159203881, 0.03247230159203881, 0.7118481050747142, 0.8409893762522707, 0.6804807266643517, 0.5345928447942311, 0.17819761493141034, 0.17819761493141034, 0.17819761493141034, 0.6999963210976508, 0.3499981605488254, 0.8318654256352689, 0.19048475190240385, 0.3809695038048077, 0.19048475190240385, 0.19048475190240385, 0.1723527775339058, 0.1723527775339058, 0.1723527775339058, 0.1723527775339058, 0.1723527775339058, 0.1723527775339058, 0.1723527775339058, 0.4921714478384293, 0.4921714478384293, 0.7861350892642051, 0.2166210395288615, 0.433242079057723, 0.2166210395288615, 0.8227278817739666, 0.2954101769642863, 0.14770508848214314, 0.2954101769642863, 0.14770508848214314, 0.14770508848214314, 0.2505471211535154, 0.2505471211535154, 0.2505471211535154, 0.2505471211535154, 0.7271395046077714, 0.26035253646082845, 0.08678417882027616, 0.1735683576405523, 0.1735683576405523, 0.1735683576405523, 0.08678417882027616, 0.08678417882027616, 0.16761866360273042, 0.16761866360273042, 0.16761866360273042, 0.33523732720546084, 0.16761866360273042, 0.16761866360273042, 0.9112313588896167, 0.28473667763075694, 0.28473667763075694, 0.28473667763075694, 0.28473667763075694, 0.7271395046077714, 0.8604529603703583, 0.7271394485777719, 0.22352061411703672, 0.22352061411703672, 0.22352061411703672, 0.11176030705851836, 0.22352061411703672, 0.11176030705851836, 0.7842600024998959, 0.786591089400413, 0.8936840676865332, 0.8409893762522707, 0.9243035047908358, 0.8409893762522707, 0.8712329586935625, 0.7316383899508512, 0.2438794633169504, 0.860524269829375, 0.14214266716427829, 0.28428533432855657, 0.28428533432855657, 0.14214266716427829, 0.19940117407078753, 0.39880234814157506, 0.19940117407078753, 0.19940117407078753, 0.19940117407078753, 0.7629004549653211, 0.7118449663815267, 0.701054557324002, 0.7271394076252207, 0.701054557324002, 0.6805312804287569, 0.9364368097926535, 0.701054557324002, 0.7629061798343632, 0.9243042543224081, 0.8227278817739666, 0.3583586009808609, 0.3583586009808609, 0.7220566521942239, 0.18051416304855597, 0.18051416304855597, 0.8443404660000998, 0.7865855544869588, 0.5043597231257356, 0.5043597231257356, 0.2804765137572289, 0.2804765137572289, 0.2804765137572289, 0.6805313998351441, 0.42769461393588265, 0.42769461393588265, 0.7316377533742016, 0.24387925112473385, 0.8605292976068508, 0.6703544718039722, 0.11683994995756869, 0.11683994995756869, 0.11683994995756869, 0.23367989991513738, 0.23367989991513738, 0.11683994995756869, 0.11683994995756869, 0.11683994995756869, 0.11683994995756869, 0.7562162864953692, 0.8712427884097284, 0.8409893762522707, 0.9112399494197775, 0.2927894573850967, 0.1951929715900645, 0.09759648579503225, 0.09759648579503225, 0.1951929715900645, 0.09759648579503225, 0.09759648579503225, 0.5211529362716478, 0.2605764681358239, 0.2605764681358239, 0.8409893762522707, 0.4982991177755594, 0.4393043783004415, 0.14643479276681384, 0.14643479276681384, 0.14643479276681384, 0.14643479276681384, 0.860535734081741, 0.34679277554206495, 0.17339638777103247, 0.17339638777103247, 0.17339638777103247, 0.17339638777103247, 0.17339638777103247, 0.5790728713486687, 0.7118453374705688, 0.8227278817739666, 0.4330920569346271, 0.28872803795641805, 0.28872803795641805, 0.6804865784439221, 0.7562162864953692, 0.7861554594040835, 0.7629061798343632, 0.2299402522945775, 0.2299402522945775, 0.2299402522945775, 0.2299402522945775, 0.2299402522945775, 0.7562162864953692, 0.4570886458773193, 0.4570886458773193, 0.7629061798343632, 0.8409893762522707, 0.727139380010479, 0.8712427884097284, 0.7271393749862219, 0.711852674477474, 0.33540200624662503, 0.33540200624662503, 0.33540200624662503, 0.8540948838144291, 0.7562160601435255, 0.7861176692043448, 0.7842542597255253, 0.786126733986421, 0.26066915557097525, 0.5213383111419505, 0.26066915557097525, 0.8712318143588106, 0.17015576202518354, 0.08507788101259177, 0.2552336430377753, 0.2552336430377753, 0.08507788101259177, 0.08507788101259177, 0.17015576202518354, 0.670824948944205, 0.3354124744721025, 0.7865930100447263, 0.8318654256352689, 0.8318654256352689, 0.7118481050747142, 0.19199169840279234, 0.19199169840279234, 0.3839833968055847, 0.19199169840279234, 0.19199169840279234, 0.7629061798343632, 0.1263852392905548, 0.0842568261937032, 0.46341254406536764, 0.0421284130968516, 0.0421284130968516, 0.0421284130968516, 0.0421284130968516, 0.0421284130968516, 0.0421284130968516, 0.0421284130968516, 0.0421284130968516, 0.0421284130968516, 0.6703544718039722, 0.7861343663851538, 0.6678351047268174, 0.2226117015756058, 0.6491736536588502, 0.21639121788628338, 0.6703544718039722, 0.701054557324002, 0.5175017467956962, 0.5175017467956962, 0.7271393867556972, 0.12242616774305416, 0.24485233548610832, 0.24485233548610832, 0.12242616774305416, 0.3672785032291625, 0.20727110670250387, 0.20727110670250387, 0.20727110670250387, 0.41454221340500774, 0.16581851438673287, 0.33163702877346574, 0.33163702877346574, 0.16581851438673287, 0.16581851438673287, 0.27711494504658013, 0.27711494504658013, 0.27711494504658013, 0.27711494504658013, 0.8409893762522707, 0.7629061798343632, 0.660923194474994, 0.330461597237497, 0.24037226150235694, 0.24037226150235694, 0.24037226150235694, 0.24037226150235694, 0.24037226150235694, 0.35494836683953995, 0.35494836683953995, 0.35494836683953995, 0.8318654256352689, 0.7562160307653544, 0.701054557324002, 0.26666123071124553, 0.5333224614224911, 0.26666123071124553, 0.7562162864953692, 0.7861554594040835, 0.23077943784229044, 0.23077943784229044, 0.23077943784229044, 0.23077943784229044, 0.701054557324002, 0.8541110294690712, 0.7562162864953692, 0.6805230755296232, 0.1731318059457257, 0.1731318059457257, 0.1731318059457257, 0.1731318059457257, 0.1731318059457257, 0.1731318059457257, 0.28795286450013236, 0.5759057290002647, 0.8936224414254686, 0.680524068650165, 0.34084195533117534, 0.34084195533117534, 0.34084195533117534, 0.6805230755296232, 0.7271394605045494, 0.7271395046077714, 0.07527312766139621, 0.22581938298418866, 0.15054625532279242, 0.22581938298418866, 0.07527312766139621, 0.07527312766139621, 0.07527312766139621, 0.15054625532279242, 0.07527312766139621, 0.34749465728279133, 0.34749465728279133, 0.34749465728279133, 0.786127649705842, 0.7118481050747142, 0.7062685311394383, 0.35313426556971916, 0.8712301634652733, 0.8409893762522707, 0.6703544718039722, 0.8541245975926722, 0.701054557324002, 0.49756955256765667, 0.1658565175225522, 0.1658565175225522, 0.1658565175225522, 0.1658565175225522, 0.8541329671149046, 0.49559146253989944, 0.49559146253989944, 0.7118543019129937, 0.6804809517051592, 0.4703713731318287, 0.4703713731318287, 0.8318654256352689, 0.8318654256352689, 0.8605246029684703, 0.6805240464273304, 0.5372039598410908, 0.1343009899602727, 0.1343009899602727, 0.1343009899602727, 0.7842600024998959, 0.8597930064196008, 0.6609377978295315, 0.3304688989147658, 0.49556902364782635, 0.49556902364782635, 0.11267664813765356, 0.22535329627530712, 0.3380299444129607, 0.22535329627530712, 0.11267664813765356, 0.11267664813765356, 0.5423495282445353, 0.5423495282445353, 0.7861530057041717, 0.7769111221203191, 0.8227278817739666, 0.7629061798343632, 0.5423498040717019, 0.5423498040717019, 0.5060799649706171, 0.5060799649706171, 0.78659234930531, 0.8227278817739666, 0.7865931985664616, 0.7861273818077109, 0.7865930491467283, 0.8712323179764216, 0.6127815375243736, 0.8227278817739666, 0.786587790544901, 0.92430201993589, 0.7271393894251257, 0.7842535915629993, 0.8712309103681811, 0.8409893762522707, 0.7861524129864371, 0.36747899523330424, 0.36747899523330424, 0.18373949761665212, 0.18373949761665212, 0.7842596358271761, 0.2992668488052108, 0.2992668488052108, 0.2992668488052108, 0.2992668488052108, 0.7271395046077714, 0.8712329762561948, 0.7842554452829572, 0.397297902844445, 0.397297902844445, 0.1891541221719975, 0.5674623665159925, 0.1891541221719975, 0.1891541221719975, 0.6804807890006366, 0.3669186855947053, 0.3669186855947053, 0.3669186855947053, 0.7271395046077714, 0.9112393448290393, 0.680485828274055, 0.8541154789757809, 0.7629061798343632, 0.701054557324002, 0.7842535222133412, 0.7271393993070039, 0.2802055582023599, 0.5604111164047197, 0.2802055582023599, 0.5187090482913383, 0.7562162864953692, 0.22281811347510913, 0.11140905673755457, 0.22281811347510913, 0.11140905673755457, 0.11140905673755457, 0.22281811347510913, 0.14364197422312028, 0.14364197422312028, 0.14364197422312028, 0.14364197422312028, 0.14364197422312028, 0.14364197422312028, 0.14364197422312028, 0.13735704288033998, 0.4120711286410199, 0.13735704288033998, 0.27471408576067996, 0.12421781665648232, 0.06210890832824116, 0.06210890832824116, 0.12421781665648232, 0.3105445416412058, 0.12421781665648232, 0.06210890832824116, 0.06210890832824116, 0.06210890832824116, 0.06210890832824116, 0.06210890832824116, 0.7947238701118507, 0.701054557324002, 0.12630047149605594, 0.12630047149605594, 0.12630047149605594, 0.12630047149605594, 0.12630047149605594, 0.12630047149605594, 0.12630047149605594, 0.2526009429921119, 0.48511665850940505, 0.48511665850940505, 0.7842600024998959, 0.7861554594040835, 0.48511799551620544, 0.48511799551620544, 0.6804869487714575, 0.7562159646842584, 0.3157169265122184, 0.6314338530244368, 0.5626142301885915, 0.28130711509429573, 0.28130711509429573, 0.8227278817739666, 0.36871768175765973, 0.18435884087882987, 0.18435884087882987, 0.18435884087882987, 0.18435884087882987, 0.7629061798343632, 0.3382720723253073, 0.3382720723253073, 0.3382720723253073, 0.21631497436650132, 0.43262994873300264, 0.21631497436650132, 0.743782348849574, 0.5177852838001247, 0.5177852838001247, 0.4629482377975259, 0.23147411889876296, 0.11573705944938148, 0.11573705944938148, 0.8540689700783387, 0.4849558673758461, 0.4849558673758461, 0.6422211276717668, 0.3211105638358834, 0.6804775710814472, 0.3684840871340628, 0.3684840871340628, 0.3684840871340628, 0.7562159634484056, 0.39193184196074043, 0.39193184196074043, 0.39193184196074043, 0.7865924541708462, 0.35652173832997214, 0.35652173832997214, 0.5378932001049138, 0.5378932001049138, 0.8605514787400137, 0.8318654256352689, 0.6804853595605456, 0.4056805193185532, 0.4056805193185532, 0.7562162864953692, 0.4364474765314893, 0.4364474765314893, 0.4364474765314893, 0.39281464763421314, 0.2618764317561421, 0.13093821587807106, 0.13093821587807106, 0.13093821587807106, 0.7842597176482142, 0.26973227813452955, 0.26973227813452955, 0.26973227813452955, 0.26973227813452955, 0.22985560877558778, 0.11492780438779389, 0.11492780438779389, 0.11492780438779389, 0.11492780438779389, 0.11492780438779389, 0.11492780438779389, 0.22985560877558778, 0.1666433514349958, 0.1666433514349958, 0.1666433514349958, 0.3332867028699916, 0.1666433514349958, 0.701054557324002, 0.7861522946070058, 0.7562162864953692, 0.786593066885292, 0.49370998372935593, 0.49370998372935593, 0.12846919408182902, 0.12846919408182902, 0.12846919408182902, 0.12846919408182902, 0.12846919408182902, 0.12846919408182902, 0.12846919408182902, 0.12846919408182902, 0.30696962878164613, 0.30696962878164613, 0.30696962878164613, 0.30696962878164613, 0.8227278817739666, 0.7271395046077714, 0.13341055833280333, 0.13341055833280333, 0.40023167499840995, 0.13341055833280333, 0.13341055833280333, 0.13341055833280333, 0.5095227385408535, 0.5095227385408535, 0.1797899675155022, 0.1797899675155022, 0.1797899675155022, 0.1797899675155022, 0.1797899675155022, 0.5610900221000441, 0.18703000736668138, 0.18703000736668138, 0.23260179577052592, 0.05815044894263148, 0.11630089788526296, 0.23260179577052592, 0.11630089788526296, 0.05815044894263148, 0.11630089788526296, 0.05815044894263148, 0.05815044894263148, 0.2729354281115616, 0.1364677140557808, 0.1364677140557808, 0.2729354281115616, 0.1364677140557808, 0.7865931806281404, 0.2982590337482195, 0.19883935583214632, 0.19883935583214632, 0.09941967791607316, 0.09941967791607316, 0.09941967791607316, 0.09941967791607316, 0.09941967791607316, 0.3146312091710869, 0.6292624183421738, 0.786591089400413, 0.8597876681821884, 0.701054557324002, 0.23947465959422473, 0.23947465959422473, 0.17960599469566854, 0.05986866489855618, 0.23947465959422473, 0.05986866489855618, 0.22340072449101506, 0.4468014489820301, 0.22340072449101506, 0.22340072449101506, 0.5629221137360729, 0.5629221137360729, 0.6703544718039722, 0.7615450592515938, 0.2538483530838646, 0.8409893762522707, 0.2354125695992837, 0.2354125695992837, 0.2354125695992837, 0.2354125695992837, 0.2354125695992837, 0.7629061798343632, 0.5669566178311245, 0.5669566178311245, 0.51667708670939, 0.8318654256352689, 0.7629061798343632, 0.34665988805114145, 0.34665988805114145, 0.7118447273494629, 0.6805230755296232, 0.7861554594040835, 0.6596368082829054, 0.3298184041414527, 0.701054557324002, 0.3920340052391444, 0.3920340052391444, 0.3920340052391444, 0.2063481857933258, 0.6190445573799774, 0.2063481857933258, 0.5063911633869921, 0.5063911633869921, 0.8443396665756182, 0.15105020571430147, 0.15105020571430147, 0.6042008228572059, 0.9436489993958126, 0.7865860277529176, 0.701054557324002, 0.7271394284947452, 0.7562160786699272, 0.2204102578076905, 0.2204102578076905, 0.2204102578076905, 0.2204102578076905, 0.2204102578076905, 0.22056736806666907, 0.6617021042000072, 0.2173349992009448, 0.4346699984018896, 0.2173349992009448, 0.2173349992009448, 0.7562162864953692, 0.8409893762522707, 0.6707778375625365, 0.33538891878126825, 0.701054557324002, 0.8409893762522707, 0.7629061798343632, 0.854119213777526, 0.7861554594040835, 0.9112283068532833, 0.36845197014629993, 0.36845197014629993, 0.36845197014629993, 0.7865927925574168, 0.5339672327948924, 0.5339672327948924, 0.7861527107051022, 0.11513852100754879, 0.28784630251887194, 0.11513852100754879, 0.057569260503774394, 0.11513852100754879, 0.11513852100754879, 0.057569260503774394, 0.057569260503774394, 0.057569260503774394, 0.3447306471842247, 0.17236532359211235, 0.17236532359211235, 0.17236532359211235, 0.17236532359211235, 0.36753369037580563, 0.36753369037580563, 0.36753369037580563, 0.7271395046077714, 0.6703544718039722, 0.7562160458720346, 0.3420856130914632, 0.1140285376971544, 0.1140285376971544, 0.1140285376971544, 0.2280570753943088, 0.1140285376971544, 0.1140285376971544, 0.6805230755296232, 0.7271394187654978, 0.18790632531921997, 0.18790632531921997, 0.18790632531921997, 0.18790632531921997, 0.18790632531921997, 0.18790632531921997, 0.6805240274034535, 0.2565986508649133, 0.5131973017298266, 0.2565986508649133, 0.8540827698843887, 0.701054557324002, 0.673525190916584, 0.336762595458292, 0.1172760184551472, 0.1172760184551472, 0.2345520369102944, 0.2345520369102944, 0.1172760184551472, 0.2345520369102944, 0.21411322898362212, 0.21411322898362212, 0.21411322898362212, 0.21411322898362212, 0.21411322898362212, 0.7562162864953692, 0.8605537124079041, 0.34918239588275585, 0.2618867969120669, 0.17459119794137792, 0.08729559897068896, 0.08729559897068896, 0.3279173383550508, 0.6558346767101016, 0.8318654256352689, 0.9364274470407669, 0.871233298088185, 0.11013373878329806, 0.16520060817494708, 0.16520060817494708, 0.11013373878329806, 0.05506686939164903, 0.11013373878329806, 0.05506686939164903, 0.11013373878329806, 0.05506686939164903, 0.05506686939164903, 0.7331687358553516, 0.3665843679276758, 0.8540935182275988, 0.7842533844884297], \"Term\": [\"*facepalm*\", \"*usually*\", \"//www.fosterclub.com/blog/real-stories\", \"/r/fosterit\", \"abandoned\", \"able\", \"able\", \"able\", \"acceptance\", \"access\", \"acknowledging\", \"actually\", \"actually\", \"actually\", \"actually\", \"adapt\", \"address\", \"address\", \"adhd\", \"adopt\", \"adopt\", \"adopted\", \"adopted\", \"adopted\", \"adoption\", \"adoptive\", \"adult\", \"adult\", \"adult\", \"advice\", \"advocate\", \"advocate\", \"allow\", \"allowed\", \"allowed\", \"alone\", \"alone\", \"alone\", \"alone\", \"already\", \"already\", \"already\", \"also\", \"also\", \"also\", \"also\", \"also\", \"also\", \"also\", \"also\", \"always\", \"always\", \"always\", \"always\", \"always\", \"always\", \"always\", \"always\", \"anger\", \"anger\", \"another\", \"another\", \"another\", \"answer\", \"answer\", \"answer\", \"answer\", \"answer\", \"anti\", \"anxiety\", \"anxiety\", \"anybody\", \"anymore\", \"anymore\", \"anymore\", \"anymore\", \"anything\", \"anything\", \"anything\", \"anything\", \"anything\", \"anything\", \"anytime\", \"anyway\", \"anyway\", \"apartment\", \"applaud\", \"appreciate\", \"appreciate\", \"appreciate\", \"approval\", \"approved\", \"area\", \"around\", \"around\", \"around\", \"around\", \"around\", \"article\", \"asked\", \"asking\", \"asking\", \"aspect\", \"assimilate\", \"attempt\", \"attention\", \"aunt\", \"aunt\", \"authentic\", \"autonomy\", \"avoid\", \"avoid\", \"away\", \"away\", \"away\", \"awkward\", \"baby\", \"back\", \"back\", \"back\", \"back\", \"back\", \"back\", \"back\", \"background\", \"basic\", \"basic\", \"beach\", \"beautiful\", \"beautiful\", \"beautiful\", \"become\", \"become\", \"becoming\", \"begin\", \"begrudge\", \"behavior\", \"belong\", \"best\", \"best\", \"best\", \"best\", \"best\", \"better\", \"better\", \"better\", \"better\", \"better\", \"better\", \"better\", \"better\", \"better\", \"bipolar\", \"blessing\", \"board\", \"bond\", \"bond\", \"boundary\", \"brings\", \"build\", \"build\", \"built\", \"burden\", \"business\", \"called\", \"cancer\", \"candidate\", \"care\", \"care\", \"care\", \"care\", \"care\", \"care\", \"care\", \"care\", \"care\", \"cared\", \"case\", \"case\", \"casually\", \"category\", \"celebrate\", \"certainly\", \"challenge\", \"challenging\", \"change\", \"changing\", \"chaos\", \"chapter\", \"check\", \"check\", \"cheerfully\", \"child\", \"child\", \"child\", \"child\", \"childhood\", \"childhood\", \"childhood\", \"children/youth\", \"chill\", \"chinese\", \"chose\", \"chosen\", \"christmas\", \"christmas\", \"christmas\", \"clean\", \"cleaning\", \"cleaning\", \"cleaning\", \"clearance\", \"close\", \"close\", \"close\", \"closer\", \"closest\", \"college\", \"combined\", \"come\", \"come\", \"come\", \"come\", \"come\", \"come\", \"comfortable\", \"comforting\", \"community\", \"companion\", \"compared\", \"comparison\", \"connect\", \"contacting\", \"control\", \"cooking\", \"cope\", \"coping\", \"coping\", \"coping\", \"corner\", \"could\", \"could\", \"could\", \"could\", \"could\", \"could\", \"could\", \"could\", \"could\", \"could\", \"courage\", \"cousin\", \"cousin\", \"cousin\", \"credit\", \"cried\", \"crisis\", \"cycle\", \"cycle\", \"cycle\", \"daughter\", \"daughter\", \"daunting\", \"dead\", \"dealing\", \"decides\", \"decision\", \"declaring\", \"decline\", \"decline\", \"deep\", \"deep\", \"defaulted\", \"defensiveness\", \"define\", \"definitely\", \"definitely\", \"definitely\", \"definitely\", \"definitely\", \"depends\", \"depressed\", \"depression\", \"described\", \"describing\", \"describing\", \"describing\", \"description\", \"deserve\", \"deserve\", \"deserves\", \"detail\", \"detailed\", \"died\", \"difference\", \"different\", \"different\", \"different\", \"different\", \"different\", \"difficult\", \"difficult\", \"difficult\", \"disclose\", \"discussion\", \"disorder\", \"divorce\", \"divorce\", \"doctor\", \"dose\", \"dream\", \"drop\", \"drowning\", \"drug\", \"drug\", \"drug\", \"druggie\", \"easy\", \"easy\", \"easy\", \"easy\", \"easy\", \"else\", \"else\", \"else\", \"emotion\", \"emotionally\", \"emphasize\", \"employer\", \"ended\", \"enjoy\", \"enjoy\", \"enough\", \"enough\", \"estrogen\", \"even\", \"even\", \"even\", \"even\", \"even\", \"even\", \"even\", \"every\", \"every\", \"every\", \"every\", \"every\", \"every\", \"every\", \"everyday\", \"everyone\", \"everyone\", \"everyone\", \"everyone\", \"everyone\", \"everyone\", \"evil\", \"ex-foster\", \"ex\\\\_foster\", \"existential\", \"expect\", \"experience\", \"experience\", \"experience\", \"explain\", \"explained\", \"explaining\", \"exponentially\", \"eyeshadow\", \"face\", \"facebook\", \"fail\", \"failed\", \"failed\", \"family\", \"family\", \"family\", \"family\", \"family\", \"family\", \"family\", \"family\", \"family\", \"family\", \"family\", \"fantasizing\", \"father\", \"fault\", \"federal\", \"feel\", \"feel\", \"feel\", \"feel\", \"feel\", \"feel\", \"feel\", \"feel\", \"felt\", \"felt\", \"felt\", \"fest\", \"final\", \"financially\", \"find\", \"find\", \"first\", \"first\", \"first\", \"first\", \"first\", \"food\", \"forced\", \"forget\", \"forgot\", \"form\", \"form\", \"form\", \"form\", \"former\", \"former\", \"former\", \"former\", \"forth\", \"foster\", \"foster\", \"foster\", \"foster\", \"foster\", \"foster\", \"foster\", \"fostered\", \"fostering\", \"found\", \"found\", \"found\", \"found\", \"found\", \"free\", \"free\", \"free\", \"fridge\", \"friend\", \"friend\", \"friend\", \"friend\", \"friend\", \"front\", \"full\", \"functional\", \"fundamental\", \"future\", \"future\", \"game\", \"generally\", \"getting\", \"getting\", \"getting\", \"getting\", \"getting\", \"gift\", \"gift\", \"girl\", \"girl\", \"give\", \"give\", \"give\", \"give\", \"given\", \"giving\", \"goal\", \"going\", \"going\", \"going\", \"going\", \"going\", \"going\", \"going\", \"going\", \"gone\", \"gone\", \"good\", \"good\", \"good\", \"good\", \"good\", \"good\", \"good\", \"good\", \"good\", \"gotten\", \"government\", \"grandmother\", \"grateful\", \"great\", \"great\", \"great\", \"great\", \"great\", \"great\", \"grew\", \"grief\", \"grieve\", \"grounding\", \"group\", \"group\", \"group\", \"growing\", \"half\", \"hand\", \"hang\", \"hang\", \"hang\", \"hanging\", \"happened\", \"happened\", \"happy\", \"happy\", \"happy\", \"happy\", \"happy\", \"happy\", \"hard\", \"hard\", \"hard\", \"hard\", \"hard\", \"hard\", \"hard\", \"hate\", \"head\", \"head\", \"head\", \"headphones/an\", \"healing\", \"healing\", \"healthy\", \"healthy\", \"help\", \"help\", \"help\", \"help\", \"help\", \"help\", \"help\", \"help\", \"help\", \"help\", \"holding\", \"holiday\", \"holiday\", \"holiday\", \"holiday\", \"holiday\", \"holiday\", \"holiday\", \"hollowed\", \"home\", \"home\", \"home\", \"home\", \"home\", \"home\", \"home\", \"home\", \"home\", \"homeschool\", \"honest\", \"honest\", \"hope\", \"hope\", \"hope\", \"hope\", \"hope\", \"hopeless\", \"horrible\", \"horse\", \"http\", \"hurting\", \"identity\", \"identity\", \"ignoring\", \"imma\", \"immediate\", \"important\", \"important\", \"important\", \"inch\", \"independence\", \"independence\", \"indulge\", \"info\", \"information\", \"information\", \"initiative\", \"insensitive\", \"instead\", \"insurance\", \"intelligent\", \"interaction\", \"interest\", \"interest\", \"interested\", \"internet\", \"invitation\", \"invite\", \"ironically\", \"isolated\", \"join\", \"judging\", \"keep\", \"keep\", \"keep\", \"keep\", \"keep\", \"keep\", \"kicked\", \"kitten\", \"knew\", \"knew\", \"know\", \"know\", \"know\", \"know\", \"know\", \"know\", \"know\", \"know\", \"know\", \"last\", \"last\", \"last\", \"last\", \"late\", \"late\", \"late\", \"lawyer\", \"leaf\", \"learn\", \"learned\", \"least\", \"least\", \"least\", \"left\", \"lesson\", \"letting\", \"letting\", \"level\", \"level\", \"level\", \"level\", \"life\", \"life\", \"life\", \"life\", \"life\", \"life\", \"life\", \"life\", \"life\", \"life\", \"life\", \"like\", \"like\", \"like\", \"like\", \"like\", \"like\", \"like\", \"like\", \"like\", \"like\", \"like\", \"like\", \"link\", \"list\", \"listening\", \"little\", \"little\", \"little\", \"little\", \"live\", \"live\", \"loneliness\", \"long\", \"long\", \"long\", \"long\", \"look\", \"look\", \"look\", \"look\", \"look\", \"look\", \"look\", \"looking\", \"looking\", \"loosely\", \"lose\", \"lose\", \"lose\", \"losing\", \"loss\", \"loss\", \"loss\", \"loss\", \"loss\", \"lost\", \"lost\", \"lost\", \"lost\", \"loud\", \"love\", \"love\", \"love\", \"love\", \"love\", \"love\", \"love\", \"loved\", \"loved\", \"loved\", \"loved\", \"loved\", \"loved\", \"loving\", \"luck\", \"luck\", \"luck\", \"luck\", \"lucky\", \"made\", \"magic\", \"make\", \"make\", \"make\", \"make\", \"make\", \"make\", \"making\", \"manager\", \"many\", \"mark\", \"marriage\", \"match\", \"matched\", \"matter\", \"matter\", \"mature\", \"maybe\", \"maybe\", \"maybe\", \"maybe\", \"mean\", \"mean\", \"mean\", \"mean\", \"mean\", \"meaning\", \"meaningful\", \"meaningless\", \"medicate\", \"medication\", \"medicine\", \"medium\", \"memory\", \"mental\", \"mention\", \"mess\", \"message\", \"message\", \"might\", \"might\", \"might\", \"mind\", \"mine\", \"miss\", \"miss\", \"moment\", \"moment\", \"moment\", \"monday\", \"money\", \"money\", \"month\", \"month\", \"mother\", \"movie\", \"much\", \"much\", \"much\", \"much\", \"much\", \"much\", \"much\", \"much\", \"much\", \"mushroom\", \"must\", \"muster\", \"necessarily\", \"need\", \"need\", \"need\", \"need\", \"need\", \"need\", \"need\", \"needed\", \"needed\", \"needed\", \"negative\", \"nephew\", \"never\", \"never\", \"never\", \"never\", \"never\", \"next\", \"nice\", \"nice\", \"nice\", \"nice\", \"nice\", \"nice\", \"niece\", \"non-profit\", \"note\", \"nothing\", \"nothing\", \"nothing\", \"nots\", \"nowadays\", \"offer\", \"offered\", \"okay\", \"okay\", \"okay\", \"okay\", \"okay\", \"online\", \"open\", \"open\", \"opiate/\", \"opiate/benzo\", \"opportunity\", \"option\", \"order\", \"oscillation\", \"outside\", \"outside\", \"outside\", \"over-it\", \"overall\", \"overnight\", \"overrated\", \"pack\", \"pain\", \"pain\", \"pain\", \"palette/whatever\", \"parent\", \"parent\", \"parent\", \"parent\", \"parent\", \"parent\", \"parent\", \"part\", \"part\", \"pass\", \"pass/fail\", \"passing\", \"passionate\", \"past\", \"past\", \"past\", \"past\", \"past\", \"patient\", \"people\", \"people\", \"people\", \"people\", \"people\", \"people\", \"people\", \"people\", \"people\", \"people\", \"people\", \"people\", \"percent\", \"permission\", \"person\", \"person\", \"personal\", \"personal\", \"pick\", \"pill\", \"pity\", \"pity\", \"pivot\", \"place\", \"place\", \"place\", \"place\", \"place\", \"plan\", \"plan\", \"plan\", \"plan\", \"please\", \"please\", \"please\", \"please\", \"please\", \"point\", \"point\", \"point\", \"point\", \"port\", \"position\", \"possibility\", \"possibility\", \"post\", \"post\", \"post\", \"post\", \"post\", \"posting\", \"posting\", \"posting\", \"pray\", \"prefer\", \"pressed\", \"problem\", \"problem\", \"problem\", \"processing\", \"professional\", \"program\", \"program\", \"program\", \"program\", \"prolly\", \"protect\", \"proud\", \"publish\", \"question\", \"question\", \"question\", \"question\", \"question\", \"question\", \"quiet\", \"quiet\", \"rather\", \"reach\", \"read\", \"read\", \"read\", \"reading\", \"reality\", \"realized\", \"really\", \"really\", \"really\", \"really\", \"really\", \"really\", \"really\", \"really\", \"really\", \"reason\", \"reason\", \"reason\", \"recently\", \"recovery\", \"reddit\", \"reddit\", \"redditgifts\", \"rejected\", \"relaxing.\", \"relieved\", \"remain\", \"remember\", \"remember\", \"remember\", \"remember\", \"remember\", \"repeating\", \"reply\", \"reply\", \"rescue\", \"resonate\", \"response\", \"response\", \"result\", \"return\", \"reunification\", \"reunited\", \"right\", \"right\", \"right\", \"right\", \"rocking\", \"rule\", \"sadly\", \"sadly\", \"safe\", \"safe\", \"said\", \"said\", \"said\", \"said\", \"said\", \"said\", \"santa\", \"santa\", \"scared\", \"score\", \"screw\", \"second\", \"secret\", \"secret\", \"self\", \"self\", \"self-appreciation\", \"self-isolate\", \"self-love\", \"self-pity\", \"self-reliance\", \"send\", \"sending\", \"serious\", \"service\", \"seven\", \"shallot\", \"share\", \"sharing\", \"shipping\", \"shoe\", \"show\", \"show\", \"show\", \"show\", \"shrug\", \"sign\", \"sign\", \"sign\", \"sign\", \"signed\", \"signing\", \"silent\", \"similar\", \"similar\", \"since\", \"since\", \"since\", \"since\", \"single\", \"sister\", \"sister\", \"sister\", \"site\", \"situation\", \"sixteen\", \"skill\", \"slap\", \"sleep\", \"smaller\", \"sneak\", \"social\", \"social\", \"social\", \"somebody\", \"somehow\", \"someone\", \"someone\", \"someone\", \"someone\", \"someone\", \"someone\", \"something\", \"something\", \"something\", \"something\", \"something\", \"something\", \"something\", \"sometimes\", \"sometimes\", \"sometimes\", \"sometimes\", \"sorry\", \"sorry\", \"sorry\", \"sorry\", \"sorry\", \"sorry\", \"sorry\", \"sorry\", \"sorry\", \"sorry\", \"sorry\", \"sort\", \"sorted\", \"sound\", \"sound\", \"sound\", \"sound\", \"sound\", \"sound\", \"sound\", \"sound\", \"source\", \"source\", \"spend\", \"spent\", \"sponsor\", \"sponsor\", \"stable\", \"stare\", \"start\", \"start\", \"started\", \"started\", \"started\", \"starting\", \"state\", \"state\", \"state\", \"state\", \"state\", \"stated\", \"stay\", \"stay\", \"stay\", \"staying\", \"staying\", \"staying\", \"step\", \"stepkids\", \"stepkids\", \"still\", \"still\", \"still\", \"still\", \"stint-so\", \"stop\", \"stop\", \"stopped\", \"stopped\", \"stopping\", \"story\", \"story\", \"story\", \"straight\", \"stranger\", \"stranger\", \"stranger\", \"strategy\", \"stuck\", \"stuck\", \"stuff\", \"stuff\", \"style\", \"sucky\", \"suffered\", \"support\", \"support\", \"supported\", \"supposed\", \"supposed\", \"supposed\", \"sure\", \"sure\", \"sure\", \"sure\", \"sure\", \"surprise\", \"system\", \"system\", \"system\", \"system\", \"take\", \"take\", \"take\", \"take\", \"take\", \"take\", \"take\", \"take\", \"talk\", \"talk\", \"talk\", \"talk\", \"talk\", \"talked\", \"taught\", \"teacher\", \"technique\", \"teen\", \"teen\", \"tell\", \"tell\", \"tell\", \"tell\", \"tell\", \"tell\", \"tell\", \"tell\", \"telling\", \"telling\", \"telling\", \"telling\", \"tend\", \"text\", \"thank\", \"thank\", \"thank\", \"thank\", \"thank\", \"thank\", \"thanksgiving\", \"thanksgiving\", \"therapist\", \"therapist\", \"therapist\", \"therapist\", \"therapist\", \"therapy\", \"therapy\", \"therapy\", \"thing\", \"thing\", \"thing\", \"thing\", \"thing\", \"thing\", \"thing\", \"thing\", \"thing\", \"think\", \"think\", \"think\", \"think\", \"think\", \"third\", \"though\", \"though\", \"though\", \"though\", \"though\", \"though\", \"though\", \"though\", \"thought\", \"thought\", \"thoughtful\", \"thread\", \"tighten\", \"time\", \"time\", \"time\", \"time\", \"time\", \"time\", \"today\", \"today\", \"today\", \"today\", \"told\", \"told\", \"tone\", \"took\", \"took\", \"tool\", \"totally\", \"totally\", \"totally\", \"totally\", \"totally\", \"touched\", \"tough\", \"tough\", \"traditional\", \"training\", \"transition\", \"trauma\", \"trauma\", \"tremendously\", \"tried\", \"trip\", \"truly\", \"truly\", \"trust\", \"truth\", \"truth\", \"truth\", \"trying\", \"trying\", \"trying\", \"typical\", \"typical\", \"uncle\", \"understand\", \"understand\", \"understand\", \"understood\", \"unhealthy\", \"unit\", \"universe\", \"unsettling\", \"used\", \"used\", \"used\", \"used\", \"used\", \"username\", \"username\", \"usually\", \"usually\", \"usually\", \"usually\", \"valid\", \"valuable\", \"vent\", \"vent\", \"vented\", \"verified\", \"view\", \"violence\", \"vital\", \"volunteering\", \"vulnerable\", \"vulnerable\", \"vulnerable\", \"waiting\", \"walk\", \"walk\", \"wallow\", \"want\", \"want\", \"want\", \"want\", \"want\", \"want\", \"want\", \"want\", \"want\", \"wanted\", \"wanted\", \"wanted\", \"wanted\", \"wanted\", \"wanting\", \"wanting\", \"wanting\", \"watch\", \"watching\", \"welcome\", \"well\", \"well\", \"well\", \"well\", \"well\", \"well\", \"well\", \"well-written\", \"wiped\", \"wish\", \"wish\", \"wish\", \"wish\", \"wish\", \"wish\", \"wishing\", \"without\", \"without\", \"without\", \"witnessed\", \"wonder\", \"wonderful\", \"wonderful\", \"work\", \"work\", \"work\", \"work\", \"work\", \"work\", \"world\", \"world\", \"world\", \"world\", \"world\", \"worrying\", \"worth\", \"would\", \"would\", \"would\", \"would\", \"would\", \"writing\", \"writing\", \"wrote\", \"yard\", \"yeah\", \"year\", \"year\", \"year\", \"year\", \"year\", \"year\", \"year\", \"year\", \"year\", \"year\", \"youth\", \"youth\", \"zero\", \"\\ud83e\\udd37\\ud83c\\udffb\\u200d\\u2640\\ufe0f\"]}, \"R\": 30, \"lambda.step\": 0.01, \"plot.opts\": {\"xlab\": \"PC1\", \"ylab\": \"PC2\"}, \"topic.order\": [13, 4, 6, 12, 20, 10, 9, 8, 1, 7, 16, 19, 5, 2, 11, 18, 3, 14, 17, 15]};\n",
              "\n",
              "function LDAvis_load_lib(url, callback){\n",
              "  var s = document.createElement('script');\n",
              "  s.src = url;\n",
              "  s.async = true;\n",
              "  s.onreadystatechange = s.onload = callback;\n",
              "  s.onerror = function(){console.warn(\"failed to load library \" + url);};\n",
              "  document.getElementsByTagName(\"head\")[0].appendChild(s);\n",
              "}\n",
              "\n",
              "if(typeof(LDAvis) !== \"undefined\"){\n",
              "   // already loaded: just create the visualization\n",
              "   !function(LDAvis){\n",
              "       new LDAvis(\"#\" + \"ldavis_el27081404924270659364114493775\", ldavis_el27081404924270659364114493775_data);\n",
              "   }(LDAvis);\n",
              "}else if(typeof define === \"function\" && define.amd){\n",
              "   // require.js is available: use it to load d3/LDAvis\n",
              "   require.config({paths: {d3: \"https://d3js.org/d3.v5\"}});\n",
              "   require([\"d3\"], function(d3){\n",
              "      window.d3 = d3;\n",
              "      LDAvis_load_lib(\"https://cdn.jsdelivr.net/gh/bmabey/pyLDAvis@3.2.2/pyLDAvis/js/ldavis.v3.0.0.js\", function(){\n",
              "        new LDAvis(\"#\" + \"ldavis_el27081404924270659364114493775\", ldavis_el27081404924270659364114493775_data);\n",
              "      });\n",
              "    });\n",
              "}else{\n",
              "    // require.js not available: dynamically load d3 & LDAvis\n",
              "    LDAvis_load_lib(\"https://d3js.org/d3.v5.js\", function(){\n",
              "         LDAvis_load_lib(\"https://cdn.jsdelivr.net/gh/bmabey/pyLDAvis@3.2.2/pyLDAvis/js/ldavis.v3.0.0.js\", function(){\n",
              "                 new LDAvis(\"#\" + \"ldavis_el27081404924270659364114493775\", ldavis_el27081404924270659364114493775_data);\n",
              "            })\n",
              "         });\n",
              "}\n",
              "</script>"
            ],
            "text/plain": [
              "PreparedData(topic_coordinates=              x         y  topics  cluster       Freq\n",
              "topic                                                \n",
              "12    -0.063174 -0.139624       1        1  14.584927\n",
              "3     -0.019786 -0.114032       2        1  12.347007\n",
              "5     -0.189427  0.017735       3        1  11.658642\n",
              "11    -0.079463 -0.108613       4        1   9.217518\n",
              "19    -0.053848 -0.032647       5        1   7.604724\n",
              "9     -0.079970  0.122526       6        1   7.177123\n",
              "8     -0.088098  0.130871       7        1   4.990942\n",
              "7      0.104843 -0.014591       8        1   4.481846\n",
              "0      0.015415 -0.048561       9        1   3.924971\n",
              "6     -0.031428  0.022379      10        1   3.794135\n",
              "15     0.063698 -0.008598      11        1   3.772514\n",
              "18    -0.022432  0.065138      12        1   2.886134\n",
              "4     -0.003944  0.043806      13        1   2.821943\n",
              "1      0.112045  0.001896      14        1   2.586189\n",
              "10    -0.003260 -0.023265      15        1   2.345021\n",
              "17     0.071543  0.018006      16        1   2.301107\n",
              "2      0.108232  0.057901      17        1   2.179350\n",
              "13     0.046296  0.001472      18        1   0.587116\n",
              "16     0.061049  0.005343      19        1   0.484138\n",
              "14     0.051709  0.002856      20        1   0.254652, topic_info=        Term       Freq      Total Category  logprob  loglift\n",
              "98      like  30.000000  30.000000  Default   30.000  30.0000\n",
              "20     going  18.000000  18.000000  Default   29.000  29.0000\n",
              "75      feel  15.000000  15.000000  Default   28.000  28.0000\n",
              "80      love  11.000000  11.000000  Default   27.000  27.0000\n",
              "56      life  15.000000  15.000000  Default   26.000  26.0000\n",
              "..       ...        ...        ...      ...      ...      ...\n",
              "22      lose   0.006086   4.616357  Topic20   -7.013  -0.6584\n",
              "23      lost   0.006086   3.991265  Topic20   -7.013  -0.5129\n",
              "24  medicine   0.006086   1.469440  Topic20   -7.013   0.4863\n",
              "25    monday   0.006086   1.469440  Topic20   -7.013   0.4863\n",
              "26     month   0.006086   4.100390  Topic20   -7.013  -0.5399\n",
              "\n",
              "[1083 rows x 6 columns], token_table=      Topic      Freq                                    Term\n",
              "term                                                         \n",
              "742       1  0.670354                              *facepalm*\n",
              "615       1  0.670354                               *usually*\n",
              "1007      2  0.860523  //www.fosterclub.com/blog/real-stories\n",
              "739       5  0.711848                             /r/fosterit\n",
              "766      16  0.854136                               abandoned\n",
              "...     ...       ...                                     ...\n",
              "111      14  0.055067                                    year\n",
              "554       5  0.733169                                   youth\n",
              "554      17  0.366584                                   youth\n",
              "789      16  0.854094                                    zero\n",
              "681      10  0.784253                                   🤷🏻‍♀️\n",
              "\n",
              "[1422 rows x 3 columns], R=30, lambda_step=0.01, plot_opts={'xlab': 'PC1', 'ylab': 'PC2'}, topic_order=[13, 4, 6, 12, 20, 10, 9, 8, 1, 7, 16, 19, 5, 2, 11, 18, 3, 14, 17, 15])"
            ]
          },
          "metadata": {
            "tags": []
          },
          "execution_count": 31
        }
      ]
    },
    {
      "cell_type": "code",
      "metadata": {
        "id": "jujPrLKE7RRl"
      },
      "source": [
        ""
      ],
      "execution_count": null,
      "outputs": []
    }
  ]
}