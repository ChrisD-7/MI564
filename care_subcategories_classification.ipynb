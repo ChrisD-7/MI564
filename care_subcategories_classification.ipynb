{
  "nbformat": 4,
  "nbformat_minor": 0,
  "metadata": {
    "colab": {
      "provenance": []
    },
    "kernelspec": {
      "name": "python3",
      "display_name": "Python 3"
    },
    "language_info": {
      "name": "python"
    }
  },
  "cells": [
    {
      "cell_type": "code",
      "execution_count": 1,
      "metadata": {
        "id": "Qt4NqsgCkh2T"
      },
      "outputs": [],
      "source": [
        "import pandas as pd\n",
        "from sklearn.model_selection import train_test_split\n",
        "from sklearn.feature_extraction.text import CountVectorizer\n",
        "from sklearn.model_selection import GridSearchCV\n",
        "import numpy as np\n",
        "import matplotlib.pyplot as plt\n",
        "import seaborn as sns\n",
        "from sklearn.naive_bayes import ComplementNB\n",
        "from sklearn.linear_model import LogisticRegression\n",
        "from sklearn.model_selection import cross_validate\n",
        "from sklearn.metrics import accuracy_score, f1_score, precision_score, recall_score,roc_auc_score, confusion_matrix, matthews_corrcoef"
      ]
    },
    {
      "cell_type": "code",
      "source": [
        "df = pd.read_csv(\"/content/Differences_Coding_Coding_Bruna_Dec_1_complete.csv\",  encoding='ISO-8859–1')\n",
        "df = df.drop(['sub_cat', 'UHA','IHA','DA','VIT','GHQ','memo'], axis=1) \n",
        "df.fillna(0, inplace=True)\n",
        "df.head()"
      ],
      "metadata": {
        "colab": {
          "base_uri": "https://localhost:8080/",
          "height": 206
        },
        "id": "5W1nhPmskwX-",
        "outputId": "c74b4a90-ebe1-4e2d-b3e6-b5e3a038920c"
      },
      "execution_count": 28,
      "outputs": [
        {
          "output_type": "execute_result",
          "data": {
            "text/plain": [
              "   number                       command  care   HU   MP   CI   HI   RS\n",
              "0   12161               what time is it     0  0.0  0.0  0.0  0.0  0.0\n",
              "1   15770  close play some music please     1  1.0  0.0  0.0  0.0  0.0\n",
              "2   18502                          echo     0  0.0  0.0  0.0  0.0  0.0\n",
              "3   37720            play pandora radio     0  0.0  0.0  0.0  0.0  0.0\n",
              "4   25259      talk radio seven seventy     0  0.0  0.0  0.0  0.0  0.0"
            ],
            "text/html": [
              "\n",
              "  <div id=\"df-a36cac79-283e-40b1-bc2a-eb01978a4263\">\n",
              "    <div class=\"colab-df-container\">\n",
              "      <div>\n",
              "<style scoped>\n",
              "    .dataframe tbody tr th:only-of-type {\n",
              "        vertical-align: middle;\n",
              "    }\n",
              "\n",
              "    .dataframe tbody tr th {\n",
              "        vertical-align: top;\n",
              "    }\n",
              "\n",
              "    .dataframe thead th {\n",
              "        text-align: right;\n",
              "    }\n",
              "</style>\n",
              "<table border=\"1\" class=\"dataframe\">\n",
              "  <thead>\n",
              "    <tr style=\"text-align: right;\">\n",
              "      <th></th>\n",
              "      <th>number</th>\n",
              "      <th>command</th>\n",
              "      <th>care</th>\n",
              "      <th>HU</th>\n",
              "      <th>MP</th>\n",
              "      <th>CI</th>\n",
              "      <th>HI</th>\n",
              "      <th>RS</th>\n",
              "    </tr>\n",
              "  </thead>\n",
              "  <tbody>\n",
              "    <tr>\n",
              "      <th>0</th>\n",
              "      <td>12161</td>\n",
              "      <td>what time is it</td>\n",
              "      <td>0</td>\n",
              "      <td>0.0</td>\n",
              "      <td>0.0</td>\n",
              "      <td>0.0</td>\n",
              "      <td>0.0</td>\n",
              "      <td>0.0</td>\n",
              "    </tr>\n",
              "    <tr>\n",
              "      <th>1</th>\n",
              "      <td>15770</td>\n",
              "      <td>close play some music please</td>\n",
              "      <td>1</td>\n",
              "      <td>1.0</td>\n",
              "      <td>0.0</td>\n",
              "      <td>0.0</td>\n",
              "      <td>0.0</td>\n",
              "      <td>0.0</td>\n",
              "    </tr>\n",
              "    <tr>\n",
              "      <th>2</th>\n",
              "      <td>18502</td>\n",
              "      <td>echo</td>\n",
              "      <td>0</td>\n",
              "      <td>0.0</td>\n",
              "      <td>0.0</td>\n",
              "      <td>0.0</td>\n",
              "      <td>0.0</td>\n",
              "      <td>0.0</td>\n",
              "    </tr>\n",
              "    <tr>\n",
              "      <th>3</th>\n",
              "      <td>37720</td>\n",
              "      <td>play pandora radio</td>\n",
              "      <td>0</td>\n",
              "      <td>0.0</td>\n",
              "      <td>0.0</td>\n",
              "      <td>0.0</td>\n",
              "      <td>0.0</td>\n",
              "      <td>0.0</td>\n",
              "    </tr>\n",
              "    <tr>\n",
              "      <th>4</th>\n",
              "      <td>25259</td>\n",
              "      <td>talk radio seven seventy</td>\n",
              "      <td>0</td>\n",
              "      <td>0.0</td>\n",
              "      <td>0.0</td>\n",
              "      <td>0.0</td>\n",
              "      <td>0.0</td>\n",
              "      <td>0.0</td>\n",
              "    </tr>\n",
              "  </tbody>\n",
              "</table>\n",
              "</div>\n",
              "      <button class=\"colab-df-convert\" onclick=\"convertToInteractive('df-a36cac79-283e-40b1-bc2a-eb01978a4263')\"\n",
              "              title=\"Convert this dataframe to an interactive table.\"\n",
              "              style=\"display:none;\">\n",
              "        \n",
              "  <svg xmlns=\"http://www.w3.org/2000/svg\" height=\"24px\"viewBox=\"0 0 24 24\"\n",
              "       width=\"24px\">\n",
              "    <path d=\"M0 0h24v24H0V0z\" fill=\"none\"/>\n",
              "    <path d=\"M18.56 5.44l.94 2.06.94-2.06 2.06-.94-2.06-.94-.94-2.06-.94 2.06-2.06.94zm-11 1L8.5 8.5l.94-2.06 2.06-.94-2.06-.94L8.5 2.5l-.94 2.06-2.06.94zm10 10l.94 2.06.94-2.06 2.06-.94-2.06-.94-.94-2.06-.94 2.06-2.06.94z\"/><path d=\"M17.41 7.96l-1.37-1.37c-.4-.4-.92-.59-1.43-.59-.52 0-1.04.2-1.43.59L10.3 9.45l-7.72 7.72c-.78.78-.78 2.05 0 2.83L4 21.41c.39.39.9.59 1.41.59.51 0 1.02-.2 1.41-.59l7.78-7.78 2.81-2.81c.8-.78.8-2.07 0-2.86zM5.41 20L4 18.59l7.72-7.72 1.47 1.35L5.41 20z\"/>\n",
              "  </svg>\n",
              "      </button>\n",
              "      \n",
              "  <style>\n",
              "    .colab-df-container {\n",
              "      display:flex;\n",
              "      flex-wrap:wrap;\n",
              "      gap: 12px;\n",
              "    }\n",
              "\n",
              "    .colab-df-convert {\n",
              "      background-color: #E8F0FE;\n",
              "      border: none;\n",
              "      border-radius: 50%;\n",
              "      cursor: pointer;\n",
              "      display: none;\n",
              "      fill: #1967D2;\n",
              "      height: 32px;\n",
              "      padding: 0 0 0 0;\n",
              "      width: 32px;\n",
              "    }\n",
              "\n",
              "    .colab-df-convert:hover {\n",
              "      background-color: #E2EBFA;\n",
              "      box-shadow: 0px 1px 2px rgba(60, 64, 67, 0.3), 0px 1px 3px 1px rgba(60, 64, 67, 0.15);\n",
              "      fill: #174EA6;\n",
              "    }\n",
              "\n",
              "    [theme=dark] .colab-df-convert {\n",
              "      background-color: #3B4455;\n",
              "      fill: #D2E3FC;\n",
              "    }\n",
              "\n",
              "    [theme=dark] .colab-df-convert:hover {\n",
              "      background-color: #434B5C;\n",
              "      box-shadow: 0px 1px 3px 1px rgba(0, 0, 0, 0.15);\n",
              "      filter: drop-shadow(0px 1px 2px rgba(0, 0, 0, 0.3));\n",
              "      fill: #FFFFFF;\n",
              "    }\n",
              "  </style>\n",
              "\n",
              "      <script>\n",
              "        const buttonEl =\n",
              "          document.querySelector('#df-a36cac79-283e-40b1-bc2a-eb01978a4263 button.colab-df-convert');\n",
              "        buttonEl.style.display =\n",
              "          google.colab.kernel.accessAllowed ? 'block' : 'none';\n",
              "\n",
              "        async function convertToInteractive(key) {\n",
              "          const element = document.querySelector('#df-a36cac79-283e-40b1-bc2a-eb01978a4263');\n",
              "          const dataTable =\n",
              "            await google.colab.kernel.invokeFunction('convertToInteractive',\n",
              "                                                     [key], {});\n",
              "          if (!dataTable) return;\n",
              "\n",
              "          const docLinkHtml = 'Like what you see? Visit the ' +\n",
              "            '<a target=\"_blank\" href=https://colab.research.google.com/notebooks/data_table.ipynb>data table notebook</a>'\n",
              "            + ' to learn more about interactive tables.';\n",
              "          element.innerHTML = '';\n",
              "          dataTable['output_type'] = 'display_data';\n",
              "          await google.colab.output.renderOutput(dataTable, element);\n",
              "          const docLink = document.createElement('div');\n",
              "          docLink.innerHTML = docLinkHtml;\n",
              "          element.appendChild(docLink);\n",
              "        }\n",
              "      </script>\n",
              "    </div>\n",
              "  </div>\n",
              "  "
            ]
          },
          "metadata": {},
          "execution_count": 28
        }
      ]
    },
    {
      "cell_type": "code",
      "source": [
        "def classify(subcat):\n",
        "  X = df['command']\n",
        "  Y = df[subcat]\n",
        "  X_train, X_test, y_train, y_test = train_test_split(X, Y, test_size=0.2, random_state=40)\n",
        "  vectorizer = CountVectorizer(analyzer='word',token_pattern=r'\\w{1,}', ngram_range=(1, 3), binary=True)\n",
        "  train_vectors = vectorizer.fit_transform(X_train)\n",
        "  test_vectors = vectorizer.transform(X_test)\n",
        "  print(\"Distribution\")\n",
        "  print()\n",
        "  print(Y.value_counts())\n",
        "  print('###################################################')\n",
        "  print(\"Logistic Regression\")\n",
        "  print()\n",
        "  parameters = {\n",
        "    'penalty' : ['l2'], \n",
        "    'C'       : np.logspace(-3,3,7),\n",
        "    'solver'  : ['lbfgs', 'liblinear'],\n",
        "  }\n",
        "  logreg = LogisticRegression(class_weight = 'balanced',max_iter = 10000)\n",
        "  clf = GridSearchCV(logreg,                    \n",
        "                   param_grid = parameters,   \n",
        "                   scoring='roc_auc_ovr_weighted',        \n",
        "                   cv=10)\n",
        "  clf.fit(train_vectors,y_train)\n",
        "  print(\"Tuned Hyperparameters :\", clf.best_params_)\n",
        "  print(\"roc_auc_ovr_weighted :\",clf.best_score_)\n",
        "\n",
        "  best_logreg = LogisticRegression(class_weight = 'balanced',max_iter = 10000,C=1,penalty='l2',solver='lbfgs')\n",
        "  best_logreg.fit(train_vectors,y_train)\n",
        "  pred = best_logreg.predict(test_vectors)\n",
        "  accuracy = accuracy_score(y_test, pred)\n",
        "  precision = precision_score(y_test, pred, average='binary')\n",
        "  recall = recall_score(y_test, pred, average='binary')\n",
        "  f1 = f1_score(y_test, pred, average='binary')\n",
        "  mc = matthews_corrcoef(y_test, pred)\n",
        "  roc_auc = roc_auc_score(y_test, pred)\n",
        "  print(\"Best logistic regression model values\")\n",
        "  print(\"accuracy = %.3f, precision = %.3f, recall = %.3f, f1 = %.3f, roc_auc = %.3f, mathews corr = %.3f\" % (accuracy, precision, recall, f1,roc_auc,mc))\n",
        "  print()\n",
        "  cf_matrix = confusion_matrix(y_test, pred)\n",
        "  sns.heatmap(cf_matrix, annot=True, fmt='g', vmin=9999999, vmax=9999999, linewidths=.5,cbar=False).set(title=\"Confusion Matrix\")\n",
        "  plt.show()\n",
        "  print('###################################################')\n",
        "  print(\"Naive Bayes\")\n",
        "  print()\n",
        "\n",
        "  cnb = ComplementNB()\n",
        "  cnb.fit(train_vectors,y_train)\n",
        "  pred = cnb.predict(test_vectors)\n",
        "  accuracy = accuracy_score(y_test, pred)\n",
        "  precision = precision_score(y_test, pred, average='binary')\n",
        "  recall = recall_score(y_test, pred, average='binary')\n",
        "  f1 = f1_score(y_test, pred, average='binary')\n",
        "  mc = matthews_corrcoef(y_test, pred)\n",
        "  roc_auc = roc_auc_score(y_test, pred)\n",
        "  print(\"Naive bayes model values\")\n",
        "  print(\"accuracy = %.3f, precision = %.3f, recall = %.3f, f1 = %.3f, roc_auc = %.3f, mathews corr = %.3f\" % (accuracy, precision, recall, f1,roc_auc,mc))\n",
        "  cf_matrix = confusion_matrix(y_test, pred)\n",
        "  print()\n",
        "  sns.heatmap(cf_matrix, annot=True, fmt='g', vmin=9999999, vmax=9999999, linewidths=.5,cbar=False).set(title=\"Confusion Matrix\")\n",
        "  plt.show()  "
      ],
      "metadata": {
        "id": "swSyHMTVkzMF"
      },
      "execution_count": 29,
      "outputs": []
    },
    {
      "cell_type": "code",
      "source": [
        "classify('HU')"
      ],
      "metadata": {
        "colab": {
          "base_uri": "https://localhost:8080/",
          "height": 875
        },
        "id": "cDnm0uwmnWMV",
        "outputId": "ce88fd45-c5d8-4128-9fbe-8cb19ce916c3"
      },
      "execution_count": 9,
      "outputs": [
        {
          "output_type": "stream",
          "name": "stdout",
          "text": [
            "Distribution\n",
            "\n",
            "0.0    8381\n",
            "1.0    1619\n",
            "Name: HU, dtype: int64\n",
            "###################################################\n",
            "Logistic Regression\n",
            "\n",
            "Tuned Hyperparameters : {'C': 1.0, 'penalty': 'l2', 'solver': 'lbfgs'}\n",
            "roc_auc_ovr_weighted : 0.9797606679944153\n",
            "Best logistic regression model values\n",
            "accuracy = 0.971, precision = 0.893, recall = 0.917, f1 = 0.905, roc_auc = 0.949, mathews corr = 0.888\n",
            "\n"
          ]
        },
        {
          "output_type": "display_data",
          "data": {
            "text/plain": [
              "<Figure size 432x288 with 1 Axes>"
            ],
            "image/png": "[encoded data removed]"
          },
          "metadata": {
            "needs_background": "light"
          }
        },
        {
          "output_type": "stream",
          "name": "stdout",
          "text": [
            "###################################################\n",
            "Naive Bayes\n",
            "\n",
            "Naive bayes model values\n",
            "accuracy = 0.936, precision = 0.728, recall = 0.920, f1 = 0.813, roc_auc = 0.930, mathews corr = 0.783\n",
            "\n"
          ]
        },
        {
          "output_type": "display_data",
          "data": {
            "text/plain": [
              "<Figure size 432x288 with 1 Axes>"
            ],
            "image/png": "[encoded data removed]"
          },
          "metadata": {
            "needs_background": "light"
          }
        }
      ]
    },
    {
      "cell_type": "code",
      "source": [
        "classify('HI')"
      ],
      "metadata": {
        "colab": {
          "base_uri": "https://localhost:8080/",
          "height": 875
        },
        "id": "xH_PpMjjpFls",
        "outputId": "f1280e50-52c8-4b05-c444-fa46ee3db414"
      },
      "execution_count": 30,
      "outputs": [
        {
          "output_type": "stream",
          "name": "stdout",
          "text": [
            "Distribution\n",
            "\n",
            "0.0    9833\n",
            "1.0     167\n",
            "Name: HI, dtype: int64\n",
            "###################################################\n",
            "Logistic Regression\n",
            "\n",
            "Tuned Hyperparameters : {'C': 1.0, 'penalty': 'l2', 'solver': 'lbfgs'}\n",
            "roc_auc_ovr_weighted : 0.9851147134419198\n",
            "Best logistic regression model values\n",
            "accuracy = 0.995, precision = 0.871, recall = 0.794, f1 = 0.831, roc_auc = 0.896, mathews corr = 0.829\n",
            "\n"
          ]
        },
        {
          "output_type": "display_data",
          "data": {
            "text/plain": [
              "<Figure size 432x288 with 1 Axes>"
            ],
            "image/png": "[encoded data removed]"
          },
          "metadata": {
            "needs_background": "light"
          }
        },
        {
          "output_type": "stream",
          "name": "stdout",
          "text": [
            "###################################################\n",
            "Naive Bayes\n",
            "\n",
            "Naive bayes model values\n",
            "accuracy = 0.977, precision = 0.417, recall = 0.882, f1 = 0.566, roc_auc = 0.930, mathews corr = 0.597\n",
            "\n"
          ]
        },
        {
          "output_type": "display_data",
          "data": {
            "text/plain": [
              "<Figure size 432x288 with 1 Axes>"
            ],
            "image/png": "[encoded data removed]"
          },
          "metadata": {
            "needs_background": "light"
          }
        }
      ]
    },
    {
      "cell_type": "code",
      "source": [
        "classify('MP')"
      ],
      "metadata": {
        "colab": {
          "base_uri": "https://localhost:8080/",
          "height": 875
        },
        "id": "IYMrGYStpIrU",
        "outputId": "f6439f63-a097-4751-84b3-1ad399919f18"
      },
      "execution_count": 13,
      "outputs": [
        {
          "output_type": "stream",
          "name": "stdout",
          "text": [
            "Distribution\n",
            "\n",
            "0.0    9266\n",
            "1.0     734\n",
            "Name: MP, dtype: int64\n",
            "###################################################\n",
            "Logistic Regression\n",
            "\n",
            "Tuned Hyperparameters : {'C': 10.0, 'penalty': 'l2', 'solver': 'liblinear'}\n",
            "roc_auc_ovr_weighted : 0.9993632720760285\n",
            "Best logistic regression model values\n",
            "accuracy = 0.996, precision = 0.965, recall = 0.972, f1 = 0.968, roc_auc = 0.984, mathews corr = 0.966\n",
            "\n"
          ]
        },
        {
          "output_type": "display_data",
          "data": {
            "text/plain": [
              "<Figure size 432x288 with 1 Axes>"
            ],
            "image/png": "[encoded data removed]"
          },
          "metadata": {
            "needs_background": "light"
          }
        },
        {
          "output_type": "stream",
          "name": "stdout",
          "text": [
            "###################################################\n",
            "Naive Bayes\n",
            "\n",
            "Naive bayes model values\n",
            "accuracy = 0.971, precision = 0.715, recall = 0.979, f1 = 0.826, roc_auc = 0.975, mathews corr = 0.823\n",
            "\n"
          ]
        },
        {
          "output_type": "display_data",
          "data": {
            "text/plain": [
              "<Figure size 432x288 with 1 Axes>"
            ],
            "image/png": "[encoded data removed]"
          },
          "metadata": {
            "needs_background": "light"
          }
        }
      ]
    },
    {
      "cell_type": "code",
      "source": [
        "classify('CI')"
      ],
      "metadata": {
        "colab": {
          "base_uri": "https://localhost:8080/",
          "height": 875
        },
        "id": "Wi9zNDKVpJ6Z",
        "outputId": "c001efde-1c96-4f4a-dc45-001a7a64eab7"
      },
      "execution_count": 14,
      "outputs": [
        {
          "output_type": "stream",
          "name": "stdout",
          "text": [
            "Distribution\n",
            "\n",
            "0.0    9503\n",
            "1.0     497\n",
            "Name: CI, dtype: int64\n",
            "###################################################\n",
            "Logistic Regression\n",
            "\n",
            "Tuned Hyperparameters : {'C': 0.1, 'penalty': 'l2', 'solver': 'liblinear'}\n",
            "roc_auc_ovr_weighted : 0.9486860412251852\n",
            "Best logistic regression model values\n",
            "accuracy = 0.987, precision = 0.844, recall = 0.823, f1 = 0.833, roc_auc = 0.908, mathews corr = 0.827\n",
            "\n"
          ]
        },
        {
          "output_type": "display_data",
          "data": {
            "text/plain": [
              "<Figure size 432x288 with 1 Axes>"
            ],
            "image/png": "[encoded data removed]"
          },
          "metadata": {
            "needs_background": "light"
          }
        },
        {
          "output_type": "stream",
          "name": "stdout",
          "text": [
            "###################################################\n",
            "Naive Bayes\n",
            "\n",
            "Naive bayes model values\n",
            "accuracy = 0.959, precision = 0.489, recall = 0.848, f1 = 0.620, roc_auc = 0.906, mathews corr = 0.626\n",
            "\n"
          ]
        },
        {
          "output_type": "display_data",
          "data": {
            "text/plain": [
              "<Figure size 432x288 with 1 Axes>"
            ],
            "image/png": "[encoded data removed]"
          },
          "metadata": {
            "needs_background": "light"
          }
        }
      ]
    },
    {
      "cell_type": "code",
      "source": [
        "classify('RS')"
      ],
      "metadata": {
        "colab": {
          "base_uri": "https://localhost:8080/",
          "height": 875
        },
        "id": "oFusQ8vhpMah",
        "outputId": "d9a04913-cf84-46f8-d415-e5db540a6ad1"
      },
      "execution_count": 15,
      "outputs": [
        {
          "output_type": "stream",
          "name": "stdout",
          "text": [
            "Distribution\n",
            "\n",
            "0.0    9922\n",
            "1.0      78\n",
            "Name: RS, dtype: int64\n",
            "###################################################\n",
            "Logistic Regression\n",
            "\n",
            "Tuned Hyperparameters : {'C': 0.01, 'penalty': 'l2', 'solver': 'lbfgs'}\n",
            "roc_auc_ovr_weighted : 0.9806332086517493\n",
            "Best logistic regression model values\n",
            "accuracy = 0.998, precision = 0.750, recall = 0.818, f1 = 0.783, roc_auc = 0.908, mathews corr = 0.782\n",
            "\n"
          ]
        },
        {
          "output_type": "display_data",
          "data": {
            "text/plain": [
              "<Figure size 432x288 with 1 Axes>"
            ],
            "image/png": "[encoded data removed]"
          },
          "metadata": {
            "needs_background": "light"
          }
        },
        {
          "output_type": "stream",
          "name": "stdout",
          "text": [
            "###################################################\n",
            "Naive Bayes\n",
            "\n",
            "Naive bayes model values\n",
            "accuracy = 0.981, precision = 0.196, recall = 0.818, f1 = 0.316, roc_auc = 0.900, mathews corr = 0.394\n",
            "\n"
          ]
        },
        {
          "output_type": "display_data",
          "data": {
            "text/plain": [
              "<Figure size 432x288 with 1 Axes>"
            ],
            "image/png": "[encoded data removed]"
          },
          "metadata": {
            "needs_background": "light"
          }
        }
      ]
    }
  ]
}